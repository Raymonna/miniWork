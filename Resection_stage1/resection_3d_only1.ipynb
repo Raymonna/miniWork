{
 "cells": [
  {
   "cell_type": "code",
   "execution_count": 1,
   "metadata": {},
   "outputs": [],
   "source": [
    "import tensorflow as tf"
   ]
  },
  {
   "cell_type": "code",
   "execution_count": 2,
   "metadata": {},
   "outputs": [],
   "source": [
    "import os\n",
    "import tensorflow as tf\n",
    "os.environ[\"CUDA_VISIBLE_DEVICES\"] = \"0\"\n",
    "gpu_options = tf.GPUOptions(allow_growth=True)\n",
    "sess_config = tf.ConfigProto(gpu_options=gpu_options)\n",
    "tf.keras.backend.set_session(tf.Session(config=sess_config))"
   ]
  },
  {
   "cell_type": "code",
   "execution_count": 3,
   "metadata": {},
   "outputs": [],
   "source": [
    "import os\n",
    "import glob\n",
    "#import tqdm\n",
    "import numpy as np\n",
    "#import pandas as pd\n",
    "import multiprocessing\n",
    "import pydicom as dicom\n",
    "import nibabel as nib\n",
    "#from keras import utils as kutils\n",
    "from matplotlib import pyplot as plt\n",
    "\n",
    "def load_image(label_fpath, transpose=False):\n",
    "    #encode_name = label_fpath[-39: -7]\n",
    "    label_data = nib.load(label_fpath)\n",
    "    label_array = label_data.get_fdata()\n",
    "    if transpose:\n",
    "        label_array = np.transpose(label_array, axes=(2, 1, 0))\n",
    "    return  label_array#, encode_name"
   ]
  },
  {
   "cell_type": "code",
   "execution_count": 4,
   "metadata": {},
   "outputs": [],
   "source": [
    "import pandas as pd\n",
    "info = pd.read_csv('/data2/pancreas/Nifti_data/data_list.csv')"
   ]
  },
  {
   "cell_type": "code",
   "execution_count": 5,
   "metadata": {},
   "outputs": [],
   "source": [
    "image_path = \"/data2/pancreas/Nifti_data/image\"\n",
    "label_path = \"/data2/pancreas/Nifti_data/label\""
   ]
  },
  {
   "cell_type": "code",
   "execution_count": 6,
   "metadata": {},
   "outputs": [],
   "source": [
    "resec0_names = info.groupby(\"resection\").get_group(0).case_id.unique()\n",
    "resec1_names = info.groupby(\"resection\").get_group(1).case_id.unique()\n",
    "\n",
    "#combine resec0 and resec1 and shuffle\n",
    "resec = np.concatenate([resec0_names,resec1_names], axis = 0)\n",
    "\n"
   ]
  },
  {
   "cell_type": "code",
   "execution_count": 7,
   "metadata": {},
   "outputs": [],
   "source": [
    "np.random.shuffle(resec)"
   ]
  },
  {
   "cell_type": "code",
   "execution_count": 8,
   "metadata": {},
   "outputs": [],
   "source": [
    "y = np.zeros((len(resec), 1))\n",
    "for idx, name in enumerate(resec):\n",
    "    y[idx] = info[info.case_id == name].resection\n",
    "\n"
   ]
  },
  {
   "cell_type": "code",
   "execution_count": 9,
   "metadata": {},
   "outputs": [
    {
     "name": "stdout",
     "output_type": "stream",
     "text": [
      "(15,)\n",
      "(8,)\n"
     ]
    }
   ],
   "source": [
    "print(np.where(y[-30:] == 1)[0].shape)\n",
    "print(np.where(y[-50:-30] == 1)[0].shape)"
   ]
  },
  {
   "cell_type": "code",
   "execution_count": 11,
   "metadata": {},
   "outputs": [],
   "source": [
    "# #check the num. of image in terms of z-axis\n",
    "# img_shape = []\n",
    "# for name in resec:\n",
    "#     img = load_image(os.path.join(image_path, \"IM_\"+name+\".nii.gz\"))\n",
    "    \n",
    "#     img_shape.append(img.shape[2])\n",
    "#     del img\n",
    "\n"
   ]
  },
  {
   "cell_type": "code",
   "execution_count": 17,
   "metadata": {},
   "outputs": [
    {
     "data": {
      "text/plain": [
       "72"
      ]
     },
     "execution_count": 17,
     "metadata": {},
     "output_type": "execute_result"
    }
   ],
   "source": [
    "# label_t = load_image(os.path.join(label_path, \"LB_\"+resec[0]+\".nii.gz\"))\n",
    "# np.max(np.where(label_t != 0)[2])"
   ]
  },
  {
   "cell_type": "code",
   "execution_count": 10,
   "metadata": {},
   "outputs": [],
   "source": [
    "#determine the size of cube using label-img\n",
    "shape0 = np.zeros((len(resec), 2))\n",
    "shape1 = np.zeros((len(resec), 2))\n",
    "shape2 = np.zeros((len(resec), 2))\n",
    "for i, name in enumerate(resec) :\n",
    "    label = load_image(os.path.join(label_path, \"LB_\"+name+\".nii.gz\"))\n",
    "    shape0[i][0] = np.min(np.where(label != 0)[0])\n",
    "    shape0[i][1] = np.max(np.where(label != 0)[0])\n",
    "    shape1[i][0] = np.min(np.where(label != 0)[1])\n",
    "    shape1[i][1] = np.max(np.where(label != 0)[1])\n",
    "    shape2[i][0] = np.min(np.where(label != 0)[2])\n",
    "    shape2[i][1] = np.max(np.where(label != 0)[2])\n",
    "    del label"
   ]
  },
  {
   "cell_type": "code",
   "execution_count": 36,
   "metadata": {},
   "outputs": [],
   "source": [
    "# label_t = load_image(os.path.join(label_path, \"LB_\"+resec[0]+\".nii.gz\"))"
   ]
  },
  {
   "cell_type": "code",
   "execution_count": 46,
   "metadata": {},
   "outputs": [],
   "source": [
    "# shape0 = pd.read_csv(\"shape0.csv\")\n",
    "# shape1 = pd.read_csv(\"shape1.csv\")\n",
    "# shape2 = pd.read_csv(\"shape2.csv\")"
   ]
  },
  {
   "cell_type": "code",
   "execution_count": 59,
   "metadata": {},
   "outputs": [],
   "source": [
    "# shape = np.swapaxes(np.array([shape0[\"0\"], shape0[\"1\"], shape1[\"0\"], shape1[\"1\"], shape2[\"0\"], shape2[\"1\"]]), 0, 1)"
   ]
  },
  {
   "cell_type": "code",
   "execution_count": 11,
   "metadata": {},
   "outputs": [],
   "source": [
    "shape = np.concatenate([shape0, shape1, shape2], axis = 1)"
   ]
  },
  {
   "cell_type": "code",
   "execution_count": 17,
   "metadata": {},
   "outputs": [],
   "source": [
    "np.save( \"shape.npz\", shape)"
   ]
  },
  {
   "cell_type": "code",
   "execution_count": 8,
   "metadata": {},
   "outputs": [],
   "source": [
    "shape = np.load(\"shape.npz.npy\")"
   ]
  },
  {
   "cell_type": "code",
   "execution_count": 9,
   "metadata": {},
   "outputs": [],
   "source": [
    "resec = np.load(\"resec.npy\")"
   ]
  },
  {
   "cell_type": "code",
   "execution_count": 10,
   "metadata": {},
   "outputs": [],
   "source": [
    "y = np.load(\"resec_y.npy\")"
   ]
  },
  {
   "cell_type": "code",
   "execution_count": 7,
   "metadata": {},
   "outputs": [
    {
     "ename": "NameError",
     "evalue": "name 'resec' is not defined",
     "output_type": "error",
     "traceback": [
      "\u001b[0;31m---------------------------------------------------------------------------\u001b[0m",
      "\u001b[0;31mNameError\u001b[0m                                 Traceback (most recent call last)",
      "\u001b[0;32m<ipython-input-7-80f7d2d274d6>\u001b[0m in \u001b[0;36m<module>\u001b[0;34m\u001b[0m\n\u001b[0;32m----> 1\u001b[0;31m \u001b[0mresec\u001b[0m \u001b[0;34m=\u001b[0m \u001b[0mnp\u001b[0m\u001b[0;34m.\u001b[0m\u001b[0msave\u001b[0m\u001b[0;34m(\u001b[0m\u001b[0;34m\"resec\"\u001b[0m\u001b[0;34m,\u001b[0m \u001b[0mresec\u001b[0m\u001b[0;34m)\u001b[0m\u001b[0;34m\u001b[0m\u001b[0;34m\u001b[0m\u001b[0m\n\u001b[0m",
      "\u001b[0;31mNameError\u001b[0m: name 'resec' is not defined"
     ]
    }
   ],
   "source": [
    "np.save(\"resec\", resec)"
   ]
  },
  {
   "cell_type": "code",
   "execution_count": 23,
   "metadata": {},
   "outputs": [],
   "source": [
    "np.save(\"resec_y\", y)"
   ]
  },
  {
   "cell_type": "code",
   "execution_count": 11,
   "metadata": {},
   "outputs": [],
   "source": [
    "#New\n",
    "def extract_cube(r, img):#cube 360, 300, 110 ;; ranges = [xmin, xmax, ymin, ymax, zmin, zmax]\n",
    "    img_tmp = np.zeros((360, 300, 110))\n",
    "    img_tmp[:int(r[1]-r[0]), :int(r[3]-r[2]), :int(r[5]-r[4])] = img[int(r[0]):int(r[1]), int(r[2]):int(r[3]), int(r[4]):int(r[5])]\n",
    "    return img_tmp"
   ]
  },
  {
   "cell_type": "code",
   "execution_count": 16,
   "metadata": {},
   "outputs": [
    {
     "data": {
      "text/plain": [
       "array([ 72., 324., 145., 306.,   9.,  24.])"
      ]
     },
     "execution_count": 16,
     "metadata": {},
     "output_type": "execute_result"
    }
   ],
   "source": []
  },
  {
   "cell_type": "code",
   "execution_count": 22,
   "metadata": {},
   "outputs": [],
   "source": [
    "#test extract_cube\n",
    "label_t = extract_cube(shape[0, :], load_image(os.path.join(label_path, \"LB_\"+resec[0]+\".nii.gz\")))"
   ]
  },
  {
   "cell_type": "code",
   "execution_count": 35,
   "metadata": {},
   "outputs": [
    {
     "data": {
      "image/png": "[encoded data removed]",
      "text/plain": [
       "<Figure size 432x288 with 1 Axes>"
      ]
     },
     "metadata": {
      "needs_background": "light"
     },
     "output_type": "display_data"
    }
   ],
   "source": [
    "plt.imshow(label_t[..., 1])\n",
    "plt.show()\n",
    "del label_t"
   ]
  },
  {
   "cell_type": "code",
   "execution_count": 45,
   "metadata": {},
   "outputs": [
    {
     "data": {
      "text/plain": [
       "array([ 72., 324., 145., 306.,   9.,  24.])"
      ]
     },
     "execution_count": 45,
     "metadata": {},
     "output_type": "execute_result"
    }
   ],
   "source": [
    "shape[np.array(range(10))[0]]"
   ]
  },
  {
   "cell_type": "code",
   "execution_count": 12,
   "metadata": {},
   "outputs": [],
   "source": [
    "import pandas as pd\n",
    "#y_idx => for construct (500, 1) vector\n",
    "map_df = pd.DataFrame(data={'resec_name': resec, 'shape': np.array(range(182)), 'target':y.reshape(182)})"
   ]
  },
  {
   "cell_type": "code",
   "execution_count": null,
   "metadata": {},
   "outputs": [],
   "source": []
  },
  {
   "cell_type": "code",
   "execution_count": 13,
   "metadata": {},
   "outputs": [
    {
     "name": "stderr",
     "output_type": "stream",
     "text": [
      "Using TensorFlow backend.\n"
     ]
    }
   ],
   "source": [
    "from keras.models import Model#, load_model\n",
    "from keras import layers as klayers\n",
    "from keras.optimizers import Adam\n",
    "from keras import utils as kutils\n",
    "from keras import backend as K\n",
    "from keras.callbacks import ModelCheckpoint\n",
    "\n",
    "\n",
    "\n",
    "from keras.layers import Conv3D, MaxPool3D, Flatten, Dense\n",
    "from keras.layers import Dropout, Input, BatchNormalization\n",
    "from sklearn.metrics import confusion_matrix, accuracy_score\n",
    "#from plotly.offline import iplot, init_notebook_mode\n",
    "from keras.losses import categorical_crossentropy\n",
    "from keras.optimizers import Adadelta\n",
    "#import plotly.graph_objs as go\n",
    "from matplotlib.pyplot import cm\n",
    "from keras.models import Model\n",
    "import numpy as np\n",
    "import keras\n",
    "import h5py\n",
    "\n",
    "#init_notebook_mode(connected=True)\n",
    "%matplotlib inline\n",
    "\n",
    "\n",
    "from keras.datasets import mnist\n",
    "from keras.layers import Input, Dense, Reshape, Flatten, Dropout, multiply, concatenate,  MaxPool2D\n",
    "# from keras.layers import BatchNormalization, Activation, Embedding, ZeroPadding2D, Lambda\n",
    "from keras.layers.advanced_activations import LeakyReLU, ReLU\n",
    "from keras.layers.convolutional import UpSampling2D, Conv2D, Conv1D\n",
    "from keras.models import Sequential, Model\n",
    "from keras.optimizers import Adam, SGD\n",
    "from keras.utils import to_categorical\n",
    "import keras.backend as K\n",
    "import matplotlib.pyplot as plt\n",
    "import numpy as np\n",
    "\n",
    "import pandas as pd\n",
    "import numpy as np\n",
    "from keras.models import Sequential\n",
    "from keras.layers import Dense, Dropout, Activation, Flatten, LSTM, TimeDistributed, RepeatVector, Reshape\n",
    "from keras.layers.normalization import BatchNormalization\n",
    "from keras.optimizers import Adam\n",
    "from keras.callbacks import EarlyStopping, ModelCheckpoint\n",
    "import matplotlib.pyplot as plt\n",
    "import tensorflow as tf\n",
    "%matplotlib inline\n",
    "\n",
    "\n",
    "\n"
   ]
  },
  {
   "cell_type": "code",
   "execution_count": 14,
   "metadata": {},
   "outputs": [],
   "source": [
    "from keras.utils import to_categorical\n",
    "\n",
    "class resec_Generator1(kutils.Sequence):\n",
    "    'Generates data for Keras'\n",
    "    def __init__(self, mapping_df, batch_size, shuffle=True):\n",
    "        'Initialization'\n",
    "        self.mapping_df = mapping_df\n",
    "        self.data_num   = mapping_df.shape[0]\n",
    "        self.batch_size = batch_size\n",
    "        self.shuffle = shuffle\n",
    "        self.on_epoch_end()\n",
    "\n",
    "    def __len__(self):\n",
    "        'Denotes the number of batches per epoch'\n",
    "        return int(np.floor(self.data_num / self.batch_size))\n",
    "\n",
    "\n",
    "    def __getitem__(self, index):\n",
    "        'Generate one batch of data'\n",
    "        # Generate indexes of the batch\n",
    "        #print(\"enter0\")\n",
    "        batch_mapping_df = \\\n",
    "            self.mapping_df.iloc[index*self.batch_size: (index+1)*self.batch_size]\n",
    "\n",
    "        # Generate data\n",
    "        X, y = self.__data_generation(batch_mapping_df)\n",
    "        return X, y\n",
    "\n",
    "\n",
    "    def on_epoch_end(self):\n",
    "        'Updates indexes after each epoch'\n",
    "        if self.shuffle:\n",
    "            self.mapping_df = self.mapping_df.sample(frac=1).reset_index(drop=True)\n",
    "            \n",
    "    def __data_generation(self, batch_mapping_df):\n",
    "        'Generates data containing batch_size samples' \n",
    "        # Initialization\n",
    "        X1 = np.zeros((  self.batch_size, 180, 300, 100, 1)) \n",
    "        X2 = np.zeros((  self.batch_size, 180, 300, 100, 1)) \n",
    "        y = np.zeros((self.batch_size))\n",
    "\n",
    "        # Generate data\n",
    "        cnt = 0\n",
    "        \n",
    "        for i, row in batch_mapping_df.iterrows():\n",
    "            img = extract_cube(shape[row['shape']], load_image(os.path.join(image_path, \"IM_\"+row['resec_name']+\".nii.gz\")))\n",
    "            X1[ cnt, :, :, :, 0] = img[:180, :, :]\n",
    "            X2[ cnt, :, :, :, 0] = img[180:, :, :]\n",
    "            #img = clip_img(load_image(os.path.join(image_path, \"IM_\"+row['resec_name']+\".nii.gz\")))\n",
    "            #print(\"resec_name =\", row['resec_name'])\n",
    "#             for j in range(40):\n",
    "#                 #print(\"img shape =\", img.shape)\n",
    "#                 #print(\"j =\", j)\n",
    "#                 X[j][cnt, :, :, :, 0] = extract_cube(img, j)\n",
    "            y[cnt] = row['target']\n",
    "\n",
    "#             position = extract_position(row['ref_idx'], row['point_idx'])\n",
    "#             tmp_cube = extract_cube(position, row['ref_idx'])\n",
    "#             if (tmp_cube.shape == (19, 19, 19)):\n",
    "#                 X[cnt, :, :, :, 0] = extract_cube(position, row['ref_idx'])\n",
    "#             else:\n",
    "#                 X[cnt, :, :, :, 0] = np.zeros((19, 19, 19))\n",
    "#             y_idx = row['y_idx']\n",
    "#             radius = ref[row['ref_idx']][row['point_idx'], 3]\n",
    "#             y1[cnt, y_idx] = 1\n",
    "#             y2[cnt, 0] = radius\n",
    "            cnt += 1\n",
    "        #print(X[5])\n",
    "        return [X1, X2], y\n",
    "\n",
    "# for name in resec:\n",
    "#     img = load_image(os.path.join(image_path, \"IM_\"+name+\".nii.gz\"))"
   ]
  },
  {
   "cell_type": "code",
   "execution_count": 90,
   "metadata": {},
   "outputs": [],
   "source": [
    "# pd.DataFrame(shape2).to_csv(\"shape2.csv\")"
   ]
  },
  {
   "cell_type": "code",
   "execution_count": 91,
   "metadata": {},
   "outputs": [],
   "source": [
    "del model"
   ]
  },
  {
   "cell_type": "code",
   "execution_count": 15,
   "metadata": {},
   "outputs": [
    {
     "name": "stdout",
     "output_type": "stream",
     "text": [
      "__________________________________________________________________________________________________\n",
      "Layer (type)                    Output Shape         Param #     Connected to                     \n",
      "==================================================================================================\n",
      "input_1 (InputLayer)            (None, 180, 300, 100 0                                            \n",
      "__________________________________________________________________________________________________\n",
      "input_2 (InputLayer)            (None, 180, 300, 100 0                                            \n",
      "__________________________________________________________________________________________________\n",
      "conv3d_1 (Conv3D)               (None, 178, 298, 98, 896         input_1[0][0]                    \n",
      "__________________________________________________________________________________________________\n",
      "conv3d_6 (Conv3D)               (None, 178, 298, 98, 896         input_2[0][0]                    \n",
      "__________________________________________________________________________________________________\n",
      "batch_normalization_1 (BatchNor (None, 178, 298, 98, 128         conv3d_1[0][0]                   \n",
      "__________________________________________________________________________________________________\n",
      "batch_normalization_6 (BatchNor (None, 178, 298, 98, 128         conv3d_6[0][0]                   \n",
      "__________________________________________________________________________________________________\n",
      "dropout_1 (Dropout)             (None, 178, 298, 98, 0           batch_normalization_1[0][0]      \n",
      "__________________________________________________________________________________________________\n",
      "dropout_3 (Dropout)             (None, 178, 298, 98, 0           batch_normalization_6[0][0]      \n",
      "__________________________________________________________________________________________________\n",
      "max_pooling3d_1 (MaxPooling3D)  (None, 89, 149, 49,  0           dropout_1[0][0]                  \n",
      "__________________________________________________________________________________________________\n",
      "max_pooling3d_6 (MaxPooling3D)  (None, 89, 149, 49,  0           dropout_3[0][0]                  \n",
      "__________________________________________________________________________________________________\n",
      "conv3d_2 (Conv3D)               (None, 87, 147, 47,  13840       max_pooling3d_1[0][0]            \n",
      "__________________________________________________________________________________________________\n",
      "conv3d_7 (Conv3D)               (None, 87, 147, 47,  13840       max_pooling3d_6[0][0]            \n",
      "__________________________________________________________________________________________________\n",
      "batch_normalization_2 (BatchNor (None, 87, 147, 47,  64          conv3d_2[0][0]                   \n",
      "__________________________________________________________________________________________________\n",
      "batch_normalization_7 (BatchNor (None, 87, 147, 47,  64          conv3d_7[0][0]                   \n",
      "__________________________________________________________________________________________________\n",
      "dropout_2 (Dropout)             (None, 87, 147, 47,  0           batch_normalization_2[0][0]      \n",
      "__________________________________________________________________________________________________\n",
      "dropout_4 (Dropout)             (None, 87, 147, 47,  0           batch_normalization_7[0][0]      \n",
      "__________________________________________________________________________________________________\n",
      "max_pooling3d_2 (MaxPooling3D)  (None, 43, 73, 23, 1 0           dropout_2[0][0]                  \n",
      "__________________________________________________________________________________________________\n",
      "max_pooling3d_7 (MaxPooling3D)  (None, 43, 73, 23, 1 0           dropout_4[0][0]                  \n",
      "__________________________________________________________________________________________________\n",
      "conv3d_3 (Conv3D)               (None, 41, 71, 21, 1 6928        max_pooling3d_2[0][0]            \n",
      "__________________________________________________________________________________________________\n",
      "conv3d_8 (Conv3D)               (None, 41, 71, 21, 1 6928        max_pooling3d_7[0][0]            \n",
      "__________________________________________________________________________________________________\n",
      "batch_normalization_3 (BatchNor (None, 41, 71, 21, 1 64          conv3d_3[0][0]                   \n",
      "__________________________________________________________________________________________________\n",
      "batch_normalization_8 (BatchNor (None, 41, 71, 21, 1 64          conv3d_8[0][0]                   \n",
      "__________________________________________________________________________________________________\n",
      "max_pooling3d_3 (MaxPooling3D)  (None, 20, 35, 10, 1 0           batch_normalization_3[0][0]      \n",
      "__________________________________________________________________________________________________\n",
      "max_pooling3d_8 (MaxPooling3D)  (None, 20, 35, 10, 1 0           batch_normalization_8[0][0]      \n",
      "__________________________________________________________________________________________________\n",
      "conv3d_4 (Conv3D)               (None, 18, 33, 8, 16 6928        max_pooling3d_3[0][0]            \n",
      "__________________________________________________________________________________________________\n",
      "conv3d_9 (Conv3D)               (None, 18, 33, 8, 16 6928        max_pooling3d_8[0][0]            \n",
      "__________________________________________________________________________________________________\n",
      "batch_normalization_4 (BatchNor (None, 18, 33, 8, 16 64          conv3d_4[0][0]                   \n",
      "__________________________________________________________________________________________________\n",
      "batch_normalization_9 (BatchNor (None, 18, 33, 8, 16 64          conv3d_9[0][0]                   \n",
      "__________________________________________________________________________________________________\n",
      "max_pooling3d_4 (MaxPooling3D)  (None, 9, 16, 4, 16) 0           batch_normalization_4[0][0]      \n",
      "__________________________________________________________________________________________________\n",
      "max_pooling3d_9 (MaxPooling3D)  (None, 9, 16, 4, 16) 0           batch_normalization_9[0][0]      \n",
      "__________________________________________________________________________________________________\n",
      "conv3d_5 (Conv3D)               (None, 7, 14, 2, 16) 6928        max_pooling3d_4[0][0]            \n",
      "__________________________________________________________________________________________________\n",
      "conv3d_10 (Conv3D)              (None, 7, 14, 2, 16) 6928        max_pooling3d_9[0][0]            \n",
      "__________________________________________________________________________________________________\n",
      "batch_normalization_5 (BatchNor (None, 7, 14, 2, 16) 64          conv3d_5[0][0]                   \n",
      "__________________________________________________________________________________________________\n",
      "batch_normalization_10 (BatchNo (None, 7, 14, 2, 16) 64          conv3d_10[0][0]                  \n",
      "__________________________________________________________________________________________________\n",
      "max_pooling3d_5 (MaxPooling3D)  (None, 3, 7, 1, 16)  0           batch_normalization_5[0][0]      \n",
      "__________________________________________________________________________________________________\n",
      "max_pooling3d_10 (MaxPooling3D) (None, 3, 7, 1, 16)  0           batch_normalization_10[0][0]     \n",
      "__________________________________________________________________________________________________\n",
      "concatenate_1 (Concatenate)     (None, 3, 7, 1, 32)  0           max_pooling3d_5[0][0]            \n",
      "                                                                 max_pooling3d_10[0][0]           \n",
      "__________________________________________________________________________________________________\n",
      "flatten_1 (Flatten)             (None, 672)          0           concatenate_1[0][0]              \n",
      "__________________________________________________________________________________________________\n",
      "dense_1 (Dense)                 (None, 800)          538400      flatten_1[0][0]                  \n",
      "__________________________________________________________________________________________________\n",
      "dense_2 (Dense)                 (None, 100)          80100       dense_1[0][0]                    \n",
      "__________________________________________________________________________________________________\n",
      "dense_3 (Dense)                 (None, 1)            101         dense_2[0][0]                    \n",
      "==================================================================================================\n",
      "Total params: 690,409\n",
      "Trainable params: 690,025\n",
      "Non-trainable params: 384\n",
      "__________________________________________________________________________________________________\n"
     ]
    }
   ],
   "source": [
    "from keras import metrics\n",
    "tmp_x = Input((180, 300, 100, 1))\n",
    "x = Conv3D(filters=32, dilation_rate=1, kernel_size=(3, 3, 3), activation='relu')(tmp_x)\n",
    "x = BatchNormalization()(x)\n",
    "x = Dropout(0.5)(x)\n",
    "x = MaxPool3D()(x)\n",
    "\n",
    "x = Conv3D(filters=16, dilation_rate=1, kernel_size=(3, 3, 3), activation='relu')(x)\n",
    "x = BatchNormalization()(x)\n",
    "x = Dropout(0.5)(x)\n",
    "x = MaxPool3D()(x)\n",
    "\n",
    "x = Conv3D(filters=16, dilation_rate=1, kernel_size=(3, 3, 3), activation='relu')(x)\n",
    "x = BatchNormalization()(x)\n",
    "x = MaxPool3D()(x)\n",
    "\n",
    "x = Conv3D(filters=16, dilation_rate=1, kernel_size=(3, 3, 3), activation='relu')(x)\n",
    "x = BatchNormalization()(x)\n",
    "x = MaxPool3D()(x)\n",
    "\n",
    "x = Conv3D(filters=16, dilation_rate=1, kernel_size=(3, 3, 3), activation='relu')(x)\n",
    "x = BatchNormalization()(x)\n",
    "x = MaxPool3D()(x)\n",
    "\n",
    "\n",
    "tmp_y = Input((180, 300, 100, 1))\n",
    "y = Conv3D(filters=32, dilation_rate=1, kernel_size=(3, 3, 3), activation='relu')(tmp_y)\n",
    "y = BatchNormalization()(y)\n",
    "y = Dropout(0.5)(y)\n",
    "y = MaxPool3D()(y)\n",
    "\n",
    "y = Conv3D(filters=16, dilation_rate=1, kernel_size=(3, 3, 3), activation='relu')(y)\n",
    "y = BatchNormalization()(y)\n",
    "y = Dropout(0.5)(y)\n",
    "y = MaxPool3D()(y)\n",
    "\n",
    "y = Conv3D(filters=16, dilation_rate=1, kernel_size=(3, 3, 3), activation='relu')(y)\n",
    "y = BatchNormalization()(y)\n",
    "y = MaxPool3D()(y)\n",
    "\n",
    "y = Conv3D(filters=16, dilation_rate=1, kernel_size=(3, 3, 3), activation='relu')(y)\n",
    "y = BatchNormalization()(y)\n",
    "y = MaxPool3D()(y)\n",
    "\n",
    "y = Conv3D(filters=16, dilation_rate=1, kernel_size=(3, 3, 3), activation='relu')(y)\n",
    "y = BatchNormalization()(y)\n",
    "y = MaxPool3D()(y)\n",
    "\n",
    "x = concatenate([x, y], axis = 4)\n",
    "\n",
    "\n",
    "x = Flatten()(x)\n",
    "x = Dense(units=800, kernel_initializer='normal', activation='elu')(x)\n",
    "x = Dense(units=100, kernel_initializer='normal', activation='relu')(x)\n",
    "x = Dense(units=1, kernel_initializer='normal', activation='sigmoid')(x)\n",
    "\n",
    "model = Model(inputs=[tmp_x, tmp_y], outputs=x)\n",
    "adam_lr = 0.0002\n",
    "adam_beta_1 = 0.5\n",
    "model.compile(optimizer=Adam(lr=adam_lr, beta_1=adam_beta_1),\n",
    "              loss='binary_crossentropy', metrics = [metrics.binary_accuracy])\n",
    "model.summary()"
   ]
  },
  {
   "cell_type": "code",
   "execution_count": 16,
   "metadata": {},
   "outputs": [],
   "source": [
    "batch_size = 1\n",
    "v_generator = resec_Generator1(map_df[:-50], batch_size=batch_size)\n",
    "validation_generator = resec_Generator1(map_df[-50:-30], batch_size=batch_size)"
   ]
  },
  {
   "cell_type": "code",
   "execution_count": 17,
   "metadata": {},
   "outputs": [
    {
     "name": "stdout",
     "output_type": "stream",
     "text": [
      "Epoch 1/15\n",
      "132/132 [==============================] - 524s 4s/step - loss: 0.8634 - binary_accuracy: 0.5606 - val_loss: 0.6251 - val_binary_accuracy: 0.5500\n",
      "Epoch 2/15\n",
      "132/132 [==============================] - 497s 4s/step - loss: 0.6776 - binary_accuracy: 0.6212 - val_loss: 0.7643 - val_binary_accuracy: 0.4500\n",
      "Epoch 3/15\n",
      "132/132 [==============================] - 496s 4s/step - loss: 0.6446 - binary_accuracy: 0.6515 - val_loss: 0.9886 - val_binary_accuracy: 0.5000\n",
      "Epoch 4/15\n",
      "132/132 [==============================] - 500s 4s/step - loss: 0.5991 - binary_accuracy: 0.6364 - val_loss: 1.1452 - val_binary_accuracy: 0.4500\n",
      "Epoch 5/15\n",
      "132/132 [==============================] - 503s 4s/step - loss: 0.5182 - binary_accuracy: 0.7348 - val_loss: 1.7225 - val_binary_accuracy: 0.4500\n",
      "Epoch 6/15\n",
      "132/132 [==============================] - 497s 4s/step - loss: 0.3923 - binary_accuracy: 0.8409 - val_loss: 1.6166 - val_binary_accuracy: 0.4500\n",
      "Epoch 7/15\n",
      "132/132 [==============================] - 500s 4s/step - loss: 0.3374 - binary_accuracy: 0.8409 - val_loss: 1.6709 - val_binary_accuracy: 0.4000\n",
      "Epoch 8/15\n",
      "132/132 [==============================] - 502s 4s/step - loss: 0.3267 - binary_accuracy: 0.8712 - val_loss: 1.8445 - val_binary_accuracy: 0.4000\n",
      "Epoch 9/15\n",
      "132/132 [==============================] - 500s 4s/step - loss: 0.2736 - binary_accuracy: 0.9015 - val_loss: 1.4735 - val_binary_accuracy: 0.5000\n",
      "Epoch 10/15\n",
      "132/132 [==============================] - 494s 4s/step - loss: 0.2512 - binary_accuracy: 0.8636 - val_loss: 1.8495 - val_binary_accuracy: 0.4500\n",
      "Epoch 11/15\n",
      "132/132 [==============================] - 495s 4s/step - loss: 0.1476 - binary_accuracy: 0.9470 - val_loss: 1.6836 - val_binary_accuracy: 0.5500\n",
      "Epoch 12/15\n",
      "132/132 [==============================] - 501s 4s/step - loss: 0.1137 - binary_accuracy: 0.9621 - val_loss: 2.2115 - val_binary_accuracy: 0.4500\n",
      "Epoch 13/15\n",
      "132/132 [==============================] - 496s 4s/step - loss: 0.1071 - binary_accuracy: 0.9621 - val_loss: 1.6822 - val_binary_accuracy: 0.4500\n",
      "Epoch 14/15\n",
      "132/132 [==============================] - 495s 4s/step - loss: 0.1273 - binary_accuracy: 0.9545 - val_loss: 1.9998 - val_binary_accuracy: 0.3500\n",
      "Epoch 15/15\n",
      "132/132 [==============================] - 497s 4s/step - loss: 0.0553 - binary_accuracy: 0.9773 - val_loss: 2.1903 - val_binary_accuracy: 0.3500\n"
     ]
    }
   ],
   "source": [
    "history = model.fit_generator(v_generator,\n",
    "                              epochs=15, validation_data=validation_generator)"
   ]
  },
  {
   "cell_type": "code",
   "execution_count": 19,
   "metadata": {},
   "outputs": [
    {
     "name": "stdout",
     "output_type": "stream",
     "text": [
      "dict_keys(['val_loss', 'val_binary_accuracy', 'loss', 'binary_accuracy'])\n"
     ]
    },
    {
     "data": {
      "image/png": "[encoded data removed]",
      "text/plain": [
       "<Figure size 432x288 with 1 Axes>"
      ]
     },
     "metadata": {
      "needs_background": "light"
     },
     "output_type": "display_data"
    },
    {
     "data": {
      "image/png": "[encoded data removed]",
      "text/plain": [
       "<Figure size 432x288 with 1 Axes>"
      ]
     },
     "metadata": {
      "needs_background": "light"
     },
     "output_type": "display_data"
    }
   ],
   "source": [
    "# list all data in history\n",
    "print(history.history.keys())\n",
    "# summarize history for accuracy\n",
    "plt.plot(history.history['binary_accuracy'])\n",
    "plt.plot(history.history['val_binary_accuracy'])\n",
    "plt.title('model accuracy')\n",
    "plt.ylabel('accuracy')\n",
    "plt.xlabel('epoch')\n",
    "plt.legend(['train', 'validation'], loc='upper left')\n",
    "plt.show()\n",
    "# summarize history for loss\n",
    "plt.plot(history.history['loss'])\n",
    "plt.plot(history.history['val_loss'])\n",
    "plt.title('model loss')\n",
    "plt.ylabel('loss')\n",
    "plt.xlabel('epoch')\n",
    "plt.legend(['train', 'validation'], loc='upper left')\n",
    "plt.show()"
   ]
  },
  {
   "cell_type": "code",
   "execution_count": null,
   "metadata": {},
   "outputs": [],
   "source": []
  },
  {
   "cell_type": "code",
   "execution_count": 28,
   "metadata": {},
   "outputs": [
    {
     "name": "stdout",
     "output_type": "stream",
     "text": [
      "356.0\n",
      "289.0\n",
      "105.0\n"
     ]
    }
   ],
   "source": [
    "# print(np.max(shape0[:, 1] - shape0[:, 0]))\n",
    "# print(np.max(shape1[:, 1] - shape1[:, 0]))\n",
    "# print(np.max(shape2[:, 1] - shape2[:, 0]))\n",
    "\n",
    "#cube shape : 360, 300, 110"
   ]
  },
  {
   "cell_type": "code",
   "execution_count": 31,
   "metadata": {},
   "outputs": [
    {
     "name": "stdout",
     "output_type": "stream",
     "text": [
      "52.0 452.0\n",
      "57.0 395.0\n",
      "2.0 605.0\n"
     ]
    }
   ],
   "source": [
    "# print(np.min(shape0[:, 0]), np.max(shape0[:, 1]))\n",
    "# print(np.min(shape1[:, 0]), np.max(shape1[:, 1]))\n",
    "# print(np.min(shape2[:, 0]), np.max(shape2[:, 1]))"
   ]
  },
  {
   "cell_type": "code",
   "execution_count": 32,
   "metadata": {},
   "outputs": [
    {
     "data": {
      "text/plain": [
       "<matplotlib.collections.PathCollection at 0x7f5e333b0390>"
      ]
     },
     "execution_count": 32,
     "metadata": {},
     "output_type": "execute_result"
    },
    {
     "data": {
      "image/png": "[encoded data removed]",
      "text/plain": [
       "<Figure size 432x288 with 1 Axes>"
      ]
     },
     "metadata": {
      "needs_background": "light"
     },
     "output_type": "display_data"
    }
   ],
   "source": [
    "plt.scatter(shape2[:, 0], list(range(shape2.shape[0])))"
   ]
  },
  {
   "cell_type": "code",
   "execution_count": 24,
   "metadata": {},
   "outputs": [],
   "source": [
    "#find the center point for each image using label\n",
    "med0 = []\n",
    "med1 = []\n",
    "med2 = []\n",
    "for i, name in enumerate(resec) :\n",
    "    label = load_image(os.path.join(label_path, \"LB_\"+name+\".nii.gz\"))\n",
    "    med0.append(np.median(np.where(label != 0)[0]))\n",
    "    med1.append(np.median(np.where(label != 0)[1]))\n",
    "    med2.append(np.median(np.where(label != 0)[2]))"
   ]
  },
  {
   "cell_type": "code",
   "execution_count": null,
   "metadata": {
    "collapsed": true
   },
   "outputs": [],
   "source": [
    "from keras.utils import to_categorical\n",
    "\n",
    "class resec_Generator(kutils.Sequence):\n",
    "    'Generates data for Keras'\n",
    "    def __init__(self, mapping_df, batch_size, shuffle=True):\n",
    "        'Initialization'\n",
    "        self.mapping_df = mapping_df\n",
    "        self.data_num   = mapping_df.shape[0]\n",
    "        self.batch_size = batch_size\n",
    "        self.shuffle = shuffle\n",
    "        self.on_epoch_end()\n",
    "\n",
    "    def __len__(self):\n",
    "        'Denotes the number of batches per epoch'\n",
    "        return int(np.floor(self.data_num / self.batch_size))\n",
    "\n",
    "\n",
    "    def __getitem__(self, index):\n",
    "        'Generate one batch of data'\n",
    "        # Generate indexes of the batch\n",
    "        #print(\"enter0\")\n",
    "        batch_mapping_df = \\\n",
    "            self.mapping_df.iloc[index*self.batch_size: (index+1)*self.batch_size]\n",
    "\n",
    "        # Generate data\n",
    "        X, y = self.__data_generation(batch_mapping_df)\n",
    "        return X, y\n",
    "\n",
    "\n",
    "    def on_epoch_end(self):\n",
    "        'Updates indexes after each epoch'\n",
    "        if self.shuffle:\n",
    "            self.mapping_df = self.mapping_df.sample(frac=1).reset_index(drop=True)\n",
    "            \n",
    "    def __data_generation(self, batch_mapping_df):\n",
    "        'Generates data containing batch_size samples' \n",
    "        # Initialization\n",
    "        X = [np.zeros((self.batch_size, 60, 40, 100, 1)) for i in range(40)]\n",
    "        y = np.zeros((self.batch_size))\n",
    "\n",
    "        # Generate data\n",
    "        cnt = 0\n",
    "        \n",
    "        for i, row in batch_mapping_df.iterrows():\n",
    "            img = clip_img(load_image(os.path.join(image_path, \"IM_\"+row['resec_name']+\".nii.gz\")))\n",
    "            #print(\"resec_name =\", row['resec_name'])\n",
    "            for j in range(40):\n",
    "                #print(\"img shape =\", img.shape)\n",
    "                #print(\"j =\", j)\n",
    "                X[j][cnt, :, :, :, 0] = extract_cube(img, j)\n",
    "            y[cnt] = row['target']\n",
    "\n",
    "#             position = extract_position(row['ref_idx'], row['point_idx'])\n",
    "#             tmp_cube = extract_cube(position, row['ref_idx'])\n",
    "#             if (tmp_cube.shape == (19, 19, 19)):\n",
    "#                 X[cnt, :, :, :, 0] = extract_cube(position, row['ref_idx'])\n",
    "#             else:\n",
    "#                 X[cnt, :, :, :, 0] = np.zeros((19, 19, 19))\n",
    "#             y_idx = row['y_idx']\n",
    "#             radius = ref[row['ref_idx']][row['point_idx'], 3]\n",
    "#             y1[cnt, y_idx] = 1\n",
    "#             y2[cnt, 0] = radius\n",
    "            cnt += 1\n",
    "        #print(X[5])\n",
    "        return X, y\n",
    "\n",
    "# for name in resec:\n",
    "#     img = load_image(os.path.join(image_path, \"IM_\"+name+\".nii.gz\"))"
   ]
  },
  {
   "cell_type": "code",
   "execution_count": null,
   "metadata": {},
   "outputs": [],
   "source": []
  },
  {
   "cell_type": "code",
   "execution_count": null,
   "metadata": {},
   "outputs": [],
   "source": []
  },
  {
   "cell_type": "code",
   "execution_count": null,
   "metadata": {},
   "outputs": [],
   "source": [
    "def extract_cube(center, img):#cube 360, 300, 110\n",
    "    \n",
    "    xyz = [360, 300, 110]\n",
    "    pad_zero = np.zeros((6, 1))\n",
    "    for i, thre in enumerate(xyz):\n",
    "        line1 = center[i] - int(thre/2)\n",
    "        line2 = center[i] + int(thre/2)\n",
    "        for j, line in enumerate([line1, line2]):\n",
    "            if (0<=line<=img.shape[i]):\n",
    "                continue\n",
    "            elif (line < 0):\n",
    "                pad_zero[i*2+j] = -line\n",
    "            elif (line > img.shape[i]):\n",
    "                pad_zero[i*2+j] = img.shape[i] - line \n",
    "    tmp_img = np.zeros((360, 300, 110))\n",
    "    for i, pad in enumerate(pad_zero):\n",
    "        axis = i%3\n",
    "        if axis == 0:\n",
    "            \n",
    "        if axis == 1:\n",
    "            \n",
    "        if axis == 2:\n",
    "            \n",
    "            \n",
    "            \n",
    "            \n",
    "        \n",
    "\n",
    "        \n",
    "\n",
    "    \n",
    "    \n",
    "    \n",
    "    \n",
    "#     shape_size = [360, 300, 110]\n",
    "#     tmp_img = np.zeros((360, 300, 110))\n",
    "#     for curr_axis in range(3):\n",
    "#         if img.shape[curr_axis] < shape_size[curr_axis]:\n",
    "                \n",
    "#         else:\n",
    "                \n",
    "    return img"
   ]
  },
  {
   "cell_type": "code",
   "execution_count": 33,
   "metadata": {},
   "outputs": [],
   "source": [
    "centers = np.swapaxes(np.array([med0, med1, med2]), 0, 1)"
   ]
  },
  {
   "cell_type": "code",
   "execution_count": null,
   "metadata": {
    "collapsed": true
   },
   "outputs": [],
   "source": [
    "#100:400 200:360 \n",
    "#60:5, 40:4, +-20 median   24 inouts \n",
    "def clip_img(img):# make image to be in shape of (300, 160, 200)\n",
    "    img = img[100:400, 200:360, :]\n",
    "    _med = int(img.shape[2]/2)\n",
    "    tmp_img = np.zeros((300, 160, 200))\n",
    "    if img.shape[2] < 200:\n",
    "        a = img.shape[2]\n",
    "        tmp_img[:, :, 100-_med : 100-_med+a] = img\n",
    "    else:\n",
    "        tmp_img = img[:, :, _med-100 : _med+100 ]\n",
    "    img = tmp_img\n",
    "    del tmp_img\n",
    "    return img\n",
    "    \n",
    "def extract_cube(img, i):#Input((60, 40, 30, 1)) ; the i-th cube\n",
    "    j = i%5\n",
    "    k = i%4\n",
    "    l = i%2\n",
    "    #print(img[j*60:(j+1)*60, k*40:(1+k)*40, l*30:(l+1)*30].shape)\n",
    "    return img[j*60:(j+1)*60, k*40:(1+k)*40, l*100:(l+1)*100]\n",
    "    \n",
    "    \n",
    "import pandas as pd\n",
    "#y_idx => for construct (500, 1) vector\n",
    "map_df = pd.DataFrame(data={'resec_name': resec, 'target':y.reshape(182)})"
   ]
  },
  {
   "cell_type": "code",
   "execution_count": null,
   "metadata": {
    "collapsed": true
   },
   "outputs": [],
   "source": [
    "batch_size = 1\n",
    "v_generator = resec_Generator(map_df[:-50], batch_size=batch_size)\n",
    "validation_generator = resec_Generator(map_df[-50:-30], batch_size=batch_size)"
   ]
  },
  {
   "cell_type": "code",
   "execution_count": 20,
   "metadata": {},
   "outputs": [],
   "source": [
    "# history = model.fit_generator(v_generator,\n",
    "#                               epochs=4, validation_data=validation_generator)"
   ]
  },
  {
   "cell_type": "code",
   "execution_count": null,
   "metadata": {},
   "outputs": [],
   "source": []
  }
 ],
 "metadata": {
  "kernelspec": {
   "display_name": "Python 3",
   "language": "python",
   "name": "python3"
  },
  "language_info": {
   "codemirror_mode": {
    "name": "ipython",
    "version": 3
   },
   "file_extension": ".py",
   "mimetype": "text/x-python",
   "name": "python",
   "nbconvert_exporter": "python",
   "pygments_lexer": "ipython3",
   "version": "3.6.8"
  }
 },
 "nbformat": 4,
 "nbformat_minor": 2
}
