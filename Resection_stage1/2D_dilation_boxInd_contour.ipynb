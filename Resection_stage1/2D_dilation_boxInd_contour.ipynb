{
 "cells": [
  {
   "cell_type": "code",
   "execution_count": 1,
   "metadata": {},
   "outputs": [],
   "source": [
    "import os\n",
    "import tensorflow as tf\n",
    "os.environ[\"CUDA_VISIBLE_DEVICES\"] = \"0\"\n",
    "gpu_options = tf.GPUOptions(allow_growth=True)\n",
    "sess_config = tf.ConfigProto(gpu_options=gpu_options)\n",
    "tf.keras.backend.set_session(tf.Session(config=sess_config))"
   ]
  },
  {
   "cell_type": "code",
   "execution_count": 2,
   "metadata": {},
   "outputs": [],
   "source": [
    "import os\n",
    "import glob\n",
    "#import tqdm\n",
    "import numpy as np\n",
    "#import pandas as pd\n",
    "import multiprocessing\n",
    "import pydicom as dicom\n",
    "import nibabel as nib\n",
    "#from keras import utils as kutils\n",
    "from matplotlib import pyplot as plt\n",
    "\n",
    "def load_image(label_fpath, transpose=False):\n",
    "    #encode_name = label_fpath[-39: -7]\n",
    "    label_data = nib.load(label_fpath)\n",
    "    label_array = label_data.get_fdata()\n",
    "    if transpose:\n",
    "        label_array = np.transpose(label_array, axes=(2, 1, 0))\n",
    "    return  label_array#, encode_name"
   ]
  },
  {
   "cell_type": "code",
   "execution_count": 3,
   "metadata": {},
   "outputs": [
    {
     "data": {
      "text/html": [
       "<div>\n",
       "<style scoped>\n",
       "    .dataframe tbody tr th:only-of-type {\n",
       "        vertical-align: middle;\n",
       "    }\n",
       "\n",
       "    .dataframe tbody tr th {\n",
       "        vertical-align: top;\n",
       "    }\n",
       "\n",
       "    .dataframe thead th {\n",
       "        text-align: right;\n",
       "    }\n",
       "</style>\n",
       "<table border=\"1\" class=\"dataframe\">\n",
       "  <thead>\n",
       "    <tr style=\"text-align: right;\">\n",
       "      <th></th>\n",
       "      <th></th>\n",
       "      <th>total</th>\n",
       "    </tr>\n",
       "    <tr>\n",
       "      <th>cut</th>\n",
       "      <th>type</th>\n",
       "      <th></th>\n",
       "    </tr>\n",
       "  </thead>\n",
       "  <tbody>\n",
       "    <tr>\n",
       "      <th rowspan=\"2\" valign=\"top\">fine</th>\n",
       "      <th>healthy</th>\n",
       "      <td>102</td>\n",
       "    </tr>\n",
       "    <tr>\n",
       "      <th>tumor</th>\n",
       "      <td>44</td>\n",
       "    </tr>\n",
       "    <tr>\n",
       "      <th rowspan=\"2\" valign=\"top\">thick</th>\n",
       "      <th>healthy</th>\n",
       "      <td>82</td>\n",
       "    </tr>\n",
       "    <tr>\n",
       "      <th>tumor</th>\n",
       "      <td>197</td>\n",
       "    </tr>\n",
       "  </tbody>\n",
       "</table>\n",
       "</div>"
      ],
      "text/plain": [
       "               total\n",
       "cut   type          \n",
       "fine  healthy    102\n",
       "      tumor       44\n",
       "thick healthy     82\n",
       "      tumor      197"
      ]
     },
     "execution_count": 3,
     "metadata": {},
     "output_type": "execute_result"
    }
   ],
   "source": [
    "import pandas as pd\n",
    "info = pd.read_csv('/data2/pancreas/Nifti_data/data_list.csv')\n",
    "\n",
    "info['total'] = [1]*len(info)\n",
    "pd.DataFrame(info.groupby(['cut', 'type']).sum().total)"
   ]
  },
  {
   "cell_type": "code",
   "execution_count": 4,
   "metadata": {},
   "outputs": [
    {
     "name": "stdout",
     "output_type": "stream",
     "text": [
      "/home/u/wartytw\n"
     ]
    }
   ],
   "source": [
    "cd .."
   ]
  },
  {
   "cell_type": "code",
   "execution_count": 5,
   "metadata": {},
   "outputs": [],
   "source": [
    "import pandas as pd\n",
    "info = pd.read_csv('/data2/pancreas/Nifti_data/data_list.csv')\n",
    "image_path = \"/data2/pancreas/Nifti_data/image\"\n",
    "label_path = \"/data2/pancreas/Nifti_data/label\"\n",
    "\n",
    "\n",
    "shape = np.load(\"Resection_stage1/shape.npz.npy\")\n",
    "resec = np.load(\"Resection_stage1/resec.npy\")\n",
    "y = np.load(\"Resection_stage1/resec_y.npy\")\n",
    "tumor_shape = np.load(\"Resection_stage1/shape_tumor.npy\")"
   ]
  },
  {
   "cell_type": "code",
   "execution_count": null,
   "metadata": {},
   "outputs": [],
   "source": [
    "#New begin"
   ]
  },
  {
   "cell_type": "code",
   "execution_count": 11,
   "metadata": {},
   "outputs": [
    {
     "ename": "NameError",
     "evalue": "name 'closing' is not defined",
     "output_type": "error",
     "traceback": [
      "\u001b[0;31m---------------------------------------------------------------------------\u001b[0m",
      "\u001b[0;31mNameError\u001b[0m                                 Traceback (most recent call last)",
      "\u001b[0;32m<ipython-input-11-120a6c67b748>\u001b[0m in \u001b[0;36m<module>\u001b[0;34m\u001b[0m\n\u001b[1;32m      5\u001b[0m \u001b[0;34m\u001b[0m\u001b[0m\n\u001b[1;32m      6\u001b[0m \u001b[0;34m\u001b[0m\u001b[0m\n\u001b[0;32m----> 7\u001b[0;31m \u001b[0mmor_type\u001b[0m \u001b[0;34m=\u001b[0m \u001b[0mclosing\u001b[0m\u001b[0;34m.\u001b[0m\u001b[0mastype\u001b[0m\u001b[0;34m(\u001b[0m\u001b[0mnp\u001b[0m\u001b[0;34m.\u001b[0m\u001b[0mint\u001b[0m\u001b[0;34m)\u001b[0m\u001b[0;34m\u001b[0m\u001b[0;34m\u001b[0m\u001b[0m\n\u001b[0m\u001b[1;32m      8\u001b[0m \u001b[0mnums\u001b[0m \u001b[0;34m=\u001b[0m \u001b[0;34m[\u001b[0m\u001b[0;36m60\u001b[0m\u001b[0;34m,\u001b[0m \u001b[0;36m70\u001b[0m\u001b[0;34m,\u001b[0m \u001b[0;36m80\u001b[0m\u001b[0;34m]\u001b[0m\u001b[0;34m\u001b[0m\u001b[0;34m\u001b[0m\u001b[0m\n",
      "\u001b[0;31mNameError\u001b[0m: name 'closing' is not defined"
     ]
    }
   ],
   "source": [
    "num_identity = len(resec)\n",
    "contours = np.zeros((num_identity, 3, 220, 3, 100))\n",
    "\n",
    "from scipy import ndimage\n",
    "\n",
    "\n",
    "mor_type = closing.astype(np.int)\n",
    "nums = [60, 70, 80]"
   ]
  },
  {
   "cell_type": "code",
   "execution_count": 43,
   "metadata": {},
   "outputs": [],
   "source": [
    "\n",
    "#summarize\n",
    "from skimage import measure            # to find shape contour\n",
    "import scipy.ndimage as ndi            # to determine shape centrality\n",
    "from skimage.feature import corner_harris, corner_subpix, corner_peaks, CENSURE\n",
    "#img = tumor_img[..., 50]\n",
    "\n",
    "def set_to_100(vec):\n",
    "    vs = vec.shape[0]\n",
    "    if (vs < 100):\n",
    "        r = 100 - vs\n",
    "        tmp = np.zeros((r, vec.shape[1]))-1\n",
    "        vec = np.concatenate(( vec.reshape(-1, vec.shape[1]), tmp), axis = 0)\n",
    "    \n",
    "    vec = vec[tuple(list(np.round(np.linspace(1, vec.shape[0] - 1, 100)).astype(int) )), :]    \n",
    "    return vec\n",
    "#closing\n",
    "\n",
    "def isZero(vec):\n",
    "    if (vec == []):\n",
    "        return True\n",
    "    return False\n",
    "\n",
    "def cont(img):\n",
    "    return max(measure.find_contours(img, .8), key=len)\n",
    "\n",
    "# let us set the 'brush' to a 6x6 circle\n",
    "struct = [[ 0., 0., 1., 1., 0., 0.],\n",
    "          [ 0., 1., 1., 1., 1., 0.],  \n",
    "          [ 1., 1., 1., 1., 1., 1.], \n",
    "          [ 1., 1., 1., 1., 1., 1.], \n",
    "          [ 1., 1., 1., 1., 1., 1.], \n",
    "          [ 0., 1., 1., 1., 1., 0.],\n",
    "          [ 0., 0., 1., 1., 0., 0.]]\n",
    "\n",
    "num = 80\n",
    "\n",
    "#closing = cont(ndi.morphology.binary_closing(img > num, structure=struct).astype(img.dtype))\n"
   ]
  },
  {
   "cell_type": "code",
   "execution_count": 118,
   "metadata": {},
   "outputs": [],
   "source": [
    "def set_to_pixel2(tumor_img, mor_type, num_slice):\n",
    "    pixel_t = np.zeros((mor_type.shape[0], 1))\n",
    "    for i in range(mor_type.shape[0]):\n",
    "        pixel_t[i] = tumor_img[mor_type[i, 0],mor_type[i, 1] , num_slice]\n",
    "    return pixel_t\n",
    "\n",
    "def set_to_pixel1(tumor_img, mor_type, num_slice):\n",
    "    pixel_t = np.zeros((mor_type.shape[0], 1))\n",
    "    for i in range(mor_type.shape[0]):\n",
    "        pixel_t[i] = tumor_img[mor_type[i, 0], num_slice, mor_type[i, 1] ]\n",
    "    return pixel_t\n",
    "\n",
    "def set_to_pixel0(tumor_img, mor_type, num_slice):\n",
    "    pixel_t = np.zeros((mor_type.shape[0], 1))\n",
    "    for i in range(mor_type.shape[0]):\n",
    "        pixel_t[i] = tumor_img[ num_slice, mor_type[i, 0],mor_type[i, 1] ]\n",
    "    return pixel_t\n",
    "\n",
    "\n",
    "#New\n",
    "def extract_cube(r, img):#cube 210, 220, 90 ;; ranges = [xmin, xmax, ymin, ymax, zmin, zmax]\n",
    "    img_tmp = np.zeros((356, 289, 105))\n",
    "    #print(img.shape, r)\n",
    "    img_tmp[:int(r[1]-r[0]), :int(r[3]-r[2]), :int(r[5]-r[4])] = img[int(r[0]):int(r[1]), int(r[2]):int(r[3]), int(r[4]):int(r[5])]\n",
    "    return img_tmp\n",
    "\n",
    "def masking(label, img):\n",
    "    for i in range(img.shape[0]):\n",
    "        for j in range(img.shape[1]):\n",
    "            if label[i, j] == 0 or label[i, j] == 1:\n",
    "                img[i, j] = 0\n",
    "    return img\n",
    "def masking2(label, img):\n",
    "    for i in range(img.shape[0]):\n",
    "        for j in range(img.shape[1]):\n",
    "            if label[i, j] != 1:\n",
    "                img[i, j] = 0\n",
    "    return img\n",
    "\n",
    "import pandas as pd\n",
    "map_df = pd.DataFrame(data={'resec_name': resec, 'shape': np.array(range(182)), 'target':y.reshape(182)})\n"
   ]
  },
  {
   "cell_type": "code",
   "execution_count": 119,
   "metadata": {},
   "outputs": [],
   "source": [
    "# num_identity = len(resec)\n",
    "# contours = np.zeros((num_identity, 3, 220, 3, 100))\n",
    "\n",
    "# from scipy import ndimage\n",
    "\n",
    "\n",
    "# mor_type = closing.astype(np.int)\n",
    "# nums = [60, 70, 80]\n",
    "idx = 2\n",
    "name = resec[idx]\n",
    "img = load_image(os.path.join(image_path, \"IM_\" + name + \".nii.gz\"))\n",
    "label = load_image(os.path.join(label_path, \"LB_\" + name + \".nii.gz\"))\n",
    "img = extract_cube(tumor_shape[idx], img)\n",
    "label = extract_cube(tumor_shape[idx], label)\n",
    "\n"
   ]
  },
  {
   "cell_type": "code",
   "execution_count": 120,
   "metadata": {},
   "outputs": [
    {
     "data": {
      "image/png": "[encoded data removed]",
      "text/plain": [
       "<Figure size 432x288 with 1 Axes>"
      ]
     },
     "metadata": {
      "needs_background": "light"
     },
     "output_type": "display_data"
    },
    {
     "data": {
      "image/png": "[encoded data removed]",
      "text/plain": [
       "<Figure size 432x288 with 1 Axes>"
      ]
     },
     "metadata": {
      "needs_background": "light"
     },
     "output_type": "display_data"
    }
   ],
   "source": [
    "plt.imshow(label[..., 3])\n",
    "plt.show()\n",
    "plt.imshow(img[..., 3])\n",
    "plt.show()"
   ]
  },
  {
   "cell_type": "code",
   "execution_count": 121,
   "metadata": {},
   "outputs": [],
   "source": [
    "i = 3\n",
    "label[..., i] = masking(label[..., i], label[..., i])\n",
    "\n"
   ]
  },
  {
   "cell_type": "code",
   "execution_count": 122,
   "metadata": {},
   "outputs": [],
   "source": [
    "label[..., i] = ndimage.binary_dilation(label[..., i]).astype(label[..., i].dtype)"
   ]
  },
  {
   "cell_type": "code",
   "execution_count": 123,
   "metadata": {},
   "outputs": [],
   "source": [
    "img[..., i] = masking2(label[..., i], img[..., i])"
   ]
  },
  {
   "cell_type": "code",
   "execution_count": 124,
   "metadata": {},
   "outputs": [
    {
     "name": "stdout",
     "output_type": "stream",
     "text": [
      "[[0. 0. 0. 1. 1. 1. 1. 1. 1. 1.]\n",
      " [0. 0. 0. 1. 1. 1. 1. 1. 1. 1.]\n",
      " [0. 0. 0. 1. 1. 1. 1. 1. 1. 1.]\n",
      " [0. 0. 0. 1. 1. 1. 1. 1. 1. 1.]\n",
      " [0. 0. 0. 1. 1. 1. 1. 1. 1. 1.]]\n",
      "===\n",
      "[[  0.   0.   0.  73.  74.  70.  74.  94.  93.  82.]\n",
      " [  0.   0.   0.  93.  93.  74.  67.  79. 107. 103.]\n",
      " [  0.   0.   0.  78.  75.  75.  72.  76. 104. 103.]\n",
      " [  0.   0.   0.  46.  50.  76.  64.  68.  93.  91.]\n",
      " [  0.   0.   0.  51.  82.  91.  51.  55.  93.  95.]]\n"
     ]
    }
   ],
   "source": [
    "print(label[50:55, 10:20, 3])\n",
    "print(\"===\")\n",
    "print(img[50:55, 10:20, 3])"
   ]
  },
  {
   "cell_type": "code",
   "execution_count": 125,
   "metadata": {},
   "outputs": [
    {
     "data": {
      "text/plain": [
       "<matplotlib.image.AxesImage at 0x7f023c883f28>"
      ]
     },
     "execution_count": 125,
     "metadata": {},
     "output_type": "execute_result"
    },
    {
     "data": {
      "image/png": "[encoded data removed]",
      "text/plain": [
       "<Figure size 432x288 with 1 Axes>"
      ]
     },
     "metadata": {
      "needs_background": "light"
     },
     "output_type": "display_data"
    }
   ],
   "source": [
    "plt.imshow(img[..., 3])"
   ]
  },
  {
   "cell_type": "code",
   "execution_count": 126,
   "metadata": {},
   "outputs": [],
   "source": [
    "num_identity = len(resec)\n",
    "contours = np.zeros((num_identity, 3, 220, 3, 100))\n",
    "\n",
    "from scipy import ndimage\n",
    "from skimage import measure            # to find shape contour\n",
    "import scipy.ndimage as ndi            # to determine shape centrality\n",
    "from skimage.feature import corner_harris, corner_subpix, corner_peaks, CENSURE\n",
    "\n",
    "#mor_type = closing.astype(np.int)\n",
    "nums = [60, 70, 80]"
   ]
  },
  {
   "cell_type": "code",
   "execution_count": 128,
   "metadata": {},
   "outputs": [
    {
     "ename": "IndexError",
     "evalue": "too many indices for array",
     "output_type": "error",
     "traceback": [
      "\u001b[0;31m---------------------------------------------------------------------------\u001b[0m",
      "\u001b[0;31mIndexError\u001b[0m                                Traceback (most recent call last)",
      "\u001b[0;32m<ipython-input-128-6a57dd6a0469>\u001b[0m in \u001b[0;36m<module>\u001b[0;34m\u001b[0m\n\u001b[1;32m      7\u001b[0m         \u001b[0;32melse\u001b[0m\u001b[0;34m:\u001b[0m\u001b[0;34m\u001b[0m\u001b[0;34m\u001b[0m\u001b[0m\n\u001b[1;32m      8\u001b[0m             \u001b[0mclosing\u001b[0m \u001b[0;34m=\u001b[0m \u001b[0mcont\u001b[0m\u001b[0;34m(\u001b[0m\u001b[0mndi\u001b[0m\u001b[0;34m.\u001b[0m\u001b[0mmorphology\u001b[0m\u001b[0;34m.\u001b[0m\u001b[0mbinary_closing\u001b[0m\u001b[0;34m(\u001b[0m\u001b[0mimg\u001b[0m\u001b[0;34m[\u001b[0m\u001b[0;34m...\u001b[0m\u001b[0;34m,\u001b[0m \u001b[0mi\u001b[0m\u001b[0;34m]\u001b[0m \u001b[0;34m>\u001b[0m \u001b[0mnum\u001b[0m\u001b[0;34m,\u001b[0m \u001b[0mstructure\u001b[0m\u001b[0;34m=\u001b[0m\u001b[0mstruct\u001b[0m\u001b[0;34m)\u001b[0m\u001b[0;34m.\u001b[0m\u001b[0mastype\u001b[0m\u001b[0;34m(\u001b[0m\u001b[0mimg\u001b[0m\u001b[0;34m[\u001b[0m\u001b[0;34m...\u001b[0m\u001b[0;34m,\u001b[0m \u001b[0mi\u001b[0m\u001b[0;34m]\u001b[0m\u001b[0;34m.\u001b[0m\u001b[0mdtype\u001b[0m\u001b[0;34m)\u001b[0m\u001b[0;34m)\u001b[0m\u001b[0;34m\u001b[0m\u001b[0;34m\u001b[0m\u001b[0m\n\u001b[0;32m----> 9\u001b[0;31m             \u001b[0mtmp_vector\u001b[0m \u001b[0;34m=\u001b[0m \u001b[0mset_to_pixel2\u001b[0m\u001b[0;34m(\u001b[0m\u001b[0mimg\u001b[0m\u001b[0;34m[\u001b[0m\u001b[0;34m...\u001b[0m\u001b[0;34m,\u001b[0m \u001b[0mi\u001b[0m\u001b[0;34m]\u001b[0m\u001b[0;34m,\u001b[0m \u001b[0mclosing\u001b[0m\u001b[0;34m.\u001b[0m\u001b[0mastype\u001b[0m\u001b[0;34m(\u001b[0m\u001b[0mnp\u001b[0m\u001b[0;34m.\u001b[0m\u001b[0mint\u001b[0m\u001b[0;34m)\u001b[0m\u001b[0;34m,\u001b[0m \u001b[0mi\u001b[0m\u001b[0;34m)\u001b[0m\u001b[0;34m\u001b[0m\u001b[0;34m\u001b[0m\u001b[0m\n\u001b[0m",
      "\u001b[0;32m<ipython-input-118-c47b5c604b82>\u001b[0m in \u001b[0;36mset_to_pixel2\u001b[0;34m(tumor_img, mor_type, num_slice)\u001b[0m\n\u001b[1;32m      2\u001b[0m     \u001b[0mpixel_t\u001b[0m \u001b[0;34m=\u001b[0m \u001b[0mnp\u001b[0m\u001b[0;34m.\u001b[0m\u001b[0mzeros\u001b[0m\u001b[0;34m(\u001b[0m\u001b[0;34m(\u001b[0m\u001b[0mmor_type\u001b[0m\u001b[0;34m.\u001b[0m\u001b[0mshape\u001b[0m\u001b[0;34m[\u001b[0m\u001b[0;36m0\u001b[0m\u001b[0;34m]\u001b[0m\u001b[0;34m,\u001b[0m \u001b[0;36m1\u001b[0m\u001b[0;34m)\u001b[0m\u001b[0;34m)\u001b[0m\u001b[0;34m\u001b[0m\u001b[0;34m\u001b[0m\u001b[0m\n\u001b[1;32m      3\u001b[0m     \u001b[0;32mfor\u001b[0m \u001b[0mi\u001b[0m \u001b[0;32min\u001b[0m \u001b[0mrange\u001b[0m\u001b[0;34m(\u001b[0m\u001b[0mmor_type\u001b[0m\u001b[0;34m.\u001b[0m\u001b[0mshape\u001b[0m\u001b[0;34m[\u001b[0m\u001b[0;36m0\u001b[0m\u001b[0;34m]\u001b[0m\u001b[0;34m)\u001b[0m\u001b[0;34m:\u001b[0m\u001b[0;34m\u001b[0m\u001b[0;34m\u001b[0m\u001b[0m\n\u001b[0;32m----> 4\u001b[0;31m         \u001b[0mpixel_t\u001b[0m\u001b[0;34m[\u001b[0m\u001b[0mi\u001b[0m\u001b[0;34m]\u001b[0m \u001b[0;34m=\u001b[0m \u001b[0mtumor_img\u001b[0m\u001b[0;34m[\u001b[0m\u001b[0mmor_type\u001b[0m\u001b[0;34m[\u001b[0m\u001b[0mi\u001b[0m\u001b[0;34m,\u001b[0m \u001b[0;36m0\u001b[0m\u001b[0;34m]\u001b[0m\u001b[0;34m,\u001b[0m\u001b[0mmor_type\u001b[0m\u001b[0;34m[\u001b[0m\u001b[0mi\u001b[0m\u001b[0;34m,\u001b[0m \u001b[0;36m1\u001b[0m\u001b[0;34m]\u001b[0m \u001b[0;34m,\u001b[0m \u001b[0mnum_slice\u001b[0m\u001b[0;34m]\u001b[0m\u001b[0;34m\u001b[0m\u001b[0;34m\u001b[0m\u001b[0m\n\u001b[0m\u001b[1;32m      5\u001b[0m     \u001b[0;32mreturn\u001b[0m \u001b[0mpixel_t\u001b[0m\u001b[0;34m\u001b[0m\u001b[0;34m\u001b[0m\u001b[0m\n\u001b[1;32m      6\u001b[0m \u001b[0;34m\u001b[0m\u001b[0m\n",
      "\u001b[0;31mIndexError\u001b[0m: too many indices for array"
     ]
    }
   ],
   "source": [
    "i = 3\n",
    "for n, num in enumerate(nums):\n",
    "\n",
    "        o1 = measure.find_contours(ndi.morphology.binary_closing(img[..., i] > num, structure=struct).astype(img[..., i].dtype), .8)\n",
    "        if(isZero(o1)):\n",
    "            contours[idx, 2, i, n, :] = np.zeros((100,))\n",
    "        else:\n",
    "            closing = cont(ndi.morphology.binary_closing(img[..., i] > num, structure=struct).astype(img[..., i].dtype))\n",
    "            tmp_vector = set_to_pixel2(img[..., i], closing.astype(np.int), i)"
   ]
  },
  {
   "cell_type": "code",
   "execution_count": 129,
   "metadata": {},
   "outputs": [
    {
     "data": {
      "text/plain": [
       "array([[83, 43],\n",
       "       [83, 42],\n",
       "       [82, 42],\n",
       "       [82, 41],\n",
       "       [82, 40],\n",
       "       [83, 39],\n",
       "       [83, 39],\n",
       "       [83, 38],\n",
       "       [83, 37],\n",
       "       [83, 36],\n",
       "       [83, 35],\n",
       "       [83, 34],\n",
       "       [82, 34],\n",
       "       [82, 33],\n",
       "       [81, 33],\n",
       "       [81, 32],\n",
       "       [81, 31],\n",
       "       [81, 30],\n",
       "       [80, 30],\n",
       "       [80, 29],\n",
       "       [80, 28],\n",
       "       [79, 28],\n",
       "       [79, 27],\n",
       "       [78, 27],\n",
       "       [78, 26],\n",
       "       [77, 26],\n",
       "       [77, 25],\n",
       "       [77, 24],\n",
       "       [76, 24],\n",
       "       [76, 23],\n",
       "       [75, 23],\n",
       "       [75, 22],\n",
       "       [74, 22],\n",
       "       [74, 21],\n",
       "       [74, 20],\n",
       "       [73, 20],\n",
       "       [73, 19],\n",
       "       [72, 19],\n",
       "       [72, 18],\n",
       "       [71, 18],\n",
       "       [71, 17],\n",
       "       [70, 17],\n",
       "       [70, 16],\n",
       "       [69, 16],\n",
       "       [69, 15],\n",
       "       [68, 15],\n",
       "       [68, 14],\n",
       "       [67, 14],\n",
       "       [66, 14],\n",
       "       [65, 14],\n",
       "       [64, 14],\n",
       "       [63, 14],\n",
       "       [62, 14],\n",
       "       [62, 13],\n",
       "       [61, 13],\n",
       "       [61, 12],\n",
       "       [60, 13],\n",
       "       [60, 13],\n",
       "       [59, 13],\n",
       "       [58, 13],\n",
       "       [57, 13],\n",
       "       [56, 13],\n",
       "       [56, 12],\n",
       "       [55, 12],\n",
       "       [54, 12],\n",
       "       [53, 12],\n",
       "       [52, 12],\n",
       "       [51, 12],\n",
       "       [50, 12],\n",
       "       [49, 12],\n",
       "       [48, 12],\n",
       "       [47, 12],\n",
       "       [46, 12],\n",
       "       [45, 12],\n",
       "       [44, 12],\n",
       "       [43, 12],\n",
       "       [42, 12],\n",
       "       [41, 12],\n",
       "       [40, 12],\n",
       "       [39, 12],\n",
       "       [38, 13],\n",
       "       [38, 13],\n",
       "       [37, 14],\n",
       "       [37, 14],\n",
       "       [36, 15],\n",
       "       [36, 15],\n",
       "       [35, 16],\n",
       "       [35, 16],\n",
       "       [34, 16],\n",
       "       [33, 17],\n",
       "       [33, 17],\n",
       "       [32, 17],\n",
       "       [31, 18],\n",
       "       [31, 18],\n",
       "       [30, 18],\n",
       "       [29, 18],\n",
       "       [28, 19],\n",
       "       [28, 19],\n",
       "       [27, 19],\n",
       "       [26, 19],\n",
       "       [25, 19],\n",
       "       [24, 19],\n",
       "       [23, 19],\n",
       "       [22, 19],\n",
       "       [21, 19],\n",
       "       [21, 18],\n",
       "       [20, 18],\n",
       "       [20, 17],\n",
       "       [19, 17],\n",
       "       [18, 17],\n",
       "       [17, 17],\n",
       "       [17, 16],\n",
       "       [16, 16],\n",
       "       [15, 16],\n",
       "       [14, 16],\n",
       "       [13, 17],\n",
       "       [13, 17],\n",
       "       [12, 17],\n",
       "       [11, 17],\n",
       "       [10, 17],\n",
       "       [10, 16],\n",
       "       [ 9, 16],\n",
       "       [ 8, 17],\n",
       "       [ 8, 17],\n",
       "       [ 7, 18],\n",
       "       [ 7, 18],\n",
       "       [ 6, 18],\n",
       "       [ 5, 18],\n",
       "       [ 4, 18],\n",
       "       [ 3, 19],\n",
       "       [ 4, 19],\n",
       "       [ 4, 20],\n",
       "       [ 4, 21],\n",
       "       [ 4, 21],\n",
       "       [ 3, 22],\n",
       "       [ 4, 22],\n",
       "       [ 4, 23],\n",
       "       [ 5, 23],\n",
       "       [ 6, 23],\n",
       "       [ 6, 24],\n",
       "       [ 7, 24],\n",
       "       [ 7, 25],\n",
       "       [ 8, 25],\n",
       "       [ 9, 25],\n",
       "       [10, 25],\n",
       "       [10, 26],\n",
       "       [11, 26],\n",
       "       [11, 26],\n",
       "       [12, 25],\n",
       "       [12, 25],\n",
       "       [13, 24],\n",
       "       [13, 24],\n",
       "       [14, 23],\n",
       "       [14, 23],\n",
       "       [15, 22],\n",
       "       [16, 22],\n",
       "       [17, 22],\n",
       "       [17, 23],\n",
       "       [18, 23],\n",
       "       [19, 23],\n",
       "       [20, 23],\n",
       "       [21, 23],\n",
       "       [22, 23],\n",
       "       [22, 24],\n",
       "       [23, 24],\n",
       "       [23, 25],\n",
       "       [24, 25],\n",
       "       [24, 25],\n",
       "       [25, 24],\n",
       "       [26, 24],\n",
       "       [27, 24],\n",
       "       [27, 25],\n",
       "       [28, 25],\n",
       "       [28, 26],\n",
       "       [29, 26],\n",
       "       [29, 27],\n",
       "       [29, 28],\n",
       "       [30, 28],\n",
       "       [31, 28],\n",
       "       [32, 28],\n",
       "       [33, 28],\n",
       "       [34, 28],\n",
       "       [34, 29],\n",
       "       [35, 29],\n",
       "       [35, 30],\n",
       "       [36, 30],\n",
       "       [36, 31],\n",
       "       [36, 32],\n",
       "       [36, 33],\n",
       "       [37, 33],\n",
       "       [38, 33],\n",
       "       [38, 34],\n",
       "       [39, 34],\n",
       "       [39, 35],\n",
       "       [40, 35],\n",
       "       [40, 36],\n",
       "       [40, 37],\n",
       "       [40, 37],\n",
       "       [39, 38],\n",
       "       [39, 39],\n",
       "       [39, 40],\n",
       "       [39, 40],\n",
       "       [38, 41],\n",
       "       [38, 41],\n",
       "       [37, 42],\n",
       "       [37, 42],\n",
       "       [36, 43],\n",
       "       [36, 43],\n",
       "       [35, 44],\n",
       "       [35, 44],\n",
       "       [34, 44],\n",
       "       [33, 44],\n",
       "       [32, 44],\n",
       "       [31, 44],\n",
       "       [31, 43],\n",
       "       [30, 43],\n",
       "       [30, 42],\n",
       "       [29, 42],\n",
       "       [29, 41],\n",
       "       [28, 41],\n",
       "       [28, 40],\n",
       "       [28, 39],\n",
       "       [27, 39],\n",
       "       [26, 39],\n",
       "       [25, 39],\n",
       "       [24, 39],\n",
       "       [23, 39],\n",
       "       [22, 39],\n",
       "       [21, 40],\n",
       "       [21, 40],\n",
       "       [20, 41],\n",
       "       [21, 41],\n",
       "       [22, 41],\n",
       "       [23, 41],\n",
       "       [24, 41],\n",
       "       [25, 41],\n",
       "       [25, 42],\n",
       "       [26, 42],\n",
       "       [26, 43],\n",
       "       [27, 43],\n",
       "       [27, 44],\n",
       "       [27, 45],\n",
       "       [27, 46],\n",
       "       [27, 46],\n",
       "       [26, 47],\n",
       "       [27, 47],\n",
       "       [27, 48],\n",
       "       [27, 49],\n",
       "       [27, 50],\n",
       "       [27, 51],\n",
       "       [27, 51],\n",
       "       [26, 52],\n",
       "       [26, 52],\n",
       "       [25, 53],\n",
       "       [26, 53],\n",
       "       [27, 53],\n",
       "       [27, 54],\n",
       "       [28, 54],\n",
       "       [29, 54],\n",
       "       [30, 54],\n",
       "       [30, 55],\n",
       "       [31, 55],\n",
       "       [32, 55],\n",
       "       [33, 55],\n",
       "       [33, 56],\n",
       "       [34, 56],\n",
       "       [34, 57],\n",
       "       [35, 57],\n",
       "       [35, 58],\n",
       "       [36, 58],\n",
       "       [37, 58],\n",
       "       [37, 59],\n",
       "       [38, 59],\n",
       "       [38, 60],\n",
       "       [39, 60],\n",
       "       [40, 60],\n",
       "       [40, 61],\n",
       "       [41, 61],\n",
       "       [41, 62],\n",
       "       [42, 62],\n",
       "       [42, 62],\n",
       "       [43, 61],\n",
       "       [44, 61],\n",
       "       [45, 61],\n",
       "       [45, 62],\n",
       "       [46, 62],\n",
       "       [46, 63],\n",
       "       [47, 63],\n",
       "       [47, 64],\n",
       "       [48, 64],\n",
       "       [49, 64],\n",
       "       [50, 64],\n",
       "       [51, 64],\n",
       "       [52, 64],\n",
       "       [53, 64],\n",
       "       [54, 64],\n",
       "       [55, 64],\n",
       "       [56, 64],\n",
       "       [57, 64],\n",
       "       [58, 64],\n",
       "       [58, 64],\n",
       "       [58, 63],\n",
       "       [57, 63],\n",
       "       [56, 63],\n",
       "       [55, 63],\n",
       "       [54, 63],\n",
       "       [53, 63],\n",
       "       [52, 63],\n",
       "       [51, 63],\n",
       "       [50, 63],\n",
       "       [50, 62],\n",
       "       [49, 62],\n",
       "       [49, 61],\n",
       "       [48, 61],\n",
       "       [48, 60],\n",
       "       [47, 60],\n",
       "       [47, 59],\n",
       "       [47, 58],\n",
       "       [47, 57],\n",
       "       [46, 57],\n",
       "       [46, 56],\n",
       "       [46, 55],\n",
       "       [46, 54],\n",
       "       [45, 54],\n",
       "       [44, 54],\n",
       "       [43, 54],\n",
       "       [43, 53],\n",
       "       [42, 53],\n",
       "       [42, 52],\n",
       "       [41, 52],\n",
       "       [41, 51],\n",
       "       [42, 50],\n",
       "       [42, 50],\n",
       "       [43, 49],\n",
       "       [43, 49],\n",
       "       [44, 48],\n",
       "       [45, 48],\n",
       "       [45, 48],\n",
       "       [46, 47],\n",
       "       [47, 47],\n",
       "       [48, 47],\n",
       "       [48, 48],\n",
       "       [49, 48],\n",
       "       [49, 49],\n",
       "       [50, 49],\n",
       "       [50, 50],\n",
       "       [51, 50],\n",
       "       [51, 50],\n",
       "       [52, 49],\n",
       "       [52, 49],\n",
       "       [53, 48],\n",
       "       [53, 48],\n",
       "       [54, 47],\n",
       "       [55, 47],\n",
       "       [56, 47],\n",
       "       [57, 47],\n",
       "       [58, 47],\n",
       "       [58, 48],\n",
       "       [59, 48],\n",
       "       [59, 49],\n",
       "       [60, 49],\n",
       "       [60, 50],\n",
       "       [60, 51],\n",
       "       [60, 52],\n",
       "       [60, 53],\n",
       "       [60, 54],\n",
       "       [61, 54],\n",
       "       [61, 54],\n",
       "       [61, 53],\n",
       "       [62, 52],\n",
       "       [62, 52],\n",
       "       [63, 51],\n",
       "       [63, 51],\n",
       "       [64, 50],\n",
       "       [64, 50],\n",
       "       [65, 49],\n",
       "       [65, 49],\n",
       "       [66, 48],\n",
       "       [66, 48],\n",
       "       [67, 47],\n",
       "       [68, 47],\n",
       "       [69, 47],\n",
       "       [70, 47],\n",
       "       [71, 47],\n",
       "       [72, 47],\n",
       "       [73, 47],\n",
       "       [74, 47],\n",
       "       [74, 47],\n",
       "       [75, 46],\n",
       "       [75, 46],\n",
       "       [76, 45],\n",
       "       [76, 45],\n",
       "       [77, 44],\n",
       "       [77, 44],\n",
       "       [78, 43],\n",
       "       [78, 43],\n",
       "       [79, 42],\n",
       "       [80, 42],\n",
       "       [81, 42],\n",
       "       [81, 43],\n",
       "       [82, 43],\n",
       "       [83, 43],\n",
       "       [83, 43]])"
      ]
     },
     "execution_count": 129,
     "metadata": {},
     "output_type": "execute_result"
    }
   ],
   "source": [
    "closing = cont(ndi.morphology.binary_closing(img[..., i] > num, structure=struct).astype(img[..., i].dtype))\n",
    "closing.astype(np.int)"
   ]
  },
  {
   "cell_type": "code",
   "execution_count": 130,
   "metadata": {},
   "outputs": [
    {
     "data": {
      "text/plain": [
       "[array([[19.2, 42. ],\n",
       "        [19. , 41.8],\n",
       "        [18. , 41.8],\n",
       "        [17.2, 41. ],\n",
       "        [17. , 40.8],\n",
       "        [16.2, 40. ],\n",
       "        [16. , 39.8],\n",
       "        [15.2, 39. ],\n",
       "        [15.2, 38. ],\n",
       "        [15.2, 37. ],\n",
       "        [16. , 36.2],\n",
       "        [16.2, 36. ],\n",
       "        [17. , 35.2],\n",
       "        [17.2, 35. ],\n",
       "        [18. , 34.2],\n",
       "        [18.2, 34. ],\n",
       "        [18. , 33.8],\n",
       "        [17. , 33.8],\n",
       "        [16.2, 33. ],\n",
       "        [16. , 32.8],\n",
       "        [15.2, 32. ],\n",
       "        [15. , 31.8],\n",
       "        [14. , 31.8],\n",
       "        [13.8, 32. ],\n",
       "        [13.8, 33. ],\n",
       "        [13.8, 34. ],\n",
       "        [13. , 34.8],\n",
       "        [12.8, 35. ],\n",
       "        [12. , 35.8],\n",
       "        [11.8, 36. ],\n",
       "        [11. , 36.8],\n",
       "        [10.8, 37. ],\n",
       "        [10. , 37.8],\n",
       "        [ 9. , 37.8],\n",
       "        [ 8. , 37.8],\n",
       "        [ 7.2, 37. ],\n",
       "        [ 7. , 36.8],\n",
       "        [ 6.2, 36. ],\n",
       "        [ 6. , 35.8],\n",
       "        [ 5. , 35.8],\n",
       "        [ 4. , 35.8],\n",
       "        [ 3.2, 35. ],\n",
       "        [ 3. , 34.8],\n",
       "        [ 2.8, 35. ],\n",
       "        [ 2.8, 36. ],\n",
       "        [ 2.8, 37. ],\n",
       "        [ 3. , 37.2],\n",
       "        [ 4. , 37.2],\n",
       "        [ 5. , 37.2],\n",
       "        [ 5.8, 38. ],\n",
       "        [ 6. , 38.2],\n",
       "        [ 6.8, 39. ],\n",
       "        [ 7. , 39.2],\n",
       "        [ 8. , 39.2],\n",
       "        [ 9. , 39.2],\n",
       "        [10. , 39.2],\n",
       "        [11. , 39.2],\n",
       "        [11.8, 40. ],\n",
       "        [12. , 40.2],\n",
       "        [12.8, 41. ],\n",
       "        [13. , 41.2],\n",
       "        [13.8, 42. ],\n",
       "        [13.8, 43. ],\n",
       "        [13.8, 44. ],\n",
       "        [14. , 44.2],\n",
       "        [15. , 44.2],\n",
       "        [15.8, 45. ],\n",
       "        [16. , 45.2],\n",
       "        [16.8, 46. ],\n",
       "        [17. , 46.2],\n",
       "        [17.2, 46. ],\n",
       "        [17.2, 45. ],\n",
       "        [17.2, 44. ],\n",
       "        [18. , 43.2],\n",
       "        [18.2, 43. ],\n",
       "        [19. , 42.2],\n",
       "        [19.2, 42. ]]), array([[83.2, 43. ],\n",
       "        [83. , 42.8],\n",
       "        [82.2, 42. ],\n",
       "        [82.2, 41. ],\n",
       "        [82.2, 40. ],\n",
       "        [83. , 39.2],\n",
       "        [83.2, 39. ],\n",
       "        [83.2, 38. ],\n",
       "        [83.2, 37. ],\n",
       "        [83.2, 36. ],\n",
       "        [83.2, 35. ],\n",
       "        [83. , 34.8],\n",
       "        [82.2, 34. ],\n",
       "        [82. , 33.8],\n",
       "        [81.2, 33. ],\n",
       "        [81.2, 32. ],\n",
       "        [81.2, 31. ],\n",
       "        [81. , 30.8],\n",
       "        [80.2, 30. ],\n",
       "        [80.2, 29. ],\n",
       "        [80. , 28.8],\n",
       "        [79.2, 28. ],\n",
       "        [79. , 27.8],\n",
       "        [78.2, 27. ],\n",
       "        [78. , 26.8],\n",
       "        [77.2, 26. ],\n",
       "        [77.2, 25. ],\n",
       "        [77. , 24.8],\n",
       "        [76.2, 24. ],\n",
       "        [76. , 23.8],\n",
       "        [75.2, 23. ],\n",
       "        [75. , 22.8],\n",
       "        [74.2, 22. ],\n",
       "        [74.2, 21. ],\n",
       "        [74. , 20.8],\n",
       "        [73.2, 20. ],\n",
       "        [73. , 19.8],\n",
       "        [72.2, 19. ],\n",
       "        [72. , 18.8],\n",
       "        [71.2, 18. ],\n",
       "        [71. , 17.8],\n",
       "        [70.2, 17. ],\n",
       "        [70. , 16.8],\n",
       "        [69.2, 16. ],\n",
       "        [69. , 15.8],\n",
       "        [68.2, 15. ],\n",
       "        [68. , 14.8],\n",
       "        [67. , 14.8],\n",
       "        [66. , 14.8],\n",
       "        [65. , 14.8],\n",
       "        [64. , 14.8],\n",
       "        [63. , 14.8],\n",
       "        [62.2, 14. ],\n",
       "        [62. , 13.8],\n",
       "        [61.2, 13. ],\n",
       "        [61. , 12.8],\n",
       "        [60.8, 13. ],\n",
       "        [60. , 13.8],\n",
       "        [59. , 13.8],\n",
       "        [58. , 13.8],\n",
       "        [57. , 13.8],\n",
       "        [56.2, 13. ],\n",
       "        [56. , 12.8],\n",
       "        [55. , 12.8],\n",
       "        [54. , 12.8],\n",
       "        [53. , 12.8],\n",
       "        [52. , 12.8],\n",
       "        [51. , 12.8],\n",
       "        [50. , 12.8],\n",
       "        [49. , 12.8],\n",
       "        [48. , 12.8],\n",
       "        [47. , 12.8],\n",
       "        [46. , 12.8],\n",
       "        [45. , 12.8],\n",
       "        [44. , 12.8],\n",
       "        [43. , 12.8],\n",
       "        [42. , 12.8],\n",
       "        [41. , 12.8],\n",
       "        [40. , 12.8],\n",
       "        [39. , 12.8],\n",
       "        [38.8, 13. ],\n",
       "        [38. , 13.8],\n",
       "        [37.8, 14. ],\n",
       "        [37. , 14.8],\n",
       "        [36.8, 15. ],\n",
       "        [36. , 15.8],\n",
       "        [35.8, 16. ],\n",
       "        [35. , 16.8],\n",
       "        [34. , 16.8],\n",
       "        [33.8, 17. ],\n",
       "        [33. , 17.8],\n",
       "        [32. , 17.8],\n",
       "        [31.8, 18. ],\n",
       "        [31. , 18.8],\n",
       "        [30. , 18.8],\n",
       "        [29. , 18.8],\n",
       "        [28.8, 19. ],\n",
       "        [28. , 19.8],\n",
       "        [27. , 19.8],\n",
       "        [26. , 19.8],\n",
       "        [25. , 19.8],\n",
       "        [24. , 19.8],\n",
       "        [23. , 19.8],\n",
       "        [22. , 19.8],\n",
       "        [21.2, 19. ],\n",
       "        [21. , 18.8],\n",
       "        [20.2, 18. ],\n",
       "        [20. , 17.8],\n",
       "        [19. , 17.8],\n",
       "        [18. , 17.8],\n",
       "        [17.2, 17. ],\n",
       "        [17. , 16.8],\n",
       "        [16. , 16.8],\n",
       "        [15. , 16.8],\n",
       "        [14. , 16.8],\n",
       "        [13.8, 17. ],\n",
       "        [13. , 17.8],\n",
       "        [12. , 17.8],\n",
       "        [11. , 17.8],\n",
       "        [10.2, 17. ],\n",
       "        [10. , 16.8],\n",
       "        [ 9. , 16.8],\n",
       "        [ 8.8, 17. ],\n",
       "        [ 8. , 17.8],\n",
       "        [ 7.8, 18. ],\n",
       "        [ 7. , 18.8],\n",
       "        [ 6. , 18.8],\n",
       "        [ 5. , 18.8],\n",
       "        [ 4. , 18.8],\n",
       "        [ 3.8, 19. ],\n",
       "        [ 4. , 19.2],\n",
       "        [ 4.8, 20. ],\n",
       "        [ 4.8, 21. ],\n",
       "        [ 4. , 21.8],\n",
       "        [ 3.8, 22. ],\n",
       "        [ 4. , 22.2],\n",
       "        [ 4.8, 23. ],\n",
       "        [ 5. , 23.2],\n",
       "        [ 6. , 23.2],\n",
       "        [ 6.8, 24. ],\n",
       "        [ 7. , 24.2],\n",
       "        [ 7.8, 25. ],\n",
       "        [ 8. , 25.2],\n",
       "        [ 9. , 25.2],\n",
       "        [10. , 25.2],\n",
       "        [10.8, 26. ],\n",
       "        [11. , 26.2],\n",
       "        [11.2, 26. ],\n",
       "        [12. , 25.2],\n",
       "        [12.2, 25. ],\n",
       "        [13. , 24.2],\n",
       "        [13.2, 24. ],\n",
       "        [14. , 23.2],\n",
       "        [14.2, 23. ],\n",
       "        [15. , 22.2],\n",
       "        [16. , 22.2],\n",
       "        [17. , 22.2],\n",
       "        [17.8, 23. ],\n",
       "        [18. , 23.2],\n",
       "        [19. , 23.2],\n",
       "        [20. , 23.2],\n",
       "        [21. , 23.2],\n",
       "        [22. , 23.2],\n",
       "        [22.8, 24. ],\n",
       "        [23. , 24.2],\n",
       "        [23.8, 25. ],\n",
       "        [24. , 25.2],\n",
       "        [24.2, 25. ],\n",
       "        [25. , 24.2],\n",
       "        [26. , 24.2],\n",
       "        [27. , 24.2],\n",
       "        [27.8, 25. ],\n",
       "        [28. , 25.2],\n",
       "        [28.8, 26. ],\n",
       "        [29. , 26.2],\n",
       "        [29.8, 27. ],\n",
       "        [29.8, 28. ],\n",
       "        [30. , 28.2],\n",
       "        [31. , 28.2],\n",
       "        [32. , 28.2],\n",
       "        [33. , 28.2],\n",
       "        [34. , 28.2],\n",
       "        [34.8, 29. ],\n",
       "        [35. , 29.2],\n",
       "        [35.8, 30. ],\n",
       "        [36. , 30.2],\n",
       "        [36.8, 31. ],\n",
       "        [36.8, 32. ],\n",
       "        [36.8, 33. ],\n",
       "        [37. , 33.2],\n",
       "        [38. , 33.2],\n",
       "        [38.8, 34. ],\n",
       "        [39. , 34.2],\n",
       "        [39.8, 35. ],\n",
       "        [40. , 35.2],\n",
       "        [40.8, 36. ],\n",
       "        [40.8, 37. ],\n",
       "        [40. , 37.8],\n",
       "        [39.8, 38. ],\n",
       "        [39.8, 39. ],\n",
       "        [39.8, 40. ],\n",
       "        [39. , 40.8],\n",
       "        [38.8, 41. ],\n",
       "        [38. , 41.8],\n",
       "        [37.8, 42. ],\n",
       "        [37. , 42.8],\n",
       "        [36.8, 43. ],\n",
       "        [36. , 43.8],\n",
       "        [35.8, 44. ],\n",
       "        [35. , 44.8],\n",
       "        [34. , 44.8],\n",
       "        [33. , 44.8],\n",
       "        [32. , 44.8],\n",
       "        [31.2, 44. ],\n",
       "        [31. , 43.8],\n",
       "        [30.2, 43. ],\n",
       "        [30. , 42.8],\n",
       "        [29.2, 42. ],\n",
       "        [29. , 41.8],\n",
       "        [28.2, 41. ],\n",
       "        [28.2, 40. ],\n",
       "        [28. , 39.8],\n",
       "        [27. , 39.8],\n",
       "        [26. , 39.8],\n",
       "        [25. , 39.8],\n",
       "        [24. , 39.8],\n",
       "        [23. , 39.8],\n",
       "        [22. , 39.8],\n",
       "        [21.8, 40. ],\n",
       "        [21. , 40.8],\n",
       "        [20.8, 41. ],\n",
       "        [21. , 41.2],\n",
       "        [22. , 41.2],\n",
       "        [23. , 41.2],\n",
       "        [24. , 41.2],\n",
       "        [25. , 41.2],\n",
       "        [25.8, 42. ],\n",
       "        [26. , 42.2],\n",
       "        [26.8, 43. ],\n",
       "        [27. , 43.2],\n",
       "        [27.8, 44. ],\n",
       "        [27.8, 45. ],\n",
       "        [27.8, 46. ],\n",
       "        [27. , 46.8],\n",
       "        [26.8, 47. ],\n",
       "        [27. , 47.2],\n",
       "        [27.8, 48. ],\n",
       "        [27.8, 49. ],\n",
       "        [27.8, 50. ],\n",
       "        [27.8, 51. ],\n",
       "        [27. , 51.8],\n",
       "        [26.8, 52. ],\n",
       "        [26. , 52.8],\n",
       "        [25.8, 53. ],\n",
       "        [26. , 53.2],\n",
       "        [27. , 53.2],\n",
       "        [27.8, 54. ],\n",
       "        [28. , 54.2],\n",
       "        [29. , 54.2],\n",
       "        [30. , 54.2],\n",
       "        [30.8, 55. ],\n",
       "        [31. , 55.2],\n",
       "        [32. , 55.2],\n",
       "        [33. , 55.2],\n",
       "        [33.8, 56. ],\n",
       "        [34. , 56.2],\n",
       "        [34.8, 57. ],\n",
       "        [35. , 57.2],\n",
       "        [35.8, 58. ],\n",
       "        [36. , 58.2],\n",
       "        [37. , 58.2],\n",
       "        [37.8, 59. ],\n",
       "        [38. , 59.2],\n",
       "        [38.8, 60. ],\n",
       "        [39. , 60.2],\n",
       "        [40. , 60.2],\n",
       "        [40.8, 61. ],\n",
       "        [41. , 61.2],\n",
       "        [41.8, 62. ],\n",
       "        [42. , 62.2],\n",
       "        [42.2, 62. ],\n",
       "        [43. , 61.2],\n",
       "        [44. , 61.2],\n",
       "        [45. , 61.2],\n",
       "        [45.8, 62. ],\n",
       "        [46. , 62.2],\n",
       "        [46.8, 63. ],\n",
       "        [47. , 63.2],\n",
       "        [47.8, 64. ],\n",
       "        [48. , 64.2],\n",
       "        [49. , 64.2],\n",
       "        [50. , 64.2],\n",
       "        [51. , 64.2],\n",
       "        [52. , 64.2],\n",
       "        [53. , 64.2],\n",
       "        [54. , 64.2],\n",
       "        [55. , 64.2],\n",
       "        [56. , 64.2],\n",
       "        [57. , 64.2],\n",
       "        [58. , 64.2],\n",
       "        [58.2, 64. ],\n",
       "        [58. , 63.8],\n",
       "        [57. , 63.8],\n",
       "        [56. , 63.8],\n",
       "        [55. , 63.8],\n",
       "        [54. , 63.8],\n",
       "        [53. , 63.8],\n",
       "        [52. , 63.8],\n",
       "        [51. , 63.8],\n",
       "        [50.2, 63. ],\n",
       "        [50. , 62.8],\n",
       "        [49.2, 62. ],\n",
       "        [49. , 61.8],\n",
       "        [48.2, 61. ],\n",
       "        [48. , 60.8],\n",
       "        [47.2, 60. ],\n",
       "        [47.2, 59. ],\n",
       "        [47.2, 58. ],\n",
       "        [47. , 57.8],\n",
       "        [46.2, 57. ],\n",
       "        [46.2, 56. ],\n",
       "        [46.2, 55. ],\n",
       "        [46. , 54.8],\n",
       "        [45. , 54.8],\n",
       "        [44. , 54.8],\n",
       "        [43.2, 54. ],\n",
       "        [43. , 53.8],\n",
       "        [42.2, 53. ],\n",
       "        [42. , 52.8],\n",
       "        [41.2, 52. ],\n",
       "        [41.2, 51. ],\n",
       "        [42. , 50.2],\n",
       "        [42.2, 50. ],\n",
       "        [43. , 49.2],\n",
       "        [43.2, 49. ],\n",
       "        [44. , 48.2],\n",
       "        [45. , 48.2],\n",
       "        [45.2, 48. ],\n",
       "        [46. , 47.2],\n",
       "        [47. , 47.2],\n",
       "        [48. , 47.2],\n",
       "        [48.8, 48. ],\n",
       "        [49. , 48.2],\n",
       "        [49.8, 49. ],\n",
       "        [50. , 49.2],\n",
       "        [50.8, 50. ],\n",
       "        [51. , 50.2],\n",
       "        [51.2, 50. ],\n",
       "        [52. , 49.2],\n",
       "        [52.2, 49. ],\n",
       "        [53. , 48.2],\n",
       "        [53.2, 48. ],\n",
       "        [54. , 47.2],\n",
       "        [55. , 47.2],\n",
       "        [56. , 47.2],\n",
       "        [57. , 47.2],\n",
       "        [58. , 47.2],\n",
       "        [58.8, 48. ],\n",
       "        [59. , 48.2],\n",
       "        [59.8, 49. ],\n",
       "        [60. , 49.2],\n",
       "        [60.8, 50. ],\n",
       "        [60.8, 51. ],\n",
       "        [60.8, 52. ],\n",
       "        [60.8, 53. ],\n",
       "        [60.8, 54. ],\n",
       "        [61. , 54.2],\n",
       "        [61.2, 54. ],\n",
       "        [61.2, 53. ],\n",
       "        [62. , 52.2],\n",
       "        [62.2, 52. ],\n",
       "        [63. , 51.2],\n",
       "        [63.2, 51. ],\n",
       "        [64. , 50.2],\n",
       "        [64.2, 50. ],\n",
       "        [65. , 49.2],\n",
       "        [65.2, 49. ],\n",
       "        [66. , 48.2],\n",
       "        [66.2, 48. ],\n",
       "        [67. , 47.2],\n",
       "        [68. , 47.2],\n",
       "        [69. , 47.2],\n",
       "        [70. , 47.2],\n",
       "        [71. , 47.2],\n",
       "        [72. , 47.2],\n",
       "        [73. , 47.2],\n",
       "        [74. , 47.2],\n",
       "        [74.2, 47. ],\n",
       "        [75. , 46.2],\n",
       "        [75.2, 46. ],\n",
       "        [76. , 45.2],\n",
       "        [76.2, 45. ],\n",
       "        [77. , 44.2],\n",
       "        [77.2, 44. ],\n",
       "        [78. , 43.2],\n",
       "        [78.2, 43. ],\n",
       "        [79. , 42.2],\n",
       "        [80. , 42.2],\n",
       "        [81. , 42.2],\n",
       "        [81.8, 43. ],\n",
       "        [82. , 43.2],\n",
       "        [83. , 43.2],\n",
       "        [83.2, 43. ]]), array([[22.2, 32. ],\n",
       "        [22. , 31.8],\n",
       "        [21.8, 32. ],\n",
       "        [22. , 32.2],\n",
       "        [22.2, 32. ]]), array([[68.2, 64. ],\n",
       "        [68.2, 63. ],\n",
       "        [68.2, 62. ],\n",
       "        [68. , 61.8],\n",
       "        [67.8, 62. ],\n",
       "        [67. , 62.8],\n",
       "        [66.8, 63. ],\n",
       "        [66. , 63.8],\n",
       "        [65. , 63.8],\n",
       "        [64. , 63.8],\n",
       "        [63. , 63.8],\n",
       "        [62. , 63.8],\n",
       "        [61.8, 64. ],\n",
       "        [62. , 64.2],\n",
       "        [63. , 64.2],\n",
       "        [64. , 64.2],\n",
       "        [65. , 64.2],\n",
       "        [66. , 64.2],\n",
       "        [67. , 64.2],\n",
       "        [68. , 64.2],\n",
       "        [68.2, 64. ]]), array([[69.2, 61. ],\n",
       "        [69. , 60.8],\n",
       "        [68.8, 61. ],\n",
       "        [69. , 61.2],\n",
       "        [69.2, 61. ]]), array([[76.2, 57. ],\n",
       "        [76. , 56.8],\n",
       "        [75.8, 57. ],\n",
       "        [76. , 57.2],\n",
       "        [76.2, 57. ]]), array([[83.2, 50. ],\n",
       "        [83. , 49.8],\n",
       "        [82. , 49.8],\n",
       "        [81.8, 50. ],\n",
       "        [82. , 50.2],\n",
       "        [83. , 50.2],\n",
       "        [83.2, 50. ]])]"
      ]
     },
     "execution_count": 130,
     "metadata": {},
     "output_type": "execute_result"
    }
   ],
   "source": [
    "measure.find_contours(ndi.morphology.binary_closing(img[..., i] > num, structure=struct).astype(img.dtype), .8)"
   ]
  },
  {
   "cell_type": "code",
   "execution_count": null,
   "metadata": {},
   "outputs": [],
   "source": [
    "def set_to_pixel2(tumor_img, mor_type, num_slice):\n",
    "    pixel_t = np.zeros((mor_type.shape[0], 1))\n",
    "    for i in range(mor_type.shape[0]):\n",
    "        pixel_t[i] = tumor_img[mor_type[i, 0],mor_type[i, 1] , num_slice]\n",
    "    return pixel_t\n",
    "\n",
    "def set_to_pixel1(tumor_img, mor_type, num_slice):\n",
    "    pixel_t = np.zeros((mor_type.shape[0], 1))\n",
    "    for i in range(mor_type.shape[0]):\n",
    "        pixel_t[i] = tumor_img[mor_type[i, 0], num_slice, mor_type[i, 1] ]\n",
    "    return pixel_t\n",
    "\n",
    "def set_to_pixel0(tumor_img, mor_type, num_slice):\n",
    "    pixel_t = np.zeros((mor_type.shape[0], 1))\n",
    "    for i in range(mor_type.shape[0]):\n",
    "        pixel_t[i] = tumor_img[ num_slice, mor_type[i, 0],mor_type[i, 1] ]\n",
    "    return pixel_t\n",
    "\n"
   ]
  },
  {
   "cell_type": "code",
   "execution_count": 113,
   "metadata": {},
   "outputs": [],
   "source": [
    "# for i in range(img.shape[2]):\n",
    "\n",
    "#     num_slice = i\n",
    "#     label[..., i] = ndimage.binary_dilation(label[..., i]).astype(label[..., i].dtype)\n",
    "#     img[..., i] = masking(label[..., i], img[..., i])\n",
    "\n",
    "for n, num in enumerate(nums):\n",
    "\n",
    "    o1 = measure.find_contours(ndi.morphology.binary_closing(img[..., i] > num, structure=struct).astype(img.dtype), .8)\n",
    "    if(isZero(o1)):\n",
    "\n",
    "        contours[idx, 2, i, n, :] = np.zeros((100,))\n",
    "\n",
    "    else:\n",
    "        closing = cont(ndi.morphology.binary_closing(img[..., i] > num, structure=struct).astype(img[..., i].dtype))\n",
    "        tmp_vector = set_to_pixel2(img, closing.astype(np.int), i)\n",
    "        contours[idx, 2, i, n, :] = set_to_100(tmp_vector).reshape(100)\n"
   ]
  },
  {
   "cell_type": "code",
   "execution_count": 116,
   "metadata": {},
   "outputs": [
    {
     "data": {
      "text/plain": [
       "array([ 98., 116.,  95., 104.,   0.,  50.,  76.,  76.,  93.,  63.,  73.,\n",
       "        63.,  82.,  78.,  65.,  94.,   0.,  59.,  64.,  68.,  75.,  87.,\n",
       "        69.,   0.,  46.,  93.,  73.,  67.,  86.,  76.,   0.,   0.,   0.,\n",
       "        70.,  71.,  68.,  60.,  68.,  74.,  74.,  56.,  85.,  59.,  95.,\n",
       "        87.,  86.,  58.,  81.,  76.,  62.,  76.,  75.,  62.,  61.,  41.,\n",
       "        64.,  62.,  72.,  76.,  96.,  96.,  53.,  89.,  84.,  61.,  70.,\n",
       "        78.,  58.,  65.,  95.,  94.,  73.,  72.,  49.,  54.,  61.,  52.,\n",
       "        78.,  64.,  63.,  81.,  55.,  67.,  72.,  80.,  70.,  51.,  57.,\n",
       "        82.,  66.,  83.,  82.,  55.,  72.,  62.,  94.,  96.,  87.,  94.,\n",
       "        86.])"
      ]
     },
     "execution_count": 116,
     "metadata": {},
     "output_type": "execute_result"
    }
   ],
   "source": [
    "contours[idx, 2, i, 2, :]"
   ]
  },
  {
   "cell_type": "code",
   "execution_count": 50,
   "metadata": {},
   "outputs": [
    {
     "data": {
      "text/plain": [
       "[]"
      ]
     },
     "execution_count": 50,
     "metadata": {},
     "output_type": "execute_result"
    }
   ],
   "source": [
    "measure.find_contours(ndi.morphology.binary_closing(img[..., i] > 10, structure=struct).astype(img[..., i].dtype), .8)"
   ]
  },
  {
   "cell_type": "code",
   "execution_count": 104,
   "metadata": {},
   "outputs": [
    {
     "data": {
      "text/plain": [
       "<matplotlib.image.AxesImage at 0x7f0246fe27b8>"
      ]
     },
     "execution_count": 104,
     "metadata": {},
     "output_type": "execute_result"
    },
    {
     "data": {
      "image/png": "[encoded data removed]",
      "text/plain": [
       "<Figure size 432x288 with 1 Axes>"
      ]
     },
     "metadata": {
      "needs_background": "light"
     },
     "output_type": "display_data"
    }
   ],
   "source": [
    "plt.imshow(img[..., 3])"
   ]
  },
  {
   "cell_type": "code",
   "execution_count": null,
   "metadata": {},
   "outputs": [],
   "source": []
  },
  {
   "cell_type": "code",
   "execution_count": null,
   "metadata": {},
   "outputs": [],
   "source": []
  },
  {
   "cell_type": "code",
   "execution_count": null,
   "metadata": {},
   "outputs": [],
   "source": []
  },
  {
   "cell_type": "code",
   "execution_count": null,
   "metadata": {},
   "outputs": [],
   "source": []
  },
  {
   "cell_type": "code",
   "execution_count": null,
   "metadata": {},
   "outputs": [],
   "source": []
  },
  {
   "cell_type": "code",
   "execution_count": null,
   "metadata": {},
   "outputs": [],
   "source": []
  },
  {
   "cell_type": "code",
   "execution_count": null,
   "metadata": {},
   "outputs": [],
   "source": []
  },
  {
   "cell_type": "code",
   "execution_count": null,
   "metadata": {},
   "outputs": [],
   "source": []
  },
  {
   "cell_type": "code",
   "execution_count": null,
   "metadata": {},
   "outputs": [],
   "source": []
  },
  {
   "cell_type": "code",
   "execution_count": null,
   "metadata": {},
   "outputs": [],
   "source": [
    "#New end"
   ]
  },
  {
   "cell_type": "code",
   "execution_count": 193,
   "metadata": {},
   "outputs": [],
   "source": [
    "img = load_image(os.path.join(image_path, \"IM_\"+resec[1]+\".nii.gz\"))\n",
    "label = load_image(os.path.join(label_path, \"LB_\"+resec[1]+\".nii.gz\"))"
   ]
  },
  {
   "cell_type": "code",
   "execution_count": 94,
   "metadata": {},
   "outputs": [
    {
     "data": {
      "text/plain": [
       "(512, 512, 58)"
      ]
     },
     "execution_count": 94,
     "metadata": {},
     "output_type": "execute_result"
    }
   ],
   "source": [
    "img.shape"
   ]
  },
  {
   "cell_type": "code",
   "execution_count": 21,
   "metadata": {},
   "outputs": [],
   "source": [
    "position = [[], [], []]\n",
    "for name in resec:\n",
    "    label = load_image(os.path.join(label_path, \"LB_\"+name+\".nii.gz\"))\n",
    "    position[0].append(np.unique(np.where(label != 0)[0]))\n",
    "    position[1].append(np.unique(np.where(label != 0)[1]))\n",
    "    position[2].append(np.unique(np.where(label != 0)[2]))\n",
    "    \n",
    "    del label"
   ]
  },
  {
   "cell_type": "code",
   "execution_count": 28,
   "metadata": {},
   "outputs": [],
   "source": [
    "position2 = []\n",
    "for i in range(len(position[2])):\n",
    "    position2.append(position[2][i].shape[0])"
   ]
  },
  {
   "cell_type": "code",
   "execution_count": 64,
   "metadata": {},
   "outputs": [
    {
     "data": {
      "text/plain": [
       "<matplotlib.collections.PathCollection at 0x7fceac726c18>"
      ]
     },
     "execution_count": 64,
     "metadata": {},
     "output_type": "execute_result"
    },
    {
     "data": {
      "image/png": "[encoded data removed]",
      "text/plain": [
       "<Figure size 432x288 with 1 Axes>"
      ]
     },
     "metadata": {
      "needs_background": "light"
     },
     "output_type": "display_data"
    }
   ],
   "source": [
    "plt.ylabel(\"index\")\n",
    "plt.xlabel(\"z-axis range\")\n",
    "plt.scatter(list(range(len(position2))), position2)"
   ]
  },
  {
   "cell_type": "code",
   "execution_count": 61,
   "metadata": {},
   "outputs": [],
   "source": [
    "resec_name_for_large = []#>50\n",
    "resec_name_for_small = []#<=50\n",
    "\n",
    "for idx, name in enumerate(resec):\n",
    "    if position2[idx] > 110:\n",
    "        resec_name_for_large.append(name)\n",
    "    else:\n",
    "        resec_name_for_small.append(name)"
   ]
  },
  {
   "cell_type": "code",
   "execution_count": 45,
   "metadata": {},
   "outputs": [
    {
     "data": {
      "text/plain": [
       "patient_id                     0\n",
       "case_id                    PC614\n",
       "exam_date            2.01408e+07\n",
       "type                       tumor\n",
       "cut                        thick\n",
       "200_list                     NaN\n",
       "diff_patient_list           True\n",
       "add_date                20190618\n",
       "resection                      0\n",
       "stage                        IIA\n",
       "size                           2\n",
       "Name: 353, dtype: object"
      ]
     },
     "execution_count": 45,
     "metadata": {},
     "output_type": "execute_result"
    }
   ],
   "source": [
    "info.iloc[np.where(info.case_id == resec[0])[0][0]].resection"
   ]
  },
  {
   "cell_type": "code",
   "execution_count": null,
   "metadata": {},
   "outputs": [],
   "source": []
  },
  {
   "cell_type": "code",
   "execution_count": 62,
   "metadata": {},
   "outputs": [],
   "source": [
    "for name in resec_name_for_large:\n",
    "    #print(name)\n",
    "    #print(info.iloc[np.where(info.case_id == name)[0][0]].resection)\n",
    "    if info.iloc[np.where(info.case_id == name)[0][0]].resection != 0:\n",
    "        print(name)\n"
   ]
  },
  {
   "cell_type": "code",
   "execution_count": 68,
   "metadata": {},
   "outputs": [],
   "source": [
    "# for name in resec_name_for_small:\n",
    "#     #print(name)\n",
    "#     #print(info.iloc[np.where(info.case_id == name)[0][0]].resection)\n",
    "#     if info.iloc[np.where(info.case_id == name)[0][0]].resection == 0:\n",
    "#         print(name)\n"
   ]
  },
  {
   "cell_type": "code",
   "execution_count": 96,
   "metadata": {},
   "outputs": [
    {
     "data": {
      "text/plain": [
       "(512, 512, 58)"
      ]
     },
     "execution_count": 96,
     "metadata": {},
     "output_type": "execute_result"
    }
   ],
   "source": [
    "img.shape"
   ]
  },
  {
   "cell_type": "code",
   "execution_count": 194,
   "metadata": {},
   "outputs": [],
   "source": [
    "from scipy import ndimage\n",
    "img = extract_cube(tumor_shape[1], img)\n",
    "label = extract_cube(tumor_shape[1], label)\n",
    "for i in range(img.shape[2]):\n",
    "    label[..., i] = ndimage.binary_dilation(label[..., i]).astype(label[..., i].dtype)\n",
    "    img[..., i] = masking(label[..., i], img[..., i])\n",
    "\n",
    "\n"
   ]
  },
  {
   "cell_type": "code",
   "execution_count": 157,
   "metadata": {},
   "outputs": [
    {
     "data": {
      "text/plain": [
       "array([0, 1, 2, 3, 4, 5, 6, 7])"
      ]
     },
     "execution_count": 157,
     "metadata": {},
     "output_type": "execute_result"
    }
   ],
   "source": [
    "np.unique(np.where(tumor_img != 0)[2])"
   ]
  },
  {
   "cell_type": "code",
   "execution_count": 159,
   "metadata": {},
   "outputs": [
    {
     "data": {
      "text/plain": [
       "<matplotlib.image.AxesImage at 0x7fce6c92c9b0>"
      ]
     },
     "execution_count": 159,
     "metadata": {},
     "output_type": "execute_result"
    },
    {
     "data": {
      "image/png": "[encoded data removed]",
      "text/plain": [
       "<Figure size 432x288 with 1 Axes>"
      ]
     },
     "metadata": {
      "needs_background": "light"
     },
     "output_type": "display_data"
    }
   ],
   "source": [
    "plt.imshow(tumor_img[..., 6])"
   ]
  },
  {
   "cell_type": "code",
   "execution_count": 121,
   "metadata": {},
   "outputs": [
    {
     "data": {
      "text/plain": [
       "(210, 220)"
      ]
     },
     "execution_count": 121,
     "metadata": {},
     "output_type": "execute_result"
    }
   ],
   "source": [
    "img.shape"
   ]
  },
  {
   "cell_type": "code",
   "execution_count": 123,
   "metadata": {},
   "outputs": [
    {
     "data": {
      "image/png": "[encoded data removed]",
      "text/plain": [
       "<Figure size 432x288 with 1 Axes>"
      ]
     },
     "metadata": {
      "needs_background": "light"
     },
     "output_type": "display_data"
    },
    {
     "data": {
      "image/png": "[encoded data removed]",
      "text/plain": [
       "<Figure size 432x288 with 1 Axes>"
      ]
     },
     "metadata": {
      "needs_background": "light"
     },
     "output_type": "display_data"
    },
    {
     "data": {
      "image/png": "[encoded data removed]",
      "text/plain": [
       "<Figure size 432x288 with 1 Axes>"
      ]
     },
     "metadata": {
      "needs_background": "light"
     },
     "output_type": "display_data"
    },
    {
     "data": {
      "image/png": "[encoded data removed]",
      "text/plain": [
       "<Figure size 432x288 with 1 Axes>"
      ]
     },
     "metadata": {
      "needs_background": "light"
     },
     "output_type": "display_data"
    },
    {
     "data": {
      "image/png": "[encoded data removed]",
      "text/plain": [
       "<Figure size 432x288 with 1 Axes>"
      ]
     },
     "metadata": {
      "needs_background": "light"
     },
     "output_type": "display_data"
    },
    {
     "data": {
      "image/png": "[encoded data removed]",
      "text/plain": [
       "<Figure size 432x288 with 1 Axes>"
      ]
     },
     "metadata": {
      "needs_background": "light"
     },
     "output_type": "display_data"
    },
    {
     "data": {
      "image/png": "[encoded data removed]",
      "text/plain": [
       "<Figure size 432x288 with 1 Axes>"
      ]
     },
     "metadata": {
      "needs_background": "light"
     },
     "output_type": "display_data"
    },
    {
     "data": {
      "image/png": "[encoded data removed]",
      "text/plain": [
       "<Figure size 432x288 with 1 Axes>"
      ]
     },
     "metadata": {
      "needs_background": "light"
     },
     "output_type": "display_data"
    },
    {
     "data": {
      "image/png": "[encoded data removed]",
      "text/plain": [
       "<Figure size 432x288 with 1 Axes>"
      ]
     },
     "metadata": {
      "needs_background": "light"
     },
     "output_type": "display_data"
    },
    {
     "data": {
      "image/png": "[encoded data removed]",
      "text/plain": [
       "<Figure size 432x288 with 1 Axes>"
      ]
     },
     "metadata": {
      "needs_background": "light"
     },
     "output_type": "display_data"
    },
    {
     "data": {
      "image/png": "[encoded data removed]",
      "text/plain": [
       "<Figure size 432x288 with 1 Axes>"
      ]
     },
     "metadata": {
      "needs_background": "light"
     },
     "output_type": "display_data"
    },
    {
     "data": {
      "image/png": "[encoded data removed]",
      "text/plain": [
       "<Figure size 432x288 with 1 Axes>"
      ]
     },
     "metadata": {
      "needs_background": "light"
     },
     "output_type": "display_data"
    },
    {
     "data": {
      "image/png": "[encoded data removed]",
      "text/plain": [
       "<Figure size 432x288 with 1 Axes>"
      ]
     },
     "metadata": {
      "needs_background": "light"
     },
     "output_type": "display_data"
    },
    {
     "data": {
      "image/png": "[encoded data removed]",
      "text/plain": [
       "<Figure size 432x288 with 1 Axes>"
      ]
     },
     "metadata": {
      "needs_background": "light"
     },
     "output_type": "display_data"
    },
    {
     "data": {
      "image/png": "[encoded data removed]",
      "text/plain": [
       "<Figure size 432x288 with 1 Axes>"
      ]
     },
     "metadata": {
      "needs_background": "light"
     },
     "output_type": "display_data"
    },
    {
     "data": {
      "image/png": "[encoded data removed]",
      "text/plain": [
       "<Figure size 432x288 with 1 Axes>"
      ]
     },
     "metadata": {
      "needs_background": "light"
     },
     "output_type": "display_data"
    },
    {
     "data": {
      "image/png": "[encoded data removed]",
      "text/plain": [
       "<Figure size 432x288 with 1 Axes>"
      ]
     },
     "metadata": {
      "needs_background": "light"
     },
     "output_type": "display_data"
    },
    {
     "data": {
      "image/png": "[encoded data removed]",
      "text/plain": [
       "<Figure size 432x288 with 1 Axes>"
      ]
     },
     "metadata": {
      "needs_background": "light"
     },
     "output_type": "display_data"
    },
    {
     "data": {
      "image/png": "[encoded data removed]",
      "text/plain": [
       "<Figure size 432x288 with 1 Axes>"
      ]
     },
     "metadata": {
      "needs_background": "light"
     },
     "output_type": "display_data"
    },
    {
     "data": {
      "image/png": "[encoded data removed]",
      "text/plain": [
       "<Figure size 432x288 with 1 Axes>"
      ]
     },
     "metadata": {
      "needs_background": "light"
     },
     "output_type": "display_data"
    },
    {
     "data": {
      "image/png": "[encoded data removed]",
      "text/plain": [
       "<Figure size 432x288 with 1 Axes>"
      ]
     },
     "metadata": {
      "needs_background": "light"
     },
     "output_type": "display_data"
    },
    {
     "data": {
      "image/png": "[encoded data removed]",
      "text/plain": [
       "<Figure size 432x288 with 1 Axes>"
      ]
     },
     "metadata": {
      "needs_background": "light"
     },
     "output_type": "display_data"
    },
    {
     "data": {
      "image/png": "[encoded data removed]",
      "text/plain": [
       "<Figure size 432x288 with 1 Axes>"
      ]
     },
     "metadata": {
      "needs_background": "light"
     },
     "output_type": "display_data"
    },
    {
     "data": {
      "image/png": "[encoded data removed]",
      "text/plain": [
       "<Figure size 432x288 with 1 Axes>"
      ]
     },
     "metadata": {
      "needs_background": "light"
     },
     "output_type": "display_data"
    },
    {
     "data": {
      "image/png": "[encoded data removed]",
      "text/plain": [
       "<Figure size 432x288 with 1 Axes>"
      ]
     },
     "metadata": {
      "needs_background": "light"
     },
     "output_type": "display_data"
    },
    {
     "data": {
      "image/png": "[encoded data removed]",
      "text/plain": [
       "<Figure size 432x288 with 1 Axes>"
      ]
     },
     "metadata": {
      "needs_background": "light"
     },
     "output_type": "display_data"
    },
    {
     "data": {
      "image/png": "[encoded data removed]",
      "text/plain": [
       "<Figure size 432x288 with 1 Axes>"
      ]
     },
     "metadata": {
      "needs_background": "light"
     },
     "output_type": "display_data"
    },
    {
     "data": {
      "image/png": "[encoded data removed]",
      "text/plain": [
       "<Figure size 432x288 with 1 Axes>"
      ]
     },
     "metadata": {
      "needs_background": "light"
     },
     "output_type": "display_data"
    },
    {
     "data": {
      "image/png": "[encoded data removed]",
      "text/plain": [
       "<Figure size 432x288 with 1 Axes>"
      ]
     },
     "metadata": {
      "needs_background": "light"
     },
     "output_type": "display_data"
    },
    {
     "data": {
      "image/png": "[encoded data removed]",
      "text/plain": [
       "<Figure size 432x288 with 1 Axes>"
      ]
     },
     "metadata": {
      "needs_background": "light"
     },
     "output_type": "display_data"
    },
    {
     "data": {
      "image/png": "[encoded data removed]",
      "text/plain": [
       "<Figure size 432x288 with 1 Axes>"
      ]
     },
     "metadata": {
      "needs_background": "light"
     },
     "output_type": "display_data"
    },
    {
     "data": {
      "image/png": "[encoded data removed]",
      "text/plain": [
       "<Figure size 432x288 with 1 Axes>"
      ]
     },
     "metadata": {
      "needs_background": "light"
     },
     "output_type": "display_data"
    },
    {
     "data": {
      "image/png": "[encoded data removed]",
      "text/plain": [
       "<Figure size 432x288 with 1 Axes>"
      ]
     },
     "metadata": {
      "needs_background": "light"
     },
     "output_type": "display_data"
    },
    {
     "data": {
      "image/png": "[encoded data removed]",
      "text/plain": [
       "<Figure size 432x288 with 1 Axes>"
      ]
     },
     "metadata": {
      "needs_background": "light"
     },
     "output_type": "display_data"
    },
    {
     "data": {
      "image/png": "[encoded data removed]",
      "text/plain": [
       "<Figure size 432x288 with 1 Axes>"
      ]
     },
     "metadata": {
      "needs_background": "light"
     },
     "output_type": "display_data"
    },
    {
     "data": {
      "image/png": "[encoded data removed]",
      "text/plain": [
       "<Figure size 432x288 with 1 Axes>"
      ]
     },
     "metadata": {
      "needs_background": "light"
     },
     "output_type": "display_data"
    },
    {
     "data": {
      "image/png": "[encoded data removed]",
      "text/plain": [
       "<Figure size 432x288 with 1 Axes>"
      ]
     },
     "metadata": {
      "needs_background": "light"
     },
     "output_type": "display_data"
    },
    {
     "data": {
      "image/png": "[encoded data removed]",
      "text/plain": [
       "<Figure size 432x288 with 1 Axes>"
      ]
     },
     "metadata": {
      "needs_background": "light"
     },
     "output_type": "display_data"
    },
    {
     "data": {
      "image/png": "[encoded data removed]",
      "text/plain": [
       "<Figure size 432x288 with 1 Axes>"
      ]
     },
     "metadata": {
      "needs_background": "light"
     },
     "output_type": "display_data"
    },
    {
     "data": {
      "image/png": "[encoded data removed]",
      "text/plain": [
       "<Figure size 432x288 with 1 Axes>"
      ]
     },
     "metadata": {
      "needs_background": "light"
     },
     "output_type": "display_data"
    },
    {
     "data": {
      "image/png": "[encoded data removed]",
      "text/plain": [
       "<Figure size 432x288 with 1 Axes>"
      ]
     },
     "metadata": {
      "needs_background": "light"
     },
     "output_type": "display_data"
    },
    {
     "data": {
      "image/png": "[encoded data removed]",
      "text/plain": [
       "<Figure size 432x288 with 1 Axes>"
      ]
     },
     "metadata": {
      "needs_background": "light"
     },
     "output_type": "display_data"
    },
    {
     "data": {
      "image/png": "[encoded data removed]",
      "text/plain": [
       "<Figure size 432x288 with 1 Axes>"
      ]
     },
     "metadata": {
      "needs_background": "light"
     },
     "output_type": "display_data"
    },
    {
     "data": {
      "image/png": "[encoded data removed]",
      "text/plain": [
       "<Figure size 432x288 with 1 Axes>"
      ]
     },
     "metadata": {
      "needs_background": "light"
     },
     "output_type": "display_data"
    },
    {
     "data": {
      "image/png": "[encoded data removed]",
      "text/plain": [
       "<Figure size 432x288 with 1 Axes>"
      ]
     },
     "metadata": {
      "needs_background": "light"
     },
     "output_type": "display_data"
    },
    {
     "data": {
      "image/png": "[encoded data removed]",
      "text/plain": [
       "<Figure size 432x288 with 1 Axes>"
      ]
     },
     "metadata": {
      "needs_background": "light"
     },
     "output_type": "display_data"
    },
    {
     "data": {
      "image/png": "[encoded data removed]",
      "text/plain": [
       "<Figure size 432x288 with 1 Axes>"
      ]
     },
     "metadata": {
      "needs_background": "light"
     },
     "output_type": "display_data"
    },
    {
     "data": {
      "image/png": "[encoded data removed]",
      "text/plain": [
       "<Figure size 432x288 with 1 Axes>"
      ]
     },
     "metadata": {
      "needs_background": "light"
     },
     "output_type": "display_data"
    },
    {
     "data": {
      "image/png": "[encoded data removed]",
      "text/plain": [
       "<Figure size 432x288 with 1 Axes>"
      ]
     },
     "metadata": {
      "needs_background": "light"
     },
     "output_type": "display_data"
    },
    {
     "data": {
      "image/png": "[encoded data removed]",
      "text/plain": [
       "<Figure size 432x288 with 1 Axes>"
      ]
     },
     "metadata": {
      "needs_background": "light"
     },
     "output_type": "display_data"
    },
    {
     "data": {
      "image/png": "[encoded data removed]",
      "text/plain": [
       "<Figure size 432x288 with 1 Axes>"
      ]
     },
     "metadata": {
      "needs_background": "light"
     },
     "output_type": "display_data"
    },
    {
     "data": {
      "image/png": "[encoded data removed]",
      "text/plain": [
       "<Figure size 432x288 with 1 Axes>"
      ]
     },
     "metadata": {
      "needs_background": "light"
     },
     "output_type": "display_data"
    },
    {
     "data": {
      "image/png": "[encoded data removed]",
      "text/plain": [
       "<Figure size 432x288 with 1 Axes>"
      ]
     },
     "metadata": {
      "needs_background": "light"
     },
     "output_type": "display_data"
    },
    {
     "data": {
      "image/png": "[encoded data removed]",
      "text/plain": [
       "<Figure size 432x288 with 1 Axes>"
      ]
     },
     "metadata": {
      "needs_background": "light"
     },
     "output_type": "display_data"
    },
    {
     "data": {
      "image/png": "[encoded data removed]",
      "text/plain": [
       "<Figure size 432x288 with 1 Axes>"
      ]
     },
     "metadata": {
      "needs_background": "light"
     },
     "output_type": "display_data"
    },
    {
     "data": {
      "image/png": "[encoded data removed]",
      "text/plain": [
       "<Figure size 432x288 with 1 Axes>"
      ]
     },
     "metadata": {
      "needs_background": "light"
     },
     "output_type": "display_data"
    },
    {
     "data": {
      "image/png": "[encoded data removed]",
      "text/plain": [
       "<Figure size 432x288 with 1 Axes>"
      ]
     },
     "metadata": {
      "needs_background": "light"
     },
     "output_type": "display_data"
    },
    {
     "data": {
      "image/png": "[encoded data removed]",
      "text/plain": [
       "<Figure size 432x288 with 1 Axes>"
      ]
     },
     "metadata": {
      "needs_background": "light"
     },
     "output_type": "display_data"
    }
   ],
   "source": [
    "for i in range(img.shape[2]):\n",
    "    plt.imshow(label[..., i])\n",
    "    plt.show()"
   ]
  },
  {
   "cell_type": "code",
   "execution_count": null,
   "metadata": {},
   "outputs": [],
   "source": []
  },
  {
   "cell_type": "code",
   "execution_count": 67,
   "metadata": {},
   "outputs": [
    {
     "data": {
      "text/plain": [
       "array([72, 72, 72, ..., 58, 58, 58])"
      ]
     },
     "execution_count": 67,
     "metadata": {},
     "output_type": "execute_result"
    }
   ],
   "source": [
    "np.where(label != 0)[2]"
   ]
  },
  {
   "cell_type": "code",
   "execution_count": 6,
   "metadata": {},
   "outputs": [
    {
     "ename": "NameError",
     "evalue": "name 'tumor_img' is not defined",
     "output_type": "error",
     "traceback": [
      "\u001b[0;31m---------------------------------------------------------------------------\u001b[0m",
      "\u001b[0;31mNameError\u001b[0m                                 Traceback (most recent call last)",
      "\u001b[0;32m<ipython-input-6-067ae1f42f63>\u001b[0m in \u001b[0;36m<module>\u001b[0;34m\u001b[0m\n\u001b[1;32m      3\u001b[0m \u001b[0;32mimport\u001b[0m \u001b[0mscipy\u001b[0m\u001b[0;34m.\u001b[0m\u001b[0mndimage\u001b[0m \u001b[0;32mas\u001b[0m \u001b[0mndi\u001b[0m            \u001b[0;31m# to determine shape centrality\u001b[0m\u001b[0;34m\u001b[0m\u001b[0;34m\u001b[0m\u001b[0m\n\u001b[1;32m      4\u001b[0m \u001b[0;32mfrom\u001b[0m \u001b[0mskimage\u001b[0m\u001b[0;34m.\u001b[0m\u001b[0mfeature\u001b[0m \u001b[0;32mimport\u001b[0m \u001b[0mcorner_harris\u001b[0m\u001b[0;34m,\u001b[0m \u001b[0mcorner_subpix\u001b[0m\u001b[0;34m,\u001b[0m \u001b[0mcorner_peaks\u001b[0m\u001b[0;34m,\u001b[0m \u001b[0mCENSURE\u001b[0m\u001b[0;34m\u001b[0m\u001b[0;34m\u001b[0m\u001b[0m\n\u001b[0;32m----> 5\u001b[0;31m \u001b[0mimg\u001b[0m \u001b[0;34m=\u001b[0m \u001b[0mtumor_img\u001b[0m\u001b[0;34m[\u001b[0m\u001b[0;34m...\u001b[0m\u001b[0;34m,\u001b[0m \u001b[0;36m50\u001b[0m\u001b[0;34m]\u001b[0m\u001b[0;34m\u001b[0m\u001b[0;34m\u001b[0m\u001b[0m\n\u001b[0m\u001b[1;32m      6\u001b[0m \u001b[0mdetector\u001b[0m \u001b[0;34m=\u001b[0m \u001b[0mCENSURE\u001b[0m\u001b[0;34m(\u001b[0m\u001b[0;34m)\u001b[0m\u001b[0;34m\u001b[0m\u001b[0;34m\u001b[0m\u001b[0m\n\u001b[1;32m      7\u001b[0m \u001b[0mdetector\u001b[0m\u001b[0;34m.\u001b[0m\u001b[0mdetect\u001b[0m\u001b[0;34m(\u001b[0m\u001b[0mimg\u001b[0m\u001b[0;34m)\u001b[0m\u001b[0;34m\u001b[0m\u001b[0;34m\u001b[0m\u001b[0m\n",
      "\u001b[0;31mNameError\u001b[0m: name 'tumor_img' is not defined"
     ]
    }
   ],
   "source": [
    "\n",
    "#summarize\n",
    "from skimage import measure            # to find shape contour\n",
    "import scipy.ndimage as ndi            # to determine shape centrality\n",
    "from skimage.feature import corner_harris, corner_subpix, corner_peaks, CENSURE\n",
    "img = tumor_img[..., 50]\n",
    "detector = CENSURE()\n",
    "detector.detect(img)\n",
    "def set_to_100(vec):\n",
    "    vs = vec.shape[0]\n",
    "    if (vs < 100):\n",
    "        r = 100 - vs\n",
    "        tmp = np.zeros((r, vec.shape[1]))-1\n",
    "        vec = np.concatenate(( vec.reshape(-1, vec.shape[1]), tmp), axis = 0)\n",
    "    \n",
    "    vec = vec[tuple(list(np.round(np.linspace(1, vec.shape[0] - 1, 100)).astype(int) )), :]    \n",
    "    return vec\n",
    "#closing\n",
    "\n",
    "def isZero(vec):\n",
    "    if (vec == []):\n",
    "        return True\n",
    "    return False\n",
    "\n",
    "def cont(img):\n",
    "    return max(measure.find_contours(img, .8), key=len)\n",
    "\n",
    "# let us set the 'brush' to a 6x6 circle\n",
    "struct = [[ 0., 0., 1., 1., 0., 0.],\n",
    "          [ 0., 1., 1., 1., 1., 0.],  \n",
    "          [ 1., 1., 1., 1., 1., 1.], \n",
    "          [ 1., 1., 1., 1., 1., 1.], \n",
    "          [ 1., 1., 1., 1., 1., 1.], \n",
    "          [ 0., 1., 1., 1., 1., 0.],\n",
    "          [ 0., 0., 1., 1., 0., 0.]]\n",
    "\n",
    "\n",
    "keypoint = detector.keypoints\n",
    "scale = detector.scales\n",
    "num = 80\n",
    "#erosion = cont(ndi.morphology.binary_erosion(img > num, structure=struct).astype(img.dtype))\n",
    "closing = cont(ndi.morphology.binary_closing(img > num, structure=struct).astype(img.dtype))\n",
    "#opening = cont(ndi.morphology.binary_opening(img > num, structure=struct).astype(img.dtype))\n",
    "#dilation = cont(ndi.morphology.binary_dilation(img > num, structure=struct).astype(img.dtype))\n",
    "\n",
    "# plt.title(\"The sixth image in the cropped tile with dilation, image > 80\")\n",
    "# plt.imshow(tumor_img[..., 6].T, alpha=.2)\n",
    "# #plt.plot(erosion[::,0], erosion[::,1], c='b')\n",
    "# #plt.plot(opening[::,0], opening[::,1], c='g')\n",
    "# plt.plot(closing[::,0], closing[::,1], c='r')\n",
    "# plt.plot(dilation[::,0], dilation[::,1], c='k')"
   ]
  },
  {
   "cell_type": "code",
   "execution_count": 197,
   "metadata": {},
   "outputs": [],
   "source": [
    "o1 = measure.find_contours(ndi.morphology.binary_closing(img > num, structure=struct).astype(img.dtype), .8)"
   ]
  },
  {
   "cell_type": "code",
   "execution_count": null,
   "metadata": {},
   "outputs": [],
   "source": []
  },
  {
   "cell_type": "code",
   "execution_count": 209,
   "metadata": {},
   "outputs": [],
   "source": [
    "def set_to_pixel2(tumor_img, mor_type, num_slice):\n",
    "    pixel_t = np.zeros((mor_type.shape[0], 1))\n",
    "    for i in range(mor_type.shape[0]):\n",
    "        pixel_t[i] = tumor_img[mor_type[i, 0],mor_type[i, 1] , num_slice]\n",
    "    return pixel_t\n",
    "\n",
    "def set_to_pixel1(tumor_img, mor_type, num_slice):\n",
    "    pixel_t = np.zeros((mor_type.shape[0], 1))\n",
    "    for i in range(mor_type.shape[0]):\n",
    "        pixel_t[i] = tumor_img[mor_type[i, 0], num_slice, mor_type[i, 1] ]\n",
    "    return pixel_t\n",
    "\n",
    "def set_to_pixel0(tumor_img, mor_type, num_slice):\n",
    "    pixel_t = np.zeros((mor_type.shape[0], 1))\n",
    "    for i in range(mor_type.shape[0]):\n",
    "        pixel_t[i] = tumor_img[ num_slice, mor_type[i, 0],mor_type[i, 1] ]\n",
    "    return pixel_t\n",
    "\n",
    "\n",
    "\n",
    "# mor_type = closing.astype(np.int)\n",
    "# num_slice = 6\n",
    "# pixel_t = np.zeros((mor_type.shape[0], 1))\n",
    "\n",
    "\n",
    "\n",
    "\n",
    "# for i in range(mor_type.shape[0]):\n",
    "#     pixel_t[i] = tumor_img[mor_type[i, 0],mor_type[i, 1] , num_slice]\n",
    "# print(pixel_t)"
   ]
  },
  {
   "cell_type": "code",
   "execution_count": 203,
   "metadata": {},
   "outputs": [
    {
     "ename": "IndexError",
     "evalue": "tuple index out of range",
     "output_type": "error",
     "traceback": [
      "\u001b[0;31m---------------------------------------------------------------------------\u001b[0m",
      "\u001b[0;31mIndexError\u001b[0m                                Traceback (most recent call last)",
      "\u001b[0;32m<ipython-input-203-7a66c3b22082>\u001b[0m in \u001b[0;36m<module>\u001b[0;34m\u001b[0m\n\u001b[0;32m----> 1\u001b[0;31m \u001b[0mset_to_100\u001b[0m\u001b[0;34m(\u001b[0m\u001b[0mtumor_img\u001b[0m\u001b[0;34m[\u001b[0m\u001b[0mclosing\u001b[0m\u001b[0;34m.\u001b[0m\u001b[0mastype\u001b[0m\u001b[0;34m(\u001b[0m\u001b[0mnp\u001b[0m\u001b[0;34m.\u001b[0m\u001b[0mint\u001b[0m\u001b[0;34m)\u001b[0m\u001b[0;34m[\u001b[0m\u001b[0mi\u001b[0m\u001b[0;34m,\u001b[0m \u001b[0;36m0\u001b[0m\u001b[0;34m]\u001b[0m\u001b[0;34m,\u001b[0m\u001b[0mclosing\u001b[0m\u001b[0;34m.\u001b[0m\u001b[0mastype\u001b[0m\u001b[0;34m(\u001b[0m\u001b[0mnp\u001b[0m\u001b[0;34m.\u001b[0m\u001b[0mint\u001b[0m\u001b[0;34m)\u001b[0m\u001b[0;34m[\u001b[0m\u001b[0mi\u001b[0m\u001b[0;34m,\u001b[0m \u001b[0;36m1\u001b[0m\u001b[0;34m]\u001b[0m \u001b[0;34m]\u001b[0m\u001b[0;34m)\u001b[0m\u001b[0;34m\u001b[0m\u001b[0;34m\u001b[0m\u001b[0m\n\u001b[0m",
      "\u001b[0;32m<ipython-input-195-ad1bd7776710>\u001b[0m in \u001b[0;36mset_to_100\u001b[0;34m(vec)\u001b[0m\n\u001b[1;32m      7\u001b[0m \u001b[0mdetector\u001b[0m\u001b[0;34m.\u001b[0m\u001b[0mdetect\u001b[0m\u001b[0;34m(\u001b[0m\u001b[0mimg\u001b[0m\u001b[0;34m)\u001b[0m\u001b[0;34m\u001b[0m\u001b[0;34m\u001b[0m\u001b[0m\n\u001b[1;32m      8\u001b[0m \u001b[0;32mdef\u001b[0m \u001b[0mset_to_100\u001b[0m\u001b[0;34m(\u001b[0m\u001b[0mvec\u001b[0m\u001b[0;34m)\u001b[0m\u001b[0;34m:\u001b[0m\u001b[0;34m\u001b[0m\u001b[0;34m\u001b[0m\u001b[0m\n\u001b[0;32m----> 9\u001b[0;31m     \u001b[0mvs\u001b[0m \u001b[0;34m=\u001b[0m \u001b[0mvec\u001b[0m\u001b[0;34m.\u001b[0m\u001b[0mshape\u001b[0m\u001b[0;34m[\u001b[0m\u001b[0;36m0\u001b[0m\u001b[0;34m]\u001b[0m\u001b[0;34m\u001b[0m\u001b[0;34m\u001b[0m\u001b[0m\n\u001b[0m\u001b[1;32m     10\u001b[0m     \u001b[0;32mif\u001b[0m \u001b[0;34m(\u001b[0m\u001b[0mvs\u001b[0m \u001b[0;34m<\u001b[0m \u001b[0;36m100\u001b[0m\u001b[0;34m)\u001b[0m\u001b[0;34m:\u001b[0m\u001b[0;34m\u001b[0m\u001b[0;34m\u001b[0m\u001b[0m\n\u001b[1;32m     11\u001b[0m         \u001b[0mr\u001b[0m \u001b[0;34m=\u001b[0m \u001b[0;36m100\u001b[0m \u001b[0;34m-\u001b[0m \u001b[0mvs\u001b[0m\u001b[0;34m\u001b[0m\u001b[0;34m\u001b[0m\u001b[0m\n",
      "\u001b[0;31mIndexError\u001b[0m: tuple index out of range"
     ]
    }
   ],
   "source": [
    "set_to_100(tumor_img[closing.astype(np.int)[i, 0],closing.astype(np.int)[i, 1] ])"
   ]
  },
  {
   "cell_type": "code",
   "execution_count": 206,
   "metadata": {},
   "outputs": [],
   "source": [
    "img = load_image(os.path.join(image_path, \"IM_\" + resec[2] + \".nii.gz\"))\n",
    "label = load_image(os.path.join(label_path, \"LB_\" + resec[2] + \".nii.gz\"))\n",
    "img = extract_cube(tumor_shape[idx], img)\n",
    "label = extract_cube(tumor_shape[idx], label)\n",
    "\n",
    "for i in range(img.shape[2]):\n",
    "    num_slice = i\n",
    "    label[..., i] = ndimage.binary_dilation(label[..., i]).astype(label[..., i].dtype)\n",
    "    img[..., i] = masking(label[..., i], img[..., i])\n",
    "    \n",
    "    for n, num in enumerate(nums):\n",
    "\n",
    "        o1 = measure.find_contours(ndi.morphology.binary_closing(img[..., i] > num, structure=struct).astype(img.dtype), .8)\n",
    "        if(isZero(o1)):\n",
    "            closing  = np.zeros((100, 2))\n",
    "            tmp_vector = set_to_pixel(img, closing.astype(np.int), i)\n",
    "            contours[idx, 2, i, n, :] = set_to_100(tmp_vector).reshape(100)\n",
    "        else:\n",
    "            closing = cont(ndi.morphology.binary_closing(img > num, structure=struct).astype(img.dtype))\n",
    "            tmp_vector = set_to_pixel(img, closing.astype(np.int), i)\n",
    "            contours[idx, 2, i, n, :] = set_to_100(tmp_vector).reshape(100)"
   ]
  },
  {
   "cell_type": "code",
   "execution_count": 70,
   "metadata": {},
   "outputs": [],
   "source": [
    "#New\n",
    "def extract_cube(r, img):#cube 210, 220, 90 ;; ranges = [xmin, xmax, ymin, ymax, zmin, zmax]\n",
    "    img_tmp = np.zeros((210, 220, 90))\n",
    "    #print(img.shape, r)\n",
    "    img_tmp[:int(r[1]-r[0]), :int(r[3]-r[2]), :int(r[5]-r[4])] = img[int(r[0]):int(r[1]), int(r[2]):int(r[3]), int(r[4]):int(r[5])]\n",
    "    return img_tmp\n",
    "\n",
    "\n",
    "def masking(label, img):\n",
    "    for i in range(img.shape[0]):\n",
    "        for j in range(img.shape[1]):\n",
    "            if label[i, j] == 0 or label[i, j] == 1:\n",
    "                img[i, j] = 0\n",
    "    return img\n",
    "\n",
    "import pandas as pd\n",
    "map_df = pd.DataFrame(data={'resec_name': resec, 'shape': np.array(range(182)), 'target':y.reshape(182)})\n"
   ]
  },
  {
   "cell_type": "code",
   "execution_count": 223,
   "metadata": {},
   "outputs": [
    {
     "data": {
      "text/plain": [
       "'PC614'"
      ]
     },
     "execution_count": 223,
     "metadata": {},
     "output_type": "execute_result"
    }
   ],
   "source": [
    "resec[0]"
   ]
  },
  {
   "cell_type": "code",
   "execution_count": 224,
   "metadata": {},
   "outputs": [],
   "source": [
    "#create 3 contours in 3 dimensions\n",
    "#182 identities in total \n",
    "#1. crop into (210, 220, 90) -> dilation ->masking\n",
    "#2. erosion for each 60, 70, 80\n",
    "#3. store in contours[182, 3, n_{dimension} , 3, 100] #identity, dimension, num_slcie,  contour  ;; num_slice = [210, 200, 90]\n",
    "num_identity = len(resec)\n",
    "contours = np.zeros((num_identity, 3, 220, 3, 100))\n",
    "\n",
    "from scipy import ndimage\n",
    "\n",
    "\n",
    "mor_type = closing.astype(np.int)\n",
    "nums = [60, 70, 80]\n",
    "for idx, name in enumerate(resec[:1]):\n",
    "    img = load_image(os.path.join(image_path, \"IM_\" + name + \".nii.gz\"))\n",
    "    label = load_image(os.path.join(label_path, \"LB_\" + name + \".nii.gz\"))\n",
    "    img = extract_cube(tumor_shape[idx], img)\n",
    "    label = extract_cube(tumor_shape[idx], label)\n",
    "    \n",
    "    for i in range(img.shape[2]):\n",
    "        \n",
    "        num_slice = i\n",
    "        label[..., i] = ndimage.binary_dilation(label[..., i]).astype(label[..., i].dtype)\n",
    "        img[..., i] = masking(label[..., i], img[..., i])\n",
    "        \n",
    "        for n, num in enumerate(nums):\n",
    "            \n",
    "            o1 = measure.find_contours(ndi.morphology.binary_closing(img[..., i] > num, structure=struct).astype(img.dtype), .8)\n",
    "            if(isZero(o1)):\n",
    "                \n",
    "                contours[idx, 2, i, n, :] = np.zeros((100,))\n",
    "                \n",
    "            else:\n",
    "#                 closing = cont(ndi.morphology.binary_closing(img > num, structure=struct).astype(img.dtype))\n",
    "#                 tmp_vector = set_to_pixel2(img, closing.astype(np.int), i)\n",
    "                contours[idx, 2, i, n, :] = np.zeros((100,))\n",
    "    \n",
    "    for i in range(img.shape[1]):\n",
    "        num_slice = i\n",
    "        label[:, i, :] = ndimage.binary_dilation(label[:, i, :]).astype(label[:, i, :].dtype)\n",
    "        img[:, i, :] = masking(label[:, i, :], img[:, i, :])\n",
    "       \n",
    "        for n, num in enumerate(nums):\n",
    "            o1 = measure.find_contours(ndi.morphology.binary_closing(img[:, i, :] > num, structure=struct).astype(img.dtype), .8)\n",
    "            if(isZero(o1)):\n",
    "                closing  = np.zeros((100, 2))\n",
    "                tmp_vector = set_to_pixel1(img, closing.astype(np.int), i)\n",
    "                contours[idx, 1, i, n, :] = set_to_100(tmp_vector).reshape(100)\n",
    "            else:\n",
    "#                 closing = cont(ndi.morphology.binary_closing(img[:, i,: ] > num, structure=struct).astype(img.dtype))\n",
    "#                 tmp_vector = set_to_pixel1(img, closing.astype(np.int), i)\n",
    "                contours[idx, 1, i, n, :] = np.zeros((100,))\n",
    "            \n",
    "    \n",
    "    for i in range(img.shape[0]):\n",
    "        num_slice = i\n",
    "        label[i, :, :] = ndimage.binary_dilation(label[i, :, :]).astype(label[i, :, :].dtype)\n",
    "        img[i, :, :] = masking(label[i, :, :], img[i, :, :])\n",
    "        \n",
    "        for n, num in enumerate(nums):\n",
    "            o1 = measure.find_contours(ndi.morphology.binary_closing(img[i, :, :] > num, structure=struct).astype(img.dtype), .8)\n",
    "            if(isZero(o1)):\n",
    "                closing  = np.zeros((100, 2))\n",
    "                tmp_vector = set_to_pixel0(img, closing.astype(np.int), i)\n",
    "                contours[idx, 0, i, n, :] = set_to_100(tmp_vector).reshape(100)\n",
    "            else:\n",
    "                closing  = cont(ndi.morphology.binary_closing(img[i, :, :] > num, structure=struct).astype(img.dtype))\n",
    "                tmp_vector = set_to_pixel0(img, closing.astype(np.int), i)\n",
    "                contours[idx, 0, i, n, :] = set_to_100(tmp_vector).reshape(100)\n",
    "                \n",
    "        \n",
    "    del img, label\n",
    "\n",
    "   \n",
    "\n",
    "\n"
   ]
  },
  {
   "cell_type": "code",
   "execution_count": 225,
   "metadata": {},
   "outputs": [
    {
     "data": {
      "text/plain": [
       "(array([], dtype=int64),\n",
       " array([], dtype=int64),\n",
       " array([], dtype=int64),\n",
       " array([], dtype=int64),\n",
       " array([], dtype=int64))"
      ]
     },
     "execution_count": 225,
     "metadata": {},
     "output_type": "execute_result"
    }
   ],
   "source": [
    "#check the contours\n",
    "np.where(contours != 0)"
   ]
  },
  {
   "cell_type": "code",
   "execution_count": null,
   "metadata": {},
   "outputs": [],
   "source": []
  },
  {
   "cell_type": "code",
   "execution_count": null,
   "metadata": {},
   "outputs": [],
   "source": []
  },
  {
   "cell_type": "code",
   "execution_count": 13,
   "metadata": {},
   "outputs": [],
   "source": [
    "diff0 = tumor_shape[:, 1] - tumor_shape[:, 0]"
   ]
  },
  {
   "cell_type": "code",
   "execution_count": 16,
   "metadata": {},
   "outputs": [
    {
     "data": {
      "text/plain": [
       "array([ 28,  86,  84,  32,  33,  92,  11,  82,  40,  78,  91,  31,  23,\n",
       "       116,  37,  29,  50,  81, 111,  38,  46,  49,  32,  51,  13,  20,\n",
       "        19, 147,  52,  44,  31, 153,  18,  48,  36,  12,  29, 200,  62,\n",
       "        84,  59,  65,  40,  31,  39,  40,  13,  38,  36,  47,  25,  35,\n",
       "        74,  82,  78,  54,  19,  46,  81,  32,  72,  40,  38,  16,  32,\n",
       "        71,  46,  59,  79, 207,  46, 166,  31,   8, 167,  38,  56,  52,\n",
       "        80,  33,  58,  50,  11,  80,  27,  26,  20,  92,  76,  66,  18,\n",
       "        22,  44,  73,  81, 102,  46,  36,  39,  80,  49,  14,  61,  42,\n",
       "        59,  66,  36,  88,  57,  79,  38,  49,  33,  48,  70,  94,  36,\n",
       "        36,  27,  75,  45,  67,  70,  77,  57,  36,  39,  28,  39,  14,\n",
       "        36,  32,  50,  32,  20,  50,  79,  25,  75, 170,  47,  75,  32,\n",
       "        49,  61,  66,  45, 181,  40,  40,  32,  57,  29,  50,  89,  60,\n",
       "       115,  13,  59,  28,  86, 100,  20,  49,  32,  26,  19,  39,  40,\n",
       "        73,  42,  72,  67,  66,  24,  49,  91, 114, 102,  65,  16, 145])"
      ]
     },
     "execution_count": 16,
     "metadata": {},
     "output_type": "execute_result"
    }
   ],
   "source": [
    "diff0.astype(np.int)"
   ]
  },
  {
   "cell_type": "code",
   "execution_count": 19,
   "metadata": {},
   "outputs": [
    {
     "data": {
      "text/plain": [
       "<matplotlib.collections.PathCollection at 0x7fb134168550>"
      ]
     },
     "execution_count": 19,
     "metadata": {},
     "output_type": "execute_result"
    },
    {
     "data": {
      "image/png": "[encoded data removed]",
      "text/plain": [
       "<Figure size 432x288 with 1 Axes>"
      ]
     },
     "metadata": {
      "needs_background": "light"
     },
     "output_type": "display_data"
    }
   ],
   "source": [
    "plt.scatter(y, diff0)"
   ]
  },
  {
   "cell_type": "code",
   "execution_count": null,
   "metadata": {},
   "outputs": [],
   "source": []
  }
 ],
 "metadata": {
  "kernelspec": {
   "display_name": "Python 3",
   "language": "python",
   "name": "python3"
  },
  "language_info": {
   "codemirror_mode": {
    "name": "ipython",
    "version": 3
   },
   "file_extension": ".py",
   "mimetype": "text/x-python",
   "name": "python",
   "nbconvert_exporter": "python",
   "pygments_lexer": "ipython3",
   "version": "3.6.8"
  }
 },
 "nbformat": 4,
 "nbformat_minor": 2
}
