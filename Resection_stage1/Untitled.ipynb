{
 "cells": [
  {
   "cell_type": "code",
   "execution_count": 1,
   "metadata": {},
   "outputs": [],
   "source": [
    "import os\n",
    "import tensorflow as tf\n",
    "os.environ[\"CUDA_VISIBLE_DEVICES\"] = \"1\"\n",
    "gpu_options = tf.GPUOptions(allow_growth=True)\n",
    "sess_config = tf.ConfigProto(gpu_options=gpu_options)\n",
    "tf.keras.backend.set_session(tf.Session(config=sess_config))"
   ]
  },
  {
   "cell_type": "code",
   "execution_count": 2,
   "metadata": {},
   "outputs": [],
   "source": [
    "import os\n",
    "import glob\n",
    "#import tqdm\n",
    "import numpy as np\n",
    "#import pandas as pd\n",
    "import multiprocessing\n",
    "import pydicom as dicom\n",
    "import nibabel as nib\n",
    "#from keras import utils as kutils\n",
    "from matplotlib import pyplot as plt\n",
    "\n",
    "def load_image(label_fpath, transpose=False):\n",
    "    #encode_name = label_fpath[-39: -7]\n",
    "    label_data = nib.load(label_fpath)\n",
    "    label_array = label_data.get_fdata()\n",
    "    if transpose:\n",
    "        label_array = np.transpose(label_array, axes=(2, 1, 0))\n",
    "    return  label_array#, encode_name"
   ]
  },
  {
   "cell_type": "code",
   "execution_count": 3,
   "metadata": {},
   "outputs": [],
   "source": [
    "import pandas as pd\n",
    "info = pd.read_csv('/data2/pancreas/Nifti_data/data_list.csv')\n",
    "image_path = \"/data2/pancreas/Nifti_data/image\"\n",
    "label_path = \"/data2/pancreas/Nifti_data/label\"\n",
    "\n",
    "\n",
    "resec = np.load(\"resec.npy\")\n",
    "y = np.load(\"resec_y.npy\")\n"
   ]
  },
  {
   "cell_type": "code",
   "execution_count": 85,
   "metadata": {},
   "outputs": [],
   "source": [
    "del label_t\n",
    "label_t = load_image(os.path.join(label_path, \"LB_\"+resec[1]+\".nii.gz\"))"
   ]
  },
  {
   "cell_type": "code",
   "execution_count": 31,
   "metadata": {},
   "outputs": [
    {
     "data": {
      "text/plain": [
       "(array([177, 177, 177, ..., 333, 333, 333]),\n",
       " array([226, 227, 228, ..., 265, 266, 267]),\n",
       " array([30, 30, 30, ..., 32, 32, 32]))"
      ]
     },
     "execution_count": 31,
     "metadata": {},
     "output_type": "execute_result"
    }
   ],
   "source": [
    "np.where(label_t != 0)"
   ]
  },
  {
   "cell_type": "code",
   "execution_count": 96,
   "metadata": {},
   "outputs": [
    {
     "data": {
      "text/plain": [
       "<matplotlib.image.AxesImage at 0x7f2409176518>"
      ]
     },
     "execution_count": 96,
     "metadata": {},
     "output_type": "execute_result"
    },
    {
     "data": {
      "image/png": "[encoded data removed]",
      "text/plain": [
       "<Figure size 432x288 with 1 Axes>"
      ]
     },
     "metadata": {
      "needs_background": "light"
     },
     "output_type": "display_data"
    }
   ],
   "source": [
    "plt.imshow(label_t[230:247, 300:330,30], cmap = \"gray\")"
   ]
  },
  {
   "cell_type": "code",
   "execution_count": 97,
   "metadata": {},
   "outputs": [
    {
     "data": {
      "text/plain": [
       "array([[0., 0., 0., 0., 0., 0., 0., 0., 0., 0., 0., 0., 0., 0., 0., 0.,\n",
       "        0., 0., 0., 0., 0., 0., 0., 0., 0., 0., 0., 0., 0., 0.],\n",
       "       [0., 0., 0., 0., 0., 0., 0., 0., 0., 0., 0., 0., 0., 0., 0., 0.,\n",
       "        0., 0., 0., 0., 0., 0., 0., 0., 0., 0., 0., 0., 0., 0.],\n",
       "       [0., 0., 0., 0., 0., 0., 0., 0., 0., 0., 0., 0., 0., 0., 0., 0.,\n",
       "        0., 0., 0., 0., 0., 0., 0., 0., 0., 0., 0., 0., 0., 0.],\n",
       "       [0., 0., 0., 0., 0., 0., 0., 0., 0., 0., 0., 0., 0., 0., 0., 0.,\n",
       "        0., 0., 0., 0., 0., 0., 0., 0., 0., 0., 0., 0., 0., 0.],\n",
       "       [0., 0., 0., 0., 0., 0., 0., 0., 0., 0., 0., 0., 0., 0., 0., 0.,\n",
       "        0., 0., 0., 0., 0., 0., 0., 0., 0., 0., 0., 0., 0., 0.],\n",
       "       [0., 0., 0., 0., 0., 0., 0., 0., 0., 0., 0., 0., 0., 0., 0., 0.,\n",
       "        0., 0., 0., 0., 0., 0., 0., 0., 0., 0., 0., 0., 0., 0.],\n",
       "       [0., 0., 0., 0., 0., 0., 0., 0., 0., 0., 0., 0., 0., 0., 0., 0.,\n",
       "        0., 0., 0., 0., 0., 0., 0., 0., 0., 0., 0., 0., 0., 0.],\n",
       "       [1., 0., 0., 0., 0., 0., 0., 0., 0., 0., 0., 0., 0., 0., 0., 0.,\n",
       "        0., 0., 0., 0., 0., 0., 0., 0., 0., 0., 0., 0., 0., 0.],\n",
       "       [1., 1., 0., 0., 0., 0., 0., 0., 0., 0., 0., 0., 0., 0., 0., 0.,\n",
       "        0., 0., 0., 0., 0., 0., 0., 0., 0., 0., 0., 0., 0., 0.],\n",
       "       [1., 1., 1., 0., 0., 0., 0., 0., 0., 0., 0., 0., 0., 0., 0., 0.,\n",
       "        0., 0., 0., 0., 0., 0., 0., 0., 0., 0., 0., 0., 0., 0.],\n",
       "       [1., 1., 1., 1., 0., 0., 0., 0., 0., 0., 0., 0., 0., 1., 1., 1.,\n",
       "        1., 1., 1., 1., 1., 1., 0., 0., 0., 0., 0., 0., 0., 0.],\n",
       "       [1., 1., 1., 1., 1., 1., 0., 0., 0., 0., 1., 1., 1., 1., 1., 1.,\n",
       "        1., 1., 1., 1., 1., 1., 1., 1., 1., 1., 1., 0., 0., 0.],\n",
       "       [1., 1., 1., 1., 1., 1., 1., 1., 1., 1., 1., 1., 1., 1., 1., 1.,\n",
       "        1., 1., 1., 1., 1., 1., 1., 1., 1., 1., 1., 1., 1., 0.],\n",
       "       [1., 1., 1., 1., 1., 1., 1., 1., 1., 1., 1., 1., 1., 1., 1., 1.,\n",
       "        1., 1., 1., 1., 1., 1., 1., 1., 1., 1., 1., 1., 1., 1.],\n",
       "       [1., 1., 1., 1., 1., 1., 1., 1., 1., 1., 1., 1., 1., 1., 1., 1.,\n",
       "        1., 1., 1., 1., 1., 1., 1., 1., 1., 1., 1., 1., 1., 1.],\n",
       "       [1., 1., 1., 1., 1., 1., 1., 1., 1., 1., 1., 1., 1., 1., 1., 1.,\n",
       "        1., 1., 1., 1., 1., 1., 1., 1., 1., 1., 1., 1., 1., 1.],\n",
       "       [1., 1., 1., 1., 1., 1., 1., 1., 1., 1., 1., 1., 1., 1., 1., 1.,\n",
       "        1., 1., 1., 1., 1., 1., 1., 1., 1., 1., 1., 1., 1., 1.]])"
      ]
     },
     "execution_count": 97,
     "metadata": {},
     "output_type": "execute_result"
    }
   ],
   "source": [
    "label_t[230:247, 300:330,30]"
   ]
  },
  {
   "cell_type": "code",
   "execution_count": 69,
   "metadata": {},
   "outputs": [
    {
     "name": "stdout",
     "output_type": "stream",
     "text": [
      "25\n",
      "34\n"
     ]
    }
   ],
   "source": [
    "print(np.min(np.where(label_t == 1)[2]))\n",
    "print(np.max(np.where(label_t == 1)[2]))"
   ]
  },
  {
   "cell_type": "code",
   "execution_count": 70,
   "metadata": {},
   "outputs": [
    {
     "data": {
      "image/png": "[encoded data removed]",
      "text/plain": [
       "<Figure size 432x288 with 1 Axes>"
      ]
     },
     "metadata": {
      "needs_background": "light"
     },
     "output_type": "display_data"
    },
    {
     "data": {
      "image/png": "[encoded data removed]",
      "text/plain": [
       "<Figure size 432x288 with 1 Axes>"
      ]
     },
     "metadata": {
      "needs_background": "light"
     },
     "output_type": "display_data"
    },
    {
     "data": {
      "image/png": "[encoded data removed]",
      "text/plain": [
       "<Figure size 432x288 with 1 Axes>"
      ]
     },
     "metadata": {
      "needs_background": "light"
     },
     "output_type": "display_data"
    },
    {
     "data": {
      "image/png": "[encoded data removed]",
      "text/plain": [
       "<Figure size 432x288 with 1 Axes>"
      ]
     },
     "metadata": {
      "needs_background": "light"
     },
     "output_type": "display_data"
    },
    {
     "data": {
      "image/png": "[encoded data removed]",
      "text/plain": [
       "<Figure size 432x288 with 1 Axes>"
      ]
     },
     "metadata": {
      "needs_background": "light"
     },
     "output_type": "display_data"
    },
    {
     "data": {
      "image/png": "[encoded data removed]",
      "text/plain": [
       "<Figure size 432x288 with 1 Axes>"
      ]
     },
     "metadata": {
      "needs_background": "light"
     },
     "output_type": "display_data"
    },
    {
     "data": {
      "image/png": "[encoded data removed]",
      "text/plain": [
       "<Figure size 432x288 with 1 Axes>"
      ]
     },
     "metadata": {
      "needs_background": "light"
     },
     "output_type": "display_data"
    },
    {
     "data": {
      "image/png": "[encoded data removed]",
      "text/plain": [
       "<Figure size 432x288 with 1 Axes>"
      ]
     },
     "metadata": {
      "needs_background": "light"
     },
     "output_type": "display_data"
    },
    {
     "data": {
      "image/png": "[encoded data removed]",
      "text/plain": [
       "<Figure size 432x288 with 1 Axes>"
      ]
     },
     "metadata": {
      "needs_background": "light"
     },
     "output_type": "display_data"
    },
    {
     "data": {
      "image/png": "[encoded data removed]",
      "text/plain": [
       "<Figure size 432x288 with 1 Axes>"
      ]
     },
     "metadata": {
      "needs_background": "light"
     },
     "output_type": "display_data"
    },
    {
     "data": {
      "image/png": "[encoded data removed]",
      "text/plain": [
       "<Figure size 432x288 with 1 Axes>"
      ]
     },
     "metadata": {
      "needs_background": "light"
     },
     "output_type": "display_data"
    },
    {
     "data": {
      "image/png": "[encoded data removed]",
      "text/plain": [
       "<Figure size 432x288 with 1 Axes>"
      ]
     },
     "metadata": {
      "needs_background": "light"
     },
     "output_type": "display_data"
    },
    {
     "data": {
      "image/png": "[encoded data removed]",
      "text/plain": [
       "<Figure size 432x288 with 1 Axes>"
      ]
     },
     "metadata": {
      "needs_background": "light"
     },
     "output_type": "display_data"
    },
    {
     "data": {
      "image/png": "[encoded data removed]",
      "text/plain": [
       "<Figure size 432x288 with 1 Axes>"
      ]
     },
     "metadata": {
      "needs_background": "light"
     },
     "output_type": "display_data"
    },
    {
     "data": {
      "image/png": "[encoded data removed]",
      "text/plain": [
       "<Figure size 432x288 with 1 Axes>"
      ]
     },
     "metadata": {
      "needs_background": "light"
     },
     "output_type": "display_data"
    }
   ],
   "source": [
    "for i in range(25, 40):\n",
    "    plt.title(str(i))\n",
    "    plt.imshow(label_t[..., i])\n",
    "    plt.show()"
   ]
  },
  {
   "cell_type": "code",
   "execution_count": 98,
   "metadata": {},
   "outputs": [
    {
     "name": "stdout",
     "output_type": "stream",
     "text": [
      "PC614\n",
      "PC83\n",
      "PC139\n",
      "PC534\n",
      "PC104\n",
      "PT51\n",
      "PC550\n",
      "PC294\n",
      "PC605\n",
      "PC621\n",
      "PC117\n",
      "PC335\n",
      "PC159\n",
      "PC125\n",
      "PC647\n",
      "PC285\n",
      "PC631\n",
      "PC160\n",
      "PC638\n",
      "PT6\n",
      "PC555\n",
      "PC319\n",
      "PC176\n",
      "PC55\n",
      "PC548\n",
      "PC515\n",
      "PC603\n",
      "PC131\n",
      "PC98\n",
      "PC572\n",
      "PC560\n",
      "PT27\n",
      "PC612\n",
      "PC619\n",
      "PC568\n",
      "PC536\n",
      "PC301\n",
      "PC50\n",
      "PC242\n",
      "PC103\n",
      "PC652\n",
      "PC273\n",
      "PC15\n",
      "PC584\n",
      "PC151\n",
      "PC636\n",
      "PC573\n",
      "PC579\n",
      "PC553\n",
      "PC358\n",
      "PC563\n",
      "PC147\n",
      "PC651\n",
      "PC306\n",
      "PC290\n",
      "PC618\n",
      "PC574\n",
      "PT2\n",
      "PC1\n",
      "PC575\n",
      "PC97\n",
      "PC630\n",
      "PC595\n",
      "PC542\n",
      "PC556\n",
      "PC72\n",
      "PC116\n",
      "PC537\n",
      "PC387\n",
      "PT4\n",
      "PC653\n",
      "PC246\n",
      "PC546\n",
      "PC570\n",
      "PC115\n",
      "PC616\n",
      "PT52\n",
      "PC143\n",
      "PC650\n",
      "PC513\n",
      "PC278\n",
      "PC252\n",
      "PC541\n",
      "PC348\n",
      "PC622\n",
      "PC38\n",
      "PC181\n",
      "PT37\n",
      "PC110\n",
      "PC304\n",
      "PC543\n",
      "PC648\n",
      "PC589\n",
      "PC644\n",
      "PC3\n",
      "PC5\n",
      "PC552\n",
      "PC590\n",
      "PC251\n",
      "PC564\n",
      "PC269\n",
      "PT7\n",
      "PC144\n",
      "PC601\n",
      "PC63\n",
      "PC267\n",
      "PT1\n",
      "PT13\n",
      "PC39\n",
      "PC105\n",
      "PC634\n",
      "PC539\n",
      "PC31\n",
      "PC639\n",
      "PC41\n",
      "PC152\n",
      "PC538\n",
      "PC561\n",
      "PC554\n",
      "PC96\n",
      "PC623\n",
      "PC166\n",
      "PT9\n",
      "PC27\n",
      "PC295\n",
      "PC582\n",
      "PC549\n",
      "PC585\n",
      "PC332\n",
      "PT12\n",
      "PT59\n",
      "PC581\n",
      "PC336\n",
      "PC89\n",
      "PC580\n",
      "PC567\n",
      "PT53\n",
      "PC170\n",
      "PC107\n",
      "PC134\n",
      "PC596\n",
      "PC79\n",
      "PC629\n",
      "PC322\n",
      "PC130\n",
      "PC350\n",
      "PT39\n",
      "PC78\n",
      "PC58\n",
      "PC42\n",
      "PT8\n",
      "PC259\n",
      "PC551\n",
      "PC37\n",
      "PC70\n",
      "PC2\n",
      "PT35\n",
      "PC91\n",
      "PC303\n",
      "PC600\n",
      "PC510\n",
      "PC544\n",
      "PC545\n",
      "PC123\n",
      "PC54\n",
      "PC559\n",
      "PC535\n",
      "PC277\n",
      "PT42\n",
      "PT47\n",
      "PC349\n",
      "PC40\n",
      "PC256\n",
      "PC627\n",
      "PC602\n",
      "PC607\n",
      "PT49\n",
      "PT14\n",
      "PT44\n",
      "PC615\n",
      "PC613\n",
      "PT46\n"
     ]
    }
   ],
   "source": [
    "#determine the size of cube using label-img (consider tumor only)\n",
    "shape0 = np.zeros((len(resec), 2))\n",
    "shape1 = np.zeros((len(resec), 2))\n",
    "shape2 = np.zeros((len(resec), 2))\n",
    "for i, name in enumerate(resec) :\n",
    "    label = load_image(os.path.join(label_path, \"LB_\"+name+\".nii.gz\"))\n",
    "    print(name)\n",
    "    shape0[i][0] = np.min(np.where(label == 2)[0])\n",
    "    shape0[i][1] = np.max(np.where(label == 2)[0])\n",
    "    shape1[i][0] = np.min(np.where(label == 2)[1])\n",
    "    shape1[i][1] = np.max(np.where(label == 2)[1])\n",
    "    shape2[i][0] = np.min(np.where(label == 2)[2])\n",
    "    shape2[i][1] = np.max(np.where(label == 2)[2])\n",
    "    del label"
   ]
  },
  {
   "cell_type": "code",
   "execution_count": 101,
   "metadata": {},
   "outputs": [
    {
     "name": "stdout",
     "output_type": "stream",
     "text": [
      "207.0\n",
      "220.0\n",
      "89.0\n"
     ]
    }
   ],
   "source": [
    "print(np.max(shape0[:, 1] - shape0[:, 0]))\n",
    "print(np.max(shape1[:, 1] - shape1[:, 0]))\n",
    "print(np.max(shape2[:, 1] - shape2[:, 0]))"
   ]
  },
  {
   "cell_type": "code",
   "execution_count": 113,
   "metadata": {},
   "outputs": [],
   "source": [
    "# shape_tumor = np.concatenate([shape0, shape1, shape2], axis = 1)"
   ]
  },
  {
   "cell_type": "code",
   "execution_count": 4,
   "metadata": {},
   "outputs": [],
   "source": [
    "shape_tumor = np.load(\"shape_tumor.npy\")\n",
    "#np.save( \"shape_tumor\", shape_tumor)"
   ]
  },
  {
   "cell_type": "code",
   "execution_count": 73,
   "metadata": {},
   "outputs": [],
   "source": [
    "label_t = load_image(os.path.join(label_path, \"LB_\"+\"PT27\"+\".nii.gz\"))"
   ]
  },
  {
   "cell_type": "code",
   "execution_count": 76,
   "metadata": {},
   "outputs": [
    {
     "name": "stdout",
     "output_type": "stream",
     "text": [
      "263\n",
      "352\n"
     ]
    }
   ],
   "source": [
    "print(np.min(np.where(label_t != 0)[2]))\n",
    "print(np.max(np.where(label_t != 0)[2]))"
   ]
  },
  {
   "cell_type": "code",
   "execution_count": 116,
   "metadata": {},
   "outputs": [],
   "source": [
    "# for i in range(263, 352):\n",
    "#     plt.imshow(label_t[..., i])\n",
    "#     plt.show()"
   ]
  },
  {
   "cell_type": "code",
   "execution_count": 115,
   "metadata": {},
   "outputs": [],
   "source": [
    "del label_t"
   ]
  },
  {
   "cell_type": "markdown",
   "metadata": {},
   "source": [
    "# model"
   ]
  },
  {
   "cell_type": "code",
   "execution_count": 5,
   "metadata": {},
   "outputs": [],
   "source": [
    "import pandas as pd\n",
    "map_df = pd.DataFrame(data={'resec_name': resec, 'shape': np.array(range(182)), 'target':y.reshape(182)})"
   ]
  },
  {
   "cell_type": "code",
   "execution_count": 6,
   "metadata": {},
   "outputs": [],
   "source": [
    "#New\n",
    "def extract_cube(r, img):#cube 210, 220, 90 ;; ranges = [xmin, xmax, ymin, ymax, zmin, zmax]\n",
    "    img_tmp = np.zeros((210, 220, 90))\n",
    "    img_tmp[:int(r[1]-r[0]), :int(r[3]-r[2]), :int(r[5]-r[4])] = img[int(r[0]):int(r[1]), int(r[2]):int(r[3]), int(r[4]):int(r[5])]\n",
    "    return img_tmp"
   ]
  },
  {
   "cell_type": "code",
   "execution_count": 7,
   "metadata": {},
   "outputs": [
    {
     "name": "stderr",
     "output_type": "stream",
     "text": [
      "Using TensorFlow backend.\n"
     ]
    }
   ],
   "source": [
    "from keras.models import Model#, load_model\n",
    "from keras import layers as klayers\n",
    "from keras.optimizers import Adam\n",
    "from keras import utils as kutils\n",
    "from keras import backend as K\n",
    "from keras.callbacks import ModelCheckpoint\n",
    "\n",
    "\n",
    "\n",
    "from keras.layers import Conv3D, MaxPool3D, Flatten, Dense\n",
    "from keras.layers import Dropout, Input, BatchNormalization\n",
    "from sklearn.metrics import confusion_matrix, accuracy_score\n",
    "#from plotly.offline import iplot, init_notebook_mode\n",
    "from keras.losses import categorical_crossentropy\n",
    "from keras.optimizers import Adadelta\n",
    "#import plotly.graph_objs as go\n",
    "from matplotlib.pyplot import cm\n",
    "from keras.models import Model\n",
    "import numpy as np\n",
    "import keras\n",
    "import h5py\n",
    "\n",
    "#init_notebook_mode(connected=True)\n",
    "%matplotlib inline\n",
    "\n",
    "\n",
    "from keras.datasets import mnist\n",
    "from keras.layers import Input, Dense, Reshape, Flatten, Dropout, multiply, concatenate,  MaxPool2D\n",
    "# from keras.layers import BatchNormalization, Activation, Embedding, ZeroPadding2D, Lambda\n",
    "from keras.layers.advanced_activations import LeakyReLU, ReLU\n",
    "from keras.layers.convolutional import UpSampling2D, Conv2D, Conv1D\n",
    "from keras.models import Sequential, Model\n",
    "from keras.optimizers import Adam, SGD\n",
    "from keras.utils import to_categorical\n",
    "import keras.backend as K\n",
    "import matplotlib.pyplot as plt\n",
    "import numpy as np\n",
    "\n",
    "import pandas as pd\n",
    "import numpy as np\n",
    "from keras.models import Sequential\n",
    "from keras.layers import Dense, Dropout, Activation, Flatten, LSTM, TimeDistributed, RepeatVector, Reshape\n",
    "from keras.layers.normalization import BatchNormalization\n",
    "from keras.optimizers import Adam\n",
    "from keras.callbacks import EarlyStopping, ModelCheckpoint\n",
    "import matplotlib.pyplot as plt\n",
    "import tensorflow as tf\n",
    "%matplotlib inline\n",
    "\n"
   ]
  },
  {
   "cell_type": "code",
   "execution_count": 8,
   "metadata": {},
   "outputs": [],
   "source": [
    "from keras.utils import to_categorical\n",
    "\n",
    "class resec_Generator1(kutils.Sequence):\n",
    "    'Generates data for Keras'\n",
    "    def __init__(self, mapping_df, batch_size, shuffle=True):\n",
    "        'Initialization'\n",
    "        self.mapping_df = mapping_df\n",
    "        self.data_num   = mapping_df.shape[0]\n",
    "        self.batch_size = batch_size\n",
    "        self.shuffle = shuffle\n",
    "        self.on_epoch_end()\n",
    "\n",
    "    def __len__(self):\n",
    "        'Denotes the number of batches per epoch'\n",
    "        return int(np.floor(self.data_num / self.batch_size))\n",
    "\n",
    "\n",
    "    def __getitem__(self, index):\n",
    "        'Generate one batch of data'\n",
    "        # Generate indexes of the batch\n",
    "        #print(\"enter0\")\n",
    "        batch_mapping_df = \\\n",
    "            self.mapping_df.iloc[index*self.batch_size: (index+1)*self.batch_size]\n",
    "\n",
    "        # Generate data\n",
    "        X, y = self.__data_generation(batch_mapping_df)\n",
    "        return X, y\n",
    "\n",
    "\n",
    "    def on_epoch_end(self):\n",
    "        'Updates indexes after each epoch'\n",
    "        if self.shuffle:\n",
    "            self.mapping_df = self.mapping_df.sample(frac=1).reset_index(drop=True)\n",
    "            \n",
    "    def __data_generation(self, batch_mapping_df):\n",
    "        'Generates data containing batch_size samples' \n",
    "        # Initialization\n",
    "        X = np.zeros((  self.batch_size, 210, 220, 90, 1)) \n",
    "\n",
    "        y = np.zeros((self.batch_size))\n",
    "\n",
    "        # Generate data\n",
    "        cnt = 0\n",
    "        \n",
    "        for i, row in batch_mapping_df.iterrows():\n",
    "            img = extract_cube(shape_tumor[row['shape']], load_image(os.path.join(image_path, \"IM_\"+row['resec_name']+\".nii.gz\")))\n",
    "            X[ cnt, :, :, :, 0] = img\n",
    "            \n",
    "            #img = clip_img(load_image(os.path.join(image_path, \"IM_\"+row['resec_name']+\".nii.gz\")))\n",
    "            #print(\"resec_name =\", row['resec_name'])\n",
    "#             for j in range(40):\n",
    "#                 #print(\"img shape =\", img.shape)\n",
    "#                 #print(\"j =\", j)\n",
    "#                 X[j][cnt, :, :, :, 0] = extract_cube(img, j)\n",
    "            y[cnt] = row['target']\n",
    "\n",
    "#             position = extract_position(row['ref_idx'], row['point_idx'])\n",
    "#             tmp_cube = extract_cube(position, row['ref_idx'])\n",
    "#             if (tmp_cube.shape == (19, 19, 19)):\n",
    "#                 X[cnt, :, :, :, 0] = extract_cube(position, row['ref_idx'])\n",
    "#             else:\n",
    "#                 X[cnt, :, :, :, 0] = np.zeros((19, 19, 19))\n",
    "#             y_idx = row['y_idx']\n",
    "#             radius = ref[row['ref_idx']][row['point_idx'], 3]\n",
    "#             y1[cnt, y_idx] = 1\n",
    "#             y2[cnt, 0] = radius\n",
    "            cnt += 1\n",
    "        #print(X[5])\n",
    "        return X, y\n",
    "\n",
    "# for name in resec:\n",
    "#     img = load_image(os.path.join(image_path, \"IM_\"+name+\".nii.gz\"))"
   ]
  },
  {
   "cell_type": "code",
   "execution_count": 9,
   "metadata": {},
   "outputs": [
    {
     "name": "stdout",
     "output_type": "stream",
     "text": [
      "_________________________________________________________________\n",
      "Layer (type)                 Output Shape              Param #   \n",
      "=================================================================\n",
      "input_1 (InputLayer)         (None, 210, 220, 90, 1)   0         \n",
      "_________________________________________________________________\n",
      "conv3d_1 (Conv3D)            (None, 208, 218, 88, 32)  896       \n",
      "_________________________________________________________________\n",
      "batch_normalization_1 (Batch (None, 208, 218, 88, 32)  128       \n",
      "_________________________________________________________________\n",
      "dropout_1 (Dropout)          (None, 208, 218, 88, 32)  0         \n",
      "_________________________________________________________________\n",
      "max_pooling3d_1 (MaxPooling3 (None, 104, 109, 44, 32)  0         \n",
      "_________________________________________________________________\n",
      "conv3d_2 (Conv3D)            (None, 102, 107, 42, 16)  13840     \n",
      "_________________________________________________________________\n",
      "batch_normalization_2 (Batch (None, 102, 107, 42, 16)  64        \n",
      "_________________________________________________________________\n",
      "dropout_2 (Dropout)          (None, 102, 107, 42, 16)  0         \n",
      "_________________________________________________________________\n",
      "max_pooling3d_2 (MaxPooling3 (None, 51, 53, 21, 16)    0         \n",
      "_________________________________________________________________\n",
      "conv3d_3 (Conv3D)            (None, 49, 51, 19, 8)     3464      \n",
      "_________________________________________________________________\n",
      "batch_normalization_3 (Batch (None, 49, 51, 19, 8)     32        \n",
      "_________________________________________________________________\n",
      "max_pooling3d_3 (MaxPooling3 (None, 24, 25, 9, 8)      0         \n",
      "_________________________________________________________________\n",
      "conv3d_4 (Conv3D)            (None, 22, 23, 7, 4)      868       \n",
      "_________________________________________________________________\n",
      "batch_normalization_4 (Batch (None, 22, 23, 7, 4)      16        \n",
      "_________________________________________________________________\n",
      "max_pooling3d_4 (MaxPooling3 (None, 11, 11, 3, 4)      0         \n",
      "_________________________________________________________________\n",
      "flatten_1 (Flatten)          (None, 1452)              0         \n",
      "_________________________________________________________________\n",
      "dense_1 (Dense)              (None, 500)               726500    \n",
      "_________________________________________________________________\n",
      "dense_2 (Dense)              (None, 100)               50100     \n",
      "_________________________________________________________________\n",
      "dense_3 (Dense)              (None, 1)                 101       \n",
      "=================================================================\n",
      "Total params: 796,009\n",
      "Trainable params: 795,889\n",
      "Non-trainable params: 120\n",
      "_________________________________________________________________\n"
     ]
    }
   ],
   "source": [
    "from keras import metrics\n",
    "tmp_x = Input((210, 220, 90, 1))\n",
    "x = Conv3D(filters=32, dilation_rate=1, kernel_size=(3, 3, 3), activation='relu')(tmp_x)\n",
    "x = BatchNormalization()(x)\n",
    "x = Dropout(0.5)(x)\n",
    "x = MaxPool3D()(x)\n",
    "\n",
    "x = Conv3D(filters=16, dilation_rate=1, kernel_size=(3, 3, 3), activation='relu')(x)\n",
    "x = BatchNormalization()(x)\n",
    "x = Dropout(0.5)(x)\n",
    "x = MaxPool3D()(x)\n",
    "\n",
    "x = Conv3D(filters=8, dilation_rate=1, kernel_size=(3, 3, 3), activation='relu')(x)\n",
    "x = BatchNormalization()(x)\n",
    "x = MaxPool3D()(x)\n",
    "\n",
    "\n",
    "\n",
    "x = Conv3D(filters=4, dilation_rate=1, kernel_size=(3, 3, 3), activation='relu')(x)\n",
    "x = BatchNormalization()(x)\n",
    "x = MaxPool3D()(x)\n",
    "\n",
    "\n",
    "\n",
    "\n",
    "\n",
    "\n",
    "x = Flatten()(x)\n",
    "x = Dense(units=500, kernel_initializer='normal', activation='elu')(x)\n",
    "x = Dense(units=100, kernel_initializer='normal', activation='relu')(x)\n",
    "x = Dense(units=1, kernel_initializer='normal', activation='sigmoid')(x)\n",
    "\n",
    "model = Model(inputs=tmp_x, outputs=x)\n",
    "adam_lr = 0.0002\n",
    "adam_beta_1 = 0.5\n",
    "model.compile(optimizer=Adam(lr=adam_lr, beta_1=adam_beta_1),\n",
    "              loss='binary_crossentropy', metrics = [metrics.binary_accuracy])\n",
    "model.summary()"
   ]
  },
  {
   "cell_type": "code",
   "execution_count": 11,
   "metadata": {},
   "outputs": [],
   "source": [
    "batch_size = 1\n",
    "v_generator = resec_Generator1(map_df[:-50], batch_size=batch_size)\n",
    "validation_generator = resec_Generator1(map_df[-50:-30], batch_size=batch_size)\n",
    "es = EarlyStopping(monitor='val_loss', mode='min', verbose=1)"
   ]
  },
  {
   "cell_type": "code",
   "execution_count": 13,
   "metadata": {},
   "outputs": [
    {
     "name": "stdout",
     "output_type": "stream",
     "text": [
      "Epoch 1/100\n",
      "132/132 [==============================] - 194s 1s/step - loss: 0.4444 - binary_accuracy: 0.7879 - val_loss: 0.6211 - val_binary_accuracy: 0.5500\n",
      "Epoch 2/100\n",
      "132/132 [==============================] - 187s 1s/step - loss: 0.4190 - binary_accuracy: 0.8030 - val_loss: 0.5914 - val_binary_accuracy: 0.7000\n",
      "Epoch 3/100\n",
      "132/132 [==============================] - 190s 1s/step - loss: 0.3851 - binary_accuracy: 0.8106 - val_loss: 0.5874 - val_binary_accuracy: 0.7500\n",
      "Epoch 4/100\n",
      "132/132 [==============================] - 191s 1s/step - loss: 0.3924 - binary_accuracy: 0.8333 - val_loss: 0.6026 - val_binary_accuracy: 0.6000\n",
      "Epoch 5/100\n",
      "132/132 [==============================] - 188s 1s/step - loss: 0.3384 - binary_accuracy: 0.8333 - val_loss: 0.5828 - val_binary_accuracy: 0.6000\n",
      "Epoch 6/100\n",
      "132/132 [==============================] - 190s 1s/step - loss: 0.3124 - binary_accuracy: 0.8712 - val_loss: 0.5815 - val_binary_accuracy: 0.6000\n",
      "Epoch 7/100\n",
      "132/132 [==============================] - 194s 1s/step - loss: 0.2604 - binary_accuracy: 0.8788 - val_loss: 0.5933 - val_binary_accuracy: 0.6000\n",
      "Epoch 8/100\n",
      "132/132 [==============================] - 188s 1s/step - loss: 0.2572 - binary_accuracy: 0.8864 - val_loss: 0.5849 - val_binary_accuracy: 0.6000\n",
      "Epoch 9/100\n",
      "132/132 [==============================] - 192s 1s/step - loss: 0.2800 - binary_accuracy: 0.8561 - val_loss: 0.6151 - val_binary_accuracy: 0.6000\n",
      "Epoch 10/100\n",
      "132/132 [==============================] - 187s 1s/step - loss: 0.2355 - binary_accuracy: 0.8864 - val_loss: 0.6028 - val_binary_accuracy: 0.6000\n",
      "Epoch 11/100\n",
      "132/132 [==============================] - 188s 1s/step - loss: 0.1840 - binary_accuracy: 0.9167 - val_loss: 0.5927 - val_binary_accuracy: 0.6000\n",
      "Epoch 12/100\n",
      "132/132 [==============================] - 184s 1s/step - loss: 0.1873 - binary_accuracy: 0.9167 - val_loss: 0.5716 - val_binary_accuracy: 0.7000\n",
      "Epoch 13/100\n",
      "132/132 [==============================] - 187s 1s/step - loss: 0.1867 - binary_accuracy: 0.9167 - val_loss: 0.5900 - val_binary_accuracy: 0.6000\n",
      "Epoch 14/100\n",
      "132/132 [==============================] - 192s 1s/step - loss: 0.1710 - binary_accuracy: 0.9167 - val_loss: 0.5860 - val_binary_accuracy: 0.6000\n",
      "Epoch 15/100\n",
      "132/132 [==============================] - 186s 1s/step - loss: 0.1657 - binary_accuracy: 0.9091 - val_loss: 0.6080 - val_binary_accuracy: 0.5000\n",
      "Epoch 16/100\n",
      "132/132 [==============================] - 189s 1s/step - loss: 0.1209 - binary_accuracy: 0.9318 - val_loss: 0.6448 - val_binary_accuracy: 0.5000\n",
      "Epoch 17/100\n",
      "132/132 [==============================] - 186s 1s/step - loss: 0.0854 - binary_accuracy: 0.9697 - val_loss: 0.6696 - val_binary_accuracy: 0.5500\n",
      "Epoch 18/100\n",
      "132/132 [==============================] - 185s 1s/step - loss: 0.1363 - binary_accuracy: 0.9394 - val_loss: 0.5974 - val_binary_accuracy: 0.6000\n",
      "Epoch 19/100\n",
      "132/132 [==============================] - 191s 1s/step - loss: 0.1089 - binary_accuracy: 0.9318 - val_loss: 0.6061 - val_binary_accuracy: 0.5000\n",
      "Epoch 20/100\n",
      "132/132 [==============================] - 186s 1s/step - loss: 0.0979 - binary_accuracy: 0.9697 - val_loss: 0.5981 - val_binary_accuracy: 0.6500\n",
      "Epoch 21/100\n",
      "132/132 [==============================] - 186s 1s/step - loss: 0.0984 - binary_accuracy: 0.9545 - val_loss: 0.6280 - val_binary_accuracy: 0.5500\n",
      "Epoch 22/100\n",
      "132/132 [==============================] - 188s 1s/step - loss: 0.0928 - binary_accuracy: 0.9697 - val_loss: 0.6407 - val_binary_accuracy: 0.5500\n",
      "Epoch 23/100\n",
      "132/132 [==============================] - 191s 1s/step - loss: 0.1114 - binary_accuracy: 0.9545 - val_loss: 0.6138 - val_binary_accuracy: 0.5000\n",
      "Epoch 24/100\n",
      "132/132 [==============================] - 183s 1s/step - loss: 0.0740 - binary_accuracy: 0.9545 - val_loss: 0.7160 - val_binary_accuracy: 0.5500\n",
      "Epoch 25/100\n",
      "132/132 [==============================] - 187s 1s/step - loss: 0.0749 - binary_accuracy: 0.9697 - val_loss: 0.6330 - val_binary_accuracy: 0.5500\n",
      "Epoch 26/100\n",
      "132/132 [==============================] - 189s 1s/step - loss: 0.0587 - binary_accuracy: 0.9697 - val_loss: 0.6241 - val_binary_accuracy: 0.7500\n",
      "Epoch 27/100\n",
      "132/132 [==============================] - 188s 1s/step - loss: 0.1260 - binary_accuracy: 0.9318 - val_loss: 0.6425 - val_binary_accuracy: 0.5500\n",
      "Epoch 28/100\n",
      "132/132 [==============================] - 183s 1s/step - loss: 0.0335 - binary_accuracy: 0.9924 - val_loss: 0.6515 - val_binary_accuracy: 0.5500\n",
      "Epoch 29/100\n",
      "132/132 [==============================] - 186s 1s/step - loss: 0.0841 - binary_accuracy: 0.9697 - val_loss: 0.6911 - val_binary_accuracy: 0.5500\n",
      "Epoch 30/100\n",
      "132/132 [==============================] - 188s 1s/step - loss: 0.1152 - binary_accuracy: 0.9545 - val_loss: 0.6219 - val_binary_accuracy: 0.6500\n",
      "Epoch 31/100\n",
      "132/132 [==============================] - 183s 1s/step - loss: 0.0398 - binary_accuracy: 0.9924 - val_loss: 0.5983 - val_binary_accuracy: 0.5500\n",
      "Epoch 32/100\n",
      "132/132 [==============================] - 189s 1s/step - loss: 0.0213 - binary_accuracy: 0.9924 - val_loss: 0.6107 - val_binary_accuracy: 0.6000\n",
      "Epoch 33/100\n",
      "132/132 [==============================] - 189s 1s/step - loss: 0.0529 - binary_accuracy: 0.9697 - val_loss: 0.6026 - val_binary_accuracy: 0.5000\n",
      "Epoch 34/100\n",
      "132/132 [==============================] - 189s 1s/step - loss: 0.0530 - binary_accuracy: 0.9773 - val_loss: 0.6256 - val_binary_accuracy: 0.5500\n",
      "Epoch 35/100\n",
      "132/132 [==============================] - 186s 1s/step - loss: 0.0445 - binary_accuracy: 0.9773 - val_loss: 0.5837 - val_binary_accuracy: 0.5500\n",
      "Epoch 36/100\n",
      "132/132 [==============================] - 189s 1s/step - loss: 0.1046 - binary_accuracy: 0.9545 - val_loss: 0.5867 - val_binary_accuracy: 0.6000\n",
      "Epoch 37/100\n",
      "132/132 [==============================] - 192s 1s/step - loss: 0.0524 - binary_accuracy: 0.9773 - val_loss: 0.6021 - val_binary_accuracy: 0.6000\n",
      "Epoch 38/100\n",
      "132/132 [==============================] - 189s 1s/step - loss: 0.0310 - binary_accuracy: 0.9924 - val_loss: 0.6982 - val_binary_accuracy: 0.5500\n",
      "Epoch 39/100\n",
      "132/132 [==============================] - 191s 1s/step - loss: 0.0269 - binary_accuracy: 1.0000 - val_loss: 0.6617 - val_binary_accuracy: 0.5500\n",
      "Epoch 40/100\n",
      "132/132 [==============================] - 187s 1s/step - loss: 0.0737 - binary_accuracy: 0.9697 - val_loss: 0.6312 - val_binary_accuracy: 0.6000\n",
      "Epoch 41/100\n",
      "132/132 [==============================] - 190s 1s/step - loss: 0.1621 - binary_accuracy: 0.9470 - val_loss: 0.5924 - val_binary_accuracy: 0.5500\n",
      "Epoch 42/100\n",
      "132/132 [==============================] - 185s 1s/step - loss: 0.0703 - binary_accuracy: 0.9621 - val_loss: 0.6341 - val_binary_accuracy: 0.5500\n",
      "Epoch 43/100\n",
      "132/132 [==============================] - 184s 1s/step - loss: 0.1037 - binary_accuracy: 0.9621 - val_loss: 0.6177 - val_binary_accuracy: 0.6000\n",
      "Epoch 44/100\n",
      "132/132 [==============================] - 187s 1s/step - loss: 0.0601 - binary_accuracy: 0.9697 - val_loss: 0.6143 - val_binary_accuracy: 0.6000\n",
      "Epoch 45/100\n",
      "132/132 [==============================] - 190s 1s/step - loss: 0.0320 - binary_accuracy: 0.9848 - val_loss: 0.6018 - val_binary_accuracy: 0.5500\n",
      "Epoch 46/100\n",
      "132/132 [==============================] - 188s 1s/step - loss: 0.0236 - binary_accuracy: 0.9848 - val_loss: 0.5906 - val_binary_accuracy: 0.5500\n",
      "Epoch 47/100\n",
      "132/132 [==============================] - 189s 1s/step - loss: 0.0080 - binary_accuracy: 1.0000 - val_loss: 0.6066 - val_binary_accuracy: 0.6000\n",
      "Epoch 48/100\n",
      "132/132 [==============================] - 188s 1s/step - loss: 0.0098 - binary_accuracy: 1.0000 - val_loss: 0.5913 - val_binary_accuracy: 0.6000\n",
      "Epoch 49/100\n",
      "132/132 [==============================] - 188s 1s/step - loss: 0.0493 - binary_accuracy: 0.9697 - val_loss: 0.5673 - val_binary_accuracy: 0.6000\n",
      "Epoch 50/100\n",
      "132/132 [==============================] - 186s 1s/step - loss: 0.0156 - binary_accuracy: 0.9924 - val_loss: 0.5950 - val_binary_accuracy: 0.6000\n",
      "Epoch 51/100\n",
      "132/132 [==============================] - 189s 1s/step - loss: 0.0262 - binary_accuracy: 0.9848 - val_loss: 0.5890 - val_binary_accuracy: 0.6000\n",
      "Epoch 52/100\n"
     ]
    },
    {
     "name": "stdout",
     "output_type": "stream",
     "text": [
      "132/132 [==============================] - 188s 1s/step - loss: 0.0575 - binary_accuracy: 0.9773 - val_loss: 0.5721 - val_binary_accuracy: 0.6000\n",
      "Epoch 53/100\n",
      "132/132 [==============================] - 187s 1s/step - loss: 0.0931 - binary_accuracy: 0.9697 - val_loss: 0.5808 - val_binary_accuracy: 0.5500\n",
      "Epoch 54/100\n",
      "132/132 [==============================] - 187s 1s/step - loss: 0.0051 - binary_accuracy: 1.0000 - val_loss: 0.5746 - val_binary_accuracy: 0.6000\n",
      "Epoch 55/100\n",
      "132/132 [==============================] - 189s 1s/step - loss: 0.0083 - binary_accuracy: 1.0000 - val_loss: 0.5731 - val_binary_accuracy: 0.6000\n",
      "Epoch 56/100\n",
      "132/132 [==============================] - 192s 1s/step - loss: 0.0034 - binary_accuracy: 1.0000 - val_loss: 0.5682 - val_binary_accuracy: 0.5500\n",
      "Epoch 57/100\n",
      "132/132 [==============================] - 188s 1s/step - loss: 0.0069 - binary_accuracy: 1.0000 - val_loss: 0.5632 - val_binary_accuracy: 0.5500\n",
      "Epoch 58/100\n",
      "132/132 [==============================] - 186s 1s/step - loss: 0.0357 - binary_accuracy: 0.9773 - val_loss: 0.5879 - val_binary_accuracy: 0.5500\n",
      "Epoch 59/100\n",
      "132/132 [==============================] - 189s 1s/step - loss: 0.0096 - binary_accuracy: 1.0000 - val_loss: 0.5873 - val_binary_accuracy: 0.6000\n",
      "Epoch 60/100\n",
      "132/132 [==============================] - 183s 1s/step - loss: 0.0867 - binary_accuracy: 0.9621 - val_loss: 0.5764 - val_binary_accuracy: 0.7500\n",
      "Epoch 61/100\n",
      "132/132 [==============================] - 191s 1s/step - loss: 0.0438 - binary_accuracy: 0.9848 - val_loss: 0.6156 - val_binary_accuracy: 0.5500\n",
      "Epoch 62/100\n",
      "132/132 [==============================] - 187s 1s/step - loss: 0.0302 - binary_accuracy: 0.9848 - val_loss: 0.6059 - val_binary_accuracy: 0.5500\n",
      "Epoch 63/100\n",
      "132/132 [==============================] - 189s 1s/step - loss: 0.0175 - binary_accuracy: 0.9924 - val_loss: 0.5927 - val_binary_accuracy: 0.5500\n",
      "Epoch 64/100\n",
      "132/132 [==============================] - 186s 1s/step - loss: 0.0303 - binary_accuracy: 0.9924 - val_loss: 0.6026 - val_binary_accuracy: 0.5500\n",
      "Epoch 65/100\n",
      "132/132 [==============================] - 191s 1s/step - loss: 0.0142 - binary_accuracy: 0.9924 - val_loss: 0.5935 - val_binary_accuracy: 0.6000\n",
      "Epoch 66/100\n",
      "132/132 [==============================] - 191s 1s/step - loss: 0.0064 - binary_accuracy: 1.0000 - val_loss: 0.6002 - val_binary_accuracy: 0.6000\n",
      "Epoch 67/100\n",
      "132/132 [==============================] - 187s 1s/step - loss: 0.0032 - binary_accuracy: 1.0000 - val_loss: 0.6020 - val_binary_accuracy: 0.5500\n",
      "Epoch 68/100\n",
      "132/132 [==============================] - 189s 1s/step - loss: 0.0124 - binary_accuracy: 1.0000 - val_loss: 0.6119 - val_binary_accuracy: 0.5500\n",
      "Epoch 69/100\n",
      "132/132 [==============================] - 188s 1s/step - loss: 0.0018 - binary_accuracy: 1.0000 - val_loss: 0.6008 - val_binary_accuracy: 0.5500\n",
      "Epoch 70/100\n",
      "132/132 [==============================] - 186s 1s/step - loss: 0.0053 - binary_accuracy: 1.0000 - val_loss: 0.6021 - val_binary_accuracy: 0.5500\n",
      "Epoch 71/100\n",
      "132/132 [==============================] - 191s 1s/step - loss: 0.0168 - binary_accuracy: 0.9924 - val_loss: 0.6188 - val_binary_accuracy: 0.5000\n",
      "Epoch 72/100\n",
      "132/132 [==============================] - 187s 1s/step - loss: 0.0243 - binary_accuracy: 0.9848 - val_loss: 0.6335 - val_binary_accuracy: 0.6000\n",
      "Epoch 73/100\n",
      "132/132 [==============================] - 189s 1s/step - loss: 0.0015 - binary_accuracy: 1.0000 - val_loss: 0.6165 - val_binary_accuracy: 0.6500\n",
      "Epoch 74/100\n",
      "132/132 [==============================] - 189s 1s/step - loss: 0.0256 - binary_accuracy: 0.9924 - val_loss: 0.6731 - val_binary_accuracy: 0.6500\n",
      "Epoch 75/100\n",
      "132/132 [==============================] - 191s 1s/step - loss: 0.0065 - binary_accuracy: 1.0000 - val_loss: 0.6497 - val_binary_accuracy: 0.6500\n",
      "Epoch 76/100\n",
      "132/132 [==============================] - 189s 1s/step - loss: 0.0471 - binary_accuracy: 0.9773 - val_loss: 0.6548 - val_binary_accuracy: 0.5500\n",
      "Epoch 77/100\n",
      "132/132 [==============================] - 186s 1s/step - loss: 0.0143 - binary_accuracy: 0.9924 - val_loss: 1.5388 - val_binary_accuracy: 0.4500\n",
      "Epoch 78/100\n",
      "132/132 [==============================] - 189s 1s/step - loss: 0.2011 - binary_accuracy: 0.9621 - val_loss: 1.2720 - val_binary_accuracy: 0.5000\n",
      "Epoch 79/100\n",
      "132/132 [==============================] - 188s 1s/step - loss: 0.0648 - binary_accuracy: 0.9697 - val_loss: 1.5491 - val_binary_accuracy: 0.5000\n",
      "Epoch 80/100\n",
      "132/132 [==============================] - 185s 1s/step - loss: 0.1535 - binary_accuracy: 0.9621 - val_loss: 1.4598 - val_binary_accuracy: 0.5000\n",
      "Epoch 81/100\n",
      "132/132 [==============================] - 186s 1s/step - loss: 0.1022 - binary_accuracy: 0.9621 - val_loss: 1.8909 - val_binary_accuracy: 0.4500\n",
      "Epoch 82/100\n",
      "132/132 [==============================] - 186s 1s/step - loss: 0.0211 - binary_accuracy: 0.9924 - val_loss: 2.4517 - val_binary_accuracy: 0.4500\n",
      "Epoch 83/100\n",
      "132/132 [==============================] - 186s 1s/step - loss: 0.0418 - binary_accuracy: 0.9848 - val_loss: 2.6691 - val_binary_accuracy: 0.5000\n",
      "Epoch 84/100\n",
      "132/132 [==============================] - 188s 1s/step - loss: 0.0200 - binary_accuracy: 0.9924 - val_loss: 2.5108 - val_binary_accuracy: 0.5000\n",
      "Epoch 85/100\n",
      "132/132 [==============================] - 189s 1s/step - loss: 0.0127 - binary_accuracy: 0.9924 - val_loss: 2.7735 - val_binary_accuracy: 0.5000\n",
      "Epoch 86/100\n",
      "132/132 [==============================] - 188s 1s/step - loss: 0.0062 - binary_accuracy: 1.0000 - val_loss: 2.7869 - val_binary_accuracy: 0.5000\n",
      "Epoch 87/100\n",
      "132/132 [==============================] - 185s 1s/step - loss: 0.0014 - binary_accuracy: 1.0000 - val_loss: 2.9781 - val_binary_accuracy: 0.5000\n",
      "Epoch 88/100\n",
      "132/132 [==============================] - 188s 1s/step - loss: 0.0567 - binary_accuracy: 0.9773 - val_loss: 2.5616 - val_binary_accuracy: 0.5000\n",
      "Epoch 89/100\n",
      "132/132 [==============================] - 185s 1s/step - loss: 0.0718 - binary_accuracy: 0.9773 - val_loss: 2.6438 - val_binary_accuracy: 0.4500\n",
      "Epoch 90/100\n",
      "132/132 [==============================] - 188s 1s/step - loss: 0.0162 - binary_accuracy: 1.0000 - val_loss: 2.7642 - val_binary_accuracy: 0.4500\n",
      "Epoch 91/100\n",
      "132/132 [==============================] - 188s 1s/step - loss: 0.0042 - binary_accuracy: 1.0000 - val_loss: 2.8760 - val_binary_accuracy: 0.4500\n",
      "Epoch 92/100\n",
      "132/132 [==============================] - 190s 1s/step - loss: 0.0013 - binary_accuracy: 1.0000 - val_loss: 2.5837 - val_binary_accuracy: 0.4500\n",
      "Epoch 93/100\n",
      "132/132 [==============================] - 183s 1s/step - loss: 0.0023 - binary_accuracy: 1.0000 - val_loss: 2.5682 - val_binary_accuracy: 0.4500\n",
      "Epoch 94/100\n",
      "132/132 [==============================] - 185s 1s/step - loss: 0.0014 - binary_accuracy: 1.0000 - val_loss: 2.5767 - val_binary_accuracy: 0.4500\n",
      "Epoch 95/100\n",
      "132/132 [==============================] - 187s 1s/step - loss: 0.0020 - binary_accuracy: 1.0000 - val_loss: 2.6185 - val_binary_accuracy: 0.4500\n",
      "Epoch 96/100\n",
      "132/132 [==============================] - 189s 1s/step - loss: 0.0035 - binary_accuracy: 1.0000 - val_loss: 2.5754 - val_binary_accuracy: 0.5000\n",
      "Epoch 97/100\n",
      "132/132 [==============================] - 183s 1s/step - loss: 0.0017 - binary_accuracy: 1.0000 - val_loss: 2.9691 - val_binary_accuracy: 0.5000\n",
      "Epoch 98/100\n",
      "132/132 [==============================] - 186s 1s/step - loss: 5.9846e-04 - binary_accuracy: 1.0000 - val_loss: 2.9205 - val_binary_accuracy: 0.5000\n",
      "Epoch 99/100\n",
      "132/132 [==============================] - 188s 1s/step - loss: 0.0034 - binary_accuracy: 1.0000 - val_loss: 3.2405 - val_binary_accuracy: 0.4500\n",
      "Epoch 100/100\n",
      "132/132 [==============================] - 185s 1s/step - loss: 0.0120 - binary_accuracy: 0.9924 - val_loss: 3.3208 - val_binary_accuracy: 0.4500\n"
     ]
    }
   ],
   "source": [
    "history = model.fit_generator(v_generator,\n",
    "                              epochs=100, validation_data=validation_generator)"
   ]
  },
  {
   "cell_type": "code",
   "execution_count": 127,
   "metadata": {},
   "outputs": [
    {
     "name": "stdout",
     "output_type": "stream",
     "text": [
      "Epoch 1/15\n",
      "132/132 [==============================] - 194s 1s/step - loss: 0.4268 - binary_accuracy: 0.8409 - val_loss: 0.7253 - val_binary_accuracy: 0.5000\n",
      "Epoch 2/15\n",
      "132/132 [==============================] - 194s 1s/step - loss: 0.4022 - binary_accuracy: 0.8030 - val_loss: 0.6449 - val_binary_accuracy: 0.5500\n",
      "Epoch 3/15\n",
      "132/132 [==============================] - 198s 2s/step - loss: 0.4198 - binary_accuracy: 0.7803 - val_loss: 0.6221 - val_binary_accuracy: 0.5500\n",
      "Epoch 4/15\n",
      "132/132 [==============================] - 192s 1s/step - loss: 0.3559 - binary_accuracy: 0.8030 - val_loss: 0.6237 - val_binary_accuracy: 0.5500\n",
      "Epoch 5/15\n",
      "132/132 [==============================] - 198s 2s/step - loss: 0.2696 - binary_accuracy: 0.8939 - val_loss: 0.6279 - val_binary_accuracy: 0.5000\n",
      "Epoch 6/15\n",
      "132/132 [==============================] - 192s 1s/step - loss: 0.2535 - binary_accuracy: 0.9015 - val_loss: 0.6315 - val_binary_accuracy: 0.5000\n",
      "Epoch 7/15\n",
      "132/132 [==============================] - 189s 1s/step - loss: 0.1927 - binary_accuracy: 0.9470 - val_loss: 0.6770 - val_binary_accuracy: 0.5500\n",
      "Epoch 8/15\n",
      "132/132 [==============================] - 193s 1s/step - loss: 0.2537 - binary_accuracy: 0.8939 - val_loss: 0.6240 - val_binary_accuracy: 0.5500\n",
      "Epoch 9/15\n",
      "132/132 [==============================] - 194s 1s/step - loss: 0.1500 - binary_accuracy: 0.9470 - val_loss: 0.6717 - val_binary_accuracy: 0.5000\n",
      "Epoch 10/15\n",
      "132/132 [==============================] - 194s 1s/step - loss: 0.2064 - binary_accuracy: 0.9242 - val_loss: 0.7277 - val_binary_accuracy: 0.5500\n",
      "Epoch 11/15\n",
      "132/132 [==============================] - 193s 1s/step - loss: 0.1598 - binary_accuracy: 0.9318 - val_loss: 0.7101 - val_binary_accuracy: 0.5500\n",
      "Epoch 12/15\n",
      "132/132 [==============================] - 191s 1s/step - loss: 0.1255 - binary_accuracy: 0.9394 - val_loss: 0.7444 - val_binary_accuracy: 0.5500\n",
      "Epoch 13/15\n",
      "132/132 [==============================] - 192s 1s/step - loss: 0.1638 - binary_accuracy: 0.9167 - val_loss: 0.7311 - val_binary_accuracy: 0.5500\n",
      "Epoch 14/15\n",
      "132/132 [==============================] - 196s 1s/step - loss: 0.1356 - binary_accuracy: 0.9167 - val_loss: 0.6475 - val_binary_accuracy: 0.5500\n",
      "Epoch 15/15\n",
      "132/132 [==============================] - 193s 1s/step - loss: 0.1117 - binary_accuracy: 0.9470 - val_loss: 0.6910 - val_binary_accuracy: 0.5500\n"
     ]
    }
   ],
   "source": [
    "history = model.fit_generator(v_generator,\n",
    "                              epochs=15, validation_data=validation_generator)"
   ]
  },
  {
   "cell_type": "code",
   "execution_count": 128,
   "metadata": {},
   "outputs": [
    {
     "name": "stdout",
     "output_type": "stream",
     "text": [
      "Epoch 1/10\n",
      "132/132 [==============================] - 194s 1s/step - loss: 0.1380 - binary_accuracy: 0.9318 - val_loss: 0.7722 - val_binary_accuracy: 0.5500\n",
      "Epoch 2/10\n",
      "132/132 [==============================] - 193s 1s/step - loss: 0.0748 - binary_accuracy: 0.9697 - val_loss: 0.6996 - val_binary_accuracy: 0.5000\n",
      "Epoch 3/10\n",
      "132/132 [==============================] - 192s 1s/step - loss: 0.1591 - binary_accuracy: 0.9394 - val_loss: 0.6240 - val_binary_accuracy: 0.6500\n",
      "Epoch 4/10\n",
      "132/132 [==============================] - 197s 1s/step - loss: 0.1604 - binary_accuracy: 0.9621 - val_loss: 0.7663 - val_binary_accuracy: 0.4500\n",
      "Epoch 5/10\n",
      "132/132 [==============================] - 193s 1s/step - loss: 0.0686 - binary_accuracy: 0.9697 - val_loss: 0.8193 - val_binary_accuracy: 0.5000\n",
      "Epoch 6/10\n",
      "132/132 [==============================] - 192s 1s/step - loss: 0.0556 - binary_accuracy: 0.9773 - val_loss: 0.8885 - val_binary_accuracy: 0.4500\n",
      "Epoch 7/10\n",
      "132/132 [==============================] - 191s 1s/step - loss: 0.0951 - binary_accuracy: 0.9621 - val_loss: 1.1969 - val_binary_accuracy: 0.4000\n",
      "Epoch 8/10\n",
      "132/132 [==============================] - 195s 1s/step - loss: 0.1453 - binary_accuracy: 0.9318 - val_loss: 1.0588 - val_binary_accuracy: 0.4500\n",
      "Epoch 9/10\n",
      "132/132 [==============================] - 196s 1s/step - loss: 0.0774 - binary_accuracy: 0.9697 - val_loss: 1.4110 - val_binary_accuracy: 0.4500\n",
      "Epoch 10/10\n",
      "132/132 [==============================] - 189s 1s/step - loss: 0.0835 - binary_accuracy: 0.9697 - val_loss: 1.1992 - val_binary_accuracy: 0.4500\n"
     ]
    }
   ],
   "source": [
    "history1 = model.fit_generator(v_generator,\n",
    "                              epochs=10, validation_data=validation_generator)"
   ]
  },
  {
   "cell_type": "code",
   "execution_count": 14,
   "metadata": {},
   "outputs": [
    {
     "name": "stdout",
     "output_type": "stream",
     "text": [
      "dict_keys(['val_loss', 'val_binary_accuracy', 'loss', 'binary_accuracy'])\n"
     ]
    },
    {
     "data": {
      "image/png": "[encoded data removed]",
      "text/plain": [
       "<Figure size 432x288 with 1 Axes>"
      ]
     },
     "metadata": {
      "needs_background": "light"
     },
     "output_type": "display_data"
    },
    {
     "data": {
      "image/png": "[encoded data removed]",
      "text/plain": [
       "<Figure size 432x288 with 1 Axes>"
      ]
     },
     "metadata": {
      "needs_background": "light"
     },
     "output_type": "display_data"
    }
   ],
   "source": [
    "# list all data in history\n",
    "print(history.history.keys())\n",
    "# summarize history for accuracy\n",
    "plt.plot(history.history['binary_accuracy'])\n",
    "plt.plot(history.history['val_binary_accuracy'])\n",
    "plt.title('model accuracy')\n",
    "plt.ylabel('accuracy')\n",
    "plt.xlabel('epoch')\n",
    "plt.legend(['train', 'validation'], loc='upper left')\n",
    "plt.show()\n",
    "# summarize history for loss\n",
    "plt.plot(history.history['loss'])\n",
    "plt.plot(history.history['val_loss'])\n",
    "plt.title('model loss')\n",
    "plt.ylabel('loss')\n",
    "plt.xlabel('epoch')\n",
    "plt.legend(['train', 'validation'], loc='upper left')\n",
    "plt.show()"
   ]
  },
  {
   "cell_type": "code",
   "execution_count": null,
   "metadata": {},
   "outputs": [],
   "source": []
  }
 ],
 "metadata": {
  "kernelspec": {
   "display_name": "Python 3",
   "language": "python",
   "name": "python3"
  },
  "language_info": {
   "codemirror_mode": {
    "name": "ipython",
    "version": 3
   },
   "file_extension": ".py",
   "mimetype": "text/x-python",
   "name": "python",
   "nbconvert_exporter": "python",
   "pygments_lexer": "ipython3",
   "version": "3.6.8"
  }
 },
 "nbformat": 4,
 "nbformat_minor": 2
}
