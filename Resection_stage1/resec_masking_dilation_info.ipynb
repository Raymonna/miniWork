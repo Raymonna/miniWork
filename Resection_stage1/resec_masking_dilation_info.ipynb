{
 "cells": [
  {
   "cell_type": "code",
   "execution_count": 1,
   "metadata": {},
   "outputs": [],
   "source": [
    "import os\n",
    "import tensorflow as tf\n",
    "os.environ[\"CUDA_VISIBLE_DEVICES\"] = \"1\"\n",
    "gpu_options = tf.GPUOptions(allow_growth=True)\n",
    "sess_config = tf.ConfigProto(gpu_options=gpu_options)\n",
    "tf.keras.backend.set_session(tf.Session(config=sess_config))"
   ]
  },
  {
   "cell_type": "code",
   "execution_count": 2,
   "metadata": {},
   "outputs": [],
   "source": [
    "import os\n",
    "import glob\n",
    "#import tqdm\n",
    "import numpy as np\n",
    "#import pandas as pd\n",
    "import multiprocessing\n",
    "import pydicom as dicom\n",
    "import nibabel as nib\n",
    "#from keras import utils as kutils\n",
    "from matplotlib import pyplot as plt\n",
    "\n",
    "def load_image(label_fpath, transpose=False):\n",
    "    #encode_name = label_fpath[-39: -7]\n",
    "    label_data = nib.load(label_fpath)\n",
    "    label_array = label_data.get_fdata()\n",
    "    if transpose:\n",
    "        label_array = np.transpose(label_array, axes=(2, 1, 0))\n",
    "    return  label_array#, encode_name"
   ]
  },
  {
   "cell_type": "code",
   "execution_count": 3,
   "metadata": {},
   "outputs": [
    {
     "name": "stdout",
     "output_type": "stream",
     "text": [
      "/home/u/wartytw\n"
     ]
    }
   ],
   "source": [
    "cd ../"
   ]
  },
  {
   "cell_type": "code",
   "execution_count": 4,
   "metadata": {},
   "outputs": [
    {
     "data": {
      "text/html": [
       "<div>\n",
       "<style scoped>\n",
       "    .dataframe tbody tr th:only-of-type {\n",
       "        vertical-align: middle;\n",
       "    }\n",
       "\n",
       "    .dataframe tbody tr th {\n",
       "        vertical-align: top;\n",
       "    }\n",
       "\n",
       "    .dataframe thead th {\n",
       "        text-align: right;\n",
       "    }\n",
       "</style>\n",
       "<table border=\"1\" class=\"dataframe\">\n",
       "  <thead>\n",
       "    <tr style=\"text-align: right;\">\n",
       "      <th></th>\n",
       "      <th></th>\n",
       "      <th>total</th>\n",
       "    </tr>\n",
       "    <tr>\n",
       "      <th>cut</th>\n",
       "      <th>type</th>\n",
       "      <th></th>\n",
       "    </tr>\n",
       "  </thead>\n",
       "  <tbody>\n",
       "    <tr>\n",
       "      <th rowspan=\"2\" valign=\"top\">fine</th>\n",
       "      <th>healthy</th>\n",
       "      <td>102</td>\n",
       "    </tr>\n",
       "    <tr>\n",
       "      <th>tumor</th>\n",
       "      <td>44</td>\n",
       "    </tr>\n",
       "    <tr>\n",
       "      <th rowspan=\"2\" valign=\"top\">thick</th>\n",
       "      <th>healthy</th>\n",
       "      <td>82</td>\n",
       "    </tr>\n",
       "    <tr>\n",
       "      <th>tumor</th>\n",
       "      <td>197</td>\n",
       "    </tr>\n",
       "  </tbody>\n",
       "</table>\n",
       "</div>"
      ],
      "text/plain": [
       "               total\n",
       "cut   type          \n",
       "fine  healthy    102\n",
       "      tumor       44\n",
       "thick healthy     82\n",
       "      tumor      197"
      ]
     },
     "execution_count": 4,
     "metadata": {},
     "output_type": "execute_result"
    }
   ],
   "source": [
    "import pandas as pd\n",
    "info = pd.read_csv('/data2/pancreas/Nifti_data/data_list.csv')\n",
    "\n",
    "info['total'] = [1]*len(info)\n",
    "pd.DataFrame(info.groupby(['cut', 'type']).sum().total)"
   ]
  },
  {
   "cell_type": "code",
   "execution_count": 14,
   "metadata": {},
   "outputs": [],
   "source": [
    "import pandas as pd\n",
    "info = pd.read_csv('/data2/pancreas/Nifti_data/data_list.csv')\n",
    "image_path = \"/data2/pancreas/Nifti_data/image\"\n",
    "label_path = \"/data2/pancreas/Nifti_data/label\"\n",
    "\n",
    "\n",
    "shape = np.load(\"Resection_stage1/shape.npz.npy\")\n",
    "resec = np.load(\"Resection_stage1/resec.npy\")\n",
    "y = np.load(\"Resection_stage1/resec_y.npy\")\n",
    "shape_tumor = np.load(\"Resection_stage1/shape_tumor.npy\")"
   ]
  },
  {
   "cell_type": "code",
   "execution_count": 6,
   "metadata": {},
   "outputs": [],
   "source": [
    "stage = []\n",
    "size = []\n",
    "cut = []\n",
    "for name in resec:\n",
    "    stage.append(info.iloc[np.where(info.case_id == name)].stage.values[0])\n",
    "    size.append(info.iloc[np.where(info.case_id == name)]['size'].values[0])\n",
    "    cut.append(info.iloc[np.where(info.case_id == name)].cut.values[0])"
   ]
  },
  {
   "cell_type": "code",
   "execution_count": 6,
   "metadata": {},
   "outputs": [
    {
     "name": "stdout",
     "output_type": "stream",
     "text": [
      "['IIA' 'IIB' 'III' 'IIB' 'IIB' 'IV' 'IIB' 'III' 'IIB' 'IV' 'IV' 'IV' 'IIB'\n",
      " 'IV' 'IIA' 'IIB' 'III' 'IIB' 'III' 'IV' 'IIB' 'IV' 'IV' 'IV' 'IIB' 'IIA'\n",
      " 'IB' 'IV' 'IV' 'IIB' 'IIB' 'III' 'IIB' 'III' 'IIA' 'IIA' 'IV' 'IV' 'IV'\n",
      " 'IV' 'IV' 'IV' 'III' 'IIB' 'IIB' 'IIB' 'IIA' 'IIB' 'IIA' 'IIA' 'IIB'\n",
      " 'IIB' 'IV' 'IV' 'IV' 'IV' 'IB' 'IV' 'IIB' 'IIB' 'III' 'IV' 'IIB' 'III'\n",
      " 'IIB' 'IV' 'IIB' 'IIA' 'IIB' 'IV' 'X' 'IV' 'IIB' 'III' 'IV' 'IV' 'III'\n",
      " 'IV' 'III' 'IV' 'III' 'IV' 'IIB' 'IV' 'IV' 'IIA' 'IV' 'III' 'III' 'IIA'\n",
      " 'IIA' 'IIA' 'IIB' 'IV' 'III' 'IV' 'IIA' 'IIB' 'IIB' 'IIA' 'IIB' 'IIB'\n",
      " 'IV' 'IIB' 'IV' 'IV' 'IV' 'III' 'IV' 'III' 'IIA' 'IIB' 'IV' 'IV' 'I' 'IV'\n",
      " 'IIB' 'IIB' 'IIB' 'IV' 'IV' 'III' 'IV' 'III' 'III' 'IV' 'IIB' 'IIA' 'IV'\n",
      " 'III' 'IV' 'IIB' 'IV' 'IIA' 'IIB' 'IB' 'III' 'III' 'IV' 'IV' 'IIB' 'IV'\n",
      " 'IV' 'IV' 'IV' 'IV' 'III' 'IV' 'IIA' 'IIB' 'III' 'III' 'IIB' 'IV' 'IV'\n",
      " 'IV' 'IV' 'IV' 'IIA' 'IIB' 'IV' 'IIB' 'IIB' 'IV' 'III' 'IIA' 'IIB' 'IIA'\n",
      " 'IB' 'II' 'IV' 'IV' 'III' 'IV' 'III' 'III' 'IV' 'IV' 'IV' 'III' 'IIB'\n",
      " 'IV']\n",
      "[3 4 5 4 4 6 4 5 4 6 6 6 4 6 3 4 5 4 5 6 4 6 6 6 4 3 1 6 6 4 4 5 4 5 3 3 6\n",
      " 6 6 6 6 6 5 4 4 4 3 4 3 3 4 4 6 6 6 6 1 6 4 4 5 6 4 5 4 6 4 3 4 6 7 6 4 5\n",
      " 6 6 5 6 5 6 5 6 4 6 6 3 6 5 5 3 3 3 4 6 5 6 3 4 4 3 4 4 6 4 6 6 6 5 6 5 3\n",
      " 4 6 6 0 6 4 4 4 6 6 5 6 5 5 6 4 3 6 5 6 4 6 3 4 1 5 5 6 6 4 6 6 6 6 6 5 6\n",
      " 3 4 5 5 4 6 6 6 6 6 3 4 6 4 4 6 5 3 4 3 1 2 6 6 5 6 5 5 6 6 6 5 4 6]\n",
      "[[0. 0. 0. ... 0. 0. 0.]\n",
      " [0. 0. 0. ... 0. 0. 0.]\n",
      " [0. 0. 0. ... 1. 0. 0.]\n",
      " ...\n",
      " [0. 0. 0. ... 1. 0. 0.]\n",
      " [0. 0. 0. ... 0. 0. 0.]\n",
      " [0. 0. 0. ... 0. 1. 0.]]\n"
     ]
    },
    {
     "name": "stderr",
     "output_type": "stream",
     "text": [
      "/opt/anaconda3/5.2.0/lib/python3.6/site-packages/sklearn/preprocessing/_encoders.py:415: FutureWarning: The handling of integer data will change in version 0.22. Currently, the categories are determined based on the range [0, max(values)], while in the future they will be determined based on the unique values.\n",
      "If you want the future behaviour and silence this warning, you can specify \"categories='auto'\".\n",
      "In case you used a LabelEncoder before this OneHotEncoder to convert the categories to integers, then you can now use the OneHotEncoder directly.\n",
      "  warnings.warn(msg, FutureWarning)\n"
     ]
    }
   ],
   "source": [
    "\n",
    "from numpy import array\n",
    "from numpy import argmax\n",
    "from sklearn.preprocessing import LabelEncoder\n",
    "from sklearn.preprocessing import OneHotEncoder\n",
    "# define example\n",
    "data = stage\n",
    "values = array(data)\n",
    "print(values)\n",
    "# integer encode\n",
    "label_encoder = LabelEncoder()\n",
    "integer_encoded = label_encoder.fit_transform(values)\n",
    "print(integer_encoded)\n",
    "# binary encode\n",
    "onehot_encoder = OneHotEncoder(sparse=False)\n",
    "integer_encoded = integer_encoded.reshape(len(integer_encoded), 1)\n",
    "onehot_encoded = onehot_encoder.fit_transform(integer_encoded)\n",
    "print(onehot_encoded)\n",
    "# invert first example\n",
    "# inverted = label_encoder.inverse_transform([argmax(onehot_encoded[0, :])])\n",
    "# print(inverted)\n"
   ]
  },
  {
   "cell_type": "code",
   "execution_count": 7,
   "metadata": {},
   "outputs": [
    {
     "name": "stdout",
     "output_type": "stream",
     "text": [
      "(182, 8)\n"
     ]
    }
   ],
   "source": [
    "print(onehot_encoded.shape)"
   ]
  },
  {
   "cell_type": "code",
   "execution_count": 7,
   "metadata": {},
   "outputs": [],
   "source": [
    "import os\n",
    "tumor_mask_npz_folder = './npz/tumor_mask_images/'"
   ]
  },
  {
   "cell_type": "code",
   "execution_count": 8,
   "metadata": {},
   "outputs": [],
   "source": [
    "#New\n",
    "def extract_cube(r, img):#cube 210, 220, 90 ;; ranges = [xmin, xmax, ymin, ymax, zmin, zmax]\n",
    "    img_tmp = np.zeros((210, 220, 90))\n",
    "    #print(img.shape, r)\n",
    "    img_tmp[:int(r[1]-r[0]), :int(r[3]-r[2]), :int(r[5]-r[4])] = img[int(r[0]):int(r[1]), int(r[2]):int(r[3]), int(r[4]):int(r[5])]\n",
    "    return img_tmp\n",
    "\n",
    "\n",
    "def masking(label, img):\n",
    "    for i in range(img.shape[0]):\n",
    "        for j in range(img.shape[1]):\n",
    "            if label[i, j] == 0 or label[i, j] == 1:\n",
    "                img[i, j] = 0\n",
    "    return img\n",
    "\n",
    "import pandas as pd\n",
    "map_df = pd.DataFrame(data={'resec_name': resec, 'shape': np.array(range(182)), 'target':y.reshape(182)})"
   ]
  },
  {
   "cell_type": "code",
   "execution_count": 9,
   "metadata": {},
   "outputs": [
    {
     "name": "stderr",
     "output_type": "stream",
     "text": [
      "Using TensorFlow backend.\n"
     ]
    }
   ],
   "source": [
    "from keras.models import Model#, load_model\n",
    "from keras import layers as klayers\n",
    "from keras.optimizers import Adam\n",
    "from keras import utils as kutils\n",
    "from keras import backend as K\n",
    "from keras.callbacks import ModelCheckpoint\n",
    "\n",
    "\n",
    "\n",
    "from keras.layers import Conv3D, MaxPool3D, Flatten, Dense\n",
    "from keras.layers import Dropout, Input, BatchNormalization\n",
    "from sklearn.metrics import confusion_matrix, accuracy_score\n",
    "#from plotly.offline import iplot, init_notebook_mode\n",
    "from keras.losses import categorical_crossentropy\n",
    "from keras.optimizers import Adadelta\n",
    "#import plotly.graph_objs as go\n",
    "from matplotlib.pyplot import cm\n",
    "from keras.models import Model\n",
    "import numpy as np\n",
    "import keras\n",
    "import h5py\n",
    "\n",
    "#init_notebook_mode(connected=True)\n",
    "%matplotlib inline\n",
    "\n",
    "\n",
    "from keras.datasets import mnist\n",
    "from keras.layers import Input, Dense, Reshape, Flatten, Dropout, multiply, concatenate,  MaxPool2D\n",
    "# from keras.layers import BatchNormalization, Activation, Embedding, ZeroPadding2D, Lambda\n",
    "from keras.layers.advanced_activations import LeakyReLU, ReLU\n",
    "from keras.layers.convolutional import UpSampling2D, Conv2D, Conv1D\n",
    "from keras.models import Sequential, Model\n",
    "from keras.optimizers import Adam, SGD\n",
    "from keras.utils import to_categorical\n",
    "import keras.backend as K\n",
    "import matplotlib.pyplot as plt\n",
    "import numpy as np\n",
    "\n",
    "import pandas as pd\n",
    "import numpy as np\n",
    "from keras.models import Sequential\n",
    "from keras.layers import Dense, Dropout, Activation, Flatten, LSTM, TimeDistributed, RepeatVector, Reshape\n",
    "from keras.layers.normalization import BatchNormalization\n",
    "from keras.optimizers import Adam\n",
    "from keras.callbacks import EarlyStopping, ModelCheckpoint\n",
    "import matplotlib.pyplot as plt\n",
    "import tensorflow as tf\n",
    "%matplotlib inline\n",
    "\n"
   ]
  },
  {
   "cell_type": "code",
   "execution_count": 29,
   "metadata": {},
   "outputs": [],
   "source": [
    "from keras.utils import to_categorical\n",
    "\n",
    "class resec_Generator1(kutils.Sequence):\n",
    "    'Generates data for Keras'\n",
    "    def __init__(self, mapping_df, batch_size, shuffle=True):\n",
    "        'Initialization'\n",
    "        self.mapping_df = mapping_df\n",
    "        self.data_num   = mapping_df.shape[0]\n",
    "        self.batch_size = batch_size\n",
    "        self.shuffle = shuffle\n",
    "        self.on_epoch_end()\n",
    "\n",
    "    def __len__(self):\n",
    "        'Denotes the number of batches per epoch'\n",
    "        return int(np.floor(self.data_num / self.batch_size))\n",
    "\n",
    "\n",
    "    def __getitem__(self, index):\n",
    "        'Generate one batch of data'\n",
    "        # Generate indexes of the batch\n",
    "        #print(\"enter0\")\n",
    "        batch_mapping_df = \\\n",
    "            self.mapping_df.iloc[index*self.batch_size: (index+1)*self.batch_size]\n",
    "\n",
    "        # Generate data\n",
    "        X, y = self.__data_generation(batch_mapping_df)\n",
    "        return X, y\n",
    "\n",
    "\n",
    "    def on_epoch_end(self):\n",
    "        'Updates indexes after each epoch'\n",
    "        if self.shuffle:\n",
    "            self.mapping_df = self.mapping_df.sample(frac=1).reset_index(drop=True)\n",
    "            \n",
    "    def __data_generation(self, batch_mapping_df):\n",
    "        'Generates data containing batch_size samples' \n",
    "        # Initialization\n",
    "        X = np.zeros((  self.batch_size, 210, 220, 90, 1)) \n",
    "#         x1 = np.zeros((self.batch_size, 1))\n",
    "        #x2 = np.zeros((self.batch_size, 8))\n",
    "        y = np.zeros((self.batch_size))\n",
    "\n",
    "        # Generate data\n",
    "        cnt = 0\n",
    "        \n",
    "        for i, row in batch_mapping_df.iterrows():\n",
    "            #img = extract_cube(shape_tumor[row['shape']], load_image(os.path.join(image_path, \"IM_\"+row['resec_name']+\".nii.gz\")))\n",
    "            encode = row['resec_name']\n",
    "            volume_image = load_image(os.path.join(image_path, \"IM_\"+encode+\".nii.gz\"))\n",
    "            label = load_image(os.path.join(label_path, \"LB_\"+encode+\".nii.gz\"))\n",
    "            volume_image1 = extract_cube(shape_tumor[row['shape'], :], volume_image) \n",
    "            label1 = extract_cube(shape_tumor[row['shape'], :], label) \n",
    "            num_slice = volume_image1.shape[2]\n",
    "            for _z in range(0, num_slice):\n",
    "                label11 = ndimage.binary_dilation(label1[:, :, _z]).astype(label1[:, :, _z].dtype)\n",
    "                volume_image1[..., _z] = masking(label11, volume_image1[..., _z])\n",
    "                del label11\n",
    "\n",
    "            #print(encode)\n",
    "            X[ cnt, :, :, :, 0] = volume_image1\n",
    "\n",
    "            #x2[cnt, :] = onehot_encoded[row['shape'], :]\n",
    "            del volume_image1, label1, volume_image, label\n",
    "            #img = clip_img(load_image(os.path.join(image_path, \"IM_\"+row['resec_name']+\".nii.gz\")))\n",
    "            #print(\"resec_name =\", row['resec_name'])\n",
    "#             for j in range(40):\n",
    "#                 #print(\"img shape =\", img.shape)\n",
    "#                 #print(\"j =\", j)\n",
    "#                 X[j][cnt, :, :, :, 0] = extract_cube(img, j)\n",
    "            y[cnt] = row['target']\n",
    "\n",
    "#             position = extract_position(row['ref_idx'], row['point_idx'])\n",
    "#             tmp_cube = extract_cube(position, row['ref_idx'])\n",
    "#             if (tmp_cube.shape == (19, 19, 19)):\n",
    "#                 X[cnt, :, :, :, 0] = extract_cube(position, row['ref_idx'])\n",
    "#             else:\n",
    "#                 X[cnt, :, :, :, 0] = np.zeros((19, 19, 19))\n",
    "#             y_idx = row['y_idx']\n",
    "#             radius = ref[row['ref_idx']][row['point_idx'], 3]\n",
    "#             y1[cnt, y_idx] = 1\n",
    "#             y2[cnt, 0] = radius\n",
    "            cnt += 1\n",
    "        #print(X[5])\n",
    "        return X, y\n",
    "\n",
    "# for name in resec:\n",
    "#     img = load_image(os.path.join(image_path, \"IM_\"+name+\".nii.gz\"))"
   ]
  },
  {
   "cell_type": "code",
   "execution_count": 30,
   "metadata": {},
   "outputs": [
    {
     "name": "stdout",
     "output_type": "stream",
     "text": [
      "_________________________________________________________________\n",
      "Layer (type)                 Output Shape              Param #   \n",
      "=================================================================\n",
      "input_10 (InputLayer)        (None, 210, 220, 90, 1)   0         \n",
      "_________________________________________________________________\n",
      "conv3d_14 (Conv3D)           (None, 208, 218, 88, 32)  896       \n",
      "_________________________________________________________________\n",
      "batch_normalization_14 (Batc (None, 208, 218, 88, 32)  128       \n",
      "_________________________________________________________________\n",
      "dropout_8 (Dropout)          (None, 208, 218, 88, 32)  0         \n",
      "_________________________________________________________________\n",
      "max_pooling3d_14 (MaxPooling (None, 104, 109, 44, 32)  0         \n",
      "_________________________________________________________________\n",
      "conv3d_15 (Conv3D)           (None, 102, 107, 42, 16)  13840     \n",
      "_________________________________________________________________\n",
      "batch_normalization_15 (Batc (None, 102, 107, 42, 16)  64        \n",
      "_________________________________________________________________\n",
      "dropout_9 (Dropout)          (None, 102, 107, 42, 16)  0         \n",
      "_________________________________________________________________\n",
      "max_pooling3d_15 (MaxPooling (None, 51, 53, 21, 16)    0         \n",
      "_________________________________________________________________\n",
      "conv3d_16 (Conv3D)           (None, 49, 51, 19, 8)     3464      \n",
      "_________________________________________________________________\n",
      "batch_normalization_16 (Batc (None, 49, 51, 19, 8)     32        \n",
      "_________________________________________________________________\n",
      "max_pooling3d_16 (MaxPooling (None, 24, 25, 9, 8)      0         \n",
      "_________________________________________________________________\n",
      "conv3d_17 (Conv3D)           (None, 22, 23, 7, 4)      868       \n",
      "_________________________________________________________________\n",
      "batch_normalization_17 (Batc (None, 22, 23, 7, 4)      16        \n",
      "_________________________________________________________________\n",
      "max_pooling3d_17 (MaxPooling (None, 11, 11, 3, 4)      0         \n",
      "_________________________________________________________________\n",
      "flatten_4 (Flatten)          (None, 1452)              0         \n",
      "_________________________________________________________________\n",
      "dense_19 (Dense)             (None, 500)               726500    \n",
      "_________________________________________________________________\n",
      "dense_20 (Dense)             (None, 100)               50100     \n",
      "_________________________________________________________________\n",
      "dense_21 (Dense)             (None, 5)                 505       \n",
      "_________________________________________________________________\n",
      "dense_22 (Dense)             (None, 1)                 6         \n",
      "=================================================================\n",
      "Total params: 796,419\n",
      "Trainable params: 796,299\n",
      "Non-trainable params: 120\n",
      "_________________________________________________________________\n"
     ]
    }
   ],
   "source": [
    "from keras import metrics\n",
    "tmp_x = Input((210, 220, 90, 1))\n",
    "x = Conv3D(filters=32, dilation_rate=1, kernel_size=(3, 3, 3),kernel_initializer = keras.initializers.he_normal(seed=None), activation='relu')(tmp_x)\n",
    "x = BatchNormalization()(x)\n",
    "x = Dropout(0.5)(x)\n",
    "x = MaxPool3D()(x)\n",
    "\n",
    "x = Conv3D(filters=16, dilation_rate=1, kernel_size=(3, 3, 3),kernel_initializer =keras.initializers.he_normal(seed=None), activation='relu')(x)\n",
    "x = BatchNormalization()(x)\n",
    "x = Dropout(0.5)(x)\n",
    "x = MaxPool3D()(x)\n",
    "\n",
    "x = Conv3D(filters=8, dilation_rate=1, kernel_size=(3, 3, 3),kernel_initializer = keras.initializers.he_normal(seed=None), activation='relu')(x)\n",
    "x = BatchNormalization()(x)\n",
    "x = MaxPool3D()(x)\n",
    "\n",
    "\n",
    "\n",
    "x = Conv3D(filters=4, dilation_rate=1, kernel_size=(3, 3, 3),kernel_initializer = keras.initializers.he_normal(seed=None), activation='relu')(x)\n",
    "x = BatchNormalization()(x)\n",
    "x = MaxPool3D()(x)\n",
    "\n",
    "\n",
    "x = Flatten()(x)\n",
    "x = Dense(units=500, kernel_initializer='normal', activation='elu')(x)\n",
    "x = Dense(units=100,kernel_initializer = keras.initializers.he_normal(seed=None), activation='relu')(x)\n",
    "x = Dense(units=5, activation='relu')(x)\n",
    "\n",
    "\n",
    "# tmp_a = Input((1,))\n",
    "# a = Dense(5, activation='elu')(tmp_a)\n",
    "# a = Dense(2, kernel_initializer =keras.initializers.he_normal(seed=None),activation='relu')(a)\n",
    "# a = Dense(1,kernel_initializer =  keras.initializers.he_normal(seed=None) , activation='sigmoid')(a)\n",
    "\n",
    "# tmp_b = Input((8,))\n",
    "# b = Dense(10, activation='selu')(tmp_b)\n",
    "# b = Dense(20, activation='selu')(b)\n",
    "# b = Dense(10, activation='elu')(b)\n",
    "# b = Dense(5, activation='relu' )(b)\n",
    "# b = Dense(1, activation='sigmoid')(b)\n",
    "\n",
    "#x = concatenate([x, a, b], axis = 1)\n",
    "# x = concatenate([x, a], axis = 1)\n",
    "x = Dense(1, kernel_initializer =  keras.initializers.he_normal(seed=None),activation='sigmoid')(x)\n",
    "\n",
    "\n",
    "\n",
    "\n",
    "model = Model(inputs=tmp_x, outputs=x)\n",
    "#model = Model(inputs=[tmp_x, tmp_a, tmp_b], outputs=x)\n",
    "adam_lr = 0.0002\n",
    "adam_beta_1 = 0.5\n",
    "model.compile(optimizer=Adam(lr=adam_lr, beta_1=adam_beta_1),\n",
    "              loss='binary_crossentropy', metrics = [metrics.binary_accuracy])\n",
    "model.summary()"
   ]
  },
  {
   "cell_type": "code",
   "execution_count": 31,
   "metadata": {},
   "outputs": [],
   "source": [
    "batch_size = 1\n",
    "v_generator = resec_Generator1(map_df[:-50], batch_size=batch_size)\n",
    "validation_generator = resec_Generator1(map_df[-50:-30], batch_size=batch_size)"
   ]
  },
  {
   "cell_type": "code",
   "execution_count": 32,
   "metadata": {},
   "outputs": [
    {
     "name": "stdout",
     "output_type": "stream",
     "text": [
      "Epoch 1/100\n",
      "132/132 [==============================] - 580s 4s/step - loss: 0.6932 - binary_accuracy: 0.4848 - val_loss: 0.6930 - val_binary_accuracy: 0.6000\n",
      "Epoch 2/100\n",
      "132/132 [==============================] - 520s 4s/step - loss: 0.6932 - binary_accuracy: 0.5000 - val_loss: 0.6929 - val_binary_accuracy: 0.6000\n",
      "Epoch 3/100\n",
      "132/132 [==============================] - 547s 4s/step - loss: 0.6931 - binary_accuracy: 0.5227 - val_loss: 0.6928 - val_binary_accuracy: 0.6000\n",
      "Epoch 4/100\n",
      "132/132 [==============================] - 527s 4s/step - loss: 0.6931 - binary_accuracy: 0.5227 - val_loss: 0.6927 - val_binary_accuracy: 0.6000\n",
      "Epoch 5/100\n",
      "132/132 [==============================] - 538s 4s/step - loss: 0.6931 - binary_accuracy: 0.5227 - val_loss: 0.6926 - val_binary_accuracy: 0.6000\n",
      "Epoch 6/100\n",
      "132/132 [==============================] - 520s 4s/step - loss: 0.6931 - binary_accuracy: 0.5227 - val_loss: 0.6925 - val_binary_accuracy: 0.6000\n",
      "Epoch 7/100\n",
      "132/132 [==============================] - 534s 4s/step - loss: 0.6930 - binary_accuracy: 0.5227 - val_loss: 0.6923 - val_binary_accuracy: 0.6000\n",
      "Epoch 8/100\n",
      "132/132 [==============================] - 524s 4s/step - loss: 0.6930 - binary_accuracy: 0.5227 - val_loss: 0.6923 - val_binary_accuracy: 0.6000\n",
      "Epoch 9/100\n",
      "132/132 [==============================] - 537s 4s/step - loss: 0.6930 - binary_accuracy: 0.5227 - val_loss: 0.6921 - val_binary_accuracy: 0.6000\n",
      "Epoch 10/100\n",
      "132/132 [==============================] - 524s 4s/step - loss: 0.6929 - binary_accuracy: 0.5227 - val_loss: 0.6920 - val_binary_accuracy: 0.6000\n",
      "Epoch 12/100\n",
      "132/132 [==============================] - 531s 4s/step - loss: 0.6929 - binary_accuracy: 0.5227 - val_loss: 0.6918 - val_binary_accuracy: 0.6000\n",
      "Epoch 13/100\n",
      "132/132 [==============================] - 527s 4s/step - loss: 0.6929 - binary_accuracy: 0.5227 - val_loss: 0.6917 - val_binary_accuracy: 0.6000\n",
      "Epoch 14/100\n",
      "132/132 [==============================] - 509s 4s/step - loss: 0.6929 - binary_accuracy: 0.5227 - val_loss: 0.6916 - val_binary_accuracy: 0.6000\n",
      "Epoch 15/100\n",
      "132/132 [==============================] - 545s 4s/step - loss: 0.6929 - binary_accuracy: 0.5227 - val_loss: 0.6915 - val_binary_accuracy: 0.6000\n",
      "Epoch 16/100\n",
      "132/132 [==============================] - 528s 4s/step - loss: 0.6928 - binary_accuracy: 0.5227 - val_loss: 0.6915 - val_binary_accuracy: 0.6000\n",
      "Epoch 17/100\n",
      "132/132 [==============================] - 540s 4s/step - loss: 0.6928 - binary_accuracy: 0.5227 - val_loss: 0.6914 - val_binary_accuracy: 0.6000\n",
      "Epoch 18/100\n",
      "132/132 [==============================] - 529s 4s/step - loss: 0.6928 - binary_accuracy: 0.5227 - val_loss: 0.6913 - val_binary_accuracy: 0.6000\n",
      "Epoch 19/100\n",
      "132/132 [==============================] - 527s 4s/step - loss: 0.6928 - binary_accuracy: 0.5227 - val_loss: 0.6912 - val_binary_accuracy: 0.6000\n",
      "Epoch 20/100\n",
      " 19/132 [===>..........................] - ETA: 7:16 - loss: 0.6905 - binary_accuracy: 0.6316"
     ]
    },
    {
     "ename": "KeyboardInterrupt",
     "evalue": "",
     "output_type": "error",
     "traceback": [
      "\u001b[0;31m---------------------------------------------------------------------------\u001b[0m",
      "\u001b[0;31mKeyboardInterrupt\u001b[0m                         Traceback (most recent call last)",
      "\u001b[0;32m<ipython-input-32-9d52d88557ea>\u001b[0m in \u001b[0;36m<module>\u001b[0;34m\u001b[0m\n\u001b[1;32m      1\u001b[0m \u001b[0;32mfrom\u001b[0m \u001b[0mscipy\u001b[0m \u001b[0;32mimport\u001b[0m \u001b[0mndimage\u001b[0m\u001b[0;34m\u001b[0m\u001b[0;34m\u001b[0m\u001b[0m\n\u001b[1;32m      2\u001b[0m history = model.fit_generator(v_generator,\n\u001b[0;32m----> 3\u001b[0;31m                               epochs=100, validation_data=validation_generator)\n\u001b[0m",
      "\u001b[0;32m/opt/python-3.6-packages/keras/2.2.4/keras/legacy/interfaces.py\u001b[0m in \u001b[0;36mwrapper\u001b[0;34m(*args, **kwargs)\u001b[0m\n\u001b[1;32m     89\u001b[0m                 warnings.warn('Update your `' + object_name + '` call to the ' +\n\u001b[1;32m     90\u001b[0m                               'Keras 2 API: ' + signature, stacklevel=2)\n\u001b[0;32m---> 91\u001b[0;31m             \u001b[0;32mreturn\u001b[0m \u001b[0mfunc\u001b[0m\u001b[0;34m(\u001b[0m\u001b[0;34m*\u001b[0m\u001b[0margs\u001b[0m\u001b[0;34m,\u001b[0m \u001b[0;34m**\u001b[0m\u001b[0mkwargs\u001b[0m\u001b[0;34m)\u001b[0m\u001b[0;34m\u001b[0m\u001b[0;34m\u001b[0m\u001b[0m\n\u001b[0m\u001b[1;32m     92\u001b[0m         \u001b[0mwrapper\u001b[0m\u001b[0;34m.\u001b[0m\u001b[0m_original_function\u001b[0m \u001b[0;34m=\u001b[0m \u001b[0mfunc\u001b[0m\u001b[0;34m\u001b[0m\u001b[0;34m\u001b[0m\u001b[0m\n\u001b[1;32m     93\u001b[0m         \u001b[0;32mreturn\u001b[0m \u001b[0mwrapper\u001b[0m\u001b[0;34m\u001b[0m\u001b[0;34m\u001b[0m\u001b[0m\n",
      "\u001b[0;32m/opt/python-3.6-packages/keras/2.2.4/keras/engine/training.py\u001b[0m in \u001b[0;36mfit_generator\u001b[0;34m(self, generator, steps_per_epoch, epochs, verbose, callbacks, validation_data, validation_steps, class_weight, max_queue_size, workers, use_multiprocessing, shuffle, initial_epoch)\u001b[0m\n\u001b[1;32m   1416\u001b[0m             \u001b[0muse_multiprocessing\u001b[0m\u001b[0;34m=\u001b[0m\u001b[0muse_multiprocessing\u001b[0m\u001b[0;34m,\u001b[0m\u001b[0;34m\u001b[0m\u001b[0;34m\u001b[0m\u001b[0m\n\u001b[1;32m   1417\u001b[0m             \u001b[0mshuffle\u001b[0m\u001b[0;34m=\u001b[0m\u001b[0mshuffle\u001b[0m\u001b[0;34m,\u001b[0m\u001b[0;34m\u001b[0m\u001b[0;34m\u001b[0m\u001b[0m\n\u001b[0;32m-> 1418\u001b[0;31m             initial_epoch=initial_epoch)\n\u001b[0m\u001b[1;32m   1419\u001b[0m \u001b[0;34m\u001b[0m\u001b[0m\n\u001b[1;32m   1420\u001b[0m     \u001b[0;34m@\u001b[0m\u001b[0minterfaces\u001b[0m\u001b[0;34m.\u001b[0m\u001b[0mlegacy_generator_methods_support\u001b[0m\u001b[0;34m\u001b[0m\u001b[0;34m\u001b[0m\u001b[0m\n",
      "\u001b[0;32m/opt/python-3.6-packages/keras/2.2.4/keras/engine/training_generator.py\u001b[0m in \u001b[0;36mfit_generator\u001b[0;34m(model, generator, steps_per_epoch, epochs, verbose, callbacks, validation_data, validation_steps, class_weight, max_queue_size, workers, use_multiprocessing, shuffle, initial_epoch)\u001b[0m\n\u001b[1;32m    179\u001b[0m             \u001b[0mbatch_index\u001b[0m \u001b[0;34m=\u001b[0m \u001b[0;36m0\u001b[0m\u001b[0;34m\u001b[0m\u001b[0;34m\u001b[0m\u001b[0m\n\u001b[1;32m    180\u001b[0m             \u001b[0;32mwhile\u001b[0m \u001b[0msteps_done\u001b[0m \u001b[0;34m<\u001b[0m \u001b[0msteps_per_epoch\u001b[0m\u001b[0;34m:\u001b[0m\u001b[0;34m\u001b[0m\u001b[0;34m\u001b[0m\u001b[0m\n\u001b[0;32m--> 181\u001b[0;31m                 \u001b[0mgenerator_output\u001b[0m \u001b[0;34m=\u001b[0m \u001b[0mnext\u001b[0m\u001b[0;34m(\u001b[0m\u001b[0moutput_generator\u001b[0m\u001b[0;34m)\u001b[0m\u001b[0;34m\u001b[0m\u001b[0;34m\u001b[0m\u001b[0m\n\u001b[0m\u001b[1;32m    182\u001b[0m \u001b[0;34m\u001b[0m\u001b[0m\n\u001b[1;32m    183\u001b[0m                 \u001b[0;32mif\u001b[0m \u001b[0;32mnot\u001b[0m \u001b[0mhasattr\u001b[0m\u001b[0;34m(\u001b[0m\u001b[0mgenerator_output\u001b[0m\u001b[0;34m,\u001b[0m \u001b[0;34m'__len__'\u001b[0m\u001b[0;34m)\u001b[0m\u001b[0;34m:\u001b[0m\u001b[0;34m\u001b[0m\u001b[0;34m\u001b[0m\u001b[0m\n",
      "\u001b[0;32m/opt/python-3.6-packages/keras/2.2.4/keras/utils/data_utils.py\u001b[0m in \u001b[0;36mget\u001b[0;34m(self)\u001b[0m\n\u001b[1;32m    593\u001b[0m         \u001b[0;32mtry\u001b[0m\u001b[0;34m:\u001b[0m\u001b[0;34m\u001b[0m\u001b[0;34m\u001b[0m\u001b[0m\n\u001b[1;32m    594\u001b[0m             \u001b[0;32mwhile\u001b[0m \u001b[0mself\u001b[0m\u001b[0;34m.\u001b[0m\u001b[0mis_running\u001b[0m\u001b[0;34m(\u001b[0m\u001b[0;34m)\u001b[0m\u001b[0;34m:\u001b[0m\u001b[0;34m\u001b[0m\u001b[0;34m\u001b[0m\u001b[0m\n\u001b[0;32m--> 595\u001b[0;31m                 \u001b[0minputs\u001b[0m \u001b[0;34m=\u001b[0m \u001b[0mself\u001b[0m\u001b[0;34m.\u001b[0m\u001b[0mqueue\u001b[0m\u001b[0;34m.\u001b[0m\u001b[0mget\u001b[0m\u001b[0;34m(\u001b[0m\u001b[0mblock\u001b[0m\u001b[0;34m=\u001b[0m\u001b[0;32mTrue\u001b[0m\u001b[0;34m)\u001b[0m\u001b[0;34m.\u001b[0m\u001b[0mget\u001b[0m\u001b[0;34m(\u001b[0m\u001b[0;34m)\u001b[0m\u001b[0;34m\u001b[0m\u001b[0;34m\u001b[0m\u001b[0m\n\u001b[0m\u001b[1;32m    596\u001b[0m                 \u001b[0mself\u001b[0m\u001b[0;34m.\u001b[0m\u001b[0mqueue\u001b[0m\u001b[0;34m.\u001b[0m\u001b[0mtask_done\u001b[0m\u001b[0;34m(\u001b[0m\u001b[0;34m)\u001b[0m\u001b[0;34m\u001b[0m\u001b[0;34m\u001b[0m\u001b[0m\n\u001b[1;32m    597\u001b[0m                 \u001b[0;32mif\u001b[0m \u001b[0minputs\u001b[0m \u001b[0;32mis\u001b[0m \u001b[0;32mnot\u001b[0m \u001b[0;32mNone\u001b[0m\u001b[0;34m:\u001b[0m\u001b[0;34m\u001b[0m\u001b[0;34m\u001b[0m\u001b[0m\n",
      "\u001b[0;32m/opt/anaconda3/5.2.0/lib/python3.6/multiprocessing/pool.py\u001b[0m in \u001b[0;36mget\u001b[0;34m(self, timeout)\u001b[0m\n\u001b[1;32m    636\u001b[0m \u001b[0;34m\u001b[0m\u001b[0m\n\u001b[1;32m    637\u001b[0m     \u001b[0;32mdef\u001b[0m \u001b[0mget\u001b[0m\u001b[0;34m(\u001b[0m\u001b[0mself\u001b[0m\u001b[0;34m,\u001b[0m \u001b[0mtimeout\u001b[0m\u001b[0;34m=\u001b[0m\u001b[0;32mNone\u001b[0m\u001b[0;34m)\u001b[0m\u001b[0;34m:\u001b[0m\u001b[0;34m\u001b[0m\u001b[0;34m\u001b[0m\u001b[0m\n\u001b[0;32m--> 638\u001b[0;31m         \u001b[0mself\u001b[0m\u001b[0;34m.\u001b[0m\u001b[0mwait\u001b[0m\u001b[0;34m(\u001b[0m\u001b[0mtimeout\u001b[0m\u001b[0;34m)\u001b[0m\u001b[0;34m\u001b[0m\u001b[0;34m\u001b[0m\u001b[0m\n\u001b[0m\u001b[1;32m    639\u001b[0m         \u001b[0;32mif\u001b[0m \u001b[0;32mnot\u001b[0m \u001b[0mself\u001b[0m\u001b[0;34m.\u001b[0m\u001b[0mready\u001b[0m\u001b[0;34m(\u001b[0m\u001b[0;34m)\u001b[0m\u001b[0;34m:\u001b[0m\u001b[0;34m\u001b[0m\u001b[0;34m\u001b[0m\u001b[0m\n\u001b[1;32m    640\u001b[0m             \u001b[0;32mraise\u001b[0m \u001b[0mTimeoutError\u001b[0m\u001b[0;34m\u001b[0m\u001b[0;34m\u001b[0m\u001b[0m\n",
      "\u001b[0;32m/opt/anaconda3/5.2.0/lib/python3.6/multiprocessing/pool.py\u001b[0m in \u001b[0;36mwait\u001b[0;34m(self, timeout)\u001b[0m\n\u001b[1;32m    633\u001b[0m \u001b[0;34m\u001b[0m\u001b[0m\n\u001b[1;32m    634\u001b[0m     \u001b[0;32mdef\u001b[0m \u001b[0mwait\u001b[0m\u001b[0;34m(\u001b[0m\u001b[0mself\u001b[0m\u001b[0;34m,\u001b[0m \u001b[0mtimeout\u001b[0m\u001b[0;34m=\u001b[0m\u001b[0;32mNone\u001b[0m\u001b[0;34m)\u001b[0m\u001b[0;34m:\u001b[0m\u001b[0;34m\u001b[0m\u001b[0;34m\u001b[0m\u001b[0m\n\u001b[0;32m--> 635\u001b[0;31m         \u001b[0mself\u001b[0m\u001b[0;34m.\u001b[0m\u001b[0m_event\u001b[0m\u001b[0;34m.\u001b[0m\u001b[0mwait\u001b[0m\u001b[0;34m(\u001b[0m\u001b[0mtimeout\u001b[0m\u001b[0;34m)\u001b[0m\u001b[0;34m\u001b[0m\u001b[0;34m\u001b[0m\u001b[0m\n\u001b[0m\u001b[1;32m    636\u001b[0m \u001b[0;34m\u001b[0m\u001b[0m\n\u001b[1;32m    637\u001b[0m     \u001b[0;32mdef\u001b[0m \u001b[0mget\u001b[0m\u001b[0;34m(\u001b[0m\u001b[0mself\u001b[0m\u001b[0;34m,\u001b[0m \u001b[0mtimeout\u001b[0m\u001b[0;34m=\u001b[0m\u001b[0;32mNone\u001b[0m\u001b[0;34m)\u001b[0m\u001b[0;34m:\u001b[0m\u001b[0;34m\u001b[0m\u001b[0;34m\u001b[0m\u001b[0m\n",
      "\u001b[0;32m/opt/anaconda3/5.2.0/lib/python3.6/threading.py\u001b[0m in \u001b[0;36mwait\u001b[0;34m(self, timeout)\u001b[0m\n\u001b[1;32m    549\u001b[0m             \u001b[0msignaled\u001b[0m \u001b[0;34m=\u001b[0m \u001b[0mself\u001b[0m\u001b[0;34m.\u001b[0m\u001b[0m_flag\u001b[0m\u001b[0;34m\u001b[0m\u001b[0;34m\u001b[0m\u001b[0m\n\u001b[1;32m    550\u001b[0m             \u001b[0;32mif\u001b[0m \u001b[0;32mnot\u001b[0m \u001b[0msignaled\u001b[0m\u001b[0;34m:\u001b[0m\u001b[0;34m\u001b[0m\u001b[0;34m\u001b[0m\u001b[0m\n\u001b[0;32m--> 551\u001b[0;31m                 \u001b[0msignaled\u001b[0m \u001b[0;34m=\u001b[0m \u001b[0mself\u001b[0m\u001b[0;34m.\u001b[0m\u001b[0m_cond\u001b[0m\u001b[0;34m.\u001b[0m\u001b[0mwait\u001b[0m\u001b[0;34m(\u001b[0m\u001b[0mtimeout\u001b[0m\u001b[0;34m)\u001b[0m\u001b[0;34m\u001b[0m\u001b[0;34m\u001b[0m\u001b[0m\n\u001b[0m\u001b[1;32m    552\u001b[0m             \u001b[0;32mreturn\u001b[0m \u001b[0msignaled\u001b[0m\u001b[0;34m\u001b[0m\u001b[0;34m\u001b[0m\u001b[0m\n\u001b[1;32m    553\u001b[0m \u001b[0;34m\u001b[0m\u001b[0m\n",
      "\u001b[0;32m/opt/anaconda3/5.2.0/lib/python3.6/threading.py\u001b[0m in \u001b[0;36mwait\u001b[0;34m(self, timeout)\u001b[0m\n\u001b[1;32m    293\u001b[0m         \u001b[0;32mtry\u001b[0m\u001b[0;34m:\u001b[0m    \u001b[0;31m# restore state no matter what (e.g., KeyboardInterrupt)\u001b[0m\u001b[0;34m\u001b[0m\u001b[0;34m\u001b[0m\u001b[0m\n\u001b[1;32m    294\u001b[0m             \u001b[0;32mif\u001b[0m \u001b[0mtimeout\u001b[0m \u001b[0;32mis\u001b[0m \u001b[0;32mNone\u001b[0m\u001b[0;34m:\u001b[0m\u001b[0;34m\u001b[0m\u001b[0;34m\u001b[0m\u001b[0m\n\u001b[0;32m--> 295\u001b[0;31m                 \u001b[0mwaiter\u001b[0m\u001b[0;34m.\u001b[0m\u001b[0macquire\u001b[0m\u001b[0;34m(\u001b[0m\u001b[0;34m)\u001b[0m\u001b[0;34m\u001b[0m\u001b[0;34m\u001b[0m\u001b[0m\n\u001b[0m\u001b[1;32m    296\u001b[0m                 \u001b[0mgotit\u001b[0m \u001b[0;34m=\u001b[0m \u001b[0;32mTrue\u001b[0m\u001b[0;34m\u001b[0m\u001b[0;34m\u001b[0m\u001b[0m\n\u001b[1;32m    297\u001b[0m             \u001b[0;32melse\u001b[0m\u001b[0;34m:\u001b[0m\u001b[0;34m\u001b[0m\u001b[0;34m\u001b[0m\u001b[0m\n",
      "\u001b[0;31mKeyboardInterrupt\u001b[0m: "
     ]
    }
   ],
   "source": [
    "from scipy import ndimage\n",
    "history = model.fit_generator(v_generator,\n",
    "                              epochs=100, validation_data=validation_generator)"
   ]
  },
  {
   "cell_type": "code",
   "execution_count": 15,
   "metadata": {},
   "outputs": [
    {
     "name": "stdout",
     "output_type": "stream",
     "text": [
      "dict_keys(['val_loss', 'val_binary_accuracy', 'loss', 'binary_accuracy'])\n"
     ]
    },
    {
     "data": {
      "image/png": "[encoded data removed]",
      "text/plain": [
       "<Figure size 432x288 with 1 Axes>"
      ]
     },
     "metadata": {
      "needs_background": "light"
     },
     "output_type": "display_data"
    },
    {
     "data": {
      "image/png": "[encoded data removed]",
      "text/plain": [
       "<Figure size 432x288 with 1 Axes>"
      ]
     },
     "metadata": {
      "needs_background": "light"
     },
     "output_type": "display_data"
    }
   ],
   "source": [
    "# list all data in history\n",
    "print(history.history.keys())\n",
    "# summarize history for accuracy\n",
    "plt.plot(history.history['binary_accuracy'])\n",
    "plt.plot(history.history['val_binary_accuracy'])\n",
    "plt.title('model accuracy')\n",
    "plt.ylabel('accuracy')\n",
    "plt.xlabel('epoch')\n",
    "plt.legend(['train', 'validation'], loc='upper left')\n",
    "plt.show()\n",
    "# summarize history for loss\n",
    "plt.plot(history.history['loss'])\n",
    "plt.plot(history.history['val_loss'])\n",
    "plt.title('model loss')\n",
    "plt.ylabel('loss')\n",
    "plt.xlabel('epoch')\n",
    "plt.legend(['train', 'validation'], loc='upper left')\n",
    "plt.show()"
   ]
  },
  {
   "cell_type": "code",
   "execution_count": 40,
   "metadata": {},
   "outputs": [
    {
     "name": "stdout",
     "output_type": "stream",
     "text": [
      "Epoch 1/10\n",
      "132/132 [==============================] - 588s 4s/step - loss: 6.9707 - binary_accuracy: 0.4015 - val_loss: 7.4297 - val_binary_accuracy: 0.2500\n",
      "Epoch 2/10\n",
      "132/132 [==============================] - 531s 4s/step - loss: 6.4780 - binary_accuracy: 0.4167 - val_loss: 7.4293 - val_binary_accuracy: 0.2000\n",
      "Epoch 3/10\n",
      "132/132 [==============================] - 515s 4s/step - loss: 6.4756 - binary_accuracy: 0.4091 - val_loss: 7.4288 - val_binary_accuracy: 0.2000\n",
      "Epoch 4/10\n",
      "132/132 [==============================] - 547s 4s/step - loss: 6.4732 - binary_accuracy: 0.4091 - val_loss: 7.4283 - val_binary_accuracy: 0.2000\n",
      "Epoch 5/10\n",
      "132/132 [==============================] - 544s 4s/step - loss: 6.4711 - binary_accuracy: 0.4091 - val_loss: 7.4278 - val_binary_accuracy: 0.2000\n",
      "Epoch 6/10\n",
      "132/132 [==============================] - 536s 4s/step - loss: 6.4689 - binary_accuracy: 0.4091 - val_loss: 7.4273 - val_binary_accuracy: 0.2000\n",
      "Epoch 7/10\n",
      "132/132 [==============================] - 544s 4s/step - loss: 6.4668 - binary_accuracy: 0.4091 - val_loss: 7.4268 - val_binary_accuracy: 0.2000\n",
      "Epoch 8/10\n",
      "132/132 [==============================] - 538s 4s/step - loss: 6.4647 - binary_accuracy: 0.4091 - val_loss: 7.4263 - val_binary_accuracy: 0.2000\n",
      "Epoch 9/10\n",
      "132/132 [==============================] - 547s 4s/step - loss: 6.4627 - binary_accuracy: 0.4091 - val_loss: 7.4257 - val_binary_accuracy: 0.2000\n",
      "Epoch 10/10\n",
      "132/132 [==============================] - 544s 4s/step - loss: 6.4606 - binary_accuracy: 0.4091 - val_loss: 7.4251 - val_binary_accuracy: 0.2000\n"
     ]
    }
   ],
   "source": [
    "from scipy import ndimage\n",
    "history2 = model.fit_generator(v_generator,\n",
    "                              epochs=10, validation_data=validation_generator)"
   ]
  },
  {
   "cell_type": "code",
   "execution_count": 44,
   "metadata": {},
   "outputs": [
    {
     "name": "stdout",
     "output_type": "stream",
     "text": [
      "Epoch 1/10\n",
      "132/132 [==============================] - 569s 4s/step - loss: 0.7057 - binary_accuracy: 0.5227 - val_loss: 0.6633 - val_binary_accuracy: 0.6000\n",
      "Epoch 2/10\n",
      "132/132 [==============================] - 543s 4s/step - loss: 0.6935 - binary_accuracy: 0.5227 - val_loss: 0.6544 - val_binary_accuracy: 0.6000\n",
      "Epoch 3/10\n",
      "132/132 [==============================] - 534s 4s/step - loss: 0.6825 - binary_accuracy: 0.5227 - val_loss: 0.6460 - val_binary_accuracy: 0.6000\n",
      "Epoch 4/10\n",
      "132/132 [==============================] - 543s 4s/step - loss: 0.6731 - binary_accuracy: 0.5227 - val_loss: 0.6381 - val_binary_accuracy: 0.6000\n",
      "Epoch 5/10\n",
      "132/132 [==============================] - 525s 4s/step - loss: 0.6648 - binary_accuracy: 0.5227 - val_loss: 0.6305 - val_binary_accuracy: 0.6000\n",
      "Epoch 6/10\n",
      "132/132 [==============================] - 555s 4s/step - loss: 0.6573 - binary_accuracy: 0.5227 - val_loss: 0.6233 - val_binary_accuracy: 0.6000\n",
      "Epoch 7/10\n",
      "132/132 [==============================] - 530s 4s/step - loss: 0.6508 - binary_accuracy: 0.5227 - val_loss: 0.6170 - val_binary_accuracy: 0.6000\n",
      "Epoch 8/10\n",
      "132/132 [==============================] - 530s 4s/step - loss: 0.6444 - binary_accuracy: 0.5227 - val_loss: 0.6093 - val_binary_accuracy: 0.6000\n",
      "Epoch 9/10\n",
      "132/132 [==============================] - 536s 4s/step - loss: 0.6376 - binary_accuracy: 0.5227 - val_loss: 0.6026 - val_binary_accuracy: 0.6000\n",
      "Epoch 10/10\n",
      "132/132 [==============================] - 537s 4s/step - loss: 0.6323 - binary_accuracy: 0.5227 - val_loss: 0.5974 - val_binary_accuracy: 0.6000\n"
     ]
    }
   ],
   "source": [
    "from scipy import ndimage\n",
    "history3 = model.fit_generator(v_generator,\n",
    "                              epochs=10, validation_data=validation_generator)"
   ]
  },
  {
   "cell_type": "code",
   "execution_count": 46,
   "metadata": {},
   "outputs": [],
   "source": [
    "# from scipy import ndimage\n",
    "# history4 = model.fit_generator(v_generator,\n",
    "#                               epochs=10, validation_data=validation_generator)"
   ]
  },
  {
   "cell_type": "code",
   "execution_count": 47,
   "metadata": {},
   "outputs": [
    {
     "name": "stdout",
     "output_type": "stream",
     "text": [
      "dict_keys(['val_loss', 'val_binary_accuracy', 'loss', 'binary_accuracy'])\n"
     ]
    },
    {
     "data": {
      "image/png": "[encoded data removed]",
      "text/plain": [
       "<Figure size 432x288 with 1 Axes>"
      ]
     },
     "metadata": {
      "needs_background": "light"
     },
     "output_type": "display_data"
    },
    {
     "data": {
      "image/png": "[encoded data removed]",
      "text/plain": [
       "<Figure size 432x288 with 1 Axes>"
      ]
     },
     "metadata": {
      "needs_background": "light"
     },
     "output_type": "display_data"
    }
   ],
   "source": [
    "# list all data in history\n",
    "print(history.history.keys())\n",
    "# summarize history for accuracy\n",
    "plt.plot(history.history['binary_accuracy'])\n",
    "plt.plot(history.history['val_binary_accuracy'])\n",
    "plt.title('model accuracy')\n",
    "plt.ylabel('accuracy')\n",
    "plt.xlabel('epoch')\n",
    "plt.legend(['train', 'validation'], loc='upper left')\n",
    "plt.show()\n",
    "# summarize history for loss\n",
    "plt.plot(history.history['loss'])\n",
    "plt.plot(history.history['val_loss'])\n",
    "plt.title('model loss')\n",
    "plt.ylabel('loss')\n",
    "plt.xlabel('epoch')\n",
    "plt.legend(['train', 'validation'], loc='upper left')\n",
    "plt.show()"
   ]
  },
  {
   "cell_type": "code",
   "execution_count": 48,
   "metadata": {},
   "outputs": [
    {
     "name": "stdout",
     "output_type": "stream",
     "text": [
      "dict_keys(['val_loss', 'val_binary_accuracy', 'loss', 'binary_accuracy'])\n"
     ]
    },
    {
     "data": {
      "image/png": "[encoded data removed]",
      "text/plain": [
       "<Figure size 432x288 with 1 Axes>"
      ]
     },
     "metadata": {
      "needs_background": "light"
     },
     "output_type": "display_data"
    },
    {
     "data": {
      "image/png": "[encoded data removed]",
      "text/plain": [
       "<Figure size 432x288 with 1 Axes>"
      ]
     },
     "metadata": {
      "needs_background": "light"
     },
     "output_type": "display_data"
    }
   ],
   "source": [
    "# list all data in history\n",
    "history = history2\n",
    "print(history.history.keys())\n",
    "# summarize history for accuracy\n",
    "plt.plot(history.history['binary_accuracy'])\n",
    "plt.plot(history.history['val_binary_accuracy'])\n",
    "plt.title('model accuracy')\n",
    "plt.ylabel('accuracy')\n",
    "plt.xlabel('epoch')\n",
    "plt.legend(['train', 'validation'], loc='upper left')\n",
    "plt.show()\n",
    "# summarize history for loss\n",
    "plt.plot(history.history['loss'])\n",
    "plt.plot(history.history['val_loss'])\n",
    "plt.title('model loss')\n",
    "plt.ylabel('loss')\n",
    "plt.xlabel('epoch')\n",
    "plt.legend(['train', 'validation'], loc='upper left')\n",
    "plt.show()"
   ]
  },
  {
   "cell_type": "code",
   "execution_count": 49,
   "metadata": {},
   "outputs": [
    {
     "name": "stdout",
     "output_type": "stream",
     "text": [
      "dict_keys(['val_loss', 'val_binary_accuracy', 'loss', 'binary_accuracy'])\n"
     ]
    },
    {
     "data": {
      "image/png": "[encoded data removed]",
      "text/plain": [
       "<Figure size 432x288 with 1 Axes>"
      ]
     },
     "metadata": {
      "needs_background": "light"
     },
     "output_type": "display_data"
    },
    {
     "data": {
      "image/png": "[encoded data removed]",
      "text/plain": [
       "<Figure size 432x288 with 1 Axes>"
      ]
     },
     "metadata": {
      "needs_background": "light"
     },
     "output_type": "display_data"
    }
   ],
   "source": [
    "# list all data in history\n",
    "history = history3\n",
    "print(history.history.keys())\n",
    "# summarize history for accuracy\n",
    "plt.plot(history.history['binary_accuracy'])\n",
    "plt.plot(history.history['val_binary_accuracy'])\n",
    "plt.title('model accuracy')\n",
    "plt.ylabel('accuracy')\n",
    "plt.xlabel('epoch')\n",
    "plt.legend(['train', 'validation'], loc='upper left')\n",
    "plt.show()\n",
    "# summarize history for loss\n",
    "plt.plot(history.history['loss'])\n",
    "plt.plot(history.history['val_loss'])\n",
    "plt.title('model loss')\n",
    "plt.ylabel('loss')\n",
    "plt.xlabel('epoch')\n",
    "plt.legend(['train', 'validation'], loc='upper left')\n",
    "plt.show()"
   ]
  },
  {
   "cell_type": "code",
   "execution_count": null,
   "metadata": {},
   "outputs": [],
   "source": []
  }
 ],
 "metadata": {
  "kernelspec": {
   "display_name": "Python 3",
   "language": "python",
   "name": "python3"
  },
  "language_info": {
   "codemirror_mode": {
    "name": "ipython",
    "version": 3
   },
   "file_extension": ".py",
   "mimetype": "text/x-python",
   "name": "python",
   "nbconvert_exporter": "python",
   "pygments_lexer": "ipython3",
   "version": "3.6.8"
  }
 },
 "nbformat": 4,
 "nbformat_minor": 2
}
