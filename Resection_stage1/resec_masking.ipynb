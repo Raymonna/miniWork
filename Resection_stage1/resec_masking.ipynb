{
 "cells": [
  {
   "cell_type": "code",
   "execution_count": 2,
   "metadata": {},
   "outputs": [],
   "source": [
    "import os\n",
    "import tensorflow as tf\n",
    "os.environ[\"CUDA_VISIBLE_DEVICES\"] = \"0\"\n",
    "gpu_options = tf.GPUOptions(allow_growth=True)\n",
    "sess_config = tf.ConfigProto(gpu_options=gpu_options)\n",
    "tf.keras.backend.set_session(tf.Session(config=sess_config))"
   ]
  },
  {
   "cell_type": "code",
   "execution_count": 3,
   "metadata": {},
   "outputs": [],
   "source": [
    "import os\n",
    "import glob\n",
    "#import tqdm\n",
    "import numpy as np\n",
    "#import pandas as pd\n",
    "import multiprocessing\n",
    "import pydicom as dicom\n",
    "import nibabel as nib\n",
    "#from keras import utils as kutils\n",
    "from matplotlib import pyplot as plt\n",
    "\n",
    "def load_image(label_fpath, transpose=False):\n",
    "    #encode_name = label_fpath[-39: -7]\n",
    "    label_data = nib.load(label_fpath)\n",
    "    label_array = label_data.get_fdata()\n",
    "    if transpose:\n",
    "        label_array = np.transpose(label_array, axes=(2, 1, 0))\n",
    "    return  label_array#, encode_name"
   ]
  },
  {
   "cell_type": "code",
   "execution_count": 4,
   "metadata": {},
   "outputs": [],
   "source": [
    "import pandas as pd\n",
    "info = pd.read_csv('/data2/pancreas/Nifti_data/data_list.csv')\n",
    "image_path = \"/data2/pancreas/Nifti_data/image\"\n",
    "label_path = \"/data2/pancreas/Nifti_data/label\"\n",
    "\n",
    "\n",
    "resec = np.load(\"resec.npy\")\n",
    "y = np.load(\"resec_y.npy\")\n"
   ]
  },
  {
   "cell_type": "code",
   "execution_count": 5,
   "metadata": {},
   "outputs": [],
   "source": [
    "shape_tumor = np.load(\"shape_tumor.npy\")"
   ]
  },
  {
   "cell_type": "markdown",
   "metadata": {},
   "source": [
    "# Mask to npz"
   ]
  },
  {
   "cell_type": "code",
   "execution_count": 12,
   "metadata": {},
   "outputs": [
    {
     "data": {
      "text/plain": [
       "array([126., 154., 233., 256.,  70.,  71.])"
      ]
     },
     "execution_count": 12,
     "metadata": {},
     "output_type": "execute_result"
    }
   ],
   "source": [
    "shape_tumor[0, :]"
   ]
  },
  {
   "cell_type": "code",
   "execution_count": 9,
   "metadata": {},
   "outputs": [],
   "source": [
    "ls ./npz/tumor_mask_images/"
   ]
  },
  {
   "cell_type": "code",
   "execution_count": 4,
   "metadata": {},
   "outputs": [],
   "source": [
    "import os\n",
    "tumor_mask_npz_folder = './npz/tumor_mask_images/'\n",
    "\n",
    "# if not os.path.exists(tumor_mask_npz_folder):\n",
    "#     os.makedirs(tumor_mask_npz_folder)"
   ]
  },
  {
   "cell_type": "code",
   "execution_count": 115,
   "metadata": {},
   "outputs": [],
   "source": [
    "\n",
    "encode = resec[0]\n",
    "volume_image = load_image(os.path.join(image_path, \"IM_\"+encode+\".nii.gz\"))\n",
    "label = load_image(os.path.join(label_path, \"LB_\"+encode+\".nii.gz\"))\n",
    "# num_slice = volume_image.shape[2]\n",
    "# for _z in range(0, num_slice):\n",
    "#     volume_image[..., _z] = masking(label[..., _z], volume_image[..., _z])\n",
    "\n",
    "\n",
    "# volume_image = extract_cube(shape_tumor[i, :], volume_image) "
   ]
  },
  {
   "cell_type": "code",
   "execution_count": 96,
   "metadata": {},
   "outputs": [
    {
     "data": {
      "text/plain": [
       "233.0"
      ]
     },
     "execution_count": 96,
     "metadata": {},
     "output_type": "execute_result"
    }
   ],
   "source": [
    "shape_tumor[0, :][2]"
   ]
  },
  {
   "cell_type": "code",
   "execution_count": 116,
   "metadata": {},
   "outputs": [],
   "source": [
    "volume_image = extract_cube(shape_tumor[0, :], volume_image) \n",
    "label = extract_cube(shape_tumor[0, :], label)"
   ]
  },
  {
   "cell_type": "code",
   "execution_count": 121,
   "metadata": {},
   "outputs": [],
   "source": [
    "del volume_image, label"
   ]
  },
  {
   "cell_type": "code",
   "execution_count": 119,
   "metadata": {},
   "outputs": [],
   "source": [
    "for _z in range(0, 1):\n",
    "    volume_image[..., _z] = masking(label[..., _z], volume_image[..., _z])\n"
   ]
  },
  {
   "cell_type": "code",
   "execution_count": 122,
   "metadata": {},
   "outputs": [],
   "source": [
    "# np.where(label != 0)"
   ]
  },
  {
   "cell_type": "code",
   "execution_count": 123,
   "metadata": {},
   "outputs": [],
   "source": [
    "# volume_image[..., 0]"
   ]
  },
  {
   "cell_type": "code",
   "execution_count": 120,
   "metadata": {},
   "outputs": [
    {
     "data": {
      "image/png": "[encoded data removed]",
      "text/plain": [
       "<Figure size 432x288 with 1 Axes>"
      ]
     },
     "metadata": {
      "needs_background": "light"
     },
     "output_type": "display_data"
    },
    {
     "data": {
      "image/png": "[encoded data removed]",
      "text/plain": [
       "<Figure size 432x288 with 1 Axes>"
      ]
     },
     "metadata": {
      "needs_background": "light"
     },
     "output_type": "display_data"
    }
   ],
   "source": [
    "plt.imshow(volume_image[..., 0], cmap = 'gray')\n",
    "plt.show()\n",
    "plt.imshow(label[..., 0])\n",
    "plt.show()"
   ]
  },
  {
   "cell_type": "code",
   "execution_count": 61,
   "metadata": {},
   "outputs": [
    {
     "data": {
      "text/plain": [
       "(210, 220, 90)"
      ]
     },
     "execution_count": 61,
     "metadata": {},
     "output_type": "execute_result"
    }
   ],
   "source": [
    "volume_image"
   ]
  },
  {
   "cell_type": "code",
   "execution_count": 127,
   "metadata": {},
   "outputs": [
    {
     "name": "stderr",
     "output_type": "stream",
     "text": [
      "\n",
      "  0%|          | 0/182 [00:00<?, ?it/s]\u001b[A\n",
      "  1%|          | 1/182 [00:03<09:35,  3.18s/it]\u001b[A"
     ]
    },
    {
     "name": "stdout",
     "output_type": "stream",
     "text": [
      "PC614\n"
     ]
    },
    {
     "name": "stderr",
     "output_type": "stream",
     "text": [
      "\n",
      "  1%|          | 2/182 [00:06<09:24,  3.13s/it]\u001b[A"
     ]
    },
    {
     "name": "stdout",
     "output_type": "stream",
     "text": [
      "PC83\n"
     ]
    },
    {
     "name": "stderr",
     "output_type": "stream",
     "text": [
      "\n",
      "  2%|▏         | 3/182 [00:09<09:21,  3.14s/it]\u001b[A"
     ]
    },
    {
     "name": "stdout",
     "output_type": "stream",
     "text": [
      "PC139\n"
     ]
    },
    {
     "name": "stderr",
     "output_type": "stream",
     "text": [
      "\n",
      "  2%|▏         | 4/182 [00:12<09:28,  3.19s/it]\u001b[A"
     ]
    },
    {
     "name": "stdout",
     "output_type": "stream",
     "text": [
      "PC534\n"
     ]
    },
    {
     "name": "stderr",
     "output_type": "stream",
     "text": [
      "\n",
      "  3%|▎         | 5/182 [00:16<09:41,  3.29s/it]\u001b[A"
     ]
    },
    {
     "name": "stdout",
     "output_type": "stream",
     "text": [
      "PC104\n"
     ]
    },
    {
     "name": "stderr",
     "output_type": "stream",
     "text": [
      "\n",
      "  3%|▎         | 6/182 [00:22<12:19,  4.20s/it]\u001b[A"
     ]
    },
    {
     "name": "stdout",
     "output_type": "stream",
     "text": [
      "PT51\n"
     ]
    },
    {
     "name": "stderr",
     "output_type": "stream",
     "text": [
      "\n",
      "  4%|▍         | 7/182 [00:25<11:05,  3.80s/it]\u001b[A"
     ]
    },
    {
     "name": "stdout",
     "output_type": "stream",
     "text": [
      "PC550\n"
     ]
    },
    {
     "name": "stderr",
     "output_type": "stream",
     "text": [
      "\n",
      "  4%|▍         | 8/182 [00:28<10:51,  3.74s/it]\u001b[A"
     ]
    },
    {
     "name": "stdout",
     "output_type": "stream",
     "text": [
      "PC294\n"
     ]
    },
    {
     "name": "stderr",
     "output_type": "stream",
     "text": [
      "\n",
      "  5%|▍         | 9/182 [00:32<10:17,  3.57s/it]\u001b[A"
     ]
    },
    {
     "name": "stdout",
     "output_type": "stream",
     "text": [
      "PC605\n"
     ]
    },
    {
     "name": "stderr",
     "output_type": "stream",
     "text": [
      "\n",
      "  5%|▌         | 10/182 [00:35<10:12,  3.56s/it]\u001b[A"
     ]
    },
    {
     "name": "stdout",
     "output_type": "stream",
     "text": [
      "PC621\n"
     ]
    },
    {
     "name": "stderr",
     "output_type": "stream",
     "text": [
      "\n",
      "  6%|▌         | 11/182 [00:38<09:29,  3.33s/it]\u001b[A"
     ]
    },
    {
     "name": "stdout",
     "output_type": "stream",
     "text": [
      "PC117\n"
     ]
    },
    {
     "name": "stderr",
     "output_type": "stream",
     "text": [
      "\n",
      "  7%|▋         | 12/182 [00:41<09:08,  3.23s/it]\u001b[A"
     ]
    },
    {
     "name": "stdout",
     "output_type": "stream",
     "text": [
      "PC335\n"
     ]
    },
    {
     "name": "stderr",
     "output_type": "stream",
     "text": [
      "\n",
      "  7%|▋         | 13/182 [00:44<09:08,  3.25s/it]\u001b[A"
     ]
    },
    {
     "name": "stdout",
     "output_type": "stream",
     "text": [
      "PC159\n"
     ]
    },
    {
     "name": "stderr",
     "output_type": "stream",
     "text": [
      "\n",
      "  8%|▊         | 14/182 [00:47<08:58,  3.20s/it]\u001b[A"
     ]
    },
    {
     "name": "stdout",
     "output_type": "stream",
     "text": [
      "PC125\n"
     ]
    },
    {
     "name": "stderr",
     "output_type": "stream",
     "text": [
      "\n",
      "  8%|▊         | 15/182 [00:51<09:04,  3.26s/it]\u001b[A"
     ]
    },
    {
     "name": "stdout",
     "output_type": "stream",
     "text": [
      "PC647\n"
     ]
    },
    {
     "name": "stderr",
     "output_type": "stream",
     "text": [
      "\n",
      "  9%|▉         | 16/182 [00:55<09:28,  3.42s/it]\u001b[A"
     ]
    },
    {
     "name": "stdout",
     "output_type": "stream",
     "text": [
      "PC285\n"
     ]
    },
    {
     "name": "stderr",
     "output_type": "stream",
     "text": [
      "\n",
      "  9%|▉         | 17/182 [00:57<08:56,  3.25s/it]\u001b[A"
     ]
    },
    {
     "name": "stdout",
     "output_type": "stream",
     "text": [
      "PC631\n"
     ]
    },
    {
     "name": "stderr",
     "output_type": "stream",
     "text": [
      "\n",
      " 10%|▉         | 18/182 [01:00<08:38,  3.16s/it]\u001b[A"
     ]
    },
    {
     "name": "stdout",
     "output_type": "stream",
     "text": [
      "PC160\n"
     ]
    },
    {
     "name": "stderr",
     "output_type": "stream",
     "text": [
      "\n",
      " 10%|█         | 19/182 [01:03<08:14,  3.04s/it]\u001b[A"
     ]
    },
    {
     "name": "stdout",
     "output_type": "stream",
     "text": [
      "PC638\n"
     ]
    },
    {
     "name": "stderr",
     "output_type": "stream",
     "text": [
      "\n",
      " 11%|█         | 20/182 [01:10<11:17,  4.18s/it]\u001b[A"
     ]
    },
    {
     "name": "stdout",
     "output_type": "stream",
     "text": [
      "PT6\n"
     ]
    },
    {
     "name": "stderr",
     "output_type": "stream",
     "text": [
      "\n",
      " 12%|█▏        | 21/182 [01:13<10:36,  3.95s/it]\u001b[A"
     ]
    },
    {
     "name": "stdout",
     "output_type": "stream",
     "text": [
      "PC555\n"
     ]
    },
    {
     "name": "stderr",
     "output_type": "stream",
     "text": [
      "\n",
      " 12%|█▏        | 22/182 [01:17<10:26,  3.92s/it]\u001b[A"
     ]
    },
    {
     "name": "stdout",
     "output_type": "stream",
     "text": [
      "PC319\n"
     ]
    },
    {
     "name": "stderr",
     "output_type": "stream",
     "text": [
      "\n",
      " 13%|█▎        | 23/182 [01:21<09:57,  3.76s/it]\u001b[A"
     ]
    },
    {
     "name": "stdout",
     "output_type": "stream",
     "text": [
      "PC176\n"
     ]
    },
    {
     "name": "stderr",
     "output_type": "stream",
     "text": [
      "\n",
      " 13%|█▎        | 24/182 [01:24<09:33,  3.63s/it]\u001b[A"
     ]
    },
    {
     "name": "stdout",
     "output_type": "stream",
     "text": [
      "PC55\n"
     ]
    },
    {
     "name": "stderr",
     "output_type": "stream",
     "text": [
      "\n",
      " 14%|█▎        | 25/182 [01:27<09:22,  3.58s/it]\u001b[A"
     ]
    },
    {
     "name": "stdout",
     "output_type": "stream",
     "text": [
      "PC548\n"
     ]
    },
    {
     "name": "stderr",
     "output_type": "stream",
     "text": [
      "\n",
      " 14%|█▍        | 26/182 [01:31<08:55,  3.43s/it]\u001b[A"
     ]
    },
    {
     "name": "stdout",
     "output_type": "stream",
     "text": [
      "PC515\n"
     ]
    },
    {
     "name": "stderr",
     "output_type": "stream",
     "text": [
      "\n",
      " 15%|█▍        | 27/182 [01:34<08:45,  3.39s/it]\u001b[A"
     ]
    },
    {
     "name": "stdout",
     "output_type": "stream",
     "text": [
      "PC603\n"
     ]
    },
    {
     "name": "stderr",
     "output_type": "stream",
     "text": [
      "\n",
      " 15%|█▌        | 28/182 [01:37<08:19,  3.24s/it]\u001b[A"
     ]
    },
    {
     "name": "stdout",
     "output_type": "stream",
     "text": [
      "PC131\n"
     ]
    },
    {
     "name": "stderr",
     "output_type": "stream",
     "text": [
      "\n",
      " 16%|█▌        | 29/182 [01:40<08:16,  3.24s/it]\u001b[A"
     ]
    },
    {
     "name": "stdout",
     "output_type": "stream",
     "text": [
      "PC98\n"
     ]
    },
    {
     "name": "stderr",
     "output_type": "stream",
     "text": [
      "\n",
      " 16%|█▋        | 30/182 [01:43<08:07,  3.21s/it]\u001b[A"
     ]
    },
    {
     "name": "stdout",
     "output_type": "stream",
     "text": [
      "PC572\n"
     ]
    },
    {
     "name": "stderr",
     "output_type": "stream",
     "text": [
      "\n",
      " 17%|█▋        | 31/182 [01:46<08:10,  3.25s/it]\u001b[A"
     ]
    },
    {
     "name": "stdout",
     "output_type": "stream",
     "text": [
      "PC560\n"
     ]
    },
    {
     "name": "stderr",
     "output_type": "stream",
     "text": [
      "\n",
      " 18%|█▊        | 32/182 [01:53<11:00,  4.40s/it]\u001b[A"
     ]
    },
    {
     "name": "stdout",
     "output_type": "stream",
     "text": [
      "PT27\n"
     ]
    },
    {
     "name": "stderr",
     "output_type": "stream",
     "text": [
      "\n",
      " 18%|█▊        | 33/182 [01:57<10:12,  4.11s/it]\u001b[A"
     ]
    },
    {
     "name": "stdout",
     "output_type": "stream",
     "text": [
      "PC612\n"
     ]
    },
    {
     "name": "stderr",
     "output_type": "stream",
     "text": [
      "\n",
      " 19%|█▊        | 34/182 [02:00<09:15,  3.75s/it]\u001b[A"
     ]
    },
    {
     "name": "stdout",
     "output_type": "stream",
     "text": [
      "PC619\n"
     ]
    },
    {
     "name": "stderr",
     "output_type": "stream",
     "text": [
      "\n",
      " 19%|█▉        | 35/182 [02:03<08:42,  3.56s/it]\u001b[A"
     ]
    },
    {
     "name": "stdout",
     "output_type": "stream",
     "text": [
      "PC568\n"
     ]
    },
    {
     "name": "stderr",
     "output_type": "stream",
     "text": [
      "\n",
      " 20%|█▉        | 36/182 [02:06<08:19,  3.42s/it]\u001b[A"
     ]
    },
    {
     "name": "stdout",
     "output_type": "stream",
     "text": [
      "PC536\n"
     ]
    },
    {
     "name": "stderr",
     "output_type": "stream",
     "text": [
      "\n",
      " 20%|██        | 37/182 [02:10<08:32,  3.53s/it]\u001b[A"
     ]
    },
    {
     "name": "stdout",
     "output_type": "stream",
     "text": [
      "PC301\n"
     ]
    },
    {
     "name": "stderr",
     "output_type": "stream",
     "text": [
      "\n",
      " 21%|██        | 38/182 [02:13<08:15,  3.44s/it]\u001b[A"
     ]
    },
    {
     "name": "stdout",
     "output_type": "stream",
     "text": [
      "PC50\n"
     ]
    },
    {
     "name": "stderr",
     "output_type": "stream",
     "text": [
      "\n",
      " 21%|██▏       | 39/182 [02:16<07:51,  3.29s/it]\u001b[A"
     ]
    },
    {
     "name": "stdout",
     "output_type": "stream",
     "text": [
      "PC242\n"
     ]
    },
    {
     "name": "stderr",
     "output_type": "stream",
     "text": [
      "\n",
      " 22%|██▏       | 40/182 [02:19<07:43,  3.26s/it]\u001b[A"
     ]
    },
    {
     "name": "stdout",
     "output_type": "stream",
     "text": [
      "PC103\n"
     ]
    },
    {
     "name": "stderr",
     "output_type": "stream",
     "text": [
      "\n",
      " 23%|██▎       | 41/182 [02:22<07:35,  3.23s/it]\u001b[A"
     ]
    },
    {
     "name": "stdout",
     "output_type": "stream",
     "text": [
      "PC652\n"
     ]
    },
    {
     "name": "stderr",
     "output_type": "stream",
     "text": [
      "\n",
      " 23%|██▎       | 42/182 [02:26<07:30,  3.22s/it]\u001b[A"
     ]
    },
    {
     "name": "stdout",
     "output_type": "stream",
     "text": [
      "PC273\n"
     ]
    },
    {
     "name": "stderr",
     "output_type": "stream",
     "text": [
      "\n",
      " 24%|██▎       | 43/182 [02:29<07:37,  3.29s/it]\u001b[A"
     ]
    },
    {
     "name": "stdout",
     "output_type": "stream",
     "text": [
      "PC15\n"
     ]
    },
    {
     "name": "stderr",
     "output_type": "stream",
     "text": [
      "\n",
      " 24%|██▍       | 44/182 [02:32<07:34,  3.29s/it]\u001b[A"
     ]
    },
    {
     "name": "stdout",
     "output_type": "stream",
     "text": [
      "PC584\n"
     ]
    },
    {
     "name": "stderr",
     "output_type": "stream",
     "text": [
      "\n",
      " 25%|██▍       | 45/182 [02:36<07:38,  3.35s/it]\u001b[A"
     ]
    },
    {
     "name": "stdout",
     "output_type": "stream",
     "text": [
      "PC151\n"
     ]
    },
    {
     "name": "stderr",
     "output_type": "stream",
     "text": [
      "\n",
      " 25%|██▌       | 46/182 [02:39<07:39,  3.38s/it]\u001b[A"
     ]
    },
    {
     "name": "stdout",
     "output_type": "stream",
     "text": [
      "PC636\n"
     ]
    },
    {
     "name": "stderr",
     "output_type": "stream",
     "text": [
      "\n",
      " 26%|██▌       | 47/182 [02:42<07:29,  3.33s/it]\u001b[A"
     ]
    },
    {
     "name": "stdout",
     "output_type": "stream",
     "text": [
      "PC573\n"
     ]
    },
    {
     "name": "stderr",
     "output_type": "stream",
     "text": [
      "\n",
      " 26%|██▋       | 48/182 [02:46<07:33,  3.38s/it]\u001b[A"
     ]
    },
    {
     "name": "stdout",
     "output_type": "stream",
     "text": [
      "PC579\n"
     ]
    },
    {
     "name": "stderr",
     "output_type": "stream",
     "text": [
      "\n",
      " 27%|██▋       | 49/182 [02:49<07:18,  3.30s/it]\u001b[A"
     ]
    },
    {
     "name": "stdout",
     "output_type": "stream",
     "text": [
      "PC553\n"
     ]
    },
    {
     "name": "stderr",
     "output_type": "stream",
     "text": [
      "\n",
      " 27%|██▋       | 50/182 [02:52<07:14,  3.29s/it]\u001b[A"
     ]
    },
    {
     "name": "stdout",
     "output_type": "stream",
     "text": [
      "PC358\n"
     ]
    },
    {
     "name": "stderr",
     "output_type": "stream",
     "text": [
      "\n",
      " 28%|██▊       | 51/182 [02:55<07:02,  3.23s/it]\u001b[A"
     ]
    },
    {
     "name": "stdout",
     "output_type": "stream",
     "text": [
      "PC563\n"
     ]
    },
    {
     "name": "stderr",
     "output_type": "stream",
     "text": [
      "\n",
      " 29%|██▊       | 52/182 [02:59<06:56,  3.21s/it]\u001b[A"
     ]
    },
    {
     "name": "stdout",
     "output_type": "stream",
     "text": [
      "PC147\n"
     ]
    },
    {
     "name": "stderr",
     "output_type": "stream",
     "text": [
      "\n",
      " 29%|██▉       | 53/182 [03:02<06:56,  3.23s/it]\u001b[A"
     ]
    },
    {
     "name": "stdout",
     "output_type": "stream",
     "text": [
      "PC651\n"
     ]
    },
    {
     "name": "stderr",
     "output_type": "stream",
     "text": [
      "\n",
      " 30%|██▉       | 54/182 [03:05<06:57,  3.26s/it]\u001b[A"
     ]
    },
    {
     "name": "stdout",
     "output_type": "stream",
     "text": [
      "PC306\n"
     ]
    },
    {
     "name": "stderr",
     "output_type": "stream",
     "text": [
      "\n",
      " 30%|███       | 55/182 [03:08<06:46,  3.20s/it]\u001b[A"
     ]
    },
    {
     "name": "stdout",
     "output_type": "stream",
     "text": [
      "PC290\n"
     ]
    },
    {
     "name": "stderr",
     "output_type": "stream",
     "text": [
      "\n",
      " 31%|███       | 56/182 [03:12<06:48,  3.24s/it]\u001b[A"
     ]
    },
    {
     "name": "stdout",
     "output_type": "stream",
     "text": [
      "PC618\n"
     ]
    },
    {
     "name": "stderr",
     "output_type": "stream",
     "text": [
      "\n",
      " 31%|███▏      | 57/182 [03:15<06:51,  3.29s/it]\u001b[A"
     ]
    },
    {
     "name": "stdout",
     "output_type": "stream",
     "text": [
      "PC574\n"
     ]
    },
    {
     "name": "stderr",
     "output_type": "stream",
     "text": [
      "\n",
      " 32%|███▏      | 58/182 [03:22<08:49,  4.27s/it]\u001b[A"
     ]
    },
    {
     "name": "stdout",
     "output_type": "stream",
     "text": [
      "PT2\n"
     ]
    },
    {
     "name": "stderr",
     "output_type": "stream",
     "text": [
      "\n",
      " 32%|███▏      | 59/182 [03:24<07:56,  3.87s/it]\u001b[A"
     ]
    },
    {
     "name": "stdout",
     "output_type": "stream",
     "text": [
      "PC1\n"
     ]
    },
    {
     "name": "stderr",
     "output_type": "stream",
     "text": [
      "\n",
      " 33%|███▎      | 60/182 [03:27<07:15,  3.57s/it]\u001b[A"
     ]
    },
    {
     "name": "stdout",
     "output_type": "stream",
     "text": [
      "PC575\n"
     ]
    },
    {
     "name": "stderr",
     "output_type": "stream",
     "text": [
      "\n",
      " 34%|███▎      | 61/182 [03:30<06:55,  3.43s/it]\u001b[A"
     ]
    },
    {
     "name": "stdout",
     "output_type": "stream",
     "text": [
      "PC97\n"
     ]
    },
    {
     "name": "stderr",
     "output_type": "stream",
     "text": [
      "\n",
      " 34%|███▍      | 62/182 [03:34<06:47,  3.40s/it]\u001b[A"
     ]
    },
    {
     "name": "stdout",
     "output_type": "stream",
     "text": [
      "PC630\n"
     ]
    },
    {
     "name": "stderr",
     "output_type": "stream",
     "text": [
      "\n",
      " 35%|███▍      | 63/182 [03:37<06:36,  3.33s/it]\u001b[A"
     ]
    },
    {
     "name": "stdout",
     "output_type": "stream",
     "text": [
      "PC595\n"
     ]
    },
    {
     "name": "stderr",
     "output_type": "stream",
     "text": [
      "\n",
      " 35%|███▌      | 64/182 [03:40<06:34,  3.34s/it]\u001b[A"
     ]
    },
    {
     "name": "stdout",
     "output_type": "stream",
     "text": [
      "PC542\n"
     ]
    },
    {
     "name": "stderr",
     "output_type": "stream",
     "text": [
      "\n",
      " 36%|███▌      | 65/182 [03:44<06:35,  3.38s/it]\u001b[A"
     ]
    },
    {
     "name": "stdout",
     "output_type": "stream",
     "text": [
      "PC556\n"
     ]
    },
    {
     "name": "stderr",
     "output_type": "stream",
     "text": [
      "\n",
      " 36%|███▋      | 66/182 [03:47<06:34,  3.40s/it]\u001b[A"
     ]
    },
    {
     "name": "stdout",
     "output_type": "stream",
     "text": [
      "PC72\n"
     ]
    },
    {
     "name": "stderr",
     "output_type": "stream",
     "text": [
      "\n",
      " 37%|███▋      | 67/182 [03:50<06:19,  3.30s/it]\u001b[A"
     ]
    },
    {
     "name": "stdout",
     "output_type": "stream",
     "text": [
      "PC116\n"
     ]
    },
    {
     "name": "stderr",
     "output_type": "stream",
     "text": [
      "\n",
      " 37%|███▋      | 68/182 [03:54<06:19,  3.33s/it]\u001b[A"
     ]
    },
    {
     "name": "stdout",
     "output_type": "stream",
     "text": [
      "PC537\n"
     ]
    },
    {
     "name": "stderr",
     "output_type": "stream",
     "text": [
      "\n",
      " 38%|███▊      | 69/182 [03:57<06:29,  3.45s/it]\u001b[A"
     ]
    },
    {
     "name": "stdout",
     "output_type": "stream",
     "text": [
      "PC387\n"
     ]
    },
    {
     "name": "stderr",
     "output_type": "stream",
     "text": [
      "\n",
      " 38%|███▊      | 70/182 [04:04<07:59,  4.29s/it]\u001b[A"
     ]
    },
    {
     "name": "stdout",
     "output_type": "stream",
     "text": [
      "PT4\n"
     ]
    },
    {
     "name": "stderr",
     "output_type": "stream",
     "text": [
      "\n",
      " 39%|███▉      | 71/182 [04:07<07:10,  3.87s/it]\u001b[A"
     ]
    },
    {
     "name": "stdout",
     "output_type": "stream",
     "text": [
      "PC653\n"
     ]
    },
    {
     "name": "stderr",
     "output_type": "stream",
     "text": [
      "\n",
      " 40%|███▉      | 72/182 [04:10<06:52,  3.75s/it]\u001b[A"
     ]
    },
    {
     "name": "stdout",
     "output_type": "stream",
     "text": [
      "PC246\n"
     ]
    },
    {
     "name": "stderr",
     "output_type": "stream",
     "text": [
      "\n",
      " 40%|████      | 73/182 [04:13<06:37,  3.64s/it]\u001b[A"
     ]
    },
    {
     "name": "stdout",
     "output_type": "stream",
     "text": [
      "PC546\n"
     ]
    },
    {
     "name": "stderr",
     "output_type": "stream",
     "text": [
      "\n",
      " 41%|████      | 74/182 [04:17<06:16,  3.49s/it]\u001b[A"
     ]
    },
    {
     "name": "stdout",
     "output_type": "stream",
     "text": [
      "PC570\n"
     ]
    },
    {
     "name": "stderr",
     "output_type": "stream",
     "text": [
      "\n",
      " 41%|████      | 75/182 [04:20<06:20,  3.56s/it]\u001b[A"
     ]
    },
    {
     "name": "stdout",
     "output_type": "stream",
     "text": [
      "PC115\n"
     ]
    },
    {
     "name": "stderr",
     "output_type": "stream",
     "text": [
      "\n",
      " 42%|████▏     | 76/182 [04:23<05:53,  3.33s/it]\u001b[A"
     ]
    },
    {
     "name": "stdout",
     "output_type": "stream",
     "text": [
      "PC616\n"
     ]
    },
    {
     "name": "stderr",
     "output_type": "stream",
     "text": [
      "\n",
      " 42%|████▏     | 77/182 [04:29<07:24,  4.23s/it]\u001b[A"
     ]
    },
    {
     "name": "stdout",
     "output_type": "stream",
     "text": [
      "PT52\n"
     ]
    },
    {
     "name": "stderr",
     "output_type": "stream",
     "text": [
      "\n",
      " 43%|████▎     | 78/182 [04:33<06:55,  4.00s/it]\u001b[A"
     ]
    },
    {
     "name": "stdout",
     "output_type": "stream",
     "text": [
      "PC143\n"
     ]
    },
    {
     "name": "stderr",
     "output_type": "stream",
     "text": [
      "\n",
      " 43%|████▎     | 79/182 [04:36<06:33,  3.82s/it]\u001b[A"
     ]
    },
    {
     "name": "stdout",
     "output_type": "stream",
     "text": [
      "PC650\n"
     ]
    },
    {
     "name": "stderr",
     "output_type": "stream",
     "text": [
      "\n",
      " 44%|████▍     | 80/182 [04:40<06:16,  3.69s/it]\u001b[A"
     ]
    },
    {
     "name": "stdout",
     "output_type": "stream",
     "text": [
      "PC513\n"
     ]
    },
    {
     "name": "stderr",
     "output_type": "stream",
     "text": [
      "\n",
      " 45%|████▍     | 81/182 [04:43<05:52,  3.49s/it]\u001b[A"
     ]
    },
    {
     "name": "stdout",
     "output_type": "stream",
     "text": [
      "PC278\n"
     ]
    },
    {
     "name": "stderr",
     "output_type": "stream",
     "text": [
      "\n",
      " 45%|████▌     | 82/182 [04:46<05:32,  3.32s/it]\u001b[A"
     ]
    },
    {
     "name": "stdout",
     "output_type": "stream",
     "text": [
      "PC252\n"
     ]
    },
    {
     "name": "stderr",
     "output_type": "stream",
     "text": [
      "\n",
      " 46%|████▌     | 83/182 [04:49<05:16,  3.20s/it]\u001b[A"
     ]
    },
    {
     "name": "stdout",
     "output_type": "stream",
     "text": [
      "PC541\n"
     ]
    },
    {
     "name": "stderr",
     "output_type": "stream",
     "text": [
      "\n",
      " 46%|████▌     | 84/182 [04:52<05:14,  3.21s/it]\u001b[A"
     ]
    },
    {
     "name": "stdout",
     "output_type": "stream",
     "text": [
      "PC348\n"
     ]
    },
    {
     "name": "stderr",
     "output_type": "stream",
     "text": [
      "\n",
      " 47%|████▋     | 85/182 [04:55<05:15,  3.25s/it]\u001b[A"
     ]
    },
    {
     "name": "stdout",
     "output_type": "stream",
     "text": [
      "PC622\n"
     ]
    },
    {
     "name": "stderr",
     "output_type": "stream",
     "text": [
      "\n",
      " 47%|████▋     | 86/182 [04:58<05:00,  3.13s/it]\u001b[A"
     ]
    },
    {
     "name": "stdout",
     "output_type": "stream",
     "text": [
      "PC38\n"
     ]
    },
    {
     "name": "stderr",
     "output_type": "stream",
     "text": [
      "\n",
      " 48%|████▊     | 87/182 [05:01<05:08,  3.25s/it]\u001b[A"
     ]
    },
    {
     "name": "stdout",
     "output_type": "stream",
     "text": [
      "PC181\n"
     ]
    },
    {
     "name": "stderr",
     "output_type": "stream",
     "text": [
      "\n",
      " 48%|████▊     | 88/182 [05:06<05:37,  3.59s/it]\u001b[A"
     ]
    },
    {
     "name": "stdout",
     "output_type": "stream",
     "text": [
      "PT37\n"
     ]
    },
    {
     "name": "stderr",
     "output_type": "stream",
     "text": [
      "\n",
      " 49%|████▉     | 89/182 [05:09<05:13,  3.37s/it]\u001b[A"
     ]
    },
    {
     "name": "stdout",
     "output_type": "stream",
     "text": [
      "PC110\n"
     ]
    },
    {
     "name": "stderr",
     "output_type": "stream",
     "text": [
      "\n",
      " 49%|████▉     | 90/182 [05:12<04:54,  3.20s/it]\u001b[A"
     ]
    },
    {
     "name": "stdout",
     "output_type": "stream",
     "text": [
      "PC304\n"
     ]
    },
    {
     "name": "stderr",
     "output_type": "stream",
     "text": [
      "\n",
      " 50%|█████     | 91/182 [05:15<04:54,  3.24s/it]\u001b[A"
     ]
    },
    {
     "name": "stdout",
     "output_type": "stream",
     "text": [
      "PC543\n"
     ]
    },
    {
     "name": "stderr",
     "output_type": "stream",
     "text": [
      "\n",
      " 51%|█████     | 92/182 [05:18<04:54,  3.27s/it]\u001b[A"
     ]
    },
    {
     "name": "stdout",
     "output_type": "stream",
     "text": [
      "PC648\n"
     ]
    },
    {
     "name": "stderr",
     "output_type": "stream",
     "text": [
      "\n",
      " 51%|█████     | 93/182 [05:22<04:52,  3.28s/it]\u001b[A"
     ]
    },
    {
     "name": "stdout",
     "output_type": "stream",
     "text": [
      "PC589\n"
     ]
    },
    {
     "name": "stderr",
     "output_type": "stream",
     "text": [
      "\n",
      " 52%|█████▏    | 94/182 [05:25<04:47,  3.27s/it]\u001b[A"
     ]
    },
    {
     "name": "stdout",
     "output_type": "stream",
     "text": [
      "PC644\n"
     ]
    },
    {
     "name": "stderr",
     "output_type": "stream",
     "text": [
      "\n",
      " 52%|█████▏    | 95/182 [05:28<04:46,  3.29s/it]\u001b[A"
     ]
    },
    {
     "name": "stdout",
     "output_type": "stream",
     "text": [
      "PC3\n"
     ]
    },
    {
     "name": "stderr",
     "output_type": "stream",
     "text": [
      "\n",
      " 53%|█████▎    | 96/182 [05:32<04:48,  3.35s/it]\u001b[A"
     ]
    },
    {
     "name": "stdout",
     "output_type": "stream",
     "text": [
      "PC5\n"
     ]
    },
    {
     "name": "stderr",
     "output_type": "stream",
     "text": [
      "\n",
      " 53%|█████▎    | 97/182 [05:35<04:40,  3.30s/it]\u001b[A"
     ]
    },
    {
     "name": "stdout",
     "output_type": "stream",
     "text": [
      "PC552\n"
     ]
    },
    {
     "name": "stderr",
     "output_type": "stream",
     "text": [
      "\n",
      " 54%|█████▍    | 98/182 [05:38<04:39,  3.33s/it]\u001b[A"
     ]
    },
    {
     "name": "stdout",
     "output_type": "stream",
     "text": [
      "PC590\n"
     ]
    },
    {
     "name": "stderr",
     "output_type": "stream",
     "text": [
      "\n",
      " 54%|█████▍    | 99/182 [05:41<04:29,  3.25s/it]\u001b[A"
     ]
    },
    {
     "name": "stdout",
     "output_type": "stream",
     "text": [
      "PC251\n"
     ]
    },
    {
     "name": "stderr",
     "output_type": "stream",
     "text": [
      "\n",
      " 55%|█████▍    | 100/182 [05:45<04:30,  3.30s/it]\u001b[A"
     ]
    },
    {
     "name": "stdout",
     "output_type": "stream",
     "text": [
      "PC564\n"
     ]
    },
    {
     "name": "stderr",
     "output_type": "stream",
     "text": [
      "\n",
      " 55%|█████▌    | 101/182 [05:47<04:15,  3.16s/it]\u001b[A"
     ]
    },
    {
     "name": "stdout",
     "output_type": "stream",
     "text": [
      "PC269\n"
     ]
    },
    {
     "name": "stderr",
     "output_type": "stream",
     "text": [
      "\n",
      " 56%|█████▌    | 102/182 [05:57<06:57,  5.22s/it]\u001b[A"
     ]
    },
    {
     "name": "stdout",
     "output_type": "stream",
     "text": [
      "PT7\n"
     ]
    },
    {
     "name": "stderr",
     "output_type": "stream",
     "text": [
      "\n",
      " 57%|█████▋    | 103/182 [06:01<06:05,  4.63s/it]\u001b[A"
     ]
    },
    {
     "name": "stdout",
     "output_type": "stream",
     "text": [
      "PC144\n"
     ]
    },
    {
     "name": "stderr",
     "output_type": "stream",
     "text": [
      "\n",
      " 57%|█████▋    | 104/182 [06:04<05:25,  4.17s/it]\u001b[A"
     ]
    },
    {
     "name": "stdout",
     "output_type": "stream",
     "text": [
      "PC601\n"
     ]
    },
    {
     "name": "stderr",
     "output_type": "stream",
     "text": [
      "\n",
      " 58%|█████▊    | 105/182 [06:07<05:03,  3.95s/it]\u001b[A"
     ]
    },
    {
     "name": "stdout",
     "output_type": "stream",
     "text": [
      "PC63\n"
     ]
    },
    {
     "name": "stderr",
     "output_type": "stream",
     "text": [
      "\n",
      " 58%|█████▊    | 106/182 [06:11<04:48,  3.80s/it]\u001b[A"
     ]
    },
    {
     "name": "stdout",
     "output_type": "stream",
     "text": [
      "PC267\n"
     ]
    },
    {
     "name": "stderr",
     "output_type": "stream",
     "text": [
      "\n",
      " 59%|█████▉    | 107/182 [06:18<06:02,  4.83s/it]\u001b[A"
     ]
    },
    {
     "name": "stdout",
     "output_type": "stream",
     "text": [
      "PT1\n"
     ]
    },
    {
     "name": "stderr",
     "output_type": "stream",
     "text": [
      "\n",
      " 59%|█████▉    | 108/182 [06:24<06:15,  5.07s/it]\u001b[A"
     ]
    },
    {
     "name": "stdout",
     "output_type": "stream",
     "text": [
      "PT13\n"
     ]
    },
    {
     "name": "stderr",
     "output_type": "stream",
     "text": [
      "\n",
      " 60%|█████▉    | 109/182 [06:26<05:22,  4.42s/it]\u001b[A"
     ]
    },
    {
     "name": "stdout",
     "output_type": "stream",
     "text": [
      "PC39\n"
     ]
    },
    {
     "name": "stderr",
     "output_type": "stream",
     "text": [
      "\n",
      " 60%|██████    | 110/182 [06:30<04:57,  4.13s/it]\u001b[A"
     ]
    },
    {
     "name": "stdout",
     "output_type": "stream",
     "text": [
      "PC105\n"
     ]
    },
    {
     "name": "stderr",
     "output_type": "stream",
     "text": [
      "\n",
      " 61%|██████    | 111/182 [06:33<04:31,  3.82s/it]\u001b[A"
     ]
    },
    {
     "name": "stdout",
     "output_type": "stream",
     "text": [
      "PC634\n"
     ]
    },
    {
     "name": "stderr",
     "output_type": "stream",
     "text": [
      "\n",
      " 62%|██████▏   | 112/182 [06:36<04:19,  3.70s/it]\u001b[A"
     ]
    },
    {
     "name": "stdout",
     "output_type": "stream",
     "text": [
      "PC539\n"
     ]
    },
    {
     "name": "stderr",
     "output_type": "stream",
     "text": [
      "\n",
      " 62%|██████▏   | 113/182 [06:40<04:09,  3.62s/it]\u001b[A"
     ]
    },
    {
     "name": "stdout",
     "output_type": "stream",
     "text": [
      "PC31\n"
     ]
    },
    {
     "name": "stderr",
     "output_type": "stream",
     "text": [
      "\n",
      " 63%|██████▎   | 114/182 [06:43<04:01,  3.55s/it]\u001b[A"
     ]
    },
    {
     "name": "stdout",
     "output_type": "stream",
     "text": [
      "PC639\n"
     ]
    },
    {
     "name": "stderr",
     "output_type": "stream",
     "text": [
      "\n",
      " 63%|██████▎   | 115/182 [06:46<03:42,  3.33s/it]\u001b[A"
     ]
    },
    {
     "name": "stdout",
     "output_type": "stream",
     "text": [
      "PC41\n"
     ]
    },
    {
     "name": "stderr",
     "output_type": "stream",
     "text": [
      "\n",
      " 64%|██████▎   | 116/182 [06:50<03:41,  3.36s/it]\u001b[A"
     ]
    },
    {
     "name": "stdout",
     "output_type": "stream",
     "text": [
      "PC152\n"
     ]
    },
    {
     "name": "stderr",
     "output_type": "stream",
     "text": [
      "\n",
      " 64%|██████▍   | 117/182 [06:53<03:33,  3.29s/it]\u001b[A"
     ]
    },
    {
     "name": "stdout",
     "output_type": "stream",
     "text": [
      "PC538\n"
     ]
    },
    {
     "name": "stderr",
     "output_type": "stream",
     "text": [
      "\n",
      " 65%|██████▍   | 118/182 [06:56<03:31,  3.30s/it]\u001b[A"
     ]
    },
    {
     "name": "stdout",
     "output_type": "stream",
     "text": [
      "PC561\n"
     ]
    },
    {
     "name": "stderr",
     "output_type": "stream",
     "text": [
      "\n",
      " 65%|██████▌   | 119/182 [07:00<03:34,  3.41s/it]\u001b[A"
     ]
    },
    {
     "name": "stdout",
     "output_type": "stream",
     "text": [
      "PC554\n"
     ]
    },
    {
     "name": "stderr",
     "output_type": "stream",
     "text": [
      "\n",
      " 66%|██████▌   | 120/182 [07:03<03:35,  3.48s/it]\u001b[A"
     ]
    },
    {
     "name": "stdout",
     "output_type": "stream",
     "text": [
      "PC96\n"
     ]
    },
    {
     "name": "stderr",
     "output_type": "stream",
     "text": [
      "\n",
      " 66%|██████▋   | 121/182 [07:06<03:20,  3.29s/it]\u001b[A"
     ]
    },
    {
     "name": "stdout",
     "output_type": "stream",
     "text": [
      "PC623\n"
     ]
    },
    {
     "name": "stderr",
     "output_type": "stream",
     "text": [
      "\n",
      " 67%|██████▋   | 122/182 [07:10<03:22,  3.37s/it]\u001b[A"
     ]
    },
    {
     "name": "stdout",
     "output_type": "stream",
     "text": [
      "PC166\n"
     ]
    },
    {
     "name": "stderr",
     "output_type": "stream",
     "text": [
      "\n",
      " 68%|██████▊   | 123/182 [07:14<03:32,  3.60s/it]\u001b[A"
     ]
    },
    {
     "name": "stdout",
     "output_type": "stream",
     "text": [
      "PT9\n"
     ]
    },
    {
     "name": "stderr",
     "output_type": "stream",
     "text": [
      "\n",
      " 68%|██████▊   | 124/182 [07:17<03:28,  3.59s/it]\u001b[A"
     ]
    },
    {
     "name": "stdout",
     "output_type": "stream",
     "text": [
      "PC27\n"
     ]
    },
    {
     "name": "stderr",
     "output_type": "stream",
     "text": [
      "\n",
      " 69%|██████▊   | 125/182 [07:20<03:13,  3.39s/it]\u001b[A"
     ]
    },
    {
     "name": "stdout",
     "output_type": "stream",
     "text": [
      "PC295\n"
     ]
    },
    {
     "name": "stderr",
     "output_type": "stream",
     "text": [
      "\n",
      " 69%|██████▉   | 126/182 [07:24<03:10,  3.39s/it]\u001b[A"
     ]
    },
    {
     "name": "stdout",
     "output_type": "stream",
     "text": [
      "PC582\n"
     ]
    },
    {
     "name": "stderr",
     "output_type": "stream",
     "text": [
      "\n",
      " 70%|██████▉   | 127/182 [07:27<03:04,  3.35s/it]\u001b[A"
     ]
    },
    {
     "name": "stdout",
     "output_type": "stream",
     "text": [
      "PC549\n"
     ]
    },
    {
     "name": "stderr",
     "output_type": "stream",
     "text": [
      "\n",
      " 70%|███████   | 128/182 [07:31<03:06,  3.46s/it]\u001b[A"
     ]
    },
    {
     "name": "stdout",
     "output_type": "stream",
     "text": [
      "PC585\n"
     ]
    },
    {
     "name": "stderr",
     "output_type": "stream",
     "text": [
      "\n",
      " 71%|███████   | 129/182 [07:34<02:53,  3.28s/it]\u001b[A"
     ]
    },
    {
     "name": "stdout",
     "output_type": "stream",
     "text": [
      "PC332\n"
     ]
    },
    {
     "name": "stderr",
     "output_type": "stream",
     "text": [
      "\n",
      " 71%|███████▏  | 130/182 [07:40<03:45,  4.33s/it]\u001b[A"
     ]
    },
    {
     "name": "stdout",
     "output_type": "stream",
     "text": [
      "PT12\n"
     ]
    },
    {
     "name": "stderr",
     "output_type": "stream",
     "text": [
      "\n",
      " 72%|███████▏  | 131/182 [07:48<04:29,  5.29s/it]\u001b[A"
     ]
    },
    {
     "name": "stdout",
     "output_type": "stream",
     "text": [
      "PT59\n"
     ]
    },
    {
     "name": "stderr",
     "output_type": "stream",
     "text": [
      "\n",
      " 73%|███████▎  | 132/182 [07:51<03:50,  4.60s/it]\u001b[A"
     ]
    },
    {
     "name": "stdout",
     "output_type": "stream",
     "text": [
      "PC581\n"
     ]
    },
    {
     "name": "stderr",
     "output_type": "stream",
     "text": [
      "\n",
      " 73%|███████▎  | 133/182 [07:54<03:22,  4.12s/it]\u001b[A"
     ]
    },
    {
     "name": "stdout",
     "output_type": "stream",
     "text": [
      "PC336\n"
     ]
    },
    {
     "name": "stderr",
     "output_type": "stream",
     "text": [
      "\n",
      " 74%|███████▎  | 134/182 [07:57<02:59,  3.74s/it]\u001b[A"
     ]
    },
    {
     "name": "stdout",
     "output_type": "stream",
     "text": [
      "PC89\n"
     ]
    },
    {
     "name": "stderr",
     "output_type": "stream",
     "text": [
      "\n",
      " 74%|███████▍  | 135/182 [08:00<02:46,  3.54s/it]\u001b[A"
     ]
    },
    {
     "name": "stdout",
     "output_type": "stream",
     "text": [
      "PC580\n"
     ]
    },
    {
     "name": "stderr",
     "output_type": "stream",
     "text": [
      "\n",
      " 75%|███████▍  | 136/182 [08:03<02:40,  3.50s/it]\u001b[A"
     ]
    },
    {
     "name": "stdout",
     "output_type": "stream",
     "text": [
      "PC567\n"
     ]
    },
    {
     "name": "stderr",
     "output_type": "stream",
     "text": [
      "\n",
      " 75%|███████▌  | 137/182 [08:09<03:13,  4.30s/it]\u001b[A"
     ]
    },
    {
     "name": "stdout",
     "output_type": "stream",
     "text": [
      "PT53\n"
     ]
    },
    {
     "name": "stderr",
     "output_type": "stream",
     "text": [
      "\n",
      " 76%|███████▌  | 138/182 [08:13<02:54,  3.96s/it]\u001b[A"
     ]
    },
    {
     "name": "stdout",
     "output_type": "stream",
     "text": [
      "PC170\n"
     ]
    },
    {
     "name": "stderr",
     "output_type": "stream",
     "text": [
      "\n",
      " 76%|███████▋  | 139/182 [08:16<02:41,  3.75s/it]\u001b[A"
     ]
    },
    {
     "name": "stdout",
     "output_type": "stream",
     "text": [
      "PC107\n"
     ]
    },
    {
     "name": "stderr",
     "output_type": "stream",
     "text": [
      "\n",
      " 77%|███████▋  | 140/182 [08:19<02:34,  3.69s/it]\u001b[A"
     ]
    },
    {
     "name": "stdout",
     "output_type": "stream",
     "text": [
      "PC134\n"
     ]
    },
    {
     "name": "stderr",
     "output_type": "stream",
     "text": [
      "\n",
      " 77%|███████▋  | 141/182 [08:23<02:26,  3.58s/it]\u001b[A"
     ]
    },
    {
     "name": "stdout",
     "output_type": "stream",
     "text": [
      "PC596\n"
     ]
    },
    {
     "name": "stderr",
     "output_type": "stream",
     "text": [
      "\n",
      " 78%|███████▊  | 142/182 [08:26<02:22,  3.55s/it]\u001b[A"
     ]
    },
    {
     "name": "stdout",
     "output_type": "stream",
     "text": [
      "PC79\n"
     ]
    },
    {
     "name": "stderr",
     "output_type": "stream",
     "text": [
      "\n",
      " 79%|███████▊  | 143/182 [08:30<02:16,  3.50s/it]\u001b[A"
     ]
    },
    {
     "name": "stdout",
     "output_type": "stream",
     "text": [
      "PC629\n"
     ]
    },
    {
     "name": "stderr",
     "output_type": "stream",
     "text": [
      "\n",
      " 79%|███████▉  | 144/182 [08:33<02:14,  3.55s/it]\u001b[A"
     ]
    },
    {
     "name": "stdout",
     "output_type": "stream",
     "text": [
      "PC322\n"
     ]
    },
    {
     "name": "stderr",
     "output_type": "stream",
     "text": [
      "\n",
      " 80%|███████▉  | 145/182 [08:37<02:08,  3.48s/it]\u001b[A"
     ]
    },
    {
     "name": "stdout",
     "output_type": "stream",
     "text": [
      "PC130\n"
     ]
    },
    {
     "name": "stderr",
     "output_type": "stream",
     "text": [
      "\n",
      " 80%|████████  | 146/182 [08:40<02:01,  3.37s/it]\u001b[A"
     ]
    },
    {
     "name": "stdout",
     "output_type": "stream",
     "text": [
      "PC350\n"
     ]
    },
    {
     "name": "stderr",
     "output_type": "stream",
     "text": [
      "\n",
      " 81%|████████  | 147/182 [08:47<02:35,  4.45s/it]\u001b[A"
     ]
    },
    {
     "name": "stdout",
     "output_type": "stream",
     "text": [
      "PT39\n"
     ]
    },
    {
     "name": "stderr",
     "output_type": "stream",
     "text": [
      "\n",
      " 81%|████████▏ | 148/182 [08:50<02:17,  4.03s/it]\u001b[A"
     ]
    },
    {
     "name": "stdout",
     "output_type": "stream",
     "text": [
      "PC78\n"
     ]
    },
    {
     "name": "stderr",
     "output_type": "stream",
     "text": [
      "\n",
      " 82%|████████▏ | 149/182 [08:53<02:04,  3.77s/it]\u001b[A"
     ]
    },
    {
     "name": "stdout",
     "output_type": "stream",
     "text": [
      "PC58\n"
     ]
    },
    {
     "name": "stderr",
     "output_type": "stream",
     "text": [
      "\n",
      " 82%|████████▏ | 150/182 [08:56<01:52,  3.51s/it]\u001b[A"
     ]
    },
    {
     "name": "stdout",
     "output_type": "stream",
     "text": [
      "PC42\n"
     ]
    },
    {
     "name": "stderr",
     "output_type": "stream",
     "text": [
      "\n",
      " 83%|████████▎ | 151/182 [09:02<02:14,  4.33s/it]\u001b[A"
     ]
    },
    {
     "name": "stdout",
     "output_type": "stream",
     "text": [
      "PT8\n"
     ]
    },
    {
     "name": "stderr",
     "output_type": "stream",
     "text": [
      "\n",
      " 84%|████████▎ | 152/182 [09:05<01:59,  4.00s/it]\u001b[A"
     ]
    },
    {
     "name": "stdout",
     "output_type": "stream",
     "text": [
      "PC259\n"
     ]
    },
    {
     "name": "stderr",
     "output_type": "stream",
     "text": [
      "\n",
      " 84%|████████▍ | 153/182 [09:08<01:48,  3.74s/it]\u001b[A"
     ]
    },
    {
     "name": "stdout",
     "output_type": "stream",
     "text": [
      "PC551\n"
     ]
    },
    {
     "name": "stderr",
     "output_type": "stream",
     "text": [
      "\n",
      " 85%|████████▍ | 154/182 [09:12<01:41,  3.61s/it]\u001b[A"
     ]
    },
    {
     "name": "stdout",
     "output_type": "stream",
     "text": [
      "PC37\n"
     ]
    },
    {
     "name": "stderr",
     "output_type": "stream",
     "text": [
      "\n",
      " 85%|████████▌ | 155/182 [09:15<01:38,  3.66s/it]\u001b[A"
     ]
    },
    {
     "name": "stdout",
     "output_type": "stream",
     "text": [
      "PC70\n"
     ]
    },
    {
     "name": "stderr",
     "output_type": "stream",
     "text": [
      "\n",
      " 86%|████████▌ | 156/182 [09:19<01:32,  3.57s/it]\u001b[A"
     ]
    },
    {
     "name": "stdout",
     "output_type": "stream",
     "text": [
      "PC2\n"
     ]
    },
    {
     "name": "stderr",
     "output_type": "stream",
     "text": [
      "\n",
      " 86%|████████▋ | 157/182 [09:26<01:59,  4.80s/it]\u001b[A"
     ]
    },
    {
     "name": "stdout",
     "output_type": "stream",
     "text": [
      "PT35\n"
     ]
    },
    {
     "name": "stderr",
     "output_type": "stream",
     "text": [
      "\n",
      " 87%|████████▋ | 158/182 [09:30<01:42,  4.29s/it]\u001b[A"
     ]
    },
    {
     "name": "stdout",
     "output_type": "stream",
     "text": [
      "PC91\n"
     ]
    },
    {
     "name": "stderr",
     "output_type": "stream",
     "text": [
      "\n",
      " 87%|████████▋ | 159/182 [09:32<01:27,  3.83s/it]\u001b[A"
     ]
    },
    {
     "name": "stdout",
     "output_type": "stream",
     "text": [
      "PC303\n"
     ]
    },
    {
     "name": "stderr",
     "output_type": "stream",
     "text": [
      "\n",
      " 88%|████████▊ | 160/182 [09:35<01:20,  3.64s/it]\u001b[A"
     ]
    },
    {
     "name": "stdout",
     "output_type": "stream",
     "text": [
      "PC600\n"
     ]
    },
    {
     "name": "stderr",
     "output_type": "stream",
     "text": [
      "\n",
      " 88%|████████▊ | 161/182 [09:39<01:13,  3.50s/it]\u001b[A"
     ]
    },
    {
     "name": "stdout",
     "output_type": "stream",
     "text": [
      "PC510\n"
     ]
    },
    {
     "name": "stderr",
     "output_type": "stream",
     "text": [
      "\n",
      " 89%|████████▉ | 162/182 [09:42<01:09,  3.46s/it]\u001b[A"
     ]
    },
    {
     "name": "stdout",
     "output_type": "stream",
     "text": [
      "PC544\n"
     ]
    },
    {
     "name": "stderr",
     "output_type": "stream",
     "text": [
      "\n",
      " 90%|████████▉ | 163/182 [09:45<01:04,  3.38s/it]\u001b[A"
     ]
    },
    {
     "name": "stdout",
     "output_type": "stream",
     "text": [
      "PC545\n"
     ]
    },
    {
     "name": "stderr",
     "output_type": "stream",
     "text": [
      "\n",
      " 90%|█████████ | 164/182 [09:49<01:02,  3.48s/it]\u001b[A"
     ]
    },
    {
     "name": "stdout",
     "output_type": "stream",
     "text": [
      "PC123\n"
     ]
    },
    {
     "name": "stderr",
     "output_type": "stream",
     "text": [
      "\n",
      " 91%|█████████ | 165/182 [09:52<00:58,  3.43s/it]\u001b[A"
     ]
    },
    {
     "name": "stdout",
     "output_type": "stream",
     "text": [
      "PC54\n"
     ]
    },
    {
     "name": "stderr",
     "output_type": "stream",
     "text": [
      "\n",
      " 91%|█████████ | 166/182 [09:56<00:54,  3.42s/it]\u001b[A"
     ]
    },
    {
     "name": "stdout",
     "output_type": "stream",
     "text": [
      "PC559\n"
     ]
    },
    {
     "name": "stderr",
     "output_type": "stream",
     "text": [
      "\n",
      " 92%|█████████▏| 167/182 [09:59<00:51,  3.40s/it]\u001b[A"
     ]
    },
    {
     "name": "stdout",
     "output_type": "stream",
     "text": [
      "PC535\n"
     ]
    },
    {
     "name": "stderr",
     "output_type": "stream",
     "text": [
      "\n",
      " 92%|█████████▏| 168/182 [10:02<00:45,  3.23s/it]\u001b[A"
     ]
    },
    {
     "name": "stdout",
     "output_type": "stream",
     "text": [
      "PC277\n"
     ]
    },
    {
     "name": "stderr",
     "output_type": "stream",
     "text": [
      "\n",
      " 93%|█████████▎| 169/182 [10:07<00:50,  3.90s/it]\u001b[A"
     ]
    },
    {
     "name": "stdout",
     "output_type": "stream",
     "text": [
      "PT42\n"
     ]
    },
    {
     "name": "stderr",
     "output_type": "stream",
     "text": [
      "\n",
      " 93%|█████████▎| 170/182 [10:13<00:54,  4.57s/it]\u001b[A"
     ]
    },
    {
     "name": "stdout",
     "output_type": "stream",
     "text": [
      "PT47\n"
     ]
    },
    {
     "name": "stderr",
     "output_type": "stream",
     "text": [
      "\n",
      " 94%|█████████▍| 171/182 [10:16<00:44,  4.08s/it]\u001b[A"
     ]
    },
    {
     "name": "stdout",
     "output_type": "stream",
     "text": [
      "PC349\n"
     ]
    },
    {
     "name": "stderr",
     "output_type": "stream",
     "text": [
      "\n",
      " 95%|█████████▍| 172/182 [10:19<00:37,  3.79s/it]\u001b[A"
     ]
    },
    {
     "name": "stdout",
     "output_type": "stream",
     "text": [
      "PC40\n"
     ]
    },
    {
     "name": "stderr",
     "output_type": "stream",
     "text": [
      "\n",
      " 95%|█████████▌| 173/182 [10:22<00:31,  3.51s/it]\u001b[A"
     ]
    },
    {
     "name": "stdout",
     "output_type": "stream",
     "text": [
      "PC256\n"
     ]
    },
    {
     "name": "stderr",
     "output_type": "stream",
     "text": [
      "\n",
      " 96%|█████████▌| 174/182 [10:26<00:27,  3.48s/it]\u001b[A"
     ]
    },
    {
     "name": "stdout",
     "output_type": "stream",
     "text": [
      "PC627\n"
     ]
    },
    {
     "name": "stderr",
     "output_type": "stream",
     "text": [
      "\n",
      " 96%|█████████▌| 175/182 [10:29<00:23,  3.37s/it]\u001b[A"
     ]
    },
    {
     "name": "stdout",
     "output_type": "stream",
     "text": [
      "PC602\n"
     ]
    },
    {
     "name": "stderr",
     "output_type": "stream",
     "text": [
      "\n",
      " 97%|█████████▋| 176/182 [10:32<00:20,  3.36s/it]\u001b[A"
     ]
    },
    {
     "name": "stdout",
     "output_type": "stream",
     "text": [
      "PC607\n"
     ]
    },
    {
     "name": "stderr",
     "output_type": "stream",
     "text": [
      "\n",
      " 97%|█████████▋| 177/182 [10:38<00:20,  4.10s/it]\u001b[A"
     ]
    },
    {
     "name": "stdout",
     "output_type": "stream",
     "text": [
      "PT49\n"
     ]
    },
    {
     "name": "stderr",
     "output_type": "stream",
     "text": [
      "\n",
      " 98%|█████████▊| 178/182 [10:44<00:19,  4.78s/it]\u001b[A"
     ]
    },
    {
     "name": "stdout",
     "output_type": "stream",
     "text": [
      "PT14\n"
     ]
    },
    {
     "name": "stderr",
     "output_type": "stream",
     "text": [
      "\n",
      " 98%|█████████▊| 179/182 [10:52<00:16,  5.52s/it]\u001b[A"
     ]
    },
    {
     "name": "stdout",
     "output_type": "stream",
     "text": [
      "PT44\n"
     ]
    },
    {
     "name": "stderr",
     "output_type": "stream",
     "text": [
      "\n",
      " 99%|█████████▉| 180/182 [10:55<00:09,  4.76s/it]\u001b[A"
     ]
    },
    {
     "name": "stdout",
     "output_type": "stream",
     "text": [
      "PC615\n"
     ]
    },
    {
     "name": "stderr",
     "output_type": "stream",
     "text": [
      "\n",
      " 99%|█████████▉| 181/182 [10:57<00:04,  4.19s/it]\u001b[A"
     ]
    },
    {
     "name": "stdout",
     "output_type": "stream",
     "text": [
      "PC613\n"
     ]
    },
    {
     "name": "stderr",
     "output_type": "stream",
     "text": [
      "\n",
      "100%|██████████| 182/182 [11:04<00:00,  4.81s/it]\u001b[A"
     ]
    },
    {
     "name": "stdout",
     "output_type": "stream",
     "text": [
      "PT46\n"
     ]
    }
   ],
   "source": [
    "import tqdm\n",
    "i = 0\n",
    "for encode in tqdm.tqdm(resec):\n",
    "    volume_image = load_image(os.path.join(image_path, \"IM_\"+encode+\".nii.gz\"))\n",
    "    label = load_image(os.path.join(label_path, \"LB_\"+encode+\".nii.gz\"))\n",
    "    volume_image = extract_cube(shape_tumor[i, :], volume_image) \n",
    "    label = extract_cube(shape_tumor[i, :], label) \n",
    "    npz_folder = os.path.join(tumor_mask_npz_folder, encode)\n",
    "    num_slice = volume_image.shape[2]\n",
    "    for _z in range(0, num_slice):\n",
    "        volume_image[..., _z] = masking(label[..., _z], volume_image[..., _z])\n",
    "        \n",
    "    i= i+1\n",
    "    \n",
    "        \n",
    "    np.savez_compressed(npz_folder, mask = volume_image)\n",
    "    print(encode)\n",
    "    del volume_image, label"
   ]
  },
  {
   "cell_type": "code",
   "execution_count": 155,
   "metadata": {},
   "outputs": [],
   "source": [
    "\n",
    "img_t = np.load(os.path.join(tumor_mask_npz_folder, resec[10]+\".npz\"))"
   ]
  },
  {
   "cell_type": "code",
   "execution_count": 156,
   "metadata": {},
   "outputs": [],
   "source": [
    "img_t = img_t[\"mask\"]"
   ]
  },
  {
   "cell_type": "code",
   "execution_count": 157,
   "metadata": {},
   "outputs": [
    {
     "data": {
      "text/plain": [
       "(210, 220, 90)"
      ]
     },
     "execution_count": 157,
     "metadata": {},
     "output_type": "execute_result"
    }
   ],
   "source": [
    "img_t.shape"
   ]
  },
  {
   "cell_type": "code",
   "execution_count": 128,
   "metadata": {},
   "outputs": [],
   "source": [
    "# np.where(img_t != 0)"
   ]
  },
  {
   "cell_type": "code",
   "execution_count": 158,
   "metadata": {},
   "outputs": [
    {
     "data": {
      "image/png": "[encoded data removed]",
      "text/plain": [
       "<Figure size 432x288 with 1 Axes>"
      ]
     },
     "metadata": {
      "needs_background": "light"
     },
     "output_type": "display_data"
    }
   ],
   "source": [
    "plt.imshow(img_t[..., 0])\n",
    "del img_t"
   ]
  },
  {
   "cell_type": "code",
   "execution_count": 6,
   "metadata": {},
   "outputs": [],
   "source": [
    "#New\n",
    "def extract_cube(r, img):#cube 210, 220, 90 ;; ranges = [xmin, xmax, ymin, ymax, zmin, zmax]\n",
    "    img_tmp = np.zeros((210, 220, 90))\n",
    "    #print(img.shape, r)\n",
    "    img_tmp[:int(r[1]-r[0]), :int(r[3]-r[2]), :int(r[5]-r[4])] = img[int(r[0]):int(r[1]), int(r[2]):int(r[3]), int(r[4]):int(r[5])]\n",
    "    return img_tmp"
   ]
  },
  {
   "cell_type": "code",
   "execution_count": 7,
   "metadata": {},
   "outputs": [],
   "source": [
    "def masking(label, img):\n",
    "    for i in range(img.shape[0]):\n",
    "        for j in range(img.shape[1]):\n",
    "            if label[i, j] == 0 or label[i, j] == 1:\n",
    "                img[i, j] = 0\n",
    "    return img\n",
    "\n",
    "\n",
    "\n"
   ]
  },
  {
   "cell_type": "code",
   "execution_count": 8,
   "metadata": {},
   "outputs": [],
   "source": [
    "import pandas as pd\n",
    "map_df = pd.DataFrame(data={'resec_name': resec, 'shape': np.array(range(182)), 'target':y.reshape(182)})"
   ]
  },
  {
   "cell_type": "code",
   "execution_count": 16,
   "metadata": {},
   "outputs": [
    {
     "data": {
      "text/plain": [
       "array([[126., 154., 233., 256.,  70.,  71.],\n",
       "       [242., 328., 238., 338.,  25.,  33.],\n",
       "       [196., 280., 271., 336.,  65.,  72.],\n",
       "       ...,\n",
       "       [250., 315., 291., 340.,  19.,  27.],\n",
       "       [255., 271., 336., 358.,  23.,  23.],\n",
       "       [121., 266., 200., 339., 244., 302.]])"
      ]
     },
     "execution_count": 16,
     "metadata": {},
     "output_type": "execute_result"
    }
   ],
   "source": [
    "shape_tumor"
   ]
  },
  {
   "cell_type": "code",
   "execution_count": 11,
   "metadata": {},
   "outputs": [],
   "source": [
    "from keras.utils import to_categorical\n",
    "\n",
    "class resec_Generator1(kutils.Sequence):\n",
    "    'Generates data for Keras'\n",
    "    def __init__(self, mapping_df, batch_size, shuffle=True):\n",
    "        'Initialization'\n",
    "        self.mapping_df = mapping_df\n",
    "        self.data_num   = mapping_df.shape[0]\n",
    "        self.batch_size = batch_size\n",
    "        self.shuffle = shuffle\n",
    "        self.on_epoch_end()\n",
    "\n",
    "    def __len__(self):\n",
    "        'Denotes the number of batches per epoch'\n",
    "        return int(np.floor(self.data_num / self.batch_size))\n",
    "\n",
    "\n",
    "    def __getitem__(self, index):\n",
    "        'Generate one batch of data'\n",
    "        # Generate indexes of the batch\n",
    "        #print(\"enter0\")\n",
    "        batch_mapping_df = \\\n",
    "            self.mapping_df.iloc[index*self.batch_size: (index+1)*self.batch_size]\n",
    "\n",
    "        # Generate data\n",
    "        X, y = self.__data_generation(batch_mapping_df)\n",
    "        return X, y\n",
    "\n",
    "\n",
    "    def on_epoch_end(self):\n",
    "        'Updates indexes after each epoch'\n",
    "        if self.shuffle:\n",
    "            self.mapping_df = self.mapping_df.sample(frac=1).reset_index(drop=True)\n",
    "            \n",
    "    def __data_generation(self, batch_mapping_df):\n",
    "        'Generates data containing batch_size samples' \n",
    "        # Initialization\n",
    "        X = np.zeros((  self.batch_size, 210, 220, 90, 1)) \n",
    "\n",
    "        y = np.zeros((self.batch_size))\n",
    "\n",
    "        # Generate data\n",
    "        cnt = 0\n",
    "        \n",
    "        for i, row in batch_mapping_df.iterrows():\n",
    "            #img = extract_cube(shape_tumor[row['shape']], load_image(os.path.join(image_path, \"IM_\"+row['resec_name']+\".nii.gz\")))\n",
    "            encode = row['resec_name']\n",
    "            volume_image = load_image(os.path.join(image_path, \"IM_\"+encode+\".nii.gz\"))\n",
    "            label = load_image(os.path.join(label_path, \"LB_\"+encode+\".nii.gz\"))\n",
    "            volume_image1 = extract_cube(shape_tumor[row['shape'], :], volume_image) \n",
    "            label1 = extract_cube(shape_tumor[row['shape'], :], label) \n",
    "            num_slice = volume_image1.shape[2]\n",
    "            for _z in range(0, num_slice):\n",
    "                volume_image1[..., _z] = masking(label1[..., _z], volume_image1[..., _z])\n",
    "\n",
    "            #print(encode)\n",
    "            X[ cnt, :, :, :, 0] = volume_image1\n",
    "            del volume_image1, label1, volume_image, label\n",
    "            #img = clip_img(load_image(os.path.join(image_path, \"IM_\"+row['resec_name']+\".nii.gz\")))\n",
    "            #print(\"resec_name =\", row['resec_name'])\n",
    "#             for j in range(40):\n",
    "#                 #print(\"img shape =\", img.shape)\n",
    "#                 #print(\"j =\", j)\n",
    "#                 X[j][cnt, :, :, :, 0] = extract_cube(img, j)\n",
    "            y[cnt] = row['target']\n",
    "\n",
    "#             position = extract_position(row['ref_idx'], row['point_idx'])\n",
    "#             tmp_cube = extract_cube(position, row['ref_idx'])\n",
    "#             if (tmp_cube.shape == (19, 19, 19)):\n",
    "#                 X[cnt, :, :, :, 0] = extract_cube(position, row['ref_idx'])\n",
    "#             else:\n",
    "#                 X[cnt, :, :, :, 0] = np.zeros((19, 19, 19))\n",
    "#             y_idx = row['y_idx']\n",
    "#             radius = ref[row['ref_idx']][row['point_idx'], 3]\n",
    "#             y1[cnt, y_idx] = 1\n",
    "#             y2[cnt, 0] = radius\n",
    "            cnt += 1\n",
    "        #print(X[5])\n",
    "        return X, y\n",
    "\n",
    "# for name in resec:\n",
    "#     img = load_image(os.path.join(image_path, \"IM_\"+name+\".nii.gz\"))"
   ]
  },
  {
   "cell_type": "code",
   "execution_count": null,
   "metadata": {},
   "outputs": [],
   "source": []
  },
  {
   "cell_type": "code",
   "execution_count": 10,
   "metadata": {},
   "outputs": [],
   "source": [
    "from keras.models import Model#, load_model\n",
    "from keras import layers as klayers\n",
    "from keras.optimizers import Adam\n",
    "from keras import utils as kutils\n",
    "from keras import backend as K\n",
    "from keras.callbacks import ModelCheckpoint\n",
    "\n",
    "\n",
    "\n",
    "from keras.layers import Conv3D, MaxPool3D, Flatten, Dense\n",
    "from keras.layers import Dropout, Input, BatchNormalization\n",
    "from sklearn.metrics import confusion_matrix, accuracy_score\n",
    "#from plotly.offline import iplot, init_notebook_mode\n",
    "from keras.losses import categorical_crossentropy\n",
    "from keras.optimizers import Adadelta\n",
    "#import plotly.graph_objs as go\n",
    "from matplotlib.pyplot import cm\n",
    "from keras.models import Model\n",
    "import numpy as np\n",
    "import keras\n",
    "import h5py\n",
    "\n",
    "#init_notebook_mode(connected=True)\n",
    "%matplotlib inline\n",
    "\n",
    "\n",
    "from keras.datasets import mnist\n",
    "from keras.layers import Input, Dense, Reshape, Flatten, Dropout, multiply, concatenate,  MaxPool2D\n",
    "# from keras.layers import BatchNormalization, Activation, Embedding, ZeroPadding2D, Lambda\n",
    "from keras.layers.advanced_activations import LeakyReLU, ReLU\n",
    "from keras.layers.convolutional import UpSampling2D, Conv2D, Conv1D\n",
    "from keras.models import Sequential, Model\n",
    "from keras.optimizers import Adam, SGD\n",
    "from keras.utils import to_categorical\n",
    "import keras.backend as K\n",
    "import matplotlib.pyplot as plt\n",
    "import numpy as np\n",
    "\n",
    "import pandas as pd\n",
    "import numpy as np\n",
    "from keras.models import Sequential\n",
    "from keras.layers import Dense, Dropout, Activation, Flatten, LSTM, TimeDistributed, RepeatVector, Reshape\n",
    "from keras.layers.normalization import BatchNormalization\n",
    "from keras.optimizers import Adam\n",
    "from keras.callbacks import EarlyStopping, ModelCheckpoint\n",
    "import matplotlib.pyplot as plt\n",
    "import tensorflow as tf\n",
    "%matplotlib inline\n",
    "\n"
   ]
  },
  {
   "cell_type": "code",
   "execution_count": 14,
   "metadata": {},
   "outputs": [
    {
     "name": "stdout",
     "output_type": "stream",
     "text": [
      "_________________________________________________________________\n",
      "Layer (type)                 Output Shape              Param #   \n",
      "=================================================================\n",
      "input_1 (InputLayer)         (None, 210, 220, 90, 1)   0         \n",
      "_________________________________________________________________\n",
      "conv3d_1 (Conv3D)            (None, 208, 218, 88, 32)  896       \n",
      "_________________________________________________________________\n",
      "batch_normalization_1 (Batch (None, 208, 218, 88, 32)  128       \n",
      "_________________________________________________________________\n",
      "dropout_1 (Dropout)          (None, 208, 218, 88, 32)  0         \n",
      "_________________________________________________________________\n",
      "max_pooling3d_1 (MaxPooling3 (None, 104, 109, 44, 32)  0         \n",
      "_________________________________________________________________\n",
      "conv3d_2 (Conv3D)            (None, 102, 107, 42, 16)  13840     \n",
      "_________________________________________________________________\n",
      "batch_normalization_2 (Batch (None, 102, 107, 42, 16)  64        \n",
      "_________________________________________________________________\n",
      "dropout_2 (Dropout)          (None, 102, 107, 42, 16)  0         \n",
      "_________________________________________________________________\n",
      "max_pooling3d_2 (MaxPooling3 (None, 51, 53, 21, 16)    0         \n",
      "_________________________________________________________________\n",
      "conv3d_3 (Conv3D)            (None, 49, 51, 19, 8)     3464      \n",
      "_________________________________________________________________\n",
      "batch_normalization_3 (Batch (None, 49, 51, 19, 8)     32        \n",
      "_________________________________________________________________\n",
      "max_pooling3d_3 (MaxPooling3 (None, 24, 25, 9, 8)      0         \n",
      "_________________________________________________________________\n",
      "conv3d_4 (Conv3D)            (None, 22, 23, 7, 4)      868       \n",
      "_________________________________________________________________\n",
      "batch_normalization_4 (Batch (None, 22, 23, 7, 4)      16        \n",
      "_________________________________________________________________\n",
      "max_pooling3d_4 (MaxPooling3 (None, 11, 11, 3, 4)      0         \n",
      "_________________________________________________________________\n",
      "flatten_1 (Flatten)          (None, 1452)              0         \n",
      "_________________________________________________________________\n",
      "dense_1 (Dense)              (None, 500)               726500    \n",
      "_________________________________________________________________\n",
      "dense_2 (Dense)              (None, 100)               50100     \n",
      "_________________________________________________________________\n",
      "dense_3 (Dense)              (None, 1)                 101       \n",
      "=================================================================\n",
      "Total params: 796,009\n",
      "Trainable params: 795,889\n",
      "Non-trainable params: 120\n",
      "_________________________________________________________________\n"
     ]
    }
   ],
   "source": [
    "from keras import metrics\n",
    "tmp_x = Input((210, 220, 90, 1))\n",
    "x = Conv3D(filters=32, dilation_rate=1, kernel_size=(3, 3, 3), activation='relu')(tmp_x)\n",
    "x = BatchNormalization()(x)\n",
    "x = Dropout(0.5)(x)\n",
    "x = MaxPool3D()(x)\n",
    "\n",
    "x = Conv3D(filters=16, dilation_rate=1, kernel_size=(3, 3, 3), activation='relu')(x)\n",
    "x = BatchNormalization()(x)\n",
    "x = Dropout(0.5)(x)\n",
    "x = MaxPool3D()(x)\n",
    "\n",
    "x = Conv3D(filters=8, dilation_rate=1, kernel_size=(3, 3, 3), activation='relu')(x)\n",
    "x = BatchNormalization()(x)\n",
    "x = MaxPool3D()(x)\n",
    "\n",
    "\n",
    "\n",
    "x = Conv3D(filters=4, dilation_rate=1, kernel_size=(3, 3, 3), activation='relu')(x)\n",
    "x = BatchNormalization()(x)\n",
    "x = MaxPool3D()(x)\n",
    "\n",
    "\n",
    "\n",
    "\n",
    "\n",
    "\n",
    "x = Flatten()(x)\n",
    "x = Dense(units=500, kernel_initializer='normal', activation='elu')(x)\n",
    "x = Dense(units=100, kernel_initializer='normal', activation='relu')(x)\n",
    "x = Dense(units=1, kernel_initializer='normal', activation='sigmoid')(x)\n",
    "\n",
    "model = Model(inputs=tmp_x, outputs=x)\n",
    "adam_lr = 0.0002\n",
    "adam_beta_1 = 0.5\n",
    "model.compile(optimizer=Adam(lr=adam_lr, beta_1=adam_beta_1),\n",
    "              loss='binary_crossentropy', metrics = [metrics.binary_accuracy])\n",
    "model.summary()"
   ]
  },
  {
   "cell_type": "code",
   "execution_count": 15,
   "metadata": {},
   "outputs": [],
   "source": [
    "batch_size = 1\n",
    "v_generator = resec_Generator1(map_df[:-50], batch_size=batch_size)\n",
    "validation_generator = resec_Generator1(map_df[-50:-30], batch_size=batch_size)\n",
    "\n",
    "es = EarlyStopping(monitor='val_loss', mode='min', verbose=1)"
   ]
  },
  {
   "cell_type": "code",
   "execution_count": 17,
   "metadata": {},
   "outputs": [
    {
     "name": "stdout",
     "output_type": "stream",
     "text": [
      "Epoch 1/100\n",
      "132/132 [==============================] - 531s 4s/step - loss: 0.4524 - binary_accuracy: 0.7879 - val_loss: 0.5533 - val_binary_accuracy: 0.5500\n",
      "Epoch 2/100\n",
      "132/132 [==============================] - 535s 4s/step - loss: 0.4147 - binary_accuracy: 0.8106 - val_loss: 0.5723 - val_binary_accuracy: 0.7500\n",
      "Epoch 3/100\n",
      "132/132 [==============================] - 510s 4s/step - loss: 0.3881 - binary_accuracy: 0.8258 - val_loss: 0.5426 - val_binary_accuracy: 0.5500\n",
      "Epoch 4/100\n",
      "132/132 [==============================] - 503s 4s/step - loss: 0.3550 - binary_accuracy: 0.8485 - val_loss: 0.5502 - val_binary_accuracy: 0.6000\n",
      "Epoch 5/100\n",
      "132/132 [==============================] - 516s 4s/step - loss: 0.3893 - binary_accuracy: 0.8030 - val_loss: 0.5371 - val_binary_accuracy: 0.6000\n",
      "Epoch 6/100\n",
      "132/132 [==============================] - 490s 4s/step - loss: 0.2994 - binary_accuracy: 0.8712 - val_loss: 0.5148 - val_binary_accuracy: 0.6500\n",
      "Epoch 7/100\n",
      "132/132 [==============================] - 536s 4s/step - loss: 0.3488 - binary_accuracy: 0.8106 - val_loss: 0.5423 - val_binary_accuracy: 0.6000\n",
      "Epoch 8/100\n",
      "132/132 [==============================] - 515s 4s/step - loss: 0.2717 - binary_accuracy: 0.8864 - val_loss: 0.5332 - val_binary_accuracy: 0.6000\n",
      "Epoch 9/100\n",
      "132/132 [==============================] - 516s 4s/step - loss: 0.2545 - binary_accuracy: 0.9015 - val_loss: 0.5074 - val_binary_accuracy: 0.7500\n",
      "Epoch 10/100\n",
      "132/132 [==============================] - 512s 4s/step - loss: 0.2609 - binary_accuracy: 0.8561 - val_loss: 0.5088 - val_binary_accuracy: 0.8500\n",
      "Epoch 11/100\n",
      "132/132 [==============================] - 524s 4s/step - loss: 0.2067 - binary_accuracy: 0.9318 - val_loss: 0.5344 - val_binary_accuracy: 0.7500\n",
      "Epoch 12/100\n",
      "132/132 [==============================] - 513s 4s/step - loss: 0.2082 - binary_accuracy: 0.9015 - val_loss: 0.4895 - val_binary_accuracy: 0.7500\n",
      "Epoch 13/100\n",
      "132/132 [==============================] - 488s 4s/step - loss: 0.3140 - binary_accuracy: 0.8636 - val_loss: 0.5666 - val_binary_accuracy: 0.6000\n",
      "Epoch 14/100\n",
      "132/132 [==============================] - 517s 4s/step - loss: 0.1961 - binary_accuracy: 0.9091 - val_loss: 0.5217 - val_binary_accuracy: 0.6500\n",
      "Epoch 15/100\n",
      "132/132 [==============================] - 515s 4s/step - loss: 0.2853 - binary_accuracy: 0.8788 - val_loss: 0.5034 - val_binary_accuracy: 0.7500\n",
      "Epoch 16/100\n",
      "132/132 [==============================] - 510s 4s/step - loss: 0.2262 - binary_accuracy: 0.8864 - val_loss: 0.5210 - val_binary_accuracy: 0.7500\n",
      "Epoch 17/100\n",
      "132/132 [==============================] - 503s 4s/step - loss: 0.1741 - binary_accuracy: 0.9394 - val_loss: 0.5642 - val_binary_accuracy: 0.6000\n",
      "Epoch 18/100\n",
      "132/132 [==============================] - 515s 4s/step - loss: 0.1781 - binary_accuracy: 0.9167 - val_loss: 0.5250 - val_binary_accuracy: 0.5500\n",
      "Epoch 19/100\n",
      "132/132 [==============================] - 520s 4s/step - loss: 0.1117 - binary_accuracy: 0.9621 - val_loss: 0.5217 - val_binary_accuracy: 0.8000\n",
      "Epoch 20/100\n",
      "132/132 [==============================] - 511s 4s/step - loss: 0.1849 - binary_accuracy: 0.9167 - val_loss: 0.5280 - val_binary_accuracy: 0.8000\n",
      "Epoch 21/100\n",
      "132/132 [==============================] - 505s 4s/step - loss: 0.1935 - binary_accuracy: 0.9015 - val_loss: 0.5280 - val_binary_accuracy: 0.6500\n",
      "Epoch 22/100\n",
      "132/132 [==============================] - 516s 4s/step - loss: 0.1349 - binary_accuracy: 0.9545 - val_loss: 0.5215 - val_binary_accuracy: 0.6500\n",
      "Epoch 23/100\n",
      "132/132 [==============================] - 502s 4s/step - loss: 0.1637 - binary_accuracy: 0.9394 - val_loss: 0.6020 - val_binary_accuracy: 0.5500\n",
      "Epoch 24/100\n",
      "132/132 [==============================] - 504s 4s/step - loss: 0.2088 - binary_accuracy: 0.9015 - val_loss: 0.6080 - val_binary_accuracy: 0.6000\n",
      "Epoch 25/100\n",
      "132/132 [==============================] - 513s 4s/step - loss: 0.1453 - binary_accuracy: 0.9242 - val_loss: 0.6181 - val_binary_accuracy: 0.6500\n",
      "Epoch 26/100\n",
      "132/132 [==============================] - 511s 4s/step - loss: 0.1407 - binary_accuracy: 0.9318 - val_loss: 0.5818 - val_binary_accuracy: 0.6000\n",
      "Epoch 27/100\n",
      "132/132 [==============================] - 507s 4s/step - loss: 0.1419 - binary_accuracy: 0.9394 - val_loss: 0.6028 - val_binary_accuracy: 0.6000\n",
      "Epoch 28/100\n",
      "132/132 [==============================] - 524s 4s/step - loss: 0.1743 - binary_accuracy: 0.9167 - val_loss: 0.6233 - val_binary_accuracy: 0.5500\n",
      "Epoch 29/100\n",
      "132/132 [==============================] - 489s 4s/step - loss: 0.1108 - binary_accuracy: 0.9621 - val_loss: 0.5708 - val_binary_accuracy: 0.7000\n",
      "Epoch 30/100\n",
      "132/132 [==============================] - 532s 4s/step - loss: 0.1961 - binary_accuracy: 0.9167 - val_loss: 0.5656 - val_binary_accuracy: 0.7000\n",
      "Epoch 31/100\n",
      "132/132 [==============================] - 505s 4s/step - loss: 0.1299 - binary_accuracy: 0.9470 - val_loss: 0.5661 - val_binary_accuracy: 0.6000\n",
      "Epoch 32/100\n",
      "132/132 [==============================] - 516s 4s/step - loss: 0.1099 - binary_accuracy: 0.9470 - val_loss: 0.5666 - val_binary_accuracy: 0.7000\n",
      "Epoch 33/100\n",
      "132/132 [==============================] - 540s 4s/step - loss: 0.1411 - binary_accuracy: 0.9470 - val_loss: 0.5480 - val_binary_accuracy: 0.8000\n",
      "Epoch 34/100\n",
      "132/132 [==============================] - 525s 4s/step - loss: 0.0862 - binary_accuracy: 0.9697 - val_loss: 0.5649 - val_binary_accuracy: 0.8000\n",
      "Epoch 35/100\n",
      "132/132 [==============================] - 529s 4s/step - loss: 0.1056 - binary_accuracy: 0.9697 - val_loss: 0.5956 - val_binary_accuracy: 0.7000\n",
      "Epoch 36/100\n",
      "132/132 [==============================] - 523s 4s/step - loss: 0.0410 - binary_accuracy: 0.9848 - val_loss: 0.5828 - val_binary_accuracy: 0.7000\n",
      "Epoch 37/100\n",
      "132/132 [==============================] - 513s 4s/step - loss: 0.0494 - binary_accuracy: 0.9697 - val_loss: 0.5952 - val_binary_accuracy: 0.7000\n",
      "Epoch 38/100\n",
      "132/132 [==============================] - 522s 4s/step - loss: 0.0565 - binary_accuracy: 0.9773 - val_loss: 0.5874 - val_binary_accuracy: 0.7000\n",
      "Epoch 39/100\n",
      "132/132 [==============================] - 517s 4s/step - loss: 0.0994 - binary_accuracy: 0.9621 - val_loss: 0.6741 - val_binary_accuracy: 0.7000\n",
      "Epoch 40/100\n",
      "132/132 [==============================] - 502s 4s/step - loss: 0.0558 - binary_accuracy: 0.9848 - val_loss: 0.6266 - val_binary_accuracy: 0.6500\n",
      "Epoch 41/100\n",
      "132/132 [==============================] - 527s 4s/step - loss: 0.0404 - binary_accuracy: 0.9848 - val_loss: 0.6410 - val_binary_accuracy: 0.6500\n",
      "Epoch 42/100\n",
      "132/132 [==============================] - 518s 4s/step - loss: 0.1214 - binary_accuracy: 0.9621 - val_loss: 0.6401 - val_binary_accuracy: 0.7000\n",
      "Epoch 43/100\n",
      "132/132 [==============================] - 515s 4s/step - loss: 0.0996 - binary_accuracy: 0.9621 - val_loss: 0.6274 - val_binary_accuracy: 0.6500\n",
      "Epoch 44/100\n",
      "132/132 [==============================] - 514s 4s/step - loss: 0.0912 - binary_accuracy: 0.9394 - val_loss: 0.5570 - val_binary_accuracy: 0.7000\n",
      "Epoch 45/100\n",
      "132/132 [==============================] - 516s 4s/step - loss: 0.0369 - binary_accuracy: 0.9848 - val_loss: 0.6176 - val_binary_accuracy: 0.6500\n",
      "Epoch 46/100\n",
      "132/132 [==============================] - 511s 4s/step - loss: 0.1500 - binary_accuracy: 0.9394 - val_loss: 0.5674 - val_binary_accuracy: 0.7000\n",
      "Epoch 47/100\n",
      "132/132 [==============================] - 520s 4s/step - loss: 0.0323 - binary_accuracy: 0.9924 - val_loss: 0.7276 - val_binary_accuracy: 0.6000\n",
      "Epoch 48/100\n",
      "132/132 [==============================] - 514s 4s/step - loss: 0.0831 - binary_accuracy: 0.9545 - val_loss: 0.6355 - val_binary_accuracy: 0.7000\n",
      "Epoch 49/100\n",
      "132/132 [==============================] - 514s 4s/step - loss: 0.0314 - binary_accuracy: 0.9924 - val_loss: 0.5797 - val_binary_accuracy: 0.7000\n",
      "Epoch 51/100\n",
      "132/132 [==============================] - 535s 4s/step - loss: 0.1020 - binary_accuracy: 0.9773 - val_loss: 0.5659 - val_binary_accuracy: 0.6500\n",
      "Epoch 52/100\n",
      "132/132 [==============================] - 495s 4s/step - loss: 0.0248 - binary_accuracy: 0.9848 - val_loss: 0.5805 - val_binary_accuracy: 0.7000\n",
      "Epoch 53/100\n"
     ]
    },
    {
     "name": "stdout",
     "output_type": "stream",
     "text": [
      "132/132 [==============================] - 524s 4s/step - loss: 0.0367 - binary_accuracy: 0.9697 - val_loss: 0.5864 - val_binary_accuracy: 0.7500\n",
      "Epoch 54/100\n",
      "132/132 [==============================] - 513s 4s/step - loss: 0.0427 - binary_accuracy: 0.9773 - val_loss: 0.5724 - val_binary_accuracy: 0.7500\n",
      "Epoch 55/100\n",
      "132/132 [==============================] - 520s 4s/step - loss: 0.0431 - binary_accuracy: 0.9773 - val_loss: 0.6081 - val_binary_accuracy: 0.7500\n",
      "Epoch 56/100\n",
      "132/132 [==============================] - 511s 4s/step - loss: 0.0701 - binary_accuracy: 0.9924 - val_loss: 0.6163 - val_binary_accuracy: 0.7500\n",
      "Epoch 57/100\n",
      "132/132 [==============================] - 520s 4s/step - loss: 0.0606 - binary_accuracy: 0.9773 - val_loss: 0.5981 - val_binary_accuracy: 0.6000\n",
      "Epoch 58/100\n",
      "132/132 [==============================] - 506s 4s/step - loss: 0.0361 - binary_accuracy: 0.9924 - val_loss: 0.5497 - val_binary_accuracy: 0.7500\n",
      "Epoch 59/100\n",
      "132/132 [==============================] - 512s 4s/step - loss: 0.0290 - binary_accuracy: 0.9848 - val_loss: 0.5553 - val_binary_accuracy: 0.7000\n",
      "Epoch 60/100\n",
      "132/132 [==============================] - 512s 4s/step - loss: 0.0268 - binary_accuracy: 0.9924 - val_loss: 0.5465 - val_binary_accuracy: 0.7500\n",
      "Epoch 61/100\n",
      "132/132 [==============================] - 517s 4s/step - loss: 0.0056 - binary_accuracy: 1.0000 - val_loss: 0.5459 - val_binary_accuracy: 0.7500\n",
      "Epoch 62/100\n",
      "132/132 [==============================] - 503s 4s/step - loss: 0.1238 - binary_accuracy: 0.9621 - val_loss: 0.6320 - val_binary_accuracy: 0.6500\n",
      "Epoch 63/100\n",
      "132/132 [==============================] - 522s 4s/step - loss: 0.0499 - binary_accuracy: 0.9848 - val_loss: 0.6486 - val_binary_accuracy: 0.7000\n",
      "Epoch 64/100\n",
      "132/132 [==============================] - 510s 4s/step - loss: 0.0141 - binary_accuracy: 1.0000 - val_loss: 0.6191 - val_binary_accuracy: 0.7000\n",
      "Epoch 65/100\n",
      "132/132 [==============================] - 499s 4s/step - loss: 0.0098 - binary_accuracy: 1.0000 - val_loss: 0.6232 - val_binary_accuracy: 0.7000\n",
      "Epoch 66/100\n",
      "132/132 [==============================] - 520s 4s/step - loss: 0.0225 - binary_accuracy: 0.9924 - val_loss: 0.6324 - val_binary_accuracy: 0.8000\n",
      "Epoch 67/100\n",
      "132/132 [==============================] - 525s 4s/step - loss: 0.0682 - binary_accuracy: 0.9697 - val_loss: 0.6129 - val_binary_accuracy: 0.8000\n",
      "Epoch 68/100\n",
      "132/132 [==============================] - 510s 4s/step - loss: 0.0076 - binary_accuracy: 1.0000 - val_loss: 0.6197 - val_binary_accuracy: 0.8000\n",
      "Epoch 69/100\n",
      "132/132 [==============================] - 510s 4s/step - loss: 0.0268 - binary_accuracy: 0.9848 - val_loss: 0.5616 - val_binary_accuracy: 0.7000\n",
      "Epoch 70/100\n",
      "132/132 [==============================] - 517s 4s/step - loss: 0.1056 - binary_accuracy: 0.9621 - val_loss: 0.5971 - val_binary_accuracy: 0.7500\n",
      "Epoch 71/100\n",
      "132/132 [==============================] - 508s 4s/step - loss: 0.0320 - binary_accuracy: 0.9924 - val_loss: 0.6079 - val_binary_accuracy: 0.7000\n",
      "Epoch 72/100\n",
      "132/132 [==============================] - 515s 4s/step - loss: 0.0258 - binary_accuracy: 0.9924 - val_loss: 0.6114 - val_binary_accuracy: 0.7000\n",
      "Epoch 73/100\n",
      "132/132 [==============================] - 509s 4s/step - loss: 0.0185 - binary_accuracy: 1.0000 - val_loss: 0.6206 - val_binary_accuracy: 0.6000\n",
      "Epoch 74/100\n",
      "132/132 [==============================] - 510s 4s/step - loss: 0.0788 - binary_accuracy: 0.9697 - val_loss: 0.6546 - val_binary_accuracy: 0.7000\n",
      "Epoch 75/100\n",
      "132/132 [==============================] - 520s 4s/step - loss: 0.0121 - binary_accuracy: 0.9924 - val_loss: 0.6757 - val_binary_accuracy: 0.7000\n",
      "Epoch 76/100\n",
      "132/132 [==============================] - 517s 4s/step - loss: 0.0309 - binary_accuracy: 0.9924 - val_loss: 0.6742 - val_binary_accuracy: 0.6500\n",
      "Epoch 77/100\n",
      "132/132 [==============================] - 502s 4s/step - loss: 0.0608 - binary_accuracy: 0.9848 - val_loss: 0.7134 - val_binary_accuracy: 0.6000\n",
      "Epoch 78/100\n",
      "132/132 [==============================] - 522s 4s/step - loss: 0.0357 - binary_accuracy: 0.9848 - val_loss: 0.6366 - val_binary_accuracy: 0.6500\n",
      "Epoch 79/100\n",
      "132/132 [==============================] - 505s 4s/step - loss: 0.0302 - binary_accuracy: 0.9848 - val_loss: 0.6505 - val_binary_accuracy: 0.7500\n",
      "Epoch 80/100\n",
      "132/132 [==============================] - 524s 4s/step - loss: 0.0064 - binary_accuracy: 1.0000 - val_loss: 0.6308 - val_binary_accuracy: 0.7000\n",
      "Epoch 81/100\n",
      "132/132 [==============================] - 516s 4s/step - loss: 0.0066 - binary_accuracy: 1.0000 - val_loss: 0.6669 - val_binary_accuracy: 0.6500\n",
      "Epoch 82/100\n",
      "132/132 [==============================] - 520s 4s/step - loss: 0.0239 - binary_accuracy: 0.9924 - val_loss: 0.5842 - val_binary_accuracy: 0.7000\n",
      "Epoch 83/100\n",
      "132/132 [==============================] - 507s 4s/step - loss: 0.0396 - binary_accuracy: 0.9924 - val_loss: 0.5999 - val_binary_accuracy: 0.7000\n",
      "Epoch 84/100\n",
      "132/132 [==============================] - 512s 4s/step - loss: 0.0043 - binary_accuracy: 1.0000 - val_loss: 0.6338 - val_binary_accuracy: 0.6500\n",
      "Epoch 85/100\n",
      "132/132 [==============================] - 510s 4s/step - loss: 0.0040 - binary_accuracy: 1.0000 - val_loss: 0.6115 - val_binary_accuracy: 0.6500\n",
      "Epoch 86/100\n",
      "132/132 [==============================] - 523s 4s/step - loss: 0.0349 - binary_accuracy: 0.9924 - val_loss: 0.6228 - val_binary_accuracy: 0.6500\n",
      "Epoch 87/100\n",
      "132/132 [==============================] - 515s 4s/step - loss: 0.0569 - binary_accuracy: 0.9773 - val_loss: 0.5902 - val_binary_accuracy: 0.7000\n",
      "Epoch 88/100\n",
      "132/132 [==============================] - 496s 4s/step - loss: 0.0121 - binary_accuracy: 1.0000 - val_loss: 0.6236 - val_binary_accuracy: 0.6500\n",
      "Epoch 89/100\n",
      "132/132 [==============================] - 524s 4s/step - loss: 0.0293 - binary_accuracy: 0.9848 - val_loss: 0.6325 - val_binary_accuracy: 0.7000\n",
      "Epoch 90/100\n",
      "132/132 [==============================] - 507s 4s/step - loss: 0.0013 - binary_accuracy: 1.0000 - val_loss: 0.6284 - val_binary_accuracy: 0.7000\n",
      "Epoch 91/100\n",
      "132/132 [==============================] - 527s 4s/step - loss: 0.0030 - binary_accuracy: 1.0000 - val_loss: 0.6372 - val_binary_accuracy: 0.7000\n",
      "Epoch 92/100\n",
      "132/132 [==============================] - 530s 4s/step - loss: 0.0014 - binary_accuracy: 1.0000 - val_loss: 0.6391 - val_binary_accuracy: 0.6500\n",
      "Epoch 93/100\n",
      "132/132 [==============================] - 528s 4s/step - loss: 0.0519 - binary_accuracy: 0.9848 - val_loss: 0.7187 - val_binary_accuracy: 0.5500\n",
      "Epoch 95/100\n",
      "132/132 [==============================] - 516s 4s/step - loss: 0.0156 - binary_accuracy: 0.9924 - val_loss: 0.6557 - val_binary_accuracy: 0.7500\n",
      "Epoch 96/100\n",
      "132/132 [==============================] - 510s 4s/step - loss: 0.0903 - binary_accuracy: 0.9545 - val_loss: 0.6180 - val_binary_accuracy: 0.7500\n",
      "Epoch 97/100\n",
      "132/132 [==============================] - 525s 4s/step - loss: 0.0212 - binary_accuracy: 0.9848 - val_loss: 0.7262 - val_binary_accuracy: 0.6500\n",
      "Epoch 98/100\n",
      "132/132 [==============================] - 506s 4s/step - loss: 0.0026 - binary_accuracy: 1.0000 - val_loss: 0.6893 - val_binary_accuracy: 0.6500\n",
      "Epoch 99/100\n",
      "132/132 [==============================] - 533s 4s/step - loss: 0.0012 - binary_accuracy: 1.0000 - val_loss: 0.7189 - val_binary_accuracy: 0.6500\n",
      "Epoch 100/100\n",
      "132/132 [==============================] - 503s 4s/step - loss: 9.7344e-04 - binary_accuracy: 1.0000 - val_loss: 0.6896 - val_binary_accuracy: 0.6500\n"
     ]
    }
   ],
   "source": [
    "history = model.fit_generator(v_generator,\n",
    "                              epochs=100, validation_data=validation_generator)"
   ]
  },
  {
   "cell_type": "code",
   "execution_count": 18,
   "metadata": {},
   "outputs": [
    {
     "name": "stdout",
     "output_type": "stream",
     "text": [
      "dict_keys(['val_loss', 'val_binary_accuracy', 'loss', 'binary_accuracy'])\n"
     ]
    },
    {
     "data": {
      "image/png": "[encoded data removed]",
      "text/plain": [
       "<Figure size 432x288 with 1 Axes>"
      ]
     },
     "metadata": {
      "needs_background": "light"
     },
     "output_type": "display_data"
    },
    {
     "data": {
      "image/png": "[encoded data removed]",
      "text/plain": [
       "<Figure size 432x288 with 1 Axes>"
      ]
     },
     "metadata": {
      "needs_background": "light"
     },
     "output_type": "display_data"
    }
   ],
   "source": [
    "# list all data in history\n",
    "print(history.history.keys())\n",
    "# summarize history for accuracy\n",
    "plt.plot(history.history['binary_accuracy'])\n",
    "plt.plot(history.history['val_binary_accuracy'])\n",
    "plt.title('model accuracy')\n",
    "plt.ylabel('accuracy')\n",
    "plt.xlabel('epoch')\n",
    "plt.legend(['train', 'validation'], loc='upper left')\n",
    "plt.show()\n",
    "# summarize history for loss\n",
    "plt.plot(history.history['loss'])\n",
    "plt.plot(history.history['val_loss'])\n",
    "plt.title('model loss')\n",
    "plt.ylabel('loss')\n",
    "plt.xlabel('epoch')\n",
    "plt.legend(['train', 'validation'], loc='upper left')\n",
    "plt.show()"
   ]
  },
  {
   "cell_type": "code",
   "execution_count": 33,
   "metadata": {},
   "outputs": [
    {
     "name": "stdout",
     "output_type": "stream",
     "text": [
      "Epoch 1/5\n",
      "132/132 [==============================] - 547s 4s/step - loss: 0.1716 - binary_accuracy: 0.9318 - val_loss: 0.6395 - val_binary_accuracy: 0.6000\n",
      "Epoch 2/5\n",
      "132/132 [==============================] - 519s 4s/step - loss: 0.1279 - binary_accuracy: 0.9470 - val_loss: 0.6125 - val_binary_accuracy: 0.6000\n",
      "Epoch 3/5\n",
      "132/132 [==============================] - 519s 4s/step - loss: 0.0721 - binary_accuracy: 0.9848 - val_loss: 0.6194 - val_binary_accuracy: 0.6000\n",
      "Epoch 4/5\n",
      "132/132 [==============================] - 519s 4s/step - loss: 0.1247 - binary_accuracy: 0.9621 - val_loss: 0.6334 - val_binary_accuracy: 0.6000\n",
      "Epoch 5/5\n",
      "132/132 [==============================] - 492s 4s/step - loss: 0.1736 - binary_accuracy: 0.9318 - val_loss: 0.6228 - val_binary_accuracy: 0.6000\n"
     ]
    }
   ],
   "source": [
    "history2 = model.fit_generator(v_generator,\n",
    "                              epochs=5, validation_data=validation_generator)"
   ]
  },
  {
   "cell_type": "code",
   "execution_count": 34,
   "metadata": {},
   "outputs": [
    {
     "name": "stdout",
     "output_type": "stream",
     "text": [
      "dict_keys(['val_loss', 'val_binary_accuracy', 'loss', 'binary_accuracy'])\n"
     ]
    },
    {
     "data": {
      "image/png": "[encoded data removed]",
      "text/plain": [
       "<Figure size 432x288 with 1 Axes>"
      ]
     },
     "metadata": {
      "needs_background": "light"
     },
     "output_type": "display_data"
    },
    {
     "data": {
      "image/png": "[encoded data removed]",
      "text/plain": [
       "<Figure size 432x288 with 1 Axes>"
      ]
     },
     "metadata": {
      "needs_background": "light"
     },
     "output_type": "display_data"
    }
   ],
   "source": [
    "# list all data in history\n",
    "print(history.history.keys())\n",
    "# summarize history for accuracy\n",
    "plt.plot(history.history['binary_accuracy'])\n",
    "plt.plot(history.history['val_binary_accuracy'])\n",
    "plt.title('model accuracy')\n",
    "plt.ylabel('accuracy')\n",
    "plt.xlabel('epoch')\n",
    "plt.legend(['train', 'validation'], loc='upper left')\n",
    "plt.show()\n",
    "# summarize history for loss\n",
    "plt.plot(history.history['loss'])\n",
    "plt.plot(history.history['val_loss'])\n",
    "plt.title('model loss')\n",
    "plt.ylabel('loss')\n",
    "plt.xlabel('epoch')\n",
    "plt.legend(['train', 'validation'], loc='upper left')\n",
    "plt.show()"
   ]
  },
  {
   "cell_type": "code",
   "execution_count": 36,
   "metadata": {},
   "outputs": [
    {
     "name": "stdout",
     "output_type": "stream",
     "text": [
      "dict_keys(['val_loss', 'val_binary_accuracy', 'loss', 'binary_accuracy'])\n"
     ]
    },
    {
     "data": {
      "image/png": "[encoded data removed]",
      "text/plain": [
       "<Figure size 432x288 with 1 Axes>"
      ]
     },
     "metadata": {
      "needs_background": "light"
     },
     "output_type": "display_data"
    },
    {
     "data": {
      "image/png": "[encoded data removed]",
      "text/plain": [
       "<Figure size 432x288 with 1 Axes>"
      ]
     },
     "metadata": {
      "needs_background": "light"
     },
     "output_type": "display_data"
    }
   ],
   "source": [
    "history = history2\n",
    "# list all data in history\n",
    "print(history.history.keys())\n",
    "# summarize history for accuracy\n",
    "plt.plot(history.history['binary_accuracy'])\n",
    "plt.plot(history.history['val_binary_accuracy'])\n",
    "plt.title('model accuracy')\n",
    "plt.ylabel('accuracy')\n",
    "plt.xlabel('epoch')\n",
    "plt.legend(['train', 'validation'], loc='upper left')\n",
    "plt.show()\n",
    "# summarize history for loss\n",
    "plt.plot(history.history['loss'])\n",
    "plt.plot(history.history['val_loss'])\n",
    "plt.title('model loss')\n",
    "plt.ylabel('loss')\n",
    "plt.xlabel('epoch')\n",
    "plt.legend(['train', 'validation'], loc='upper left')\n",
    "plt.show()"
   ]
  },
  {
   "cell_type": "code",
   "execution_count": null,
   "metadata": {},
   "outputs": [],
   "source": []
  }
 ],
 "metadata": {
  "kernelspec": {
   "display_name": "Python 3",
   "language": "python",
   "name": "python3"
  },
  "language_info": {
   "codemirror_mode": {
    "name": "ipython",
    "version": 3
   },
   "file_extension": ".py",
   "mimetype": "text/x-python",
   "name": "python",
   "nbconvert_exporter": "python",
   "pygments_lexer": "ipython3",
   "version": "3.6.8"
  }
 },
 "nbformat": 4,
 "nbformat_minor": 2
}
