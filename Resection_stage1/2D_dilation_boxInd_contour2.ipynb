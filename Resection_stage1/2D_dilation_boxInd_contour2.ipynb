{
 "cells": [
  {
   "cell_type": "code",
   "execution_count": 1,
   "metadata": {},
   "outputs": [],
   "source": [
    "import os\n",
    "import tensorflow as tf\n",
    "os.environ[\"CUDA_VISIBLE_DEVICES\"] = \"1\"\n",
    "gpu_options = tf.GPUOptions(allow_growth=True)\n",
    "sess_config = tf.ConfigProto(gpu_options=gpu_options)\n",
    "tf.keras.backend.set_session(tf.Session(config=sess_config))"
   ]
  },
  {
   "cell_type": "code",
   "execution_count": 2,
   "metadata": {},
   "outputs": [],
   "source": [
    "import os\n",
    "import glob\n",
    "#import tqdm\n",
    "import numpy as np\n",
    "#import pandas as pd\n",
    "import multiprocessing\n",
    "import pydicom as dicom\n",
    "import nibabel as nib\n",
    "#from keras import utils as kutils\n",
    "from matplotlib import pyplot as plt\n",
    "\n",
    "def load_image(label_fpath, transpose=False):\n",
    "    #encode_name = label_fpath[-39: -7]\n",
    "    label_data = nib.load(label_fpath)\n",
    "    label_array = label_data.get_fdata()\n",
    "    if transpose:\n",
    "        label_array = np.transpose(label_array, axes=(2, 1, 0))\n",
    "    return  label_array#, encode_name"
   ]
  },
  {
   "cell_type": "code",
   "execution_count": 3,
   "metadata": {},
   "outputs": [
    {
     "data": {
      "text/html": [
       "<div>\n",
       "<style scoped>\n",
       "    .dataframe tbody tr th:only-of-type {\n",
       "        vertical-align: middle;\n",
       "    }\n",
       "\n",
       "    .dataframe tbody tr th {\n",
       "        vertical-align: top;\n",
       "    }\n",
       "\n",
       "    .dataframe thead th {\n",
       "        text-align: right;\n",
       "    }\n",
       "</style>\n",
       "<table border=\"1\" class=\"dataframe\">\n",
       "  <thead>\n",
       "    <tr style=\"text-align: right;\">\n",
       "      <th></th>\n",
       "      <th></th>\n",
       "      <th>total</th>\n",
       "    </tr>\n",
       "    <tr>\n",
       "      <th>cut</th>\n",
       "      <th>type</th>\n",
       "      <th></th>\n",
       "    </tr>\n",
       "  </thead>\n",
       "  <tbody>\n",
       "    <tr>\n",
       "      <th rowspan=\"2\" valign=\"top\">fine</th>\n",
       "      <th>healthy</th>\n",
       "      <td>102</td>\n",
       "    </tr>\n",
       "    <tr>\n",
       "      <th>tumor</th>\n",
       "      <td>44</td>\n",
       "    </tr>\n",
       "    <tr>\n",
       "      <th rowspan=\"2\" valign=\"top\">thick</th>\n",
       "      <th>healthy</th>\n",
       "      <td>82</td>\n",
       "    </tr>\n",
       "    <tr>\n",
       "      <th>tumor</th>\n",
       "      <td>197</td>\n",
       "    </tr>\n",
       "  </tbody>\n",
       "</table>\n",
       "</div>"
      ],
      "text/plain": [
       "               total\n",
       "cut   type          \n",
       "fine  healthy    102\n",
       "      tumor       44\n",
       "thick healthy     82\n",
       "      tumor      197"
      ]
     },
     "execution_count": 3,
     "metadata": {},
     "output_type": "execute_result"
    }
   ],
   "source": [
    "import pandas as pd\n",
    "info = pd.read_csv('/data2/pancreas/Nifti_data/data_list.csv')\n",
    "\n",
    "info['total'] = [1]*len(info)\n",
    "pd.DataFrame(info.groupby(['cut', 'type']).sum().total)"
   ]
  },
  {
   "cell_type": "code",
   "execution_count": 4,
   "metadata": {},
   "outputs": [
    {
     "name": "stdout",
     "output_type": "stream",
     "text": [
      "/home/u/wartytw\n"
     ]
    }
   ],
   "source": [
    "cd .."
   ]
  },
  {
   "cell_type": "code",
   "execution_count": 35,
   "metadata": {},
   "outputs": [],
   "source": [
    "import pandas as pd\n",
    "info = pd.read_csv('/data2/pancreas/Nifti_data/data_list.csv')\n",
    "image_path = \"/data2/pancreas/Nifti_data/image\"\n",
    "label_path = \"/data2/pancreas/Nifti_data/label\"\n",
    "\n",
    "\n",
    "shape = np.load(\"Resection_stage1/shape.npz.npy\")\n",
    "resec = np.load(\"Resection_stage1/resec.npy\")\n",
    "y = np.load(\"Resection_stage1/resec_y.npy\")\n",
    "tumor_shape = np.load(\"Resection_stage1/shape_tumor.npy\")"
   ]
  },
  {
   "cell_type": "code",
   "execution_count": 6,
   "metadata": {},
   "outputs": [],
   "source": [
    "\n",
    "#summarize\n",
    "from skimage import measure            # to find shape contour\n",
    "import scipy.ndimage as ndi            # to determine shape centrality\n",
    "from skimage.feature import corner_harris, corner_subpix, corner_peaks, CENSURE\n",
    "#img = tumor_img[..., 50]\n",
    "\n",
    "def set_to_100(vec):\n",
    "    vs = vec.shape[0]\n",
    "    if (vs < 100):\n",
    "        r = 100 - vs\n",
    "        tmp = np.zeros((r, vec.shape[1]))-1\n",
    "        vec = np.concatenate(( vec.reshape(-1, vec.shape[1]), tmp), axis = 0)\n",
    "    \n",
    "    vec = vec[tuple(list(np.round(np.linspace(1, vec.shape[0] - 1, 100)).astype(int) )), :]    \n",
    "    return vec\n",
    "#closing\n",
    "\n",
    "def isZero(vec):\n",
    "    if (vec == []):\n",
    "        return True\n",
    "    return False\n",
    "\n",
    "def cont(img):\n",
    "    return max(measure.find_contours(img, .8), key=len)\n",
    "\n",
    "# let us set the 'brush' to a 6x6 circle\n",
    "struct = [[ 0., 0., 1., 1., 0., 0.],\n",
    "          [ 0., 1., 1., 1., 1., 0.],  \n",
    "          [ 1., 1., 1., 1., 1., 1.], \n",
    "          [ 1., 1., 1., 1., 1., 1.], \n",
    "          [ 1., 1., 1., 1., 1., 1.], \n",
    "          [ 0., 1., 1., 1., 1., 0.],\n",
    "          [ 0., 0., 1., 1., 0., 0.]]\n",
    "\n",
    "num = 80\n",
    "\n",
    "#closing = cont(ndi.morphology.binary_closing(img > num, structure=struct).astype(img.dtype))\n"
   ]
  },
  {
   "cell_type": "code",
   "execution_count": 7,
   "metadata": {},
   "outputs": [],
   "source": [
    "def set_to_pixel2(tumor_img, mor_type, num_slice):\n",
    "    pixel_t = np.zeros((mor_type.shape[0], 1))\n",
    "    for i in range(mor_type.shape[0]):\n",
    "        pixel_t[i] = tumor_img[mor_type[i, 0],mor_type[i, 1] , num_slice]\n",
    "    return pixel_t\n",
    "\n",
    "def set_to_pixel1(tumor_img, mor_type, num_slice):\n",
    "    pixel_t = np.zeros((mor_type.shape[0], 1))\n",
    "    for i in range(mor_type.shape[0]):\n",
    "        pixel_t[i] = tumor_img[mor_type[i, 0], num_slice, mor_type[i, 1] ]\n",
    "    return pixel_t\n",
    "\n",
    "def set_to_pixel0(tumor_img, mor_type, num_slice):\n",
    "    pixel_t = np.zeros((mor_type.shape[0], 1))\n",
    "    for i in range(mor_type.shape[0]):\n",
    "        pixel_t[i] = tumor_img[ num_slice, mor_type[i, 0],mor_type[i, 1] ]\n",
    "    return pixel_t\n",
    "\n",
    "\n",
    "#New\n",
    "def extract_cube(r, img):#cube 210, 220, 90 ;; ranges = [xmin, xmax, ymin, ymax, zmin, zmax]\n",
    "    img_tmp = np.zeros((356, 289, 105))\n",
    "    #print(img.shape, r)\n",
    "    img_tmp[:int(r[1]-r[0]), :int(r[3]-r[2]), :int(r[5]-r[4])] = img[int(r[0]):int(r[1]), int(r[2]):int(r[3]), int(r[4]):int(r[5])]\n",
    "    return img_tmp\n",
    "\n",
    "\n",
    "def masking(label, img):\n",
    "    for i in range(img.shape[0]):\n",
    "        for j in range(img.shape[1]):\n",
    "            if label[i, j] == 0 or label[i, j] == 1:\n",
    "                img[i, j] = 0\n",
    "    return img\n",
    "\n",
    "def masking2(label, img):\n",
    "    for i in range(img.shape[0]):\n",
    "        for j in range(img.shape[1]):\n",
    "            if label[i, j] != 1:\n",
    "                img[i, j] = 0\n",
    "    return img\n",
    "\n",
    "import pandas as pd\n",
    "map_df = pd.DataFrame(data={'resec_name': resec, 'shape': np.array(range(182)), 'target':y.reshape(182)})\n"
   ]
  },
  {
   "cell_type": "code",
   "execution_count": 22,
   "metadata": {},
   "outputs": [
    {
     "data": {
      "text/plain": [
       "<matplotlib.image.AxesImage at 0x7ff49e8e6d68>"
      ]
     },
     "execution_count": 22,
     "metadata": {},
     "output_type": "execute_result"
    },
    {
     "data": {
      "image/png": "[encoded data removed]",
      "text/plain": [
       "<Figure size 432x288 with 1 Axes>"
      ]
     },
     "metadata": {
      "needs_background": "light"
     },
     "output_type": "display_data"
    }
   ],
   "source": [
    "plt.imshow(label[..., 71])"
   ]
  },
  {
   "cell_type": "code",
   "execution_count": 8,
   "metadata": {},
   "outputs": [],
   "source": [
    "tumor_shape2 = np.zeros((len(resec), 6))\n",
    "for i , name in enumerate(resec[:1]):\n",
    "    label = load_image(os.path.join(label_path, \"LB_\" + name + \".nii.gz\"))\n",
    "    for j in range(3):\n",
    "        tumor_shape2[i, j*2] = np.min(np.unique(np.where(label != 0)[j]))\n",
    "        tumor_shape2[i, j*2+1] = np.max(np.unique(np.where(label != 0)[j]))\n",
    "    del label\n"
   ]
  },
  {
   "cell_type": "code",
   "execution_count": 11,
   "metadata": {},
   "outputs": [
    {
     "data": {
      "text/plain": [
       "array([[103., 312., 214., 318.,  55.,  73.],\n",
       "       [  0.,   0.,   0.,   0.,   0.,   0.],\n",
       "       [  0.,   0.,   0.,   0.,   0.,   0.],\n",
       "       ...,\n",
       "       [  0.,   0.,   0.,   0.,   0.,   0.],\n",
       "       [  0.,   0.,   0.,   0.,   0.,   0.],\n",
       "       [  0.,   0.,   0.,   0.,   0.,   0.]])"
      ]
     },
     "execution_count": 11,
     "metadata": {},
     "output_type": "execute_result"
    }
   ],
   "source": [
    "tumor_shape2"
   ]
  },
  {
   "cell_type": "code",
   "execution_count": 12,
   "metadata": {},
   "outputs": [],
   "source": [
    "name = resec[0]"
   ]
  },
  {
   "cell_type": "code",
   "execution_count": 13,
   "metadata": {},
   "outputs": [],
   "source": [
    "img = load_image(os.path.join(image_path, \"IM_\" + name + \".nii.gz\"))\n",
    "label = load_image(os.path.join(label_path, \"LB_\" + name + \".nii.gz\"))\n"
   ]
  },
  {
   "cell_type": "code",
   "execution_count": 14,
   "metadata": {},
   "outputs": [
    {
     "data": {
      "image/png": "[encoded data removed]",
      "text/plain": [
       "<Figure size 432x288 with 1 Axes>"
      ]
     },
     "metadata": {
      "needs_background": "light"
     },
     "output_type": "display_data"
    },
    {
     "data": {
      "image/png": "[encoded data removed]",
      "text/plain": [
       "<Figure size 432x288 with 1 Axes>"
      ]
     },
     "metadata": {
      "needs_background": "light"
     },
     "output_type": "display_data"
    },
    {
     "data": {
      "image/png": "[encoded data removed]",
      "text/plain": [
       "<Figure size 432x288 with 1 Axes>"
      ]
     },
     "metadata": {
      "needs_background": "light"
     },
     "output_type": "display_data"
    },
    {
     "data": {
      "image/png": "[encoded data removed]",
      "text/plain": [
       "<Figure size 432x288 with 1 Axes>"
      ]
     },
     "metadata": {
      "needs_background": "light"
     },
     "output_type": "display_data"
    },
    {
     "data": {
      "image/png": "[encoded data removed]",
      "text/plain": [
       "<Figure size 432x288 with 1 Axes>"
      ]
     },
     "metadata": {
      "needs_background": "light"
     },
     "output_type": "display_data"
    },
    {
     "data": {
      "image/png": "[encoded data removed]",
      "text/plain": [
       "<Figure size 432x288 with 1 Axes>"
      ]
     },
     "metadata": {
      "needs_background": "light"
     },
     "output_type": "display_data"
    },
    {
     "data": {
      "image/png": "[encoded data removed]",
      "text/plain": [
       "<Figure size 432x288 with 1 Axes>"
      ]
     },
     "metadata": {
      "needs_background": "light"
     },
     "output_type": "display_data"
    },
    {
     "data": {
      "image/png": "[encoded data removed]",
      "text/plain": [
       "<Figure size 432x288 with 1 Axes>"
      ]
     },
     "metadata": {
      "needs_background": "light"
     },
     "output_type": "display_data"
    },
    {
     "data": {
      "image/png": "[encoded data removed]",
      "text/plain": [
       "<Figure size 432x288 with 1 Axes>"
      ]
     },
     "metadata": {
      "needs_background": "light"
     },
     "output_type": "display_data"
    },
    {
     "data": {
      "image/png": "[encoded data removed]",
      "text/plain": [
       "<Figure size 432x288 with 1 Axes>"
      ]
     },
     "metadata": {
      "needs_background": "light"
     },
     "output_type": "display_data"
    },
    {
     "data": {
      "image/png": "[encoded data removed]",
      "text/plain": [
       "<Figure size 432x288 with 1 Axes>"
      ]
     },
     "metadata": {
      "needs_background": "light"
     },
     "output_type": "display_data"
    },
    {
     "data": {
      "image/png": "[encoded data removed]",
      "text/plain": [
       "<Figure size 432x288 with 1 Axes>"
      ]
     },
     "metadata": {
      "needs_background": "light"
     },
     "output_type": "display_data"
    },
    {
     "data": {
      "image/png": "[encoded data removed]",
      "text/plain": [
       "<Figure size 432x288 with 1 Axes>"
      ]
     },
     "metadata": {
      "needs_background": "light"
     },
     "output_type": "display_data"
    },
    {
     "data": {
      "image/png": "[encoded data removed]",
      "text/plain": [
       "<Figure size 432x288 with 1 Axes>"
      ]
     },
     "metadata": {
      "needs_background": "light"
     },
     "output_type": "display_data"
    },
    {
     "data": {
      "image/png": "[encoded data removed]",
      "text/plain": [
       "<Figure size 432x288 with 1 Axes>"
      ]
     },
     "metadata": {
      "needs_background": "light"
     },
     "output_type": "display_data"
    },
    {
     "data": {
      "image/png": "[encoded data removed]",
      "text/plain": [
       "<Figure size 432x288 with 1 Axes>"
      ]
     },
     "metadata": {
      "needs_background": "light"
     },
     "output_type": "display_data"
    },
    {
     "data": {
      "image/png": "[encoded data removed]",
      "text/plain": [
       "<Figure size 432x288 with 1 Axes>"
      ]
     },
     "metadata": {
      "needs_background": "light"
     },
     "output_type": "display_data"
    },
    {
     "data": {
      "image/png": "[encoded data removed]",
      "text/plain": [
       "<Figure size 432x288 with 1 Axes>"
      ]
     },
     "metadata": {
      "needs_background": "light"
     },
     "output_type": "display_data"
    }
   ],
   "source": [
    "for i in range(55, 73):\n",
    "    plt.imshow(label[..., i])\n",
    "    plt.show()"
   ]
  },
  {
   "cell_type": "code",
   "execution_count": 29,
   "metadata": {},
   "outputs": [
    {
     "data": {
      "text/plain": [
       "59"
      ]
     },
     "execution_count": 29,
     "metadata": {},
     "output_type": "execute_result"
    }
   ],
   "source": []
  },
  {
   "cell_type": "code",
   "execution_count": null,
   "metadata": {},
   "outputs": [],
   "source": []
  },
  {
   "cell_type": "code",
   "execution_count": null,
   "metadata": {},
   "outputs": [],
   "source": []
  },
  {
   "cell_type": "code",
   "execution_count": null,
   "metadata": {},
   "outputs": [],
   "source": []
  },
  {
   "cell_type": "code",
   "execution_count": null,
   "metadata": {},
   "outputs": [],
   "source": []
  },
  {
   "cell_type": "code",
   "execution_count": null,
   "metadata": {},
   "outputs": [],
   "source": []
  },
  {
   "cell_type": "code",
   "execution_count": 18,
   "metadata": {},
   "outputs": [
    {
     "name": "stdout",
     "output_type": "stream",
     "text": [
      "0\n",
      "1\n",
      "2\n",
      "3\n",
      "4\n",
      "5\n",
      "6\n",
      "7\n",
      "8\n",
      "9\n",
      "10\n",
      "11\n",
      "12\n",
      "13\n",
      "14\n",
      "15\n",
      "16\n",
      "17\n",
      "18\n",
      "19\n",
      "20\n",
      "21\n",
      "22\n",
      "23\n",
      "24\n",
      "25\n",
      "26\n",
      "27\n",
      "28\n",
      "29\n",
      "30\n",
      "31\n",
      "32\n",
      "33\n",
      "34\n",
      "35\n",
      "36\n",
      "37\n",
      "38\n",
      "39\n",
      "40\n",
      "41\n",
      "42\n",
      "43\n",
      "44\n",
      "45\n",
      "46\n",
      "47\n",
      "48\n",
      "49\n",
      "50\n",
      "51\n",
      "52\n",
      "53\n",
      "54\n",
      "55\n",
      "56\n",
      "57\n",
      "58\n",
      "59\n",
      "60\n",
      "61\n",
      "62\n",
      "63\n",
      "64\n",
      "65\n",
      "66\n",
      "67\n",
      "68\n",
      "69\n",
      "70\n",
      "71\n",
      "72\n",
      "73\n",
      "74\n",
      "75\n",
      "76\n",
      "77\n",
      "78\n",
      "79\n",
      "80\n",
      "81\n",
      "82\n",
      "86\n",
      "87\n",
      "88\n",
      "89\n",
      "90\n",
      "91\n",
      "92\n",
      "93\n",
      "94\n",
      "95\n",
      "96\n",
      "97\n",
      "98\n",
      "99\n",
      "100\n",
      "101\n",
      "102\n",
      "103\n",
      "104\n",
      "105\n",
      "106\n",
      "107\n",
      "108\n",
      "109\n",
      "110\n",
      "111\n",
      "112\n",
      "113\n",
      "114\n",
      "115\n",
      "116\n",
      "117\n",
      "118\n",
      "119\n",
      "120\n",
      "121\n",
      "122\n",
      "123\n",
      "124\n",
      "125\n",
      "126\n",
      "127\n",
      "128\n",
      "129\n",
      "130\n",
      "131\n",
      "132\n",
      "133\n",
      "134\n",
      "135\n",
      "136\n",
      "137\n",
      "138\n",
      "139\n",
      "140\n",
      "141\n",
      "142\n",
      "143\n",
      "144\n",
      "145\n",
      "146\n",
      "147\n",
      "148\n",
      "149\n",
      "150\n",
      "151\n",
      "152\n",
      "153\n",
      "154\n",
      "155\n",
      "156\n",
      "157\n",
      "158\n",
      "159\n",
      "160\n",
      "161\n",
      "162\n",
      "163\n",
      "164\n",
      "165\n",
      "166\n",
      "167\n",
      "168\n",
      "169\n",
      "170\n",
      "171\n",
      "172\n",
      "173\n",
      "174\n",
      "175\n",
      "176\n",
      "177\n",
      "178\n",
      "179\n",
      "180\n",
      "181\n"
     ]
    }
   ],
   "source": [
    "#create 3 contours in 3 dimensions\n",
    "#182 identities in total \n",
    "#1. crop into (210, 220, 90) -> dilation ->masking\n",
    "#2. erosion for each 60, 70, 80\n",
    "#3. store in contours[182, 3, n_{dimension} , 3, 100] #identity, dimension, num_slcie,  contour  ;; num_slice = [210, 200, 90]\n",
    "num_identity = len(resec)\n",
    "contours = np.zeros((num_identity, 3, 365, 3, 100))\n",
    "contour_position = np.zeros((num_identity, 1, 365, 6, 100))\n",
    "from scipy import ndimage\n",
    "\n",
    "\n",
    "\n",
    "nums = [60, 70, 80]\n",
    "for idx, name in enumerate(resec):\n",
    "    print(idx)\n",
    "    img = load_image(os.path.join(image_path, \"IM_\" + name + \".nii.gz\"))\n",
    "    label = load_image(os.path.join(label_path, \"LB_\" + name + \".nii.gz\"))\n",
    "    img = extract_cube(tumor_shape[idx], img)\n",
    "    label = extract_cube(tumor_shape[idx], label)\n",
    "\n",
    "#========\n",
    "    for i in range(img.shape[2]):\n",
    "        \n",
    "        num_slice = i\n",
    "        label[..., i] = masking(label[..., i], label[..., i])\n",
    "        label[..., i] = ndimage.binary_dilation(label[..., i]).astype(label[..., i].dtype)\n",
    "        img[..., i] = masking2(label[..., i], img[..., i])\n",
    "        for n, num in enumerate(nums):\n",
    "\n",
    "            o1 = measure.find_contours(ndi.morphology.binary_closing(img[..., i] > num, structure=struct).astype(img.dtype), .8)\n",
    "            if(isZero(o1)):\n",
    "                contours[idx, 2, i, n, :] = np.zeros((100,))\n",
    "            else:\n",
    "                closing = cont(ndi.morphology.binary_closing(img[..., i] > num, structure=struct).astype(img[..., i].dtype))\n",
    "                contour_position[idx, 0, i, 2*n:2*(n+1), :] = set_to_100(closing).reshape(2, 100)\n",
    "                tmp_vector = set_to_pixel2(img, closing.astype(np.int), i)\n",
    "                contours[idx, 2, i, n, :] = set_to_100(tmp_vector).reshape(100)\n",
    "\n",
    "\n",
    "#===========      \n",
    "    for i in range(img.shape[1]):\n",
    "        num_slice = i\n",
    "        label[:, i, :] = masking(label[:, i, :], label[:, i, :])\n",
    "        label[:, i, :] = ndimage.binary_dilation(label[:, i, :]).astype(label[:, i, :].dtype)\n",
    "        img[:, i, :] = masking2(label[:, i, :], img[:, i, :])\n",
    "        for n, num in enumerate(nums):\n",
    "\n",
    "            o1 = measure.find_contours(ndi.morphology.binary_closing(img[:, i, :] > num, structure=struct).astype(img.dtype), .8)\n",
    "            if(isZero(o1)):\n",
    "                contours[idx, 1, i, n, :] = np.zeros((100,))\n",
    "            else:\n",
    "                closing = cont(ndi.morphology.binary_closing(img[:, i, :] > num, structure=struct).astype(img[:, i, :].dtype))\n",
    "                tmp_vector = set_to_pixel1(img, closing.astype(np.int), i)\n",
    "                contours[idx, 1, i, n, :] = set_to_100(tmp_vector).reshape(100)\n",
    "        \n",
    "#===========    \n",
    "    for i in range(img.shape[0]):\n",
    "        \n",
    "        num_slice = i\n",
    "        label[i, :, :] = masking(label[i, :, :], label[i, :, :])\n",
    "        label[i, :, :] = ndimage.binary_dilation(label[i, :, :]).astype(label[i, :, :].dtype)\n",
    "        img[i, :, :] = masking2(label[i, :, :], img[i, :, :])\n",
    "        for n, num in enumerate(nums):\n",
    "\n",
    "            o1 = measure.find_contours(ndi.morphology.binary_closing(img[i, :, :] > num, structure=struct).astype(img.dtype), .8)\n",
    "            if(isZero(o1)):\n",
    "                contours[idx, 0, i, n, :] = np.zeros((100,))\n",
    "            else:\n",
    "                closing = cont(ndi.morphology.binary_closing(img[i, :, :] > num, structure=struct).astype(img[i, :, :].dtype))\n",
    "                tmp_vector = set_to_pixel1(img, closing.astype(np.int), i)\n",
    "                contours[idx, 0, i, n, :] = set_to_100(tmp_vector).reshape(100)\n",
    "                \n",
    "        \n",
    "    del img, label\n",
    "\n",
    "   \n",
    "\n",
    "\n"
   ]
  },
  {
   "cell_type": "code",
   "execution_count": 142,
   "metadata": {},
   "outputs": [],
   "source": [
    "#contours[182, 3, n_{dimension} , 3, 100] \n",
    "num_slice_nonzero_contours = []\n",
    "for i in range(182):\n",
    "    num_slice_nonzero_contours.append(np.unique(np.where(contours[i, ...]!= 0)[1]).shape[0])"
   ]
  },
  {
   "cell_type": "code",
   "execution_count": 146,
   "metadata": {},
   "outputs": [
    {
     "data": {
      "text/plain": [
       "<matplotlib.collections.PathCollection at 0x7ff49d3371d0>"
      ]
     },
     "execution_count": 146,
     "metadata": {},
     "output_type": "execute_result"
    },
    {
     "data": {
      "image/png": "[encoded data removed]",
      "text/plain": [
       "<Figure size 432x288 with 1 Axes>"
      ]
     },
     "metadata": {
      "needs_background": "light"
     },
     "output_type": "display_data"
    }
   ],
   "source": [
    "plt.scatter(list(range(len(num_slice_nonzero_contours))), num_slice_nonzero_contours)"
   ]
  },
  {
   "cell_type": "code",
   "execution_count": 147,
   "metadata": {},
   "outputs": [
    {
     "data": {
      "text/plain": [
       "5.0"
      ]
     },
     "execution_count": 147,
     "metadata": {},
     "output_type": "execute_result"
    }
   ],
   "source": [
    "np.median(num_slice_nonzero_contours)"
   ]
  },
  {
   "cell_type": "code",
   "execution_count": 129,
   "metadata": {},
   "outputs": [
    {
     "data": {
      "text/plain": [
       "array([ 92., 111., 106., 103., 118., 109., 126.,   0., 125., 130.,   0.,\n",
       "       126., 136., 117.,   0., 116.,   0.,   0., 129.,   0.,   0.,   0.,\n",
       "         0.,   0.,   0.,   0.,   0.,   0.,   0.,   0.,   0.,   0.,   0.,\n",
       "         0.,   0.,   0.,   0.,   0.,   0.,   0.,   0.,   0.,   0.,   0.,\n",
       "         0.,   0.,   0.,   0.,   0.,   0.,   0.,   0.,   0.,   0.,  96.,\n",
       "         0., 100.,   0.,  89.,  75.,  61.,  61.,  68.,  61.,  72.,  91.,\n",
       "         0.,  78.,   0.,  92.,  87.,   0.,  80.,  81.,  86.,  86.,  61.,\n",
       "        65.,  78.,  53.,   0.,  82.,  85.,  80.,  84.,  84., 108., 111.,\n",
       "       111.,  99.,  99.,  89.,  89.,  89.,  89., 100.,  58.,  68.,  78.,\n",
       "        78.])"
      ]
     },
     "execution_count": 129,
     "metadata": {},
     "output_type": "execute_result"
    }
   ],
   "source": [
    "contours[0, 2, 16, 1, :]"
   ]
  },
  {
   "cell_type": "code",
   "execution_count": 136,
   "metadata": {},
   "outputs": [
    {
     "data": {
      "text/plain": [
       "(array([193, 193, 193, ..., 308, 308, 308]),\n",
       " array([295, 296, 297, ..., 303, 304, 305]),\n",
       " array([67, 67, 67, ..., 62, 62, 62]))"
      ]
     },
     "execution_count": 136,
     "metadata": {},
     "output_type": "execute_result"
    }
   ],
   "source": [
    "name = resec[2]\n",
    "img = load_image(os.path.join(image_path, \"IM_\" + name + \".nii.gz\"))\n",
    "label = load_image(os.path.join(label_path, \"LB_\" + name + \".nii.gz\"))\n",
    "np.where(label != 0)\n",
    "#plt.imshow(img[])\n",
    "# plt.show()"
   ]
  },
  {
   "cell_type": "code",
   "execution_count": 137,
   "metadata": {},
   "outputs": [
    {
     "data": {
      "image/png": "[encoded data removed]",
      "text/plain": [
       "<Figure size 432x288 with 1 Axes>"
      ]
     },
     "metadata": {
      "needs_background": "light"
     },
     "output_type": "display_data"
    },
    {
     "data": {
      "image/png": "[encoded data removed]",
      "text/plain": [
       "<Figure size 432x288 with 1 Axes>"
      ]
     },
     "metadata": {
      "needs_background": "light"
     },
     "output_type": "display_data"
    },
    {
     "data": {
      "image/png": "[encoded data removed]",
      "text/plain": [
       "<Figure size 432x288 with 1 Axes>"
      ]
     },
     "metadata": {
      "needs_background": "light"
     },
     "output_type": "display_data"
    },
    {
     "data": {
      "image/png": "[encoded data removed]",
      "text/plain": [
       "<Figure size 432x288 with 1 Axes>"
      ]
     },
     "metadata": {
      "needs_background": "light"
     },
     "output_type": "display_data"
    },
    {
     "data": {
      "image/png": "[encoded data removed]",
      "text/plain": [
       "<Figure size 432x288 with 1 Axes>"
      ]
     },
     "metadata": {
      "needs_background": "light"
     },
     "output_type": "display_data"
    }
   ],
   "source": [
    "for i in range(62, 67):\n",
    "    plt.imshow(label[..., i])\n",
    "    plt.show()"
   ]
  },
  {
   "cell_type": "code",
   "execution_count": 92,
   "metadata": {},
   "outputs": [
    {
     "data": {
      "text/plain": [
       "array([[103., 312., 214., 318.,  55.,  73.],\n",
       "       [177., 333., 221., 342.,  25.,  34.],\n",
       "       [193., 308., 270., 336.,  59.,  72.],\n",
       "       ...,\n",
       "       [161., 321., 264., 345.,  15.,  29.],\n",
       "       [126., 295., 290., 367.,  13.,  27.],\n",
       "       [116., 317., 188., 339., 216., 308.]])"
      ]
     },
     "execution_count": 92,
     "metadata": {},
     "output_type": "execute_result"
    }
   ],
   "source": [
    "tumor_shape2"
   ]
  },
  {
   "cell_type": "code",
   "execution_count": 75,
   "metadata": {},
   "outputs": [],
   "source": [
    "name = resec[0]\n",
    "img = load_image(os.path.join(image_path, \"IM_\" + name + \".nii.gz\"))\n",
    "label = load_image(os.path.join(label_path, \"LB_\" + name + \".nii.gz\"))\n",
    "img = extract_cube(tumor_shape2[0], img)\n",
    "label = extract_cube(tumor_shape2[0], label)"
   ]
  },
  {
   "cell_type": "code",
   "execution_count": 76,
   "metadata": {},
   "outputs": [
    {
     "data": {
      "text/plain": [
       "array([  0,   1,   2,   3,   4,   5,   6,   7,   8,   9,  10,  11,  12,\n",
       "        13,  14,  15,  16,  17,  18,  19,  20,  21,  22,  23,  24,  25,\n",
       "        26,  27,  28,  29,  30,  31,  32,  33,  34,  35,  36,  37,  38,\n",
       "        39,  40,  41,  42,  43,  44,  45,  46,  47,  48,  49,  50,  51,\n",
       "        52,  53,  54,  55,  56,  57,  58,  59,  60,  61,  62,  63,  64,\n",
       "        65,  66,  67,  68,  69,  70,  71,  72,  73,  74,  75,  76,  77,\n",
       "        78,  79,  80,  81,  82,  83,  84,  85,  86,  87,  88,  89,  90,\n",
       "        91,  92,  93,  94,  95,  96,  97,  98,  99, 100, 101, 102, 103,\n",
       "       104, 105, 106, 107, 108, 109, 110, 111, 112, 113, 114, 115, 116,\n",
       "       117, 118, 119, 120, 121, 122, 123, 124, 125, 126, 127, 128, 129,\n",
       "       130, 131, 132, 133, 134, 135, 136, 137, 138, 139, 140, 141, 142,\n",
       "       143, 144, 145, 146, 147, 148, 149, 150, 151, 152, 153, 154, 155,\n",
       "       156, 157, 158, 159, 160, 161, 162, 163, 164, 165, 166, 167, 168,\n",
       "       169, 170, 171, 172, 173, 174, 175, 176, 177, 178, 179, 180, 181,\n",
       "       182, 183, 184, 185, 186, 187, 188, 189, 190, 191, 192, 193, 194,\n",
       "       195, 196, 197, 198, 199, 200, 201, 202, 203, 204, 205, 206, 207,\n",
       "       208])"
      ]
     },
     "execution_count": 76,
     "metadata": {},
     "output_type": "execute_result"
    }
   ],
   "source": [
    "np.unique(np.where(label != 0)[0])"
   ]
  },
  {
   "cell_type": "code",
   "execution_count": 82,
   "metadata": {},
   "outputs": [
    {
     "data": {
      "text/plain": [
       "<matplotlib.image.AxesImage at 0x7ff49c254908>"
      ]
     },
     "execution_count": 82,
     "metadata": {},
     "output_type": "execute_result"
    },
    {
     "data": {
      "image/png": "[encoded data removed]",
      "text/plain": [
       "<Figure size 432x288 with 1 Axes>"
      ]
     },
     "metadata": {
      "needs_background": "light"
     },
     "output_type": "display_data"
    }
   ],
   "source": [
    "plt.imshow(label[20, ...])"
   ]
  },
  {
   "cell_type": "code",
   "execution_count": 91,
   "metadata": {},
   "outputs": [],
   "source": [
    "def binary_accuracy(y_true, y_pred):\n",
    "    return K.mean(K.equal(y_true, K.round(y_pred)), axis=-1)"
   ]
  },
  {
   "cell_type": "code",
   "execution_count": 89,
   "metadata": {},
   "outputs": [],
   "source": [
    "del binary_accuracy"
   ]
  },
  {
   "cell_type": "code",
   "execution_count": 114,
   "metadata": {},
   "outputs": [],
   "source": [
    "from keras.datasets import mnist\n",
    "from keras.layers import Input, Dense, Reshape, Flatten, Dropout, multiply, concatenate,  MaxPool2D\n",
    "from keras.layers import BatchNormalization, Activation, Embedding, ZeroPadding2D, Lambda\n",
    "from keras.layers.advanced_activations import LeakyReLU, ReLU\n",
    "from keras.layers.convolutional import UpSampling2D, Conv2D, Conv1D\n",
    "from keras.models import Sequential, Model\n",
    "from keras.optimizers import Adam\n",
    "from keras.utils import to_categorical\n",
    "import keras.backend as K\n",
    "import matplotlib.pyplot as plt\n",
    "import numpy as np\n",
    "from keras import metrics\n",
    "import pandas as pd\n",
    "import numpy as np\n",
    "from keras.models import Sequential\n",
    "from keras.layers import Dense, Dropout, Activation, Flatten, LSTM, TimeDistributed, RepeatVector, Reshape\n",
    "from keras.layers.normalization import BatchNormalization\n",
    "from keras.optimizers import Adam\n",
    "from keras.callbacks import EarlyStopping, ModelCheckpoint\n",
    "import matplotlib.pyplot as plt\n",
    "import tensorflow as tf\n",
    "%matplotlib inline\n",
    "import keras"
   ]
  },
  {
   "cell_type": "code",
   "execution_count": 126,
   "metadata": {},
   "outputs": [],
   "source": []
  },
  {
   "cell_type": "code",
   "execution_count": 127,
   "metadata": {},
   "outputs": [
    {
     "name": "stdout",
     "output_type": "stream",
     "text": [
      "__________________________________________________________________________________________________\n",
      "Layer (type)                    Output Shape         Param #     Connected to                     \n",
      "==================================================================================================\n",
      "input_21 (InputLayer)           (None, 220, 3, 100,  0                                            \n",
      "__________________________________________________________________________________________________\n",
      "time_distributed_82 (TimeDistri (None, 220, 3, 100,  640         input_21[0][0]                   \n",
      "__________________________________________________________________________________________________\n",
      "time_distributed_83 (TimeDistri (None, 220, 1, 98, 6 36928       time_distributed_82[0][0]        \n",
      "__________________________________________________________________________________________________\n",
      "dropout_80 (Dropout)            (None, 220, 1, 98, 6 0           time_distributed_83[0][0]        \n",
      "__________________________________________________________________________________________________\n",
      "time_distributed_84 (TimeDistri (None, 220, 1, 98, 3 18464       dropout_80[0][0]                 \n",
      "__________________________________________________________________________________________________\n",
      "time_distributed_85 (TimeDistri (None, 220, 1, 98, 3 9248        time_distributed_84[0][0]        \n",
      "__________________________________________________________________________________________________\n",
      "dropout_81 (Dropout)            (None, 220, 1, 98, 3 0           time_distributed_85[0][0]        \n",
      "__________________________________________________________________________________________________\n",
      "time_distributed_86 (TimeDistri (None, 220, 1, 98, 1 4624        dropout_81[0][0]                 \n",
      "__________________________________________________________________________________________________\n",
      "time_distributed_87 (TimeDistri (None, 220, 1, 98, 1 2320        time_distributed_86[0][0]        \n",
      "__________________________________________________________________________________________________\n",
      "dropout_82 (Dropout)            (None, 220, 1, 98, 1 0           time_distributed_87[0][0]        \n",
      "__________________________________________________________________________________________________\n",
      "time_distributed_88 (TimeDistri (None, 220, 1, 98, 8 1160        dropout_82[0][0]                 \n",
      "__________________________________________________________________________________________________\n",
      "time_distributed_89 (TimeDistri (None, 220, 1, 98, 8 584         time_distributed_88[0][0]        \n",
      "__________________________________________________________________________________________________\n",
      "input_22 (InputLayer)           (None, 6)            0                                            \n",
      "__________________________________________________________________________________________________\n",
      "dropout_83 (Dropout)            (None, 220, 1, 98, 8 0           time_distributed_89[0][0]        \n",
      "__________________________________________________________________________________________________\n",
      "dense_71 (Dense)                (None, 100)          700         input_22[0][0]                   \n",
      "__________________________________________________________________________________________________\n",
      "time_distributed_90 (TimeDistri (None, 220, 784)     0           dropout_83[0][0]                 \n",
      "__________________________________________________________________________________________________\n",
      "dropout_86 (Dropout)            (None, 100)          0           dense_71[0][0]                   \n",
      "__________________________________________________________________________________________________\n",
      "time_distributed_91 (TimeDistri (None, 220, 150)     117750      time_distributed_90[0][0]        \n",
      "__________________________________________________________________________________________________\n",
      "dense_72 (Dense)                (None, 50)           5050        dropout_86[0][0]                 \n",
      "__________________________________________________________________________________________________\n",
      "dropout_84 (Dropout)            (None, 220, 150)     0           time_distributed_91[0][0]        \n",
      "__________________________________________________________________________________________________\n",
      "dropout_87 (Dropout)            (None, 50)           0           dense_72[0][0]                   \n",
      "__________________________________________________________________________________________________\n",
      "lstm_9 (LSTM)                   (None, 150)          180600      dropout_84[0][0]                 \n",
      "__________________________________________________________________________________________________\n",
      "dense_73 (Dense)                (None, 1)            51          dropout_87[0][0]                 \n",
      "__________________________________________________________________________________________________\n",
      "dropout_85 (Dropout)            (None, 150)          0           lstm_9[0][0]                     \n",
      "__________________________________________________________________________________________________\n",
      "concatenate_21 (Concatenate)    (None, 7)            0           dense_73[0][0]                   \n",
      "                                                                 input_22[0][0]                   \n",
      "__________________________________________________________________________________________________\n",
      "concatenate_22 (Concatenate)    (None, 157)          0           dropout_85[0][0]                 \n",
      "                                                                 concatenate_21[0][0]             \n",
      "__________________________________________________________________________________________________\n",
      "dense_74 (Dense)                (None, 151)          23858       concatenate_22[0][0]             \n",
      "__________________________________________________________________________________________________\n",
      "dropout_88 (Dropout)            (None, 151)          0           dense_74[0][0]                   \n",
      "__________________________________________________________________________________________________\n",
      "dense_75 (Dense)                (None, 10)           1520        dropout_88[0][0]                 \n",
      "__________________________________________________________________________________________________\n",
      "dense_76 (Dense)                (None, 1)            11          dense_75[0][0]                   \n",
      "==================================================================================================\n",
      "Total params: 403,508\n",
      "Trainable params: 403,508\n",
      "Non-trainable params: 0\n",
      "__________________________________________________________________________________________________\n"
     ]
    }
   ],
   "source": [
    "inputA = Input(shape=(220, 3, 100,1 ))\n",
    "init = 'sigmoid'\n",
    "tmp_x = TimeDistributed(Conv2D(64, (3, 3), padding = 'same',  activation = init), input_shape = (220, 3, 100,1 ))(inputA)\n",
    "x = TimeDistributed(Conv2D(64, (3, 3), \n",
    "                                 kernel_initializer = keras.initializers.he_normal(seed=None), activation='relu'))(tmp_x)\n",
    "x = Dropout(0.5)(x)\n",
    "\n",
    "x = TimeDistributed(Conv2D(32, (3, 3), \n",
    "                                 kernel_initializer = tf.keras.initializers.glorot_normal(seed=None),padding = 'same', activation = init))(x)\n",
    "x = TimeDistributed(Conv2D(32, (3, 3), \n",
    "                                 kernel_initializer = keras.initializers.he_normal(seed=None), activation='relu',padding = 'same'))(x)\n",
    "\n",
    "x = Dropout(0.5)(x)\n",
    "\n",
    "\n",
    "x = TimeDistributed(Conv2D(16, (3, 3), \n",
    "                                 kernel_initializer = tf.keras.initializers.glorot_normal(seed=None),padding = 'same', activation = init))(x)\n",
    "x = TimeDistributed(Conv2D(16, (3, 3), \n",
    "                                 kernel_initializer = keras.initializers.he_normal(seed=None), activation='relu',padding = 'same'))(x)\n",
    "\n",
    "x = Dropout(0.5)(x)\n",
    "\n",
    "x = TimeDistributed(Conv2D(8, (3, 3), \n",
    "                                 kernel_initializer = tf.keras.initializers.glorot_normal(seed=None),padding = 'same', activation = init))(x)\n",
    "x = TimeDistributed(Conv2D(8, (3, 3), \n",
    "                                 kernel_initializer = keras.initializers.he_normal(seed=None), activation='relu',padding = 'same'))(x)\n",
    "x = Dropout(0.5)(x)\n",
    "\n",
    "\n",
    "\n",
    "#x = concatenate([x, tmp_x], axis = -1)\n",
    "x = TimeDistributed(Flatten())(x)\n",
    "x = TimeDistributed(Dense(150,kernel_initializer = keras.initializers.he_normal(seed=None), activation='sigmoid'))(x)\n",
    "x = Dropout(0.5)(x)\n",
    "\n",
    "\n",
    "x = LSTM(150, return_sequences = False, dropout = 0.5)(x)\n",
    "x = Dropout(0.5)(x)\n",
    "x = Model(inputs=inputA, outputs=x)\n",
    "\n",
    "#==========\n",
    "inputB = Input(shape=(6,))\n",
    "tmp_y = Dense(100,kernel_initializer = keras.initializers.he_normal(seed=None), activation='relu')(inputB)\n",
    "y = Dropout(0.5)(tmp_y)\n",
    "y = Dense(50,kernel_initializer = keras.initializers.he_normal(seed=None), activation='relu')(y)\n",
    "y = Dropout(0.5)(y)\n",
    "\n",
    "y = Dense(1 ,kernel_initializer = keras.initializers.he_normal(seed=None), activation='selu')(y)\n",
    "y = concatenate([y, inputB])\n",
    "y = Model(inputs=inputB, outputs=y)\n",
    "\n",
    "#========\n",
    "combined = concatenate([x.output, y.output])\n",
    "#=======\n",
    "\n",
    "z = Dense(151,kernel_initializer = tf.keras.initializers.glorot_normal(seed=None), activation=init)(combined)\n",
    "z = Dropout(0.5)(z)\n",
    "z = Dense(10,kernel_initializer = tf.keras.initializers.glorot_normal(seed=None), activation=\"selu\")(z)\n",
    "z = Dense(1, activation='sigmoid')(z)\n",
    "#========\n",
    "model = Model(inputs=[x.input, y.input], outputs=z)\n",
    "model.summary()"
   ]
  },
  {
   "cell_type": "code",
   "execution_count": 128,
   "metadata": {},
   "outputs": [],
   "source": [
    "adam_lr = 0.0002\n",
    "adam_beta_1 = 0.5\n",
    "model.compile(optimizer=Adam(lr=adam_lr, beta_1=adam_beta_1),\n",
    "              loss='binary_crossentropy', metrics = [binary_accuracy])\n"
   ]
  },
  {
   "cell_type": "code",
   "execution_count": 50,
   "metadata": {},
   "outputs": [
    {
     "data": {
      "text/plain": [
       "(132, 220, 3, 100)"
      ]
     },
     "execution_count": 50,
     "metadata": {},
     "output_type": "execute_result"
    }
   ],
   "source": [
    "contours[:-50, 2, :220,  :, :].shape"
   ]
  },
  {
   "cell_type": "code",
   "execution_count": 51,
   "metadata": {},
   "outputs": [
    {
     "name": "stderr",
     "output_type": "stream",
     "text": [
      "/opt/anaconda3/5.2.0/lib/python3.6/site-packages/ipykernel_launcher.py:1: DeprecationWarning: Both axis > a.ndim and axis < -a.ndim - 1 are deprecated and will raise an AxisError in the future.\n",
      "  \"\"\"Entry point for launching an IPython kernel.\n"
     ]
    },
    {
     "data": {
      "text/plain": [
       "(132, 220, 3, 100, 1)"
      ]
     },
     "execution_count": 51,
     "metadata": {},
     "output_type": "execute_result"
    }
   ],
   "source": [
    "np.expand_dims(contours[:-50, 2, :220, :, :], axis = 5).shape"
   ]
  },
  {
   "cell_type": "code",
   "execution_count": 55,
   "metadata": {},
   "outputs": [
    {
     "data": {
      "text/plain": [
       "(182, 6, 1)"
      ]
     },
     "execution_count": 55,
     "metadata": {},
     "output_type": "execute_result"
    }
   ],
   "source": [
    "np.expand_dims(tumor_shape, axis = 2).shape"
   ]
  },
  {
   "cell_type": "code",
   "execution_count": 131,
   "metadata": {},
   "outputs": [],
   "source": [
    "y = np.load(\"Resection_stage1/resec_y.npy\")"
   ]
  },
  {
   "cell_type": "code",
   "execution_count": 132,
   "metadata": {},
   "outputs": [],
   "source": [
    "# model.fit( tumor_shape[:-50, :], y[:-50], epochs = 10, batch_size = 2)"
   ]
  },
  {
   "cell_type": "code",
   "execution_count": 129,
   "metadata": {},
   "outputs": [],
   "source": [
    "# model.fit([np.expand_dims(contours[:-50, 2, :220, :, :], axis = 5), tumor_shape[:-50, :]], y[:-50], epochs = 10, batch_size = 2)"
   ]
  },
  {
   "cell_type": "code",
   "execution_count": 135,
   "metadata": {},
   "outputs": [
    {
     "name": "stderr",
     "output_type": "stream",
     "text": [
      "/opt/anaconda3/5.2.0/lib/python3.6/site-packages/ipykernel_launcher.py:1: DeprecationWarning: Both axis > a.ndim and axis < -a.ndim - 1 are deprecated and will raise an AxisError in the future.\n",
      "  \"\"\"Entry point for launching an IPython kernel.\n"
     ]
    },
    {
     "name": "stdout",
     "output_type": "stream",
     "text": [
      "Train on 129 samples, validate on 23 samples\n",
      "Epoch 1/100\n",
      "129/129 [==============================] - 31s 239ms/step - loss: 0.6422 - binary_accuracy: 0.6589 - val_loss: 0.6172 - val_binary_accuracy: 0.6957\n",
      "Epoch 2/100\n",
      "129/129 [==============================] - 29s 229ms/step - loss: 0.6009 - binary_accuracy: 0.6899 - val_loss: 0.6000 - val_binary_accuracy: 0.6957\n",
      "Epoch 3/100\n",
      "129/129 [==============================] - 30s 230ms/step - loss: 0.5983 - binary_accuracy: 0.6512 - val_loss: 0.5933 - val_binary_accuracy: 0.7826\n",
      "Epoch 4/100\n",
      "129/129 [==============================] - 29s 225ms/step - loss: 0.6168 - binary_accuracy: 0.6822 - val_loss: 0.6182 - val_binary_accuracy: 0.6957\n",
      "Epoch 5/100\n",
      "129/129 [==============================] - 30s 230ms/step - loss: 0.5992 - binary_accuracy: 0.6822 - val_loss: 0.5802 - val_binary_accuracy: 0.7391\n",
      "Epoch 6/100\n",
      "129/129 [==============================] - 29s 227ms/step - loss: 0.5717 - binary_accuracy: 0.7287 - val_loss: 0.6014 - val_binary_accuracy: 0.6957\n",
      "Epoch 7/100\n",
      "129/129 [==============================] - 30s 232ms/step - loss: 0.5704 - binary_accuracy: 0.7287 - val_loss: 0.6146 - val_binary_accuracy: 0.7391\n",
      "Epoch 8/100\n",
      "129/129 [==============================] - 30s 229ms/step - loss: 0.5611 - binary_accuracy: 0.7132 - val_loss: 0.5974 - val_binary_accuracy: 0.7826\n",
      "Epoch 9/100\n",
      "129/129 [==============================] - 29s 229ms/step - loss: 0.5393 - binary_accuracy: 0.7287 - val_loss: 0.6155 - val_binary_accuracy: 0.6957\n",
      "Epoch 10/100\n",
      "129/129 [==============================] - 30s 229ms/step - loss: 0.5274 - binary_accuracy: 0.7442 - val_loss: 0.6017 - val_binary_accuracy: 0.7391\n",
      "Epoch 11/100\n",
      "129/129 [==============================] - 30s 229ms/step - loss: 0.5202 - binary_accuracy: 0.7364 - val_loss: 0.6216 - val_binary_accuracy: 0.7826\n",
      "Epoch 12/100\n",
      "129/129 [==============================] - 29s 227ms/step - loss: 0.4907 - binary_accuracy: 0.7752 - val_loss: 0.6027 - val_binary_accuracy: 0.7826\n",
      "Epoch 13/100\n",
      "129/129 [==============================] - 29s 227ms/step - loss: 0.5365 - binary_accuracy: 0.7674 - val_loss: 0.6167 - val_binary_accuracy: 0.7826\n",
      "Epoch 14/100\n",
      "129/129 [==============================] - 29s 226ms/step - loss: 0.4744 - binary_accuracy: 0.7752 - val_loss: 0.5917 - val_binary_accuracy: 0.7391\n",
      "Epoch 15/100\n",
      "129/129 [==============================] - 29s 228ms/step - loss: 0.4676 - binary_accuracy: 0.8062 - val_loss: 0.5971 - val_binary_accuracy: 0.6957\n",
      "Epoch 16/100\n",
      "129/129 [==============================] - 30s 229ms/step - loss: 0.5537 - binary_accuracy: 0.7984 - val_loss: 0.6211 - val_binary_accuracy: 0.7391\n",
      "Epoch 17/100\n",
      "129/129 [==============================] - 30s 234ms/step - loss: 0.4602 - binary_accuracy: 0.7752 - val_loss: 0.5915 - val_binary_accuracy: 0.7391\n",
      "Epoch 18/100\n",
      "129/129 [==============================] - 30s 229ms/step - loss: 0.4434 - binary_accuracy: 0.7984 - val_loss: 0.5692 - val_binary_accuracy: 0.7826\n",
      "Epoch 19/100\n",
      "129/129 [==============================] - 29s 227ms/step - loss: 0.5670 - binary_accuracy: 0.7132 - val_loss: 0.5787 - val_binary_accuracy: 0.7391\n",
      "Epoch 20/100\n",
      "129/129 [==============================] - 29s 226ms/step - loss: 0.5287 - binary_accuracy: 0.7519 - val_loss: 0.5936 - val_binary_accuracy: 0.7826\n",
      "Epoch 21/100\n",
      "129/129 [==============================] - 29s 227ms/step - loss: 0.5226 - binary_accuracy: 0.7597 - val_loss: 0.5726 - val_binary_accuracy: 0.6957\n",
      "Epoch 22/100\n",
      "129/129 [==============================] - 29s 228ms/step - loss: 0.5334 - binary_accuracy: 0.7519 - val_loss: 0.5885 - val_binary_accuracy: 0.6957\n",
      "Epoch 23/100\n",
      "129/129 [==============================] - 30s 235ms/step - loss: 0.4995 - binary_accuracy: 0.7442 - val_loss: 0.5685 - val_binary_accuracy: 0.8261\n",
      "Epoch 24/100\n",
      "129/129 [==============================] - 29s 227ms/step - loss: 0.4801 - binary_accuracy: 0.8140 - val_loss: 0.5617 - val_binary_accuracy: 0.7391\n",
      "Epoch 25/100\n",
      "129/129 [==============================] - 29s 228ms/step - loss: 0.4859 - binary_accuracy: 0.7829 - val_loss: 0.5917 - val_binary_accuracy: 0.7391\n",
      "Epoch 26/100\n",
      "129/129 [==============================] - 31s 237ms/step - loss: 0.4926 - binary_accuracy: 0.7829 - val_loss: 0.5838 - val_binary_accuracy: 0.7391\n",
      "Epoch 27/100\n",
      "129/129 [==============================] - 30s 232ms/step - loss: 0.4630 - binary_accuracy: 0.7907 - val_loss: 0.6056 - val_binary_accuracy: 0.7391\n",
      "Epoch 28/100\n",
      "129/129 [==============================] - 30s 232ms/step - loss: 0.4869 - binary_accuracy: 0.7752 - val_loss: 0.5916 - val_binary_accuracy: 0.7391\n",
      "Epoch 29/100\n",
      "129/129 [==============================] - 30s 230ms/step - loss: 0.4837 - binary_accuracy: 0.7907 - val_loss: 0.5811 - val_binary_accuracy: 0.6957\n",
      "Epoch 30/100\n",
      "129/129 [==============================] - 30s 233ms/step - loss: 0.4126 - binary_accuracy: 0.8140 - val_loss: 0.5484 - val_binary_accuracy: 0.7391\n",
      "Epoch 31/100\n",
      "129/129 [==============================] - 30s 230ms/step - loss: 0.4768 - binary_accuracy: 0.7984 - val_loss: 0.5497 - val_binary_accuracy: 0.7391\n",
      "Epoch 32/100\n",
      "129/129 [==============================] - 30s 232ms/step - loss: 0.4385 - binary_accuracy: 0.7907 - val_loss: 0.5773 - val_binary_accuracy: 0.7391\n",
      "Epoch 33/100\n",
      "129/129 [==============================] - 30s 235ms/step - loss: 0.4808 - binary_accuracy: 0.8062 - val_loss: 0.5784 - val_binary_accuracy: 0.6957\n",
      "Epoch 34/100\n",
      "129/129 [==============================] - 30s 230ms/step - loss: 0.4405 - binary_accuracy: 0.8217 - val_loss: 0.5837 - val_binary_accuracy: 0.7391\n",
      "Epoch 35/100\n",
      "129/129 [==============================] - 29s 228ms/step - loss: 0.4080 - binary_accuracy: 0.8140 - val_loss: 0.5974 - val_binary_accuracy: 0.7391\n",
      "Epoch 36/100\n",
      "129/129 [==============================] - 29s 228ms/step - loss: 0.4107 - binary_accuracy: 0.8295 - val_loss: 0.5978 - val_binary_accuracy: 0.6957\n",
      "Epoch 37/100\n",
      "129/129 [==============================] - 29s 228ms/step - loss: 0.4889 - binary_accuracy: 0.8140 - val_loss: 0.6086 - val_binary_accuracy: 0.7826\n",
      "Epoch 38/100\n",
      "129/129 [==============================] - 30s 230ms/step - loss: 0.4381 - binary_accuracy: 0.8217 - val_loss: 0.5802 - val_binary_accuracy: 0.7826\n",
      "Epoch 39/100\n",
      "129/129 [==============================] - 29s 229ms/step - loss: 0.4847 - binary_accuracy: 0.7752 - val_loss: 0.5827 - val_binary_accuracy: 0.7391\n",
      "Epoch 40/100\n",
      "129/129 [==============================] - 30s 230ms/step - loss: 0.4641 - binary_accuracy: 0.8062 - val_loss: 0.5685 - val_binary_accuracy: 0.7391\n",
      "Epoch 41/100\n",
      "129/129 [==============================] - 29s 228ms/step - loss: 0.4278 - binary_accuracy: 0.8062 - val_loss: 0.5776 - val_binary_accuracy: 0.7391\n",
      "Epoch 42/100\n",
      "129/129 [==============================] - 30s 234ms/step - loss: 0.4446 - binary_accuracy: 0.7984 - val_loss: 0.5744 - val_binary_accuracy: 0.7391\n",
      "Epoch 43/100\n",
      "129/129 [==============================] - 31s 240ms/step - loss: 0.4577 - binary_accuracy: 0.7984 - val_loss: 0.6071 - val_binary_accuracy: 0.7391\n",
      "Epoch 44/100\n",
      "129/129 [==============================] - 29s 228ms/step - loss: 0.4479 - binary_accuracy: 0.8372 - val_loss: 0.6243 - val_binary_accuracy: 0.7391\n",
      "Epoch 45/100\n",
      "129/129 [==============================] - 30s 234ms/step - loss: 0.4159 - binary_accuracy: 0.8372 - val_loss: 0.6200 - val_binary_accuracy: 0.6957\n",
      "Epoch 46/100\n",
      "129/129 [==============================] - 30s 231ms/step - loss: 0.4551 - binary_accuracy: 0.8062 - val_loss: 0.6395 - val_binary_accuracy: 0.7391\n",
      "Epoch 47/100\n",
      "129/129 [==============================] - 29s 228ms/step - loss: 0.4297 - binary_accuracy: 0.8372 - val_loss: 0.6221 - val_binary_accuracy: 0.7391\n",
      "Epoch 48/100\n",
      "129/129 [==============================] - 30s 233ms/step - loss: 0.4420 - binary_accuracy: 0.8062 - val_loss: 0.6387 - val_binary_accuracy: 0.7826\n",
      "Epoch 49/100\n",
      "129/129 [==============================] - 30s 235ms/step - loss: 0.4783 - binary_accuracy: 0.8062 - val_loss: 0.6320 - val_binary_accuracy: 0.7391\n",
      "Epoch 50/100\n",
      "129/129 [==============================] - 29s 227ms/step - loss: 0.4724 - binary_accuracy: 0.7907 - val_loss: 0.6414 - val_binary_accuracy: 0.8261\n",
      "Epoch 51/100\n",
      "129/129 [==============================] - 29s 223ms/step - loss: 0.4122 - binary_accuracy: 0.8062 - val_loss: 0.6167 - val_binary_accuracy: 0.6957\n"
     ]
    },
    {
     "name": "stdout",
     "output_type": "stream",
     "text": [
      "Epoch 52/100\n",
      "129/129 [==============================] - 29s 223ms/step - loss: 0.4456 - binary_accuracy: 0.8062 - val_loss: 0.6371 - val_binary_accuracy: 0.7391\n",
      "Epoch 53/100\n",
      "129/129 [==============================] - 29s 224ms/step - loss: 0.4576 - binary_accuracy: 0.8372 - val_loss: 0.6065 - val_binary_accuracy: 0.7391\n",
      "Epoch 54/100\n",
      "129/129 [==============================] - 29s 225ms/step - loss: 0.4588 - binary_accuracy: 0.7984 - val_loss: 0.6001 - val_binary_accuracy: 0.7391\n",
      "Epoch 55/100\n",
      "129/129 [==============================] - 29s 225ms/step - loss: 0.4091 - binary_accuracy: 0.8295 - val_loss: 0.5834 - val_binary_accuracy: 0.7391\n",
      "Epoch 56/100\n",
      "129/129 [==============================] - 29s 225ms/step - loss: 0.4242 - binary_accuracy: 0.8295 - val_loss: 0.5736 - val_binary_accuracy: 0.7391\n",
      "Epoch 57/100\n",
      "129/129 [==============================] - 29s 222ms/step - loss: 0.4129 - binary_accuracy: 0.8372 - val_loss: 0.5878 - val_binary_accuracy: 0.7391\n",
      "Epoch 58/100\n",
      "129/129 [==============================] - 29s 228ms/step - loss: 0.4188 - binary_accuracy: 0.8372 - val_loss: 0.5607 - val_binary_accuracy: 0.7391\n",
      "Epoch 59/100\n",
      "129/129 [==============================] - 29s 226ms/step - loss: 0.4335 - binary_accuracy: 0.8140 - val_loss: 0.5728 - val_binary_accuracy: 0.7391\n",
      "Epoch 60/100\n",
      "129/129 [==============================] - 29s 227ms/step - loss: 0.4112 - binary_accuracy: 0.8062 - val_loss: 0.5818 - val_binary_accuracy: 0.7391\n",
      "Epoch 61/100\n",
      "129/129 [==============================] - 29s 228ms/step - loss: 0.4202 - binary_accuracy: 0.8372 - val_loss: 0.5773 - val_binary_accuracy: 0.8261\n",
      "Epoch 62/100\n",
      "129/129 [==============================] - 29s 228ms/step - loss: 0.4228 - binary_accuracy: 0.7829 - val_loss: 0.5938 - val_binary_accuracy: 0.7391\n",
      "Epoch 63/100\n",
      "129/129 [==============================] - 30s 229ms/step - loss: 0.4460 - binary_accuracy: 0.7984 - val_loss: 0.5591 - val_binary_accuracy: 0.7826\n",
      "Epoch 64/100\n",
      "129/129 [==============================] - 29s 223ms/step - loss: 0.4239 - binary_accuracy: 0.8372 - val_loss: 0.5625 - val_binary_accuracy: 0.7391\n",
      "Epoch 65/100\n",
      "129/129 [==============================] - 29s 226ms/step - loss: 0.4618 - binary_accuracy: 0.7752 - val_loss: 0.5554 - val_binary_accuracy: 0.7391\n",
      "Epoch 66/100\n",
      "129/129 [==============================] - 29s 226ms/step - loss: 0.4308 - binary_accuracy: 0.8295 - val_loss: 0.5825 - val_binary_accuracy: 0.7826\n",
      "Epoch 67/100\n",
      "129/129 [==============================] - 29s 225ms/step - loss: 0.3887 - binary_accuracy: 0.8450 - val_loss: 0.5678 - val_binary_accuracy: 0.7391\n",
      "Epoch 68/100\n",
      "129/129 [==============================] - 29s 225ms/step - loss: 0.4298 - binary_accuracy: 0.8372 - val_loss: 0.5576 - val_binary_accuracy: 0.7391\n",
      "Epoch 69/100\n",
      "129/129 [==============================] - 29s 226ms/step - loss: 0.4294 - binary_accuracy: 0.8605 - val_loss: 0.5995 - val_binary_accuracy: 0.7391\n",
      "Epoch 70/100\n",
      "129/129 [==============================] - 29s 226ms/step - loss: 0.4258 - binary_accuracy: 0.7984 - val_loss: 0.5651 - val_binary_accuracy: 0.6957\n",
      "Epoch 71/100\n",
      "129/129 [==============================] - 29s 227ms/step - loss: 0.4085 - binary_accuracy: 0.8295 - val_loss: 0.5767 - val_binary_accuracy: 0.6957\n",
      "Epoch 72/100\n",
      "129/129 [==============================] - 29s 228ms/step - loss: 0.3681 - binary_accuracy: 0.8295 - val_loss: 0.5742 - val_binary_accuracy: 0.7826\n",
      "Epoch 73/100\n",
      "129/129 [==============================] - 29s 227ms/step - loss: 0.3901 - binary_accuracy: 0.8217 - val_loss: 0.6222 - val_binary_accuracy: 0.7826\n",
      "Epoch 74/100\n",
      "129/129 [==============================] - 29s 227ms/step - loss: 0.4613 - binary_accuracy: 0.7752 - val_loss: 0.6062 - val_binary_accuracy: 0.7391\n",
      "Epoch 75/100\n",
      "129/129 [==============================] - 29s 226ms/step - loss: 0.4431 - binary_accuracy: 0.8372 - val_loss: 0.6112 - val_binary_accuracy: 0.7826\n",
      "Epoch 76/100\n",
      "129/129 [==============================] - 30s 232ms/step - loss: 0.4407 - binary_accuracy: 0.7984 - val_loss: 0.6076 - val_binary_accuracy: 0.7826\n",
      "Epoch 77/100\n",
      "129/129 [==============================] - 29s 224ms/step - loss: 0.3974 - binary_accuracy: 0.8062 - val_loss: 0.5951 - val_binary_accuracy: 0.7826\n",
      "Epoch 78/100\n",
      "129/129 [==============================] - 29s 225ms/step - loss: 0.4243 - binary_accuracy: 0.8062 - val_loss: 0.5523 - val_binary_accuracy: 0.7391\n",
      "Epoch 79/100\n",
      "129/129 [==============================] - 29s 224ms/step - loss: 0.4249 - binary_accuracy: 0.8450 - val_loss: 0.5571 - val_binary_accuracy: 0.6957\n",
      "Epoch 80/100\n",
      "129/129 [==============================] - 29s 226ms/step - loss: 0.3901 - binary_accuracy: 0.8450 - val_loss: 0.5732 - val_binary_accuracy: 0.7826\n",
      "Epoch 81/100\n",
      "129/129 [==============================] - 29s 227ms/step - loss: 0.4225 - binary_accuracy: 0.8527 - val_loss: 0.5601 - val_binary_accuracy: 0.7826\n",
      "Epoch 82/100\n",
      "129/129 [==============================] - 29s 223ms/step - loss: 0.3923 - binary_accuracy: 0.8372 - val_loss: 0.5822 - val_binary_accuracy: 0.7391\n",
      "Epoch 83/100\n",
      "129/129 [==============================] - 29s 225ms/step - loss: 0.3898 - binary_accuracy: 0.8295 - val_loss: 0.5580 - val_binary_accuracy: 0.6957\n",
      "Epoch 84/100\n",
      "129/129 [==============================] - 29s 228ms/step - loss: 0.4614 - binary_accuracy: 0.8062 - val_loss: 0.5845 - val_binary_accuracy: 0.7391\n",
      "Epoch 85/100\n",
      "129/129 [==============================] - 29s 223ms/step - loss: 0.3975 - binary_accuracy: 0.7984 - val_loss: 0.5743 - val_binary_accuracy: 0.7391\n",
      "Epoch 86/100\n",
      "129/129 [==============================] - 29s 224ms/step - loss: 0.3581 - binary_accuracy: 0.8682 - val_loss: 0.6107 - val_binary_accuracy: 0.7826\n",
      "Epoch 87/100\n",
      "129/129 [==============================] - 29s 225ms/step - loss: 0.3915 - binary_accuracy: 0.8450 - val_loss: 0.5770 - val_binary_accuracy: 0.7391\n",
      "Epoch 88/100\n",
      "129/129 [==============================] - 29s 226ms/step - loss: 0.4190 - binary_accuracy: 0.7907 - val_loss: 0.5658 - val_binary_accuracy: 0.7826\n",
      "Epoch 89/100\n",
      "129/129 [==============================] - 29s 228ms/step - loss: 0.4300 - binary_accuracy: 0.8062 - val_loss: 0.5547 - val_binary_accuracy: 0.7391\n",
      "Epoch 90/100\n",
      "129/129 [==============================] - 29s 223ms/step - loss: 0.4092 - binary_accuracy: 0.8372 - val_loss: 0.5754 - val_binary_accuracy: 0.6957\n",
      "Epoch 91/100\n",
      "129/129 [==============================] - 29s 222ms/step - loss: 0.3907 - binary_accuracy: 0.8140 - val_loss: 0.5851 - val_binary_accuracy: 0.7826\n",
      "Epoch 92/100\n",
      "129/129 [==============================] - 29s 227ms/step - loss: 0.3979 - binary_accuracy: 0.8295 - val_loss: 0.5745 - val_binary_accuracy: 0.7391\n",
      "Epoch 93/100\n",
      "129/129 [==============================] - 29s 226ms/step - loss: 0.3856 - binary_accuracy: 0.8527 - val_loss: 0.5505 - val_binary_accuracy: 0.7391\n",
      "Epoch 94/100\n",
      "129/129 [==============================] - 29s 226ms/step - loss: 0.4379 - binary_accuracy: 0.8062 - val_loss: 0.5908 - val_binary_accuracy: 0.7391\n",
      "Epoch 95/100\n",
      "129/129 [==============================] - 29s 227ms/step - loss: 0.3997 - binary_accuracy: 0.8450 - val_loss: 0.6064 - val_binary_accuracy: 0.7391\n",
      "Epoch 96/100\n",
      "129/129 [==============================] - 29s 225ms/step - loss: 0.3977 - binary_accuracy: 0.8217 - val_loss: 0.5897 - val_binary_accuracy: 0.7826\n",
      "Epoch 97/100\n",
      "129/129 [==============================] - 30s 232ms/step - loss: 0.4263 - binary_accuracy: 0.8450 - val_loss: 0.5655 - val_binary_accuracy: 0.7391\n",
      "Epoch 98/100\n",
      "129/129 [==============================] - 30s 229ms/step - loss: 0.3783 - binary_accuracy: 0.8527 - val_loss: 0.5664 - val_binary_accuracy: 0.7391\n",
      "Epoch 99/100\n",
      "129/129 [==============================] - 29s 224ms/step - loss: 0.3676 - binary_accuracy: 0.8605 - val_loss: 0.5660 - val_binary_accuracy: 0.7826\n",
      "Epoch 100/100\n",
      "129/129 [==============================] - 30s 233ms/step - loss: 0.3857 - binary_accuracy: 0.8295 - val_loss: 0.5629 - val_binary_accuracy: 0.7391\n"
     ]
    }
   ],
   "source": [
    "hist = model.fit([np.expand_dims(contours[:-30, 2, :220, :, :], axis = 5), tumor_shape[:-30, :]], y[:-30], epochs = 100, batch_size = 2, validation_split=0.15)"
   ]
  },
  {
   "cell_type": "code",
   "execution_count": 138,
   "metadata": {},
   "outputs": [
    {
     "name": "stderr",
     "output_type": "stream",
     "text": [
      "/opt/anaconda3/5.2.0/lib/python3.6/site-packages/ipykernel_launcher.py:1: DeprecationWarning: Both axis > a.ndim and axis < -a.ndim - 1 are deprecated and will raise an AxisError in the future.\n",
      "  \"\"\"Entry point for launching an IPython kernel.\n"
     ]
    }
   ],
   "source": [
    "pred = model.predict([np.expand_dims(contours[-30:, 2, :220, :, :], axis = 5), tumor_shape[-30:, :]])"
   ]
  },
  {
   "cell_type": "code",
   "execution_count": 139,
   "metadata": {},
   "outputs": [
    {
     "data": {
      "text/plain": [
       "array([[1., 1.],\n",
       "       [0., 0.],\n",
       "       [0., 0.],\n",
       "       [0., 0.],\n",
       "       [0., 0.],\n",
       "       [1., 1.],\n",
       "       [0., 1.],\n",
       "       [1., 1.],\n",
       "       [0., 0.],\n",
       "       [0., 1.],\n",
       "       [1., 1.],\n",
       "       [0., 0.],\n",
       "       [1., 0.],\n",
       "       [1., 1.],\n",
       "       [1., 1.],\n",
       "       [1., 1.],\n",
       "       [0., 1.],\n",
       "       [0., 1.],\n",
       "       [1., 1.],\n",
       "       [0., 0.],\n",
       "       [0., 0.],\n",
       "       [0., 0.],\n",
       "       [1., 1.],\n",
       "       [1., 1.],\n",
       "       [0., 0.],\n",
       "       [0., 0.],\n",
       "       [0., 0.],\n",
       "       [1., 0.],\n",
       "       [1., 1.],\n",
       "       [0., 0.]])"
      ]
     },
     "execution_count": 139,
     "metadata": {},
     "output_type": "execute_result"
    }
   ],
   "source": [
    "np.concatenate([np.round(pred), np.array(map_df.target[-30:]).reshape(-1, 1)], axis = 1)"
   ]
  },
  {
   "cell_type": "code",
   "execution_count": 140,
   "metadata": {},
   "outputs": [
    {
     "data": {
      "text/plain": [
       "array([[13,  2],\n",
       "       [ 4, 11]])"
      ]
     },
     "execution_count": 140,
     "metadata": {},
     "output_type": "execute_result"
    }
   ],
   "source": [
    "from sklearn.metrics import confusion_matrix\n",
    "confusion_matrix(map_df.target[-30:], list(np.round(pred)))"
   ]
  },
  {
   "cell_type": "code",
   "execution_count": 142,
   "metadata": {},
   "outputs": [
    {
     "name": "stdout",
     "output_type": "stream",
     "text": [
      "dict_keys(['val_loss', 'val_binary_accuracy', 'loss', 'binary_accuracy'])\n"
     ]
    },
    {
     "data": {
      "image/png": "[encoded data removed]",
      "text/plain": [
       "<Figure size 432x288 with 1 Axes>"
      ]
     },
     "metadata": {
      "needs_background": "light"
     },
     "output_type": "display_data"
    },
    {
     "data": {
      "image/png": "[encoded data removed]",
      "text/plain": [
       "<Figure size 432x288 with 1 Axes>"
      ]
     },
     "metadata": {
      "needs_background": "light"
     },
     "output_type": "display_data"
    }
   ],
   "source": [
    "# list all data in history\n",
    "history = hist\n",
    "print(history.history.keys())\n",
    "# summarize history for accuracy\n",
    "plt.plot(history.history['binary_accuracy'])\n",
    "plt.plot(history.history['val_binary_accuracy'])\n",
    "plt.title('model accuracy')\n",
    "plt.ylabel('accuracy')\n",
    "plt.xlabel('epoch')\n",
    "plt.legend(['train', 'validation'], loc='upper left')\n",
    "plt.show()\n",
    "# summarize history for loss\n",
    "plt.plot(history.history['loss'])\n",
    "plt.plot(history.history['val_loss'])\n",
    "plt.title('model loss')\n",
    "plt.ylabel('loss')\n",
    "plt.xlabel('epoch')\n",
    "plt.legend(['train', 'validation'], loc='upper left')\n",
    "plt.show()"
   ]
  },
  {
   "cell_type": "code",
   "execution_count": null,
   "metadata": {},
   "outputs": [],
   "source": []
  }
 ],
 "metadata": {
  "kernelspec": {
   "display_name": "Python 3",
   "language": "python",
   "name": "python3"
  },
  "language_info": {
   "codemirror_mode": {
    "name": "ipython",
    "version": 3
   },
   "file_extension": ".py",
   "mimetype": "text/x-python",
   "name": "python",
   "nbconvert_exporter": "python",
   "pygments_lexer": "ipython3",
   "version": "3.6.8"
  }
 },
 "nbformat": 4,
 "nbformat_minor": 2
}
