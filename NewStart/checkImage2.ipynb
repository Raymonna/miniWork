{
 "cells": [
  {
   "cell_type": "code",
   "execution_count": 1,
   "metadata": {},
   "outputs": [],
   "source": [
    "import os\n",
    "import glob\n",
    "#import tqdm\n",
    "import numpy as np\n",
    "#import pandas as pd\n",
    "import multiprocessing\n",
    "import pydicom as dicom\n",
    "import nibabel as nib\n",
    "#from keras import utils as kutils\n",
    "from matplotlib import pyplot as plt\n",
    "\n",
    "def load_image(label_fpath, transpose=False):\n",
    "    #encode_name = label_fpath[-39: -7]\n",
    "    label_data = nib.load(label_fpath)\n",
    "    label_array = label_data.get_fdata()\n",
    "    if transpose:\n",
    "        label_array = np.transpose(label_array, axes=(2, 1, 0))\n",
    "    return  label_array#, encode_name"
   ]
  },
  {
   "cell_type": "code",
   "execution_count": 2,
   "metadata": {},
   "outputs": [
    {
     "name": "stdout",
     "output_type": "stream",
     "text": [
      "/home/u/wartytw\n"
     ]
    }
   ],
   "source": [
    "cd .."
   ]
  },
  {
   "cell_type": "code",
   "execution_count": 47,
   "metadata": {},
   "outputs": [],
   "source": [
    "label_path = \"/data2/pancreas/Nifti_data/label\""
   ]
  },
  {
   "cell_type": "code",
   "execution_count": 48,
   "metadata": {},
   "outputs": [
    {
     "name": "stdout",
     "output_type": "stream",
     "text": [
      "563\n",
      "LB_PT0041.nii.gz\n",
      "LB_PT0012.nii.gz\n",
      "LB_PT0046.nii.gz\n",
      "LB_PT0047.nii.gz\n",
      "LB_PT0006.nii.gz\n",
      "LB_PT0050.nii.gz\n",
      "LB_PT0004.nii.gz\n",
      "LB_PT0040.nii.gz\n",
      "LB_PT0029.nii.gz\n",
      "LB_PT0028.nii.gz\n",
      "LB_PT0030.nii.gz\n",
      "LB_PT0010.nii.gz\n",
      "LB_PT0044.nii.gz\n",
      "LB_PT0060.nii.gz\n",
      "LB_PT0063.nii.gz\n",
      "LB_NP0008.nii.gz\n",
      "LB_PT0037.nii.gz\n",
      "LB_NP0010.nii.gz\n",
      "LB_PT0035.nii.gz\n",
      "LB_NP0009.nii.gz\n",
      "LB_NP0002.nii.gz\n",
      "LB_PT0053.nii.gz\n",
      "LB_PT0052.nii.gz\n",
      "LB_PT0025.nii.gz\n",
      "LB_PT0026.nii.gz\n",
      "LB_PT0014.nii.gz\n",
      "LB_PT0016.nii.gz\n",
      "LB_PT0009.nii.gz\n"
     ]
    }
   ],
   "source": [
    "names = os.listdir(label_path)\n",
    "#print(names[:2])\n",
    "#names.remove(names[0])\n",
    "#print(names[:2])\n",
    "print(len(names))\n",
    "for x in names :\n",
    "    if(x[4] != 'C'):\n",
    "        print(x)\n",
    "        names.remove(x)"
   ]
  },
  {
   "cell_type": "code",
   "execution_count": 55,
   "metadata": {},
   "outputs": [
    {
     "data": {
      "text/plain": [
       "['LB_PT0027.nii.gz', 'LB_PT0031.nii.gz']"
      ]
     },
     "execution_count": 55,
     "metadata": {},
     "output_type": "execute_result"
    }
   ],
   "source": [
    "names[319:321]"
   ]
  },
  {
   "cell_type": "code",
   "execution_count": 49,
   "metadata": {},
   "outputs": [
    {
     "name": "stdout",
     "output_type": "stream",
     "text": [
      "535\n"
     ]
    }
   ],
   "source": [
    "print(len(names))"
   ]
  },
  {
   "cell_type": "code",
   "execution_count": 38,
   "metadata": {
    "collapsed": true
   },
   "outputs": [],
   "source": [
    "box_pancreas = np.zeros((len(names), 6))\n",
    "box_tumor = np.zeros((len(names), 6))"
   ]
  },
  {
   "cell_type": "code",
   "execution_count": 39,
   "metadata": {},
   "outputs": [
    {
     "name": "stdout",
     "output_type": "stream",
     "text": [
      "0\n",
      "1\n",
      "2\n",
      "3\n",
      "4\n",
      "5\n",
      "6\n",
      "7\n",
      "8\n",
      "9\n",
      "10\n",
      "11\n",
      "12\n",
      "13\n",
      "14\n",
      "15\n",
      "16\n",
      "17\n",
      "18\n",
      "19\n",
      "20\n",
      "21\n",
      "22\n",
      "23\n",
      "24\n",
      "25\n",
      "26\n",
      "27\n",
      "28\n",
      "29\n",
      "30\n",
      "31\n",
      "32\n",
      "33\n",
      "34\n",
      "35\n",
      "36\n",
      "37\n",
      "38\n",
      "39\n",
      "40\n",
      "41\n",
      "42\n",
      "43\n",
      "44\n",
      "45\n",
      "46\n",
      "47\n",
      "48\n",
      "49\n",
      "50\n",
      "51\n",
      "52\n",
      "53\n",
      "54\n",
      "55\n",
      "56\n",
      "57\n",
      "58\n",
      "59\n",
      "60\n",
      "61\n",
      "62\n",
      "63\n",
      "64\n",
      "65\n",
      "66\n",
      "67\n",
      "68\n",
      "69\n",
      "70\n",
      "71\n",
      "72\n",
      "73\n",
      "74\n",
      "75\n",
      "76\n",
      "77\n",
      "78\n",
      "79\n",
      "80\n",
      "81\n",
      "82\n",
      "83\n",
      "84\n",
      "85\n",
      "86\n",
      "87\n",
      "88\n",
      "89\n",
      "90\n",
      "91\n",
      "92\n",
      "93\n",
      "94\n",
      "95\n",
      "96\n",
      "97\n",
      "98\n",
      "99\n",
      "100\n",
      "101\n",
      "102\n",
      "103\n",
      "104\n",
      "105\n",
      "106\n",
      "107\n",
      "108\n",
      "109\n",
      "110\n",
      "111\n",
      "112\n",
      "113\n",
      "114\n",
      "115\n",
      "116\n",
      "117\n",
      "118\n",
      "119\n",
      "120\n",
      "121\n",
      "122\n",
      "123\n",
      "124\n",
      "125\n",
      "126\n",
      "127\n",
      "128\n",
      "129\n",
      "130\n",
      "131\n",
      "132\n",
      "133\n",
      "134\n",
      "135\n",
      "136\n",
      "137\n",
      "138\n",
      "139\n",
      "140\n",
      "141\n",
      "142\n",
      "143\n",
      "144\n",
      "145\n",
      "146\n",
      "147\n",
      "148\n",
      "149\n",
      "150\n",
      "151\n",
      "152\n",
      "153\n",
      "154\n",
      "155\n",
      "156\n",
      "157\n",
      "158\n",
      "159\n",
      "160\n",
      "161\n",
      "162\n",
      "163\n",
      "164\n",
      "165\n",
      "166\n",
      "167\n",
      "168\n",
      "169\n",
      "170\n",
      "171\n",
      "172\n",
      "173\n",
      "174\n",
      "175\n",
      "176\n",
      "177\n",
      "178\n",
      "179\n",
      "180\n",
      "181\n",
      "182\n",
      "183\n",
      "184\n",
      "185\n",
      "186\n",
      "187\n",
      "188\n",
      "189\n",
      "190\n",
      "191\n",
      "192\n",
      "193\n",
      "194\n",
      "195\n",
      "196\n",
      "197\n",
      "198\n",
      "199\n",
      "200\n",
      "201\n",
      "202\n",
      "203\n",
      "204\n",
      "205\n",
      "206\n",
      "207\n",
      "208\n",
      "209\n",
      "210\n",
      "211\n",
      "212\n",
      "213\n",
      "214\n",
      "215\n",
      "216\n",
      "217\n",
      "218\n",
      "219\n",
      "220\n",
      "221\n",
      "222\n",
      "223\n",
      "224\n",
      "225\n",
      "226\n",
      "227\n",
      "228\n",
      "229\n",
      "230\n",
      "231\n",
      "232\n",
      "233\n",
      "234\n",
      "235\n",
      "236\n",
      "237\n",
      "238\n",
      "239\n",
      "240\n",
      "241\n",
      "242\n",
      "243\n",
      "244\n",
      "245\n",
      "246\n",
      "247\n",
      "248\n",
      "249\n",
      "250\n",
      "251\n",
      "252\n",
      "253\n",
      "254\n",
      "255\n",
      "256\n",
      "257\n",
      "258\n",
      "259\n",
      "260\n",
      "261\n",
      "262\n",
      "263\n",
      "264\n",
      "265\n",
      "266\n",
      "267\n",
      "268\n",
      "269\n",
      "270\n",
      "271\n",
      "272\n",
      "273\n",
      "274\n",
      "275\n",
      "276\n",
      "277\n",
      "278\n",
      "279\n",
      "280\n",
      "281\n",
      "282\n",
      "283\n",
      "284\n",
      "285\n",
      "290\n",
      "291\n",
      "292\n",
      "293\n",
      "294\n",
      "295\n",
      "296\n",
      "297\n",
      "298\n",
      "299\n",
      "300\n",
      "301\n",
      "302\n",
      "303\n",
      "304\n",
      "305\n",
      "306\n",
      "307\n",
      "308\n",
      "309\n",
      "310\n",
      "311\n",
      "312\n",
      "313\n",
      "314\n",
      "315\n",
      "316\n",
      "317\n",
      "318\n",
      "319\n",
      "320\n",
      "321\n",
      "322\n",
      "323\n",
      "324\n",
      "325\n",
      "326\n",
      "327\n",
      "328\n",
      "329\n",
      "330\n",
      "331\n",
      "332\n",
      "333\n",
      "334\n",
      "335\n",
      "336\n",
      "337\n",
      "338\n",
      "339\n",
      "340\n",
      "341\n",
      "342\n",
      "343\n",
      "344\n",
      "345\n",
      "346\n",
      "347\n",
      "348\n",
      "349\n",
      "350\n",
      "351\n",
      "352\n",
      "353\n",
      "354\n",
      "355\n",
      "356\n",
      "357\n",
      "358\n",
      "359\n",
      "360\n",
      "361\n",
      "362\n",
      "363\n",
      "364\n",
      "365\n",
      "366\n",
      "367\n",
      "368\n",
      "369\n",
      "370\n",
      "371\n",
      "372\n",
      "373\n",
      "374\n",
      "375\n",
      "376\n",
      "377\n",
      "378\n",
      "379\n",
      "380\n",
      "381\n",
      "382\n",
      "383\n",
      "384\n",
      "385\n",
      "386\n",
      "387\n",
      "388\n",
      "389\n",
      "390\n",
      "391\n",
      "392\n",
      "393\n",
      "394\n",
      "395\n",
      "396\n",
      "397\n",
      "398\n",
      "399\n",
      "400\n",
      "401\n",
      "402\n",
      "403\n",
      "404\n",
      "405\n",
      "406\n",
      "407\n",
      "408\n",
      "409\n",
      "410\n",
      "411\n",
      "412\n",
      "413\n",
      "414\n",
      "415\n",
      "416\n",
      "417\n",
      "418\n",
      "419\n",
      "420\n",
      "421\n",
      "422\n",
      "423\n",
      "424\n",
      "425\n",
      "426\n",
      "427\n",
      "428\n",
      "429\n",
      "430\n",
      "431\n",
      "432\n",
      "433\n",
      "434\n",
      "435\n",
      "436\n",
      "437\n",
      "438\n",
      "439\n",
      "440\n",
      "441\n",
      "442\n",
      "443\n",
      "444\n",
      "445\n",
      "446\n",
      "447\n",
      "448\n",
      "449\n",
      "450\n",
      "451\n",
      "452\n",
      "453\n",
      "454\n",
      "455\n",
      "456\n",
      "457\n",
      "458\n",
      "459\n",
      "460\n",
      "461\n",
      "462\n",
      "463\n",
      "464\n",
      "465\n",
      "466\n",
      "467\n",
      "468\n",
      "469\n",
      "470\n",
      "471\n",
      "472\n",
      "473\n",
      "474\n",
      "475\n",
      "476\n",
      "477\n",
      "478\n",
      "479\n",
      "480\n",
      "481\n",
      "482\n",
      "483\n",
      "484\n",
      "485\n",
      "486\n",
      "487\n",
      "488\n",
      "489\n",
      "490\n",
      "491\n",
      "492\n",
      "493\n",
      "494\n",
      "495\n",
      "496\n",
      "497\n",
      "498\n",
      "499\n",
      "500\n",
      "501\n",
      "502\n",
      "503\n",
      "504\n",
      "505\n",
      "506\n",
      "507\n",
      "508\n",
      "509\n",
      "510\n",
      "511\n",
      "512\n",
      "513\n",
      "514\n",
      "515\n",
      "516\n",
      "517\n",
      "518\n",
      "519\n",
      "520\n",
      "521\n",
      "522\n",
      "523\n",
      "524\n",
      "525\n",
      "526\n",
      "527\n",
      "528\n",
      "529\n",
      "530\n",
      "531\n",
      "532\n",
      "533\n",
      "534\n"
     ]
    }
   ],
   "source": [
    "for idx, name in enumerate(names):\n",
    "    label = load_image(os.path.join(label_path, name))\n",
    "    for j in range(3):\n",
    "        if(np.unique(np.where(label == 1)).size == 0):\n",
    "            box_pancreas[idx, j*2] = 0\n",
    "            box_pancreas[idx, j*2+1] = 0\n",
    "        else:\n",
    "            box_pancreas[idx, j*2] = np.min(np.unique(np.where(label == 1)[j]))\n",
    "            box_pancreas[idx, j*2+1] = np.max(np.unique(np.where(label == 1)[j]))\n",
    "        if(np.unique(np.where(label == 2)).size == 0):\n",
    "            box_tumor[idx, j*2] = 0\n",
    "            box_tumor[idx, j*2+1] = 0\n",
    "        else:\n",
    "            box_tumor[idx, j*2] = np.min(np.unique(np.where(label == 2)[j]))\n",
    "            box_tumor[idx, j*2+1] = np.max(np.unique(np.where(label == 2)[j]))\n",
    "\n",
    "    print(idx)\n",
    "    del label"
   ]
  },
  {
   "cell_type": "code",
   "execution_count": 86,
   "metadata": {},
   "outputs": [
    {
     "name": "stdout",
     "output_type": "stream",
     "text": [
      "Pancreas : \n",
      "max = 374.0\n",
      "median = 162.0\n",
      "min = 0.0\n",
      "std = 34.79087136799181\n",
      "======================\n",
      "Tumor : \n",
      "max = 200.0\n",
      "median = 44.0\n",
      "min = 0.0\n",
      "std = 33.48325936232425\n"
     ]
    }
   ],
   "source": [
    "print(\"Pancreas : \")\n",
    "print(\"max =\", np.max(box_pancreas[:, 1] - box_pancreas[:, 0]))\n",
    "print(\"median =\", np.median(box_pancreas[:, 1] - box_pancreas[:, 0]))\n",
    "print(\"min =\", np.min(box_pancreas[:, 1] - box_pancreas[:, 0]))\n",
    "print(\"std =\", np.std(box_pancreas[:, 1] - box_pancreas[:, 0]))\n",
    "print(\"======================\")\n",
    "print(\"Tumor : \")\n",
    "print(\"max =\", np.max(box_tumor[:, 1] - box_tumor[:, 0]))\n",
    "print(\"median =\", np.median(box_tumor[:, 1] - box_tumor[:, 0]))\n",
    "print(\"min =\", np.min(box_tumor[:, 1] - box_tumor[:, 0]))\n",
    "print(\"std =\", np.std(box_tumor[:, 1] - box_tumor[:, 0]))"
   ]
  },
  {
   "cell_type": "code",
   "execution_count": 7,
   "metadata": {},
   "outputs": [
    {
     "name": "stdout",
     "output_type": "stream",
     "text": [
      "Pancreas : \n",
      "max = 374.0\n",
      "median = 162.0\n",
      "min = 0.0\n",
      "std = 34.79087136799181\n",
      "======================\n",
      "Tumor : \n",
      "max = 200.0\n",
      "median = 44.0\n",
      "min = 0.0\n",
      "std = 33.48325936232425\n"
     ]
    }
   ],
   "source": [
    "print(\"Pancreas : \")\n",
    "print(\"max =\", np.max(box_pancreas[:, 1] - box_pancreas[:, 0]))\n",
    "print(\"median =\", np.median(box_pancreas[:, 1] - box_pancreas[:, 0]))\n",
    "print(\"min =\", np.min(box_pancreas[:, 1] - box_pancreas[:, 0]))\n",
    "print(\"std =\", np.std(box_pancreas[:, 1] - box_pancreas[:, 0]))\n",
    "print(\"======================\")\n",
    "print(\"Tumor : \")\n",
    "print(\"max =\", np.max(box_tumor[:, 1] - box_tumor[:, 0]))\n",
    "print(\"median =\", np.median(box_tumor[:, 1] - box_tumor[:, 0]))\n",
    "print(\"min =\", np.min(box_tumor[:, 1] - box_tumor[:, 0]))\n",
    "print(\"std =\", np.std(box_tumor[:, 1] - box_tumor[:, 0]))"
   ]
  },
  {
   "cell_type": "code",
   "execution_count": 27,
   "metadata": {},
   "outputs": [
    {
     "data": {
      "text/plain": [
       "(array([319, 320]),)"
      ]
     },
     "execution_count": 27,
     "metadata": {},
     "output_type": "execute_result"
    }
   ],
   "source": [
    "np.where(box_pancreas[:, 5] == 0)"
   ]
  },
  {
   "cell_type": "code",
   "execution_count": 20,
   "metadata": {},
   "outputs": [
    {
     "data": {
      "text/plain": [
       "0.0"
      ]
     },
     "execution_count": 20,
     "metadata": {},
     "output_type": "execute_result"
    }
   ],
   "source": [
    "box_pancreas[320, 3]"
   ]
  },
  {
   "cell_type": "code",
   "execution_count": 40,
   "metadata": {},
   "outputs": [
    {
     "name": "stdout",
     "output_type": "stream",
     "text": [
      "[[1 2 3]\n",
      " [2 4 5]\n",
      " [2 3 1]]\n"
     ]
    },
    {
     "data": {
      "text/plain": [
       "array([[1, 2, 3],\n",
       "       [2, 3, 1]])"
      ]
     },
     "execution_count": 40,
     "metadata": {},
     "output_type": "execute_result"
    }
   ],
   "source": [
    "a = np.array([[1, 2, 3], [2, 4, 5], [2, 3, 1]])\n",
    "print(a)\n",
    "np.delete(a, (1), axis=0)"
   ]
  },
  {
   "cell_type": "code",
   "execution_count": 44,
   "metadata": {},
   "outputs": [],
   "source": [
    "box_pancreas0 = box_pancreas\n",
    "box_pancreas = np.delete(box_pancreas, (319), axis = 0)\n",
    "box_pancreas = np.delete(box_pancreas, (319), axis = 0)\n",
    "box_tumor0 = box_tumor\n",
    "box_tumor = np.delete(box_tumor, (319), axis = 0)\n",
    "box_tumor = np.delete(box_tumor, (319), axis = 0)"
   ]
  },
  {
   "cell_type": "code",
   "execution_count": 46,
   "metadata": {},
   "outputs": [
    {
     "name": "stdout",
     "output_type": "stream",
     "text": [
      "Pancreas in x: \n",
      "max = 374.0\n",
      "median = 162.0\n",
      "min = 42.0\n",
      "std = 33.3568873575248\n",
      "======================\n",
      "Tumor in x: \n",
      "max = 200.0\n",
      "median = 44.0\n",
      "min = 0.0\n",
      "std = 33.02839943747105\n",
      "======================\n",
      "======================\n",
      "Pancreas in y: \n",
      "max = 289.0\n",
      "median = 90.0\n",
      "min = 43.0\n",
      "std = 23.631363940448942\n",
      "======================\n",
      "Tumor in y: \n",
      "max = 220.0\n",
      "median = 39.0\n",
      "min = 0.0\n",
      "std = 25.396997322719447\n",
      "======================\n",
      "======================\n",
      "Pancreas in z: \n",
      "max = 112.0\n",
      "median = 14.0\n",
      "min = 2.0\n",
      "std = 14.373229408972184\n",
      "======================\n",
      "Tumor in z: \n",
      "max = 88.0\n",
      "median = 4.0\n",
      "min = 0.0\n",
      "std = 6.756452101925569\n",
      "======================\n",
      "======================\n"
     ]
    }
   ],
   "source": [
    "axis = ['x', 'y', 'z']\n",
    "for idx, ax in enumerate(axis):\n",
    " \n",
    "    \n",
    "    print('Pancreas in '+ ax +': ')\n",
    "    print(\"max =\", np.max(box_pancreas[:,  idx*2+1] - box_pancreas[:, idx*2]))\n",
    "    print(\"median =\", np.median(box_pancreas[:, idx*2+1] - box_pancreas[:,  idx*2]))\n",
    "    print(\"min =\", np.min(box_pancreas[:, idx*2+1] - box_pancreas[:,  idx*2]))\n",
    "    print(\"std =\", np.std(box_pancreas[:, idx*2+1] - box_pancreas[:,  idx*2]))\n",
    "    print(\"======================\")\n",
    "    print('Tumor in '+ ax +': ')\n",
    "    print(\"max =\", np.max(box_tumor[:, idx*2+1] - box_tumor[:, idx*2]))\n",
    "    print(\"median =\", np.median(box_tumor[:, idx*2+1] - box_tumor[:, idx*2]))\n",
    "    print(\"min =\", np.min(box_tumor[:, idx*2+1] - box_tumor[:, idx*2]))\n",
    "    print(\"std =\", np.std(box_tumor[:, idx*2+1] - box_tumor[:, idx*2]))\n",
    "    print(\"======================\")\n",
    "    print(\"======================\")"
   ]
  },
  {
   "cell_type": "code",
   "execution_count": null,
   "metadata": {},
   "outputs": [],
   "source": []
  },
  {
   "cell_type": "code",
   "execution_count": null,
   "metadata": {},
   "outputs": [],
   "source": []
  },
  {
   "cell_type": "code",
   "execution_count": 3,
   "metadata": {},
   "outputs": [
    {
     "ename": "NameError",
     "evalue": "name 'box_pancreas' is not defined",
     "output_type": "error",
     "traceback": [
      "\u001b[0;31m---------------------------------------------------------------------------\u001b[0m",
      "\u001b[0;31mNameError\u001b[0m                                 Traceback (most recent call last)",
      "\u001b[0;32m<ipython-input-3-342e964559b6>\u001b[0m in \u001b[0;36m<module>\u001b[0;34m()\u001b[0m\n\u001b[0;32m----> 1\u001b[0;31m \u001b[0mbox_pancreas\u001b[0m\u001b[0;34m\u001b[0m\u001b[0m\n\u001b[0m",
      "\u001b[0;31mNameError\u001b[0m: name 'box_pancreas' is not defined"
     ]
    }
   ],
   "source": [
    "print(\"Pancreas : \")\n",
    "print(\"max =\", np.max(box_pancreas[:, 1] - box_pancreas[:, 0]))\n",
    "print(\"median =\", np.median(box_pancreas[:, 1] - box_pancreas[:, 0]))\n",
    "print(\"min =\", np.min(box_pancreas[:, 1] - box_pancreas[:, 0]))\n",
    "print(\"std =\", np.std(box_pancreas[:, 1] - box_pancreas[:, 0]))\n",
    "print(\"======================\")\n",
    "print(\"Tumor : \")\n",
    "print(\"max =\", np.max(box_tumor[:, 1] - box_tumor[:, 0]))\n",
    "print(\"median =\", np.median(box_tumor[:, 1] - box_tumor[:, 0]))\n",
    "print(\"min =\", np.min(box_tumor[:, 1] - box_tumor[:, 0]))\n",
    "print(\"std =\", np.std(box_tumor[:, 1] - box_tumor[:, 0]))"
   ]
  },
  {
   "cell_type": "code",
   "execution_count": 83,
   "metadata": {},
   "outputs": [
    {
     "name": "stdout",
     "output_type": "stream",
     "text": [
      "Pancreas and Tumor : \n"
     ]
    },
    {
     "data": {
      "image/png": "[encoded data removed]",
      "text/plain": [
       "<Figure size 432x288 with 1 Axes>"
      ]
     },
     "metadata": {
      "needs_background": "light"
     },
     "output_type": "display_data"
    },
    {
     "data": {
      "image/png": "[encoded data removed]",
      "text/plain": [
       "<Figure size 432x288 with 1 Axes>"
      ]
     },
     "metadata": {
      "needs_background": "light"
     },
     "output_type": "display_data"
    },
    {
     "data": {
      "image/png": "[encoded data removed]",
      "text/plain": [
       "<Figure size 432x288 with 1 Axes>"
      ]
     },
     "metadata": {
      "needs_background": "light"
     },
     "output_type": "display_data"
    }
   ],
   "source": [
    "import seaborn as sns\n",
    "print(\"Pancreas and Tumor : \")\n",
    "sns.distplot(box_pancreas[:, 1] - box_pancreas[:, 0], bins = 10, label = \"pancreas\")\n",
    "#plt.ylabel(\"number\")\n",
    "#plt.xlabel(\"range of x-axis\")\n",
    "sns.distplot(box_tumor[:, 1] - box_tumor[:, 0], bins = 10, label = \"tumor\")\n",
    "plt.legend()\n",
    "plt.ylabel(\"number\")\n",
    "plt.xlabel(\"range of x-axis\")\n",
    "\n",
    "plt.show()\n",
    "sns.distplot(box_pancreas[:, 3] - box_pancreas[:, 2], bins = 10, label = \"pancreas\")\n",
    "sns.distplot(box_tumor[:, 3] - box_tumor[:, 2], bins = 10, label = \"tumor\")\n",
    "plt.legend()\n",
    "plt.ylabel(\"number\")\n",
    "plt.xlabel(\"range of y-axis\")\n",
    "plt.show()\n",
    "sns.distplot(box_pancreas[:, 5] - box_pancreas[:, 4], bins = 10, label = \"pancreas\")\n",
    "sns.distplot(box_tumor[:, 5] - box_tumor[:, 4], bins = 10, label = \"tumor\")\n",
    "plt.legend()\n",
    "plt.ylabel(\"number\")\n",
    "plt.xlabel(\"range of z-axis\")\n",
    "plt.show()\n"
   ]
  },
  {
   "cell_type": "code",
   "execution_count": 69,
   "metadata": {},
   "outputs": [
    {
     "name": "stdout",
     "output_type": "stream",
     "text": [
      "Tumor : \n",
      "max = 200.0\n",
      "median = 44.0\n",
      "min = 0.0\n",
      "std = 33.48325936232425\n"
     ]
    }
   ],
   "source": [
    "print(\"Tumor : \")\n",
    "print(\"max =\", np.max(box_tumor[:, 1] - box_tumor[:, 0]))\n",
    "print(\"median =\", np.median(box_tumor[:, 1] - box_tumor[:, 0]))\n",
    "print(\"min =\", np.min(box_tumor[:, 1] - box_tumor[:, 0]))\n",
    "print(\"std =\", np.std(box_tumor[:, 1] - box_tumor[:, 0]))"
   ]
  },
  {
   "cell_type": "code",
   "execution_count": 70,
   "metadata": {},
   "outputs": [
    {
     "name": "stdout",
     "output_type": "stream",
     "text": [
      "Tumor : \n"
     ]
    },
    {
     "data": {
      "image/png": "[encoded data removed]",
      "text/plain": [
       "<Figure size 432x288 with 1 Axes>"
      ]
     },
     "metadata": {
      "needs_background": "light"
     },
     "output_type": "display_data"
    },
    {
     "data": {
      "image/png": "[encoded data removed]",
      "text/plain": [
       "<Figure size 432x288 with 1 Axes>"
      ]
     },
     "metadata": {
      "needs_background": "light"
     },
     "output_type": "display_data"
    },
    {
     "data": {
      "image/png": "[encoded data removed]",
      "text/plain": [
       "<Figure size 432x288 with 1 Axes>"
      ]
     },
     "metadata": {
      "needs_background": "light"
     },
     "output_type": "display_data"
    }
   ],
   "source": [
    "print(\"Tumor : \")\n",
    "plt.hist(box_tumor[:, 1] - box_tumor[:, 0], bins = 10)\n",
    "plt.ylabel(\"number\")\n",
    "plt.xlabel(\"range of x-axis\")\n",
    "plt.show()\n",
    "plt.hist(box_tumor[:, 3] - box_tumor[:, 2], bins = 10)\n",
    "plt.ylabel(\"number\")\n",
    "plt.xlabel(\"range of y-axis\")\n",
    "plt.show()\n",
    "plt.hist(box_tumor[:, 5] - box_tumor[:, 4], bins = 10)\n",
    "plt.ylabel(\"number\")\n",
    "plt.xlabel(\"range of z-axis\")\n",
    "plt.show()"
   ]
  },
  {
   "cell_type": "code",
   "execution_count": null,
   "metadata": {
    "collapsed": true
   },
   "outputs": [],
   "source": []
  },
  {
   "cell_type": "code",
   "execution_count": 68,
   "metadata": {},
   "outputs": [
    {
     "data": {
      "text/plain": [
       "<matplotlib.collections.PathCollection at 0x7fdad4c10cf8>"
      ]
     },
     "execution_count": 68,
     "metadata": {},
     "output_type": "execute_result"
    },
    {
     "data": {
      "image/png": "[encoded data removed]",
      "text/plain": [
       "<Figure size 432x288 with 1 Axes>"
      ]
     },
     "metadata": {
      "needs_background": "light"
     },
     "output_type": "display_data"
    }
   ],
   "source": [
    "#plt.scatter(box_pancreas[:, 1] - box_pancreas[:, 0], [x for x in range(box_pancreas.shape[0])])"
   ]
  },
  {
   "cell_type": "code",
   "execution_count": 30,
   "metadata": {},
   "outputs": [
    {
     "data": {
      "text/plain": [
       "519.0"
      ]
     },
     "execution_count": 30,
     "metadata": {},
     "output_type": "execute_result"
    }
   ],
   "source": [
    "np.max(box_tumor)"
   ]
  },
  {
   "cell_type": "code",
   "execution_count": 28,
   "metadata": {
    "collapsed": true
   },
   "outputs": [],
   "source": [
    "name = names[319]\n",
    "label = load_image(os.path.join(label_path, name))"
   ]
  },
  {
   "cell_type": "code",
   "execution_count": 37,
   "metadata": {},
   "outputs": [
    {
     "data": {
      "text/plain": [
       "True"
      ]
     },
     "execution_count": 37,
     "metadata": {},
     "output_type": "execute_result"
    }
   ],
   "source": [
    "np.unique(np.where(label == 1)).size == 0\n"
   ]
  },
  {
   "cell_type": "code",
   "execution_count": null,
   "metadata": {
    "collapsed": true
   },
   "outputs": [],
   "source": [
    "np.save(\"box_pancreas\", box_pancreas)\n",
    "np.save(\"box_tumor\", box_tumor)"
   ]
  },
  {
   "cell_type": "code",
   "execution_count": 43,
   "metadata": {},
   "outputs": [],
   "source": [
    "box_pancreas = np.load(\"box_pancreas.npy\")\n",
    "box_tumor = np.load(\"box_tumor.npy\")"
   ]
  },
  {
   "cell_type": "code",
   "execution_count": 5,
   "metadata": {},
   "outputs": [
    {
     "name": "stdout",
     "output_type": "stream",
     "text": [
      "\u001b[0m\u001b[01;34m3D_model\u001b[0m/          resec_masking_dilation_info_multiple_tiles.ipynb\r\n",
      "\u001b[01;34mNewStart\u001b[0m/          resec_train.npy\r\n",
      "\u001b[01;34mResection_stage1\u001b[0m/  resec_val.npy\r\n",
      "box_pancreas.npy   y_train.npy\r\n",
      "box_tumor.npy      y_val.npy\r\n"
     ]
    }
   ],
   "source": [
    "box_pancreas"
   ]
  },
  {
   "cell_type": "code",
   "execution_count": 6,
   "metadata": {},
   "outputs": [
    {
     "name": "stdout",
     "output_type": "stream",
     "text": [
      "\u001b[0m\u001b[01;34m3D_model\u001b[0m/          resec_masking_dilation_info_multiple_tiles.ipynb\r\n",
      "\u001b[01;34mNewStart\u001b[0m/          resec_train.npy\r\n",
      "\u001b[01;34mResection_stage1\u001b[0m/  resec_val.npy\r\n",
      "box_pancreas.npy   y_train.npy\r\n",
      "box_tumor.npy      y_val.npy\r\n"
     ]
    }
   ],
   "source": [
    "ls\n"
   ]
  },
  {
   "cell_type": "code",
   "execution_count": null,
   "metadata": {
    "collapsed": true
   },
   "outputs": [],
   "source": []
  }
 ],
 "metadata": {
  "kernelspec": {
   "display_name": "Python 3",
   "language": "python",
   "name": "python3"
  },
  "language_info": {
   "codemirror_mode": {
    "name": "ipython",
    "version": 3
   },
   "file_extension": ".py",
   "mimetype": "text/x-python",
   "name": "python",
   "nbconvert_exporter": "python",
   "pygments_lexer": "ipython3",
   "version": "3.6.8"
  }
 },
 "nbformat": 4,
 "nbformat_minor": 2
}
