{
 "cells": [
  {
   "cell_type": "code",
   "execution_count": 1,
   "metadata": {},
   "outputs": [],
   "source": [
    "import os\n",
    "import glob\n",
    "#import tqdm\n",
    "import numpy as np\n",
    "#import pandas as pd\n",
    "import multiprocessing\n",
    "import pydicom as dicom\n",
    "import nibabel as nib\n",
    "#from keras import utils as kutils\n",
    "from matplotlib import pyplot as plt\n",
    "\n",
    "def load_image(label_fpath, transpose=False):\n",
    "    #encode_name = label_fpath[-39: -7]\n",
    "    label_data = nib.load(label_fpath)\n",
    "    label_array = label_data.get_fdata()\n",
    "    if transpose:\n",
    "        label_array = np.transpose(label_array, axes=(2, 1, 0))\n",
    "    return  label_array#, encode_name"
   ]
  },
  {
   "cell_type": "code",
   "execution_count": 2,
   "metadata": {},
   "outputs": [
    {
     "name": "stdout",
     "output_type": "stream",
     "text": [
      "/home/u/wartytw\n"
     ]
    }
   ],
   "source": [
    "cd .."
   ]
  },
  {
   "cell_type": "code",
   "execution_count": 3,
   "metadata": {},
   "outputs": [],
   "source": [
    "import pandas as pd\n",
    "info = pd.read_csv('/data2/pancreas/Nifti_data/data_list.csv')"
   ]
  },
  {
   "cell_type": "code",
   "execution_count": null,
   "metadata": {
    "collapsed": true
   },
   "outputs": [],
   "source": []
  },
  {
   "cell_type": "code",
   "execution_count": null,
   "metadata": {
    "collapsed": true
   },
   "outputs": [],
   "source": []
  },
  {
   "cell_type": "code",
   "execution_count": 3,
   "metadata": {
    "collapsed": true
   },
   "outputs": [],
   "source": [
    "import cv2\n",
    "import numpy as np\n",
    "np.set_printoptions(suppress=True)\n",
    "def glcm(arr, d_x, d_y, gray_level=16):\n",
    "    '''計算並返回歸一化後的灰度共生矩陣'''\n",
    "    max_gray = arr.max() + 1\n",
    "    #若灰度級數大於gray_level，則將影象的灰度級縮小至gray_level，減小灰度共生矩陣的大小\n",
    "    arr = arr * gray_level // max_gray\n",
    "    ret = np.zeros([gray_level, gray_level])\n",
    "    for j in range(height - d_y):\n",
    "        for i in range(width - d_x):\n",
    "            rows = arr[j][i]\n",
    "            cols = arr[j + d_y][i + d_x]\n",
    "            ret[rows][cols] += 1.0\n",
    "    return ret / float(arr.shape[0] * arr.shape[1]) # 歸一化\n",
    "\n",
    "# if __name__=='__main__':\n",
    "#     fp = '/home/mamq//images/3.jpg'\n",
    "#     img = cv2.imread(fp)\n",
    "#     img_gray = cv2.cvtColor(img, cv2.COLOR_BGR2GRAY)\n",
    "#     glcm_0 = glcm(img_gray, 1,0) # 水平方向\n",
    "#     #glcm_1 = glcm(img_gray, 0,1) # 45度方向\n",
    "#     #glcm_2 = glcm(img_gray, 1,1) # 垂直方向\n",
    "#     #glcm_3 = glcm(img_gray, -1,1) # 135度方向"
   ]
  },
  {
   "cell_type": "code",
   "execution_count": 38,
   "metadata": {
    "collapsed": true
   },
   "outputs": [],
   "source": [
    "test = np.array([[1, 2, 6], [3, 6, 2]])\n",
    "\n",
    "\n",
    "\n",
    "import cv2\n",
    "import math\n",
    "\n",
    "#定义最大灰度级数\n",
    "gray_level = 6\n",
    "\n",
    "def maxGrayLevel(img):\n",
    "    max_gray_level=0\n",
    "    (height,width)=img.shape\n",
    "    for y in range(height):\n",
    "        for x in range(width):\n",
    "            if img[y][x] > max_gray_level:\n",
    "                max_gray_level = img[y][x]\n",
    "    return max_gray_level+1\n",
    "\n",
    "def getGlcm(input,d_x,d_y):\n",
    "    srcdata=input.copy()\n",
    "    ret=[[0.0 for i in range(gray_level)] for j in range(gray_level)]\n",
    "    (height,width) = input.shape\n",
    "    \n",
    "    max_gray_level=maxGrayLevel(input)\n",
    "    \n",
    "    #若灰度级数大于gray_level，则将图像的灰度级缩小至gray_level，减小灰度共生矩阵的大小\n",
    "    if max_gray_level > gray_level:\n",
    "        for j in range(height):\n",
    "            for i in range(width):\n",
    "                srcdata[j][i] = srcdata[j][i]*gray_level / max_gray_level\n",
    "\n",
    "    for j in range(height-abs(d_y)):\n",
    "        for i in range(width-abs(d_x)):\n",
    "            rows = srcdata[j][i]\n",
    "            cols = srcdata[j + d_y][i+d_x]\n",
    "            ret[rows][cols]+=1.0\n",
    "\n",
    "    for i in range(gray_level):\n",
    "        for j in range(gray_level):\n",
    "            ret[i][j]/=float(height*width)\n",
    "\n",
    "    return np.array(ret)\n",
    "\n"
   ]
  },
  {
   "cell_type": "code",
   "execution_count": 37,
   "metadata": {
    "collapsed": true
   },
   "outputs": [],
   "source": [
    "glcm_0=getGlcm(test, 1,-1)"
   ]
  },
  {
   "cell_type": "code",
   "execution_count": 39,
   "metadata": {},
   "outputs": [
    {
     "data": {
      "text/plain": [
       "array([[0.        , 0.        , 0.        , 0.        , 0.        ,\n",
       "        0.16666667],\n",
       "       [0.        , 0.16666667, 0.        , 0.        , 0.        ,\n",
       "        0.        ],\n",
       "       [0.        , 0.        , 0.        , 0.        , 0.        ,\n",
       "        0.        ],\n",
       "       [0.        , 0.        , 0.        , 0.        , 0.        ,\n",
       "        0.        ],\n",
       "       [0.        , 0.        , 0.        , 0.        , 0.        ,\n",
       "        0.        ],\n",
       "       [0.        , 0.        , 0.        , 0.        , 0.        ,\n",
       "        0.        ]])"
      ]
     },
     "execution_count": 39,
     "metadata": {},
     "output_type": "execute_result"
    }
   ],
   "source": [
    "glcm_0"
   ]
  },
  {
   "cell_type": "markdown",
   "metadata": {},
   "source": [
    "# load existing data"
   ]
  },
  {
   "cell_type": "code",
   "execution_count": 4,
   "metadata": {},
   "outputs": [],
   "source": [
    "image_path = \"/data2/pancreas/Nifti_data/image\"\n",
    "label_path = \"/data2/pancreas/Nifti_data/label\""
   ]
  },
  {
   "cell_type": "code",
   "execution_count": 5,
   "metadata": {},
   "outputs": [],
   "source": [
    "resec_train = np.load(\"resec_train.npy\")\n",
    "resec_val = np.load(\"resec_val.npy\")\n",
    "y_train = np.load(\"y_train.npy\")\n",
    "y_val = np.load(\"y_val.npy\")\n",
    "\n",
    "resec = np.concatenate([resec_train,resec_val], axis = 0)\n",
    "y = np.concatenate([y_train, y_val], axis = 0)\n",
    "\n",
    "box_tumor = np.load(\"box_tumor.npy\")\n",
    "box_pancreas = np.load(\"box_pancreas.npy\")\n",
    "\n",
    "import pandas as pd\n",
    "info = pd.read_csv('/data2/pancreas/Nifti_data/data_list.csv')"
   ]
  },
  {
   "cell_type": "code",
   "execution_count": 43,
   "metadata": {},
   "outputs": [
    {
     "data": {
      "text/plain": [
       "(141, 6)"
      ]
     },
     "execution_count": 43,
     "metadata": {},
     "output_type": "execute_result"
    }
   ],
   "source": [
    "#pd.DataFrame(info.groupby(['resection', pos_type[0]]).case_id)[1][1].iloc[0]\n",
    "pos_type = ['SMV', 'CBD',  'retroperitoneal']\n",
    "pos_01x_num = [[0, 0, 0], [0, 0, 0], [0, 0, 0]]\n",
    "pos_01x = [[[], [], []], [[], [], []], [[], [], []]]\n",
    "for idx, t in enumerate(pos_type):\n",
    "    for i in range(3):\n",
    "        N = len(pd.DataFrame(info.groupby(['resection', t]).case_id)[1][i])\n",
    "        for n in range(N):\n",
    "            name = pd.DataFrame(info.groupby(['resection', t]).case_id)[1][i].iloc[n]\n",
    "            name_idx = np.where(resec==name)[0][0]\n",
    "            val = box_tumor[name_idx, 5] - box_tumor[name_idx, 4]\n",
    "            pos_01x_num[idx][i]+=val"
   ]
  },
  {
   "cell_type": "code",
   "execution_count": 56,
   "metadata": {
    "collapsed": true
   },
   "outputs": [],
   "source": [
    "t = 'SMV'\n",
    "i = 0\n",
    "pd.DataFrame(info.groupby(['resection', t]).case_id)[1][i]#i == 0 : resec[t] == 0, and so on \n",
    "\n",
    "n = 0\n",
    "name = pd.DataFrame(info.groupby(['resection', t]).case_id)[1][i].iloc[n]# name : name of resec when type == t and resec[t] == i\n",
    "name_idx = np.where(resec==name)[0][0]"
   ]
  },
  {
   "cell_type": "code",
   "execution_count": 5,
   "metadata": {},
   "outputs": [
    {
     "ename": "NameError",
     "evalue": "name 'image_path' is not defined",
     "output_type": "error",
     "traceback": [
      "\u001b[0;31m---------------------------------------------------------------------------\u001b[0m",
      "\u001b[0;31mNameError\u001b[0m                                 Traceback (most recent call last)",
      "\u001b[0;32m<ipython-input-5-bb2a012bbbdf>\u001b[0m in \u001b[0;36m<module>\u001b[0;34m\u001b[0m\n\u001b[0;32m----> 1\u001b[0;31m \u001b[0mimage\u001b[0m \u001b[0;34m=\u001b[0m \u001b[0mload_image\u001b[0m\u001b[0;34m(\u001b[0m\u001b[0mos\u001b[0m\u001b[0;34m.\u001b[0m\u001b[0mpath\u001b[0m\u001b[0;34m.\u001b[0m\u001b[0mjoin\u001b[0m\u001b[0;34m(\u001b[0m\u001b[0mimage_path\u001b[0m\u001b[0;34m,\u001b[0m \u001b[0;34m\"IM_\"\u001b[0m\u001b[0;34m+\u001b[0m\u001b[0mname\u001b[0m\u001b[0;34m+\u001b[0m\u001b[0;34m\".nii.gz\"\u001b[0m\u001b[0;34m)\u001b[0m\u001b[0;34m)\u001b[0m\u001b[0;34m\u001b[0m\u001b[0;34m\u001b[0m\u001b[0m\n\u001b[0m\u001b[1;32m      2\u001b[0m \u001b[0mlabel\u001b[0m \u001b[0;34m=\u001b[0m \u001b[0mload_image\u001b[0m\u001b[0;34m(\u001b[0m\u001b[0mos\u001b[0m\u001b[0;34m.\u001b[0m\u001b[0mpath\u001b[0m\u001b[0;34m.\u001b[0m\u001b[0mjoin\u001b[0m\u001b[0;34m(\u001b[0m\u001b[0mlabel_path\u001b[0m\u001b[0;34m,\u001b[0m \u001b[0;34m\"LB_\"\u001b[0m\u001b[0;34m+\u001b[0m\u001b[0mname\u001b[0m\u001b[0;34m+\u001b[0m\u001b[0;34m\".nii.gz\"\u001b[0m\u001b[0;34m)\u001b[0m\u001b[0;34m)\u001b[0m\u001b[0;34m\u001b[0m\u001b[0;34m\u001b[0m\u001b[0m\n",
      "\u001b[0;31mNameError\u001b[0m: name 'image_path' is not defined"
     ]
    }
   ],
   "source": [
    "image = load_image(os.path.join(image_path, \"IM_\"+name+\".nii.gz\"))\n",
    "label = load_image(os.path.join(label_path, \"LB_\"+name+\".nii.gz\"))"
   ]
  },
  {
   "cell_type": "code",
   "execution_count": 58,
   "metadata": {},
   "outputs": [
    {
     "data": {
      "text/plain": [
       "509.0"
      ]
     },
     "execution_count": 58,
     "metadata": {},
     "output_type": "execute_result"
    }
   ],
   "source": [
    "box_tumor[name_idx, 4]"
   ]
  },
  {
   "cell_type": "code",
   "execution_count": 67,
   "metadata": {},
   "outputs": [
    {
     "data": {
      "text/plain": [
       "(512, 512, 1023)"
      ]
     },
     "execution_count": 67,
     "metadata": {},
     "output_type": "execute_result"
    }
   ],
   "source": [
    "label.shape"
   ]
  },
  {
   "cell_type": "code",
   "execution_count": 65,
   "metadata": {},
   "outputs": [
    {
     "data": {
      "image/png": "[encoded data removed]",
      "text/plain": [
       "<Figure size 432x288 with 1 Axes>"
      ]
     },
     "metadata": {
      "needs_background": "light"
     },
     "output_type": "display_data"
    },
    {
     "data": {
      "image/png": "[encoded data removed]",
      "text/plain": [
       "<Figure size 432x288 with 1 Axes>"
      ]
     },
     "metadata": {
      "needs_background": "light"
     },
     "output_type": "display_data"
    },
    {
     "data": {
      "image/png": "[encoded data removed]",
      "text/plain": [
       "<Figure size 432x288 with 1 Axes>"
      ]
     },
     "metadata": {
      "needs_background": "light"
     },
     "output_type": "display_data"
    },
    {
     "data": {
      "image/png": "[encoded data removed]",
      "text/plain": [
       "<Figure size 432x288 with 1 Axes>"
      ]
     },
     "metadata": {
      "needs_background": "light"
     },
     "output_type": "display_data"
    },
    {
     "data": {
      "image/png": "[encoded data removed]",
      "text/plain": [
       "<Figure size 432x288 with 1 Axes>"
      ]
     },
     "metadata": {
      "needs_background": "light"
     },
     "output_type": "display_data"
    },
    {
     "data": {
      "image/png": "[encoded data removed]",
      "text/plain": [
       "<Figure size 432x288 with 1 Axes>"
      ]
     },
     "metadata": {
      "needs_background": "light"
     },
     "output_type": "display_data"
    },
    {
     "data": {
      "image/png": "[encoded data removed]",
      "text/plain": [
       "<Figure size 432x288 with 1 Axes>"
      ]
     },
     "metadata": {
      "needs_background": "light"
     },
     "output_type": "display_data"
    },
    {
     "data": {
      "image/png": "[encoded data removed]",
      "text/plain": [
       "<Figure size 432x288 with 1 Axes>"
      ]
     },
     "metadata": {
      "needs_background": "light"
     },
     "output_type": "display_data"
    },
    {
     "data": {
      "image/png": "[encoded data removed]",
      "text/plain": [
       "<Figure size 432x288 with 1 Axes>"
      ]
     },
     "metadata": {
      "needs_background": "light"
     },
     "output_type": "display_data"
    },
    {
     "data": {
      "image/png": "[encoded data removed]",
      "text/plain": [
       "<Figure size 432x288 with 1 Axes>"
      ]
     },
     "metadata": {
      "needs_background": "light"
     },
     "output_type": "display_data"
    },
    {
     "data": {
      "image/png": "[encoded data removed]",
      "text/plain": [
       "<Figure size 432x288 with 1 Axes>"
      ]
     },
     "metadata": {
      "needs_background": "light"
     },
     "output_type": "display_data"
    },
    {
     "data": {
      "image/png": "[encoded data removed]",
      "text/plain": [
       "<Figure size 432x288 with 1 Axes>"
      ]
     },
     "metadata": {
      "needs_background": "light"
     },
     "output_type": "display_data"
    },
    {
     "data": {
      "image/png": "[encoded data removed]",
      "text/plain": [
       "<Figure size 432x288 with 1 Axes>"
      ]
     },
     "metadata": {
      "needs_background": "light"
     },
     "output_type": "display_data"
    }
   ],
   "source": [
    "for i in range(int(box_tumor[name_idx, 4]) - 1, int(box_tumor[name_idx, 5])+2):\n",
    "    plt.imshow(label[..., i])\n",
    "    plt.show()"
   ]
  },
  {
   "cell_type": "code",
   "execution_count": 68,
   "metadata": {},
   "outputs": [
    {
     "name": "stdout",
     "output_type": "stream",
     "text": [
      "259.0\n",
      "61.0\n"
     ]
    }
   ],
   "source": [
    "#how big one input slide should be (depend on pancreas)\n",
    "print(max(box_pancreas[:, 1]) - max(box_pancreas[:, 0]))\n",
    "print(max(box_pancreas[:, 3]) - max(box_pancreas[:, 2]))"
   ]
  },
  {
   "cell_type": "code",
   "execution_count": 100,
   "metadata": {},
   "outputs": [
    {
     "data": {
      "text/plain": [
       "[<matplotlib.lines.Line2D at 0x7ff83f87cbe0>]"
      ]
     },
     "execution_count": 100,
     "metadata": {},
     "output_type": "execute_result"
    },
    {
     "data": {
      "image/png": "[encoded data removed]",
      "text/plain": [
       "<Figure size 432x288 with 1 Axes>"
      ]
     },
     "metadata": {
      "needs_background": "light"
     },
     "output_type": "display_data"
    }
   ],
   "source": [
    "# extract center\n",
    "tmp_slide = label[..., int(box_tumor[name_idx, 5])]\n",
    "down = max(np.where(tmp_slide == 2)[0])\n",
    "top = min(np.where(tmp_slide == 2)[0])\n",
    "r = max(np.where(tmp_slide == 2)[1])\n",
    "l = min(np.where(tmp_slide == 2)[1])\n",
    "plt.imshow(tmp_slide[top:down+1, l:r+1])\n",
    "plt.plot(int((down + top)/2) - top, int((r + l)/2) - l, 'o')"
   ]
  },
  {
   "cell_type": "code",
   "execution_count": 108,
   "metadata": {},
   "outputs": [
    {
     "data": {
      "image/png": "[encoded data removed]",
      "text/plain": [
       "<Figure size 432x288 with 1 Axes>"
      ]
     },
     "metadata": {
      "needs_background": "light"
     },
     "output_type": "display_data"
    }
   ],
   "source": [
    "#from label(whole pancreas) to tumor_only masking \n",
    "t_tmp_slide = np.zeros((tmp_slide.shape[0], tmp_slide.shape[1]))\n",
    "for i in range(tmp_slide.shape[0]):\n",
    "    for j in range(tmp_slide.shape[1]):\n",
    "        if(tmp_slide[i, j] == 2):\n",
    "            t_tmp_slide[i, j] = 2\n",
    "plt.imshow(t_tmp_slide)\n",
    "plt.show()\n",
    "            "
   ]
  },
  {
   "cell_type": "code",
   "execution_count": 116,
   "metadata": {},
   "outputs": [
    {
     "data": {
      "image/png": "[encoded data removed]",
      "text/plain": [
       "<Figure size 432x288 with 1 Axes>"
      ]
     },
     "metadata": {
      "needs_background": "light"
     },
     "output_type": "display_data"
    }
   ],
   "source": [
    "#masking for pancreas-tumor\n",
    "tt_tmp_slide = np.zeros((tmp_slide.shape[0], tmp_slide.shape[1]))\n",
    "for i in range(tmp_slide.shape[0]):\n",
    "    for j in range(tmp_slide.shape[1]):\n",
    "        if(tmp_slide[i, j] != 0 and t_tmp_slide[i, j] != 2):\n",
    "            tt_tmp_slide[i, j] = 1\n",
    "plt.imshow(tt_tmp_slide)\n",
    "plt.show()"
   ]
  },
  {
   "cell_type": "code",
   "execution_count": 15,
   "metadata": {},
   "outputs": [
    {
     "name": "stderr",
     "output_type": "stream",
     "text": [
      "Using TensorFlow backend.\n"
     ]
    },
    {
     "data": {
      "image/png": "[encoded data removed]",
      "text/plain": [
       "<Figure size 432x288 with 1 Axes>"
      ]
     },
     "metadata": {
      "needs_background": "light"
     },
     "output_type": "display_data"
    },
    {
     "data": {
      "image/png": "[encoded data removed]",
      "text/plain": [
       "<Figure size 432x288 with 1 Axes>"
      ]
     },
     "metadata": {
      "needs_background": "light"
     },
     "output_type": "display_data"
    },
    {
     "data": {
      "image/png": "[encoded data removed]",
      "text/plain": [
       "<Figure size 432x288 with 1 Axes>"
      ]
     },
     "metadata": {
      "needs_background": "light"
     },
     "output_type": "display_data"
    }
   ],
   "source": [
    "#dilation\n",
    "from keras.utils import to_categorical\n",
    "from scipy import ndimage\n",
    "\n",
    "plt.imshow(ndimage.binary_dilation(tmp_slide, iterations = 10).astype(tmp_slide.dtype))\n",
    "plt.show()\n",
    "plt.imshow(ndimage.binary_erosion(tmp_slide, iterations = 1).astype(tmp_slide.dtype))\n",
    "plt.show()\n",
    "plt.imshow(tmp_slide)\n",
    "plt.show()\n"
   ]
  },
  {
   "cell_type": "markdown",
   "metadata": {},
   "source": [
    "# Dilation panceas, Extract panceas - tumor, then Divide into three part and use glcm to Extract feacture"
   ]
  },
  {
   "cell_type": "markdown",
   "metadata": {},
   "source": [
    "## 1.  Load image and label"
   ]
  },
  {
   "cell_type": "code",
   "execution_count": 4,
   "metadata": {},
   "outputs": [
    {
     "ename": "NameError",
     "evalue": "name 'image_path' is not defined",
     "output_type": "error",
     "traceback": [
      "\u001b[0;31m---------------------------------------------------------------------------\u001b[0m",
      "\u001b[0;31mNameError\u001b[0m                                 Traceback (most recent call last)",
      "\u001b[0;32m<ipython-input-4-79e373f220bf>\u001b[0m in \u001b[0;36m<module>\u001b[0;34m\u001b[0m\n\u001b[1;32m      5\u001b[0m \u001b[0;31m# name_idx = np.where(resec==name)[0][0]\u001b[0m\u001b[0;34m\u001b[0m\u001b[0;34m\u001b[0m\u001b[0;34m\u001b[0m\u001b[0m\n\u001b[1;32m      6\u001b[0m \u001b[0;34m\u001b[0m\u001b[0m\n\u001b[0;32m----> 7\u001b[0;31m \u001b[0mimage\u001b[0m \u001b[0;34m=\u001b[0m \u001b[0mload_image\u001b[0m\u001b[0;34m(\u001b[0m\u001b[0mos\u001b[0m\u001b[0;34m.\u001b[0m\u001b[0mpath\u001b[0m\u001b[0;34m.\u001b[0m\u001b[0mjoin\u001b[0m\u001b[0;34m(\u001b[0m\u001b[0mimage_path\u001b[0m\u001b[0;34m,\u001b[0m \u001b[0;34m\"IM_\"\u001b[0m\u001b[0;34m+\u001b[0m\u001b[0mname\u001b[0m\u001b[0;34m+\u001b[0m\u001b[0;34m\".nii.gz\"\u001b[0m\u001b[0;34m)\u001b[0m\u001b[0;34m)\u001b[0m\u001b[0;34m\u001b[0m\u001b[0;34m\u001b[0m\u001b[0m\n\u001b[0m\u001b[1;32m      8\u001b[0m \u001b[0mlabel\u001b[0m \u001b[0;34m=\u001b[0m \u001b[0mload_image\u001b[0m\u001b[0;34m(\u001b[0m\u001b[0mos\u001b[0m\u001b[0;34m.\u001b[0m\u001b[0mpath\u001b[0m\u001b[0;34m.\u001b[0m\u001b[0mjoin\u001b[0m\u001b[0;34m(\u001b[0m\u001b[0mlabel_path\u001b[0m\u001b[0;34m,\u001b[0m \u001b[0;34m\"LB_\"\u001b[0m\u001b[0;34m+\u001b[0m\u001b[0mname\u001b[0m\u001b[0;34m+\u001b[0m\u001b[0;34m\".nii.gz\"\u001b[0m\u001b[0;34m)\u001b[0m\u001b[0;34m)\u001b[0m\u001b[0;34m\u001b[0m\u001b[0;34m\u001b[0m\u001b[0m\n\u001b[1;32m      9\u001b[0m \u001b[0mi\u001b[0m \u001b[0;34m=\u001b[0m \u001b[0mint\u001b[0m\u001b[0;34m(\u001b[0m\u001b[0mbox_tumor\u001b[0m\u001b[0;34m[\u001b[0m\u001b[0mname_idx\u001b[0m\u001b[0;34m,\u001b[0m \u001b[0;36m5\u001b[0m\u001b[0;34m]\u001b[0m\u001b[0;34m)\u001b[0m\u001b[0;34m\u001b[0m\u001b[0;34m\u001b[0m\u001b[0m\n",
      "\u001b[0;31mNameError\u001b[0m: name 'image_path' is not defined"
     ]
    }
   ],
   "source": [
    "#dilation panceas, extract panceas - tumor, then divide into three part and use glcm to extract feacture\n",
    "\n",
    "# pd.DataFrame(info.groupby(['resection', t]).case_id)[1][i]#i == 0 : resec[t] == 0, and so on \n",
    "# name = pd.DataFrame(info.groupby(['resection', t]).case_id)[1][i].iloc[n]# name : name of resec when type == t and resec[t] == i\n",
    "# name_idx = np.where(resec==name)[0][0]\n",
    "\n",
    "image = load_image(os.path.join(image_path, \"IM_\"+name+\".nii.gz\"))\n",
    "label = load_image(os.path.join(label_path, \"LB_\"+name+\".nii.gz\"))\n",
    "i = int(box_tumor[name_idx, 5])\n",
    "tmp_slide = label[..., i]\n",
    "tmp_slide_img = image[..., i]\n",
    "\n"
   ]
  },
  {
   "cell_type": "markdown",
   "metadata": {},
   "source": [
    "## 2. Get center"
   ]
  },
  {
   "cell_type": "code",
   "execution_count": 13,
   "metadata": {
    "collapsed": true
   },
   "outputs": [],
   "source": [
    "down = max(np.where(tmp_slide == 2)[0])\n",
    "top = min(np.where(tmp_slide == 2)[0])\n",
    "r = max(np.where(tmp_slide == 2)[1])\n",
    "l = min(np.where(tmp_slide == 2)[1])\n",
    "#plt.imshow(tmp_slide[top:down+1, l:r+1])\n",
    "center = int((down + top)/2), int((r + l)/2)\n",
    "#plt.plot(center, 'o')\n"
   ]
  },
  {
   "cell_type": "markdown",
   "metadata": {},
   "source": [
    "## 3. Dilation for pancreas & Erosion for tumor"
   ]
  },
  {
   "cell_type": "code",
   "execution_count": 27,
   "metadata": {},
   "outputs": [],
   "source": [
    "from keras.utils import to_categorical\n",
    "from scipy import ndimage\n",
    "\n",
    "\n",
    "\n",
    "\n",
    "#from label(whole pancreas) to tumor_only masking\n",
    "def extract_tumor(tmp_slide):\n",
    "    t_tmp_slide = np.zeros((tmp_slide.shape[0], tmp_slide.shape[1]))\n",
    "    for i in range(tmp_slide.shape[0]):\n",
    "        for j in range(tmp_slide.shape[1]):\n",
    "            if(tmp_slide[i, j] == 2):\n",
    "                t_tmp_slide[i, j] = 2\n",
    "    return t_tmp_slide\n",
    "\n"
   ]
  },
  {
   "cell_type": "code",
   "execution_count": null,
   "metadata": {
    "collapsed": true
   },
   "outputs": [],
   "source": [
    "dilation_pancreas = ndimage.binary_dilation(tmp_slide, iterations = 10).astype(tmp_slide.dtype)\n",
    "erosion_tumor = ndimage.binary_erosion(extract_tumor(tmp_slide), iterations = 1).astype(tmp_slide.dtype)"
   ]
  },
  {
   "cell_type": "markdown",
   "metadata": {},
   "source": [
    "#### 3-1. check images"
   ]
  },
  {
   "cell_type": "code",
   "execution_count": 17,
   "metadata": {},
   "outputs": [
    {
     "data": {
      "image/png": "[encoded data removed]",
      "text/plain": [
       "<Figure size 432x288 with 1 Axes>"
      ]
     },
     "metadata": {
      "needs_background": "light"
     },
     "output_type": "display_data"
    },
    {
     "data": {
      "image/png": "[encoded data removed]",
      "text/plain": [
       "<Figure size 432x288 with 1 Axes>"
      ]
     },
     "metadata": {
      "needs_background": "light"
     },
     "output_type": "display_data"
    }
   ],
   "source": [
    "plt.imshow(dilation_pancreas)\n",
    "plt.show()\n",
    "plt.imshow(tmp_slide)\n",
    "plt.show()"
   ]
  },
  {
   "cell_type": "markdown",
   "metadata": {},
   "source": [
    "## 4. masking for dilation and erosion on image"
   ]
  },
  {
   "cell_type": "code",
   "execution_count": 28,
   "metadata": {},
   "outputs": [],
   "source": [
    "#masking for pancreas-tumor\n",
    "def masking_dilation_erosion(tmp_slide, t_tmp_slide):\n",
    "    tt_tmp_slide = np.zeros((tmp_slide.shape[0], tmp_slide.shape[1]))\n",
    "    for i in range(tmp_slide.shape[0]):\n",
    "        for j in range(tmp_slide.shape[1]):\n",
    "            if(tmp_slide[i, j] != 0 and t_tmp_slide[i, j] != 1):\n",
    "                tt_tmp_slide[i, j] = 1\n",
    "    return tt_tmp_slide\n"
   ]
  },
  {
   "cell_type": "code",
   "execution_count": null,
   "metadata": {
    "collapsed": true
   },
   "outputs": [],
   "source": [
    "final_masking_label = masking_dilation_erosion(dilation_pancreas, erosion_tumor)"
   ]
  },
  {
   "cell_type": "markdown",
   "metadata": {},
   "source": [
    "#### 4-1. check masking"
   ]
  },
  {
   "cell_type": "code",
   "execution_count": 19,
   "metadata": {},
   "outputs": [
    {
     "data": {
      "image/png": "[encoded data removed]",
      "text/plain": [
       "<Figure size 432x288 with 1 Axes>"
      ]
     },
     "metadata": {
      "needs_background": "light"
     },
     "output_type": "display_data"
    }
   ],
   "source": [
    "plt.imshow(masking_dilation_erosion(dilation_pancreas, erosion_tumor))\n",
    "plt.show()"
   ]
  },
  {
   "cell_type": "markdown",
   "metadata": {},
   "source": [
    "## 5. Divide into three part"
   ]
  },
  {
   "cell_type": "code",
   "execution_count": 20,
   "metadata": {},
   "outputs": [
    {
     "data": {
      "text/plain": [
       "<matplotlib.image.AxesImage at 0x7f1100aab160>"
      ]
     },
     "execution_count": 20,
     "metadata": {},
     "output_type": "execute_result"
    },
    {
     "data": {
      "image/png": "[encoded data removed]",
      "text/plain": [
       "<Figure size 432x288 with 1 Axes>"
      ]
     },
     "metadata": {
      "needs_background": "light"
     },
     "output_type": "display_data"
    }
   ],
   "source": [
    "plt.imshow(final_masking_label)"
   ]
  },
  {
   "cell_type": "code",
   "execution_count": 21,
   "metadata": {},
   "outputs": [
    {
     "data": {
      "text/plain": [
       "(512, 512)"
      ]
     },
     "execution_count": 21,
     "metadata": {},
     "output_type": "execute_result"
    }
   ],
   "source": [
    "final_masking_label.shape"
   ]
  },
  {
   "cell_type": "code",
   "execution_count": 22,
   "metadata": {
    "collapsed": true
   },
   "outputs": [],
   "source": [
    "CBD = final_masking_label[:center[0], :center[1]]\n",
    "CBD_tmp_slide_img = tmp_slide_img[:center[0], :center[1]]\n",
    "\n",
    "SMV = final_masking_label[:center[0], center[1]:]\n",
    "SMV_tmp_slide_img = tmp_slide_img[:center[0], center[1]:]\n",
    "\n",
    "Retro = final_masking_label[center[0]:, :]\n",
    "Retro_tmp_slide_img = tmp_slide_img[center[0]:, :]\n",
    "# plt.imshow(Retro)\n",
    "# plt.show()\n"
   ]
  },
  {
   "cell_type": "code",
   "execution_count": 23,
   "metadata": {},
   "outputs": [
    {
     "data": {
      "image/png": "[encoded data removed]",
      "text/plain": [
       "<Figure size 432x288 with 1 Axes>"
      ]
     },
     "metadata": {
      "needs_background": "light"
     },
     "output_type": "display_data"
    }
   ],
   "source": [
    "plt.imshow(Retro_tmp_slide_img)\n",
    "plt.show()"
   ]
  },
  {
   "cell_type": "markdown",
   "metadata": {},
   "source": [
    "## 6. Masking in image & GLCM in image"
   ]
  },
  {
   "cell_type": "code",
   "execution_count": 29,
   "metadata": {},
   "outputs": [],
   "source": [
    "def masking_image(label, img):\n",
    "    ll = np.zeros((label.shape[0], label.shape[1]))\n",
    "    for i in range(label.shape[0]):\n",
    "        for j in range(label.shape[1]):\n",
    "            if(label[i, j] == 1):\n",
    "                ll[i, j] = img[i, j]\n",
    "    return ll\n"
   ]
  },
  {
   "cell_type": "code",
   "execution_count": 25,
   "metadata": {
    "collapsed": true
   },
   "outputs": [],
   "source": [
    "CBD_image = masking_image(CBD, CBD_tmp_slide_img)\n",
    "SMV_image = masking_image(SMV, SMV_tmp_slide_img)\n",
    "Retro_image = masking_image(Retro, Retro_tmp_slide_img)"
   ]
  },
  {
   "cell_type": "markdown",
   "metadata": {},
   "source": [
    "#### 6-1. check the masking image"
   ]
  },
  {
   "cell_type": "code",
   "execution_count": 27,
   "metadata": {},
   "outputs": [
    {
     "data": {
      "text/plain": [
       "<matplotlib.image.AxesImage at 0x7f11009495f8>"
      ]
     },
     "execution_count": 27,
     "metadata": {},
     "output_type": "execute_result"
    },
    {
     "data": {
      "image/png": "[encoded data removed]",
      "text/plain": [
       "<Figure size 432x288 with 1 Axes>"
      ]
     },
     "metadata": {
      "needs_background": "light"
     },
     "output_type": "display_data"
    }
   ],
   "source": [
    "plt.imshow(CBD_image)"
   ]
  },
  {
   "cell_type": "code",
   "execution_count": 28,
   "metadata": {},
   "outputs": [
    {
     "name": "stdout",
     "output_type": "stream",
     "text": [
      "112.0\n",
      "151.0\n",
      "119.0\n",
      "1027.0\n"
     ]
    }
   ],
   "source": [
    "print(np.max(CBD_image))\n",
    "print(np.max(SMV_image))\n",
    "print(np.max(Retro_image))\n",
    "print(np.max(tmp_slide_img))"
   ]
  },
  {
   "cell_type": "markdown",
   "metadata": {},
   "source": [
    "#### 6-2. Clip the image"
   ]
  },
  {
   "cell_type": "code",
   "execution_count": 30,
   "metadata": {},
   "outputs": [],
   "source": [
    "def clip_image(img):\n",
    "    top = max(np.where(img != 0)[0])\n",
    "    down = min(np.where(img != 0)[0])\n",
    "    r = max(np.where(img != 0)[1])\n",
    "    l = min(np.where(img != 0)[1])\n",
    "    return img[down:top+1, l:r+1]"
   ]
  },
  {
   "cell_type": "code",
   "execution_count": null,
   "metadata": {
    "collapsed": true
   },
   "outputs": [],
   "source": [
    "#check clip_image\n",
    "# plt.imshow(clip_image(Retro_image))\n",
    "# plt.show()"
   ]
  },
  {
   "cell_type": "code",
   "execution_count": 30,
   "metadata": {
    "collapsed": true
   },
   "outputs": [],
   "source": [
    "CBD_image = clip_image(CBD_image)\n",
    "SMV_image = clip_image(SMV_image)\n",
    "Retro_image = clip_image(Retro_image)"
   ]
  },
  {
   "cell_type": "code",
   "execution_count": 31,
   "metadata": {},
   "outputs": [],
   "source": [
    "#each input slide is 100*100 vector, and a input include 3 slides(for CBD, SMV, Retro respectively)\n",
    "\n",
    "import cv2\n",
    "import math\n",
    "\n",
    "#定义最大灰度级数\n",
    "gray_level = 3001\n",
    "\n",
    "def maxGrayLevel(img):\n",
    "    max_gray_level=0\n",
    "    (height,width)=img.shape\n",
    "    for y in range(height):\n",
    "        for x in range(width):\n",
    "            if img[y][x] > max_gray_level:\n",
    "                max_gray_level = img[y][x]\n",
    "    return max_gray_level+1\n",
    "\n",
    "def getGlcm(input,d_x,d_y):\n",
    "    srcdata=input.copy()\n",
    "    max_value = np.max(srcdata)\n",
    "    min_value = np.min(srcdata)\n",
    "    for i in range(srcdata.shape[0]):\n",
    "        for j in range(srcdata.shape[1]):\n",
    "            srcdata[i, j] = int((srcdata[i, j] - min_value)/(max_value - min_value)*(gray_level - 1))\n",
    "#     print(srcdata)\n",
    "    ret=[[0.0 for i in range(gray_level)] for j in range(gray_level)]\n",
    "    (height,width) = input.shape\n",
    "    \n",
    "    max_gray_level=maxGrayLevel(input)\n",
    "    \n",
    "    #若灰度级数大于gray_level，则将图像的灰度级缩小至gray_level，减小灰度共生矩阵的大小\n",
    "    \n",
    "#     if max_gray_level > gray_level:\n",
    "#         for j in range(height):\n",
    "#             for i in range(width):\n",
    "#                 srcdata[j][i] = srcdata[j][i]*gray_level / max_gray_level\n",
    "\n",
    "    for j in range(height-abs(d_y)):\n",
    "        for i in range(width-abs(d_x)):\n",
    "            rows = int(srcdata[j][i])\n",
    "            cols = int(srcdata[j + d_y][i+d_x])\n",
    "            ret[rows][cols]+=1.0\n",
    "\n",
    "#     for i in range(gray_level):\n",
    "#         for j in range(gray_level):\n",
    "#             ret[i][j]/=float(height*width)\n",
    "\n",
    "    return np.array(ret)"
   ]
  },
  {
   "cell_type": "code",
   "execution_count": null,
   "metadata": {
    "collapsed": true
   },
   "outputs": [],
   "source": [
    "#test_image = getGlcm(Retro_image,-1,1)"
   ]
  },
  {
   "cell_type": "markdown",
   "metadata": {},
   "source": [
    "# model input order"
   ]
  },
  {
   "cell_type": "code",
   "execution_count": 32,
   "metadata": {},
   "outputs": [
    {
     "data": {
      "text/plain": [
       "'PC537'"
      ]
     },
     "execution_count": 32,
     "metadata": {},
     "output_type": "execute_result"
    }
   ],
   "source": [
    "pd.DataFrame(info.groupby(['resection', 'SMV', 'CBD',  'retroperitoneal']).case_id).iloc[3]\n",
    "\n",
    "pd.DataFrame(info.groupby(['resection', 'SMV', 'CBD',  'retroperitoneal']).case_id)[1][2].iloc[3]\n",
    "\n",
    "\n"
   ]
  },
  {
   "cell_type": "code",
   "execution_count": 5,
   "metadata": {
    "collapsed": true
   },
   "outputs": [],
   "source": [
    "#### take a look at the details of resection position"
   ]
  },
  {
   "cell_type": "code",
   "execution_count": 6,
   "metadata": {},
   "outputs": [
    {
     "name": "stdout",
     "output_type": "stream",
     "text": [
      "(1.0, '0', '0', '0')\n",
      "PT7 11.0\n",
      "PC607 8.0\n",
      "PC602 3.0\n",
      "PC600 5.0\n",
      "PC593 3.0\n",
      "PC573 2.0\n",
      "PC570 1.0\n",
      "PC561 6.0\n",
      "PC536 2.0\n",
      "PC595 3.0\n",
      "PC580 3.0\n",
      "PC556 3.0\n",
      "PC540 2.0\n",
      "PC768 7.0\n",
      "total value =  59.0\n",
      "(1.0, '0', '0', '1')\n",
      "PC42 6.0\n",
      "PC104 4.0\n",
      "PC285 3.0\n",
      "PC636 5.0\n",
      "PC535 3.0\n",
      "PC563 2.0\n",
      "PC519 4.0\n",
      "PC447 2.0\n",
      "PC484 3.0\n",
      "PC898 2.0\n",
      "PC818 2.0\n",
      "PC699 5.0\n",
      "PC769 7.0\n",
      "PC739 3.0\n",
      "total value =  51.0\n",
      "(1.0, '0', '1', '0')\n",
      "PT12 6.0\n",
      "PC581 3.0\n",
      "PC544 10.0\n",
      "PC537 4.0\n",
      "total value =  23.0\n",
      "(1.0, '1', '0', '0')\n",
      "PT8 26.0\n",
      "PC116 4.0\n",
      "PC545 2.0\n",
      "PC583 4.0\n",
      "PC456 7.0\n",
      "total value =  43.0\n",
      "(1.0, '1', '0', '1')\n",
      "PC477 7.0\n",
      "total value =  7.0\n",
      "final_total = 183.0\n"
     ]
    }
   ],
   "source": [
    "type_name_pd = pd.DataFrame(info.groupby(['resection', 'SMV', 'CBD',  'retroperitoneal']).case_id)\n",
    "tt = 0\n",
    "for i in range(len(type_name_pd) - 1):    #neglect x, x, x\n",
    "    \n",
    "    print(type_name_pd[0][i])\n",
    "    n = len(type_name_pd[1][i])\n",
    "\n",
    "    total_val = 0\n",
    "    for j in range(n):\n",
    "        name = type_name_pd[1][i].iloc[j]\n",
    "        name_idx = np.where(resec == name)[0][0]\n",
    "        val = box_tumor[name_idx, 5] - box_tumor[name_idx, 4] + 1\n",
    "        print(name, val)\n",
    "        total_val+=val\n",
    "    print(\"total value = \", total_val)\n",
    "    tt = total_val+tt\n",
    "print(\"final_total =\",  tt)"
   ]
  },
  {
   "cell_type": "code",
   "execution_count": 14,
   "metadata": {},
   "outputs": [
    {
     "name": "stdout",
     "output_type": "stream",
     "text": [
      "PT7\n",
      "PC607\n",
      "PC602\n",
      "PC600\n",
      "PC593\n",
      "PC573\n",
      "PC570\n",
      "PC561\n",
      "PC536\n",
      "PC595\n",
      "PC580\n",
      "PC556\n",
      "PC540\n",
      "PC768\n",
      "PC42\n",
      "PC104\n",
      "PC285\n",
      "PC636\n",
      "PC535\n",
      "PC563\n",
      "PC519\n",
      "PC447\n",
      "PC484\n",
      "PC898\n",
      "PC818\n",
      "PC699\n",
      "PC769\n",
      "PC739\n",
      "PT12\n",
      "PC581\n",
      "PC544\n",
      "PC537\n",
      "PT8\n",
      "PC116\n",
      "PC545\n",
      "PC583\n",
      "PC456\n",
      "PC477\n"
     ]
    }
   ],
   "source": [
    "type_name_pd = pd.DataFrame(info.groupby(['resection', 'SMV', 'CBD',  'retroperitoneal']).case_id)\n",
    "\n",
    "#create [name, index, y], notice that y = vector(5)\n",
    "io_arr = [[] for i in range(3)]\n",
    "num_type = len(type_name_pd) - 1\n",
    "for i in range(num_type):    #neglect x, x, x\n",
    "    vec5 = [0 for i in range(num_type)]\n",
    "    vec5[i] = 1\n",
    "    n = len(type_name_pd[1][i])\n",
    "    total_val = 0\n",
    "    for j in range(n):\n",
    "        name = type_name_pd[1][i].iloc[j]\n",
    "        name_idx = np.where(resec == name)[0][0]\n",
    "\n",
    "        image = load_image(os.path.join(image_path, \"IM_\"+name+\".nii.gz\"))\n",
    "        label = load_image(os.path.join(label_path, \"LB_\"+name+\".nii.gz\"))\n",
    "        print(name)\n",
    "        for k in range(int(box_tumor[name_idx, 4]), int(box_tumor[name_idx, 5])+1):\n",
    "            \n",
    "            tmp_slide = label[..., k]\n",
    "            tmp_slide_img = image[..., k]\n",
    "            if(np.where(tmp_slide == 2)[0].size == 0):\n",
    "                continue\n",
    "            io_arr[0].append(name)\n",
    "            io_arr[1].append(k)\n",
    "            io_arr[2].append(vec5)\n",
    "        del image, label"
   ]
  },
  {
   "cell_type": "code",
   "execution_count": 192,
   "metadata": {},
   "outputs": [
    {
     "data": {
      "text/plain": [
       "179"
      ]
     },
     "execution_count": 192,
     "metadata": {},
     "output_type": "execute_result"
    }
   ],
   "source": [
    "len(io_arr[0])"
   ]
  },
  {
   "cell_type": "code",
   "execution_count": 185,
   "metadata": {},
   "outputs": [
    {
     "name": "stdout",
     "output_type": "stream",
     "text": [
      "509 520\n"
     ]
    }
   ],
   "source": [
    "name = 'PT7'\n",
    "name_idx = np.where(resec == name)[0][0]\n",
    "label = load_image(os.path.join(label_path, \"LB_\"+name+\".nii.gz\"))\n",
    "print(int(box_tumor[name_idx, 4]), int(box_tumor[name_idx, 5])+1)"
   ]
  },
  {
   "cell_type": "code",
   "execution_count": 187,
   "metadata": {},
   "outputs": [
    {
     "data": {
      "text/plain": [
       "array([[0., 0., 0., ..., 0., 0., 0.],\n",
       "       [0., 0., 0., ..., 0., 0., 0.],\n",
       "       [0., 0., 0., ..., 0., 0., 0.],\n",
       "       ...,\n",
       "       [0., 0., 0., ..., 0., 0., 0.],\n",
       "       [0., 0., 0., ..., 0., 0., 0.],\n",
       "       [0., 0., 0., ..., 0., 0., 0.]])"
      ]
     },
     "execution_count": 187,
     "metadata": {},
     "output_type": "execute_result"
    }
   ],
   "source": [
    "label[..., 510]"
   ]
  },
  {
   "cell_type": "code",
   "execution_count": 15,
   "metadata": {},
   "outputs": [
    {
     "data": {
      "text/plain": [
       "array([  0.,   1.,   2.,   3.,   4.,   5.,   6.,   7.,   8.,   9.,  10.,\n",
       "        11.,  12.,  13.,  14.,  15.,  16.,  17.,  18.,  19.,  20.,  21.,\n",
       "        22.,  23.,  24.,  25.,  26.,  27.,  28.,  29.,  30.,  31.,  32.,\n",
       "        33.,  34.,  35.,  36.,  37.,  38.,  39.,  40.,  41.,  42.,  43.,\n",
       "        44.,  45.,  46.,  47.,  48.,  49.,  50.,  51.,  52.,  53.,  54.,\n",
       "        55.,  56.,  57.,  58.,  59.,  60.,  61.,  62.,  63.,  64.,  65.,\n",
       "        66.,  67.,  68.,  69.,  70.,  71.,  72.,  73.,  74.,  75.,  76.,\n",
       "        77.,  78.,  79.,  80.,  81.,  82.,  83.,  84.,  85.,  86.,  87.,\n",
       "        88.,  89.,  90.,  91.,  92.,  93.,  94.,  95.,  96.,  97.,  98.,\n",
       "        99., 100., 101., 102., 103., 104., 105., 106., 107., 108., 109.,\n",
       "       110., 111., 112., 113., 114., 115., 116., 117., 118., 119., 120.,\n",
       "       121., 122., 123., 124., 125., 126., 127., 128., 129., 130., 131.,\n",
       "       132., 133., 134., 135., 136., 137., 138., 139., 140., 141., 142.,\n",
       "       143., 144., 145., 146., 147., 148., 149., 150., 151., 152., 153.,\n",
       "       154., 155., 156., 157., 158., 159., 160., 161., 162., 163., 164.,\n",
       "       165., 166., 167., 168., 169., 170., 171., 172., 173., 174., 175.,\n",
       "       176., 177., 178.])"
      ]
     },
     "execution_count": 15,
     "metadata": {},
     "output_type": "execute_result"
    }
   ],
   "source": [
    "order_arr = np.zeros((len(io_arr[0]), 1))\n",
    "for i in range(order_arr.shape[0]):\n",
    "    order_arr[i] = i\n",
    "import random\n",
    "\n",
    "\n",
    "#random.shuffle(order_arr)\n",
    "np.random.shuffle(order_arr)\n",
    "np.unique(order_arr)"
   ]
  },
  {
   "cell_type": "code",
   "execution_count": 7,
   "metadata": {},
   "outputs": [
    {
     "data": {
      "text/html": [
       "<div>\n",
       "<style scoped>\n",
       "    .dataframe tbody tr th:only-of-type {\n",
       "        vertical-align: middle;\n",
       "    }\n",
       "\n",
       "    .dataframe tbody tr th {\n",
       "        vertical-align: top;\n",
       "    }\n",
       "\n",
       "    .dataframe thead th {\n",
       "        text-align: right;\n",
       "    }\n",
       "</style>\n",
       "<table border=\"1\" class=\"dataframe\">\n",
       "  <thead>\n",
       "    <tr style=\"text-align: right;\">\n",
       "      <th></th>\n",
       "      <th></th>\n",
       "      <th></th>\n",
       "      <th></th>\n",
       "      <th></th>\n",
       "      <th>total</th>\n",
       "    </tr>\n",
       "    <tr>\n",
       "      <th>resection</th>\n",
       "      <th>SMV</th>\n",
       "      <th>CBD</th>\n",
       "      <th>retroperitoneal</th>\n",
       "      <th>uncinate</th>\n",
       "      <th></th>\n",
       "    </tr>\n",
       "  </thead>\n",
       "  <tbody>\n",
       "    <tr>\n",
       "      <th rowspan=\"8\" valign=\"top\">1.0</th>\n",
       "      <th rowspan=\"5\" valign=\"top\">0</th>\n",
       "      <th rowspan=\"3\" valign=\"top\">0</th>\n",
       "      <th>0</th>\n",
       "      <th>1</th>\n",
       "      <td>14</td>\n",
       "    </tr>\n",
       "    <tr>\n",
       "      <th rowspan=\"2\" valign=\"top\">1</th>\n",
       "      <th>0</th>\n",
       "      <td>10</td>\n",
       "    </tr>\n",
       "    <tr>\n",
       "      <th>1</th>\n",
       "      <td>4</td>\n",
       "    </tr>\n",
       "    <tr>\n",
       "      <th rowspan=\"2\" valign=\"top\">1</th>\n",
       "      <th rowspan=\"2\" valign=\"top\">0</th>\n",
       "      <th>0</th>\n",
       "      <td>3</td>\n",
       "    </tr>\n",
       "    <tr>\n",
       "      <th>1</th>\n",
       "      <td>1</td>\n",
       "    </tr>\n",
       "    <tr>\n",
       "      <th rowspan=\"2\" valign=\"top\">1</th>\n",
       "      <th rowspan=\"2\" valign=\"top\">0</th>\n",
       "      <th>0</th>\n",
       "      <th>0</th>\n",
       "      <td>5</td>\n",
       "    </tr>\n",
       "    <tr>\n",
       "      <th>1</th>\n",
       "      <th>0</th>\n",
       "      <td>1</td>\n",
       "    </tr>\n",
       "    <tr>\n",
       "      <th>x</th>\n",
       "      <th>x</th>\n",
       "      <th>x</th>\n",
       "      <th>x</th>\n",
       "      <td>23</td>\n",
       "    </tr>\n",
       "  </tbody>\n",
       "</table>\n",
       "</div>"
      ],
      "text/plain": [
       "                                            total\n",
       "resection SMV CBD retroperitoneal uncinate       \n",
       "1.0       0   0   0               1            14\n",
       "                  1               0            10\n",
       "                                  1             4\n",
       "              1   0               0             3\n",
       "                                  1             1\n",
       "          1   0   0               0             5\n",
       "                  1               0             1\n",
       "          x   x   x               x            23"
      ]
     },
     "execution_count": 7,
     "metadata": {},
     "output_type": "execute_result"
    }
   ],
   "source": [
    "info['total'] = [1]*len(info)\n",
    "pd.DataFrame(info.groupby(['resection']).sum().total)\n",
    "pd.DataFrame(info.groupby(['resection', 'SMV', 'CBD',  'retroperitoneal', 'uncinate']).sum().total)"
   ]
  },
  {
   "cell_type": "markdown",
   "metadata": {},
   "source": [
    "# Establish npz"
   ]
  },
  {
   "cell_type": "code",
   "execution_count": 37,
   "metadata": {
    "collapsed": true
   },
   "outputs": [],
   "source": [
    "mkdir glcm_inputs"
   ]
  },
  {
   "cell_type": "code",
   "execution_count": 12,
   "metadata": {},
   "outputs": [
    {
     "name": "stdout",
     "output_type": "stream",
     "text": [
      "/data2/pancreas/Nifti_data\n"
     ]
    }
   ],
   "source": [
    "cd /data2/pancreas/Nifti_data"
   ]
  },
  {
   "cell_type": "code",
   "execution_count": 14,
   "metadata": {},
   "outputs": [],
   "source": [
    "mkdir wartytw_input"
   ]
  },
  {
   "cell_type": "code",
   "execution_count": 16,
   "metadata": {},
   "outputs": [
    {
     "name": "stdout",
     "output_type": "stream",
     "text": [
      "/data2/pancreas/Nifti_data/wartytw_input\n"
     ]
    }
   ],
   "source": [
    "cd wartytw_input"
   ]
  },
  {
   "cell_type": "code",
   "execution_count": 25,
   "metadata": {},
   "outputs": [],
   "source": [
    "#load_image(os.path.join(\"../image/\",  \"IM_\"+name+\".nii.gz\"))"
   ]
  },
  {
   "cell_type": "code",
   "execution_count": 42,
   "metadata": {},
   "outputs": [
    {
     "name": "stdout",
     "output_type": "stream",
     "text": [
      "/data2/pancreas/Nifti_data/wartytw_input\n"
     ]
    }
   ],
   "source": [
    "cd wartytw_input/"
   ]
  },
  {
   "cell_type": "code",
   "execution_count": null,
   "metadata": {},
   "outputs": [],
   "source": [
    "ls"
   ]
  },
  {
   "cell_type": "code",
   "execution_count": null,
   "metadata": {},
   "outputs": [
    {
     "name": "stdout",
     "output_type": "stream",
     "text": [
      "PT7\n",
      "0\n",
      "1\n",
      "2\n",
      "3\n",
      "4\n",
      "5\n",
      "6\n",
      "7\n",
      "8\n",
      "9\n",
      "10\n",
      "PC607\n",
      "11\n",
      "12\n",
      "13\n",
      "14\n",
      "15\n",
      "16\n",
      "17\n",
      "18\n",
      "PC602\n",
      "19\n",
      "20\n",
      "21\n",
      "PC600\n",
      "23\n",
      "24\n",
      "25\n",
      "26\n",
      "PC593\n",
      "27\n",
      "28\n",
      "29\n",
      "PC573\n",
      "30\n",
      "31\n",
      "PC570\n",
      "32\n",
      "PC561\n",
      "33\n",
      "34\n",
      "35\n",
      "36\n",
      "37\n",
      "38\n",
      "PC536\n",
      "39\n",
      "40\n",
      "PC595\n",
      "41\n",
      "42\n",
      "43\n",
      "PC580\n",
      "44\n",
      "45\n",
      "46\n",
      "PC556\n",
      "47\n"
     ]
    }
   ],
   "source": [
    "# Establish The npz data (3 glcm slide for each input)\n",
    "from keras.utils import to_categorical\n",
    "from scipy import ndimage\n",
    "type_name_pd = pd.DataFrame(info.groupby(['resection', 'SMV', 'CBD',  'retroperitoneal']).case_id)\n",
    "\n",
    "#create [name, index, y], notice that y = vector(5)\n",
    "kk = 0\n",
    "num_type = len(type_name_pd) - 1\n",
    "for i in range(num_type):    #neglect x, x, x\n",
    "    vec5 = [0 for i in range(num_type)]\n",
    "    vec5[i] = 1\n",
    "    n = len(type_name_pd[1][i])\n",
    "    total_val = 0\n",
    "    for j in range(n):\n",
    "        name = type_name_pd[1][i].iloc[j]\n",
    "        \n",
    "        name_idx = np.where(resec == name)[0][0]\n",
    "        image = load_image(os.path.join(\"../image/\", \"IM_\"+name+\".nii.gz\"))\n",
    "        label = load_image(os.path.join(\"../label/\", \"LB_\"+name+\".nii.gz\"))\n",
    "        print(name)\n",
    "        for k in range(int(box_tumor[name_idx, 4]), int(box_tumor[name_idx, 5])+1):\n",
    "            \n",
    "            tmp_slide = label[..., k]\n",
    "            tmp_slide_img = image[..., k]\n",
    "            if(np.where(tmp_slide == 2)[0].size == 0):\n",
    "                continue\n",
    "            down = max(np.where(tmp_slide == 2)[0])\n",
    "            top = min(np.where(tmp_slide == 2)[0])\n",
    "            r = max(np.where(tmp_slide == 2)[1])\n",
    "            l = min(np.where(tmp_slide == 2)[1])\n",
    "            center = int((down + top)/2), int((r + l)/2)\n",
    "            dilation_pancreas = ndimage.binary_dilation(tmp_slide, iterations = 10).astype(tmp_slide.dtype)\n",
    "            erosion_tumor = ndimage.binary_erosion(extract_tumor(tmp_slide), iterations = 1).astype(tmp_slide.dtype)\n",
    "            final_masking_label = masking_dilation_erosion(dilation_pancreas, erosion_tumor)\n",
    "            CBD = final_masking_label[:center[0], :center[1]]\n",
    "            CBD_tmp_slide_img = tmp_slide_img[:center[0], :center[1]]\n",
    "\n",
    "            SMV = final_masking_label[:center[0], center[1]:]\n",
    "            SMV_tmp_slide_img = tmp_slide_img[:center[0], center[1]:]\n",
    "\n",
    "            Retro = final_masking_label[center[0]:, :]\n",
    "            Retro_tmp_slide_img = tmp_slide_img[center[0]:, :]\n",
    "\n",
    "            \n",
    "            CBD_image = masking_image(CBD, CBD_tmp_slide_img)\n",
    "            SMV_image = masking_image(SMV, SMV_tmp_slide_img)\n",
    "            Retro_image = masking_image(Retro, Retro_tmp_slide_img)\n",
    "            \n",
    "            CBD_image = clip_image(CBD_image)\n",
    "            SMV_image = clip_image(SMV_image)\n",
    "            Retro_image = clip_image(Retro_image)\n",
    "\n",
    "            CBD_image = getGlcm(CBD_image,-1,1)\n",
    "            SMV_image = getGlcm(SMV_image,1,1)\n",
    "            Retro_image = getGlcm(Retro_image,0,-1)\n",
    "            \n",
    "            glcm_input = np.concatenate([np.expand_dims(getGlcm(CBD_image,-1,1), axis = 2), np.expand_dims(getGlcm(SMV_image,1,1), axis = 2), np.expand_dims(getGlcm(Retro_image,0,-1), axis = 2)], axis = 2)\n",
    "            \n",
    "            np.savez(\"glcm\"+str(kk), glcm_input)\n",
    "\n",
    "            print(kk)\n",
    "            \n",
    "            kk+=1\n",
    "            del glcm_input\n",
    "            \n",
    "        \n",
    "        del image, label"
   ]
  },
  {
   "cell_type": "code",
   "execution_count": 17,
   "metadata": {
    "collapsed": true
   },
   "outputs": [],
   "source": [
    "new_y = []"
   ]
  },
  {
   "cell_type": "code",
   "execution_count": 18,
   "metadata": {},
   "outputs": [
    {
     "name": "stdout",
     "output_type": "stream",
     "text": [
      "PT7\n",
      "PC607\n",
      "PC602\n",
      "PC600\n",
      "PC593\n",
      "PC573\n",
      "PC570\n",
      "PC561\n",
      "PC536\n",
      "PC595\n",
      "PC580\n",
      "PC556\n",
      "PC540\n",
      "PC768\n",
      "PC42\n",
      "PC104\n",
      "PC285\n",
      "PC636\n",
      "PC535\n",
      "PC563\n",
      "PC519\n",
      "PC447\n",
      "PC484\n",
      "PC898\n",
      "PC818\n",
      "PC699\n",
      "PC769\n",
      "PC739\n",
      "PT12\n",
      "PC581\n",
      "PC544\n",
      "PC537\n",
      "PT8\n",
      "PC116\n",
      "PC545\n",
      "PC583\n",
      "PC456\n",
      "PC477\n"
     ]
    }
   ],
   "source": [
    "# Establish The npz data (3 glcm slide for each input)\n",
    "from keras.utils import to_categorical\n",
    "from scipy import ndimage\n",
    "type_name_pd = pd.DataFrame(info.groupby(['resection', 'SMV', 'CBD',  'retroperitoneal']).case_id)\n",
    "\n",
    "#create [name, index, y], notice that y = vector(5)\n",
    "kk = 0\n",
    "num_type = len(type_name_pd) - 1\n",
    "for i in range(num_type):    #neglect x, x, x\n",
    "    vec5 = [0 for i in range(num_type)]\n",
    "    vec5[i] = 1\n",
    "    n = len(type_name_pd[1][i])\n",
    "    total_val = 0\n",
    "    for j in range(n):\n",
    "        name = type_name_pd[1][i].iloc[j]\n",
    "        \n",
    "        name_idx = np.where(resec == name)[0][0]\n",
    "        image = load_image(os.path.join(image_path, \"IM_\"+name+\".nii.gz\"))\n",
    "        label = load_image(os.path.join(label_path, \"LB_\"+name+\".nii.gz\"))\n",
    "        print(name)\n",
    "        for k in range(int(box_tumor[name_idx, 4]), int(box_tumor[name_idx, 5])+1):\n",
    "            \n",
    "            tmp_slide = label[..., k]\n",
    "            tmp_slide_img = image[..., k]\n",
    "            if(np.where(tmp_slide == 2)[0].size == 0):\n",
    "                continue\n",
    "            \n",
    "            \n",
    "            new_y.append(vec5)\n",
    "            kk+=1\n",
    "            \n",
    "            \n",
    "        \n",
    "        del image, label"
   ]
  },
  {
   "cell_type": "code",
   "execution_count": 92,
   "metadata": {},
   "outputs": [
    {
     "name": "stdout",
     "output_type": "stream",
     "text": [
      "179\n",
      "180\n"
     ]
    }
   ],
   "source": [
    "print(len(new_y))\n",
    "print(len(glcm_data_list))"
   ]
  },
  {
   "cell_type": "code",
   "execution_count": 42,
   "metadata": {
    "collapsed": true
   },
   "outputs": [],
   "source": [
    "name = \"PC544\"\n",
    "image = load_image(os.path.join(image_path, \"IM_\"+name+\".nii.gz\"))\n",
    "label = load_image(os.path.join(label_path, \"LB_\"+name+\".nii.gz\"))\n",
    "\n",
    "name_idx = np.where(resec == name)[0][0]"
   ]
  },
  {
   "cell_type": "code",
   "execution_count": 45,
   "metadata": {},
   "outputs": [
    {
     "name": "stdout",
     "output_type": "stream",
     "text": [
      "56 66\n"
     ]
    }
   ],
   "source": [
    "print(int(box_tumor[name_idx, 4]), int(box_tumor[name_idx, 5])+1)"
   ]
  },
  {
   "cell_type": "code",
   "execution_count": 47,
   "metadata": {},
   "outputs": [
    {
     "data": {
      "image/png": "[encoded data removed]",
      "text/plain": [
       "<Figure size 432x288 with 1 Axes>"
      ]
     },
     "metadata": {
      "needs_background": "light"
     },
     "output_type": "display_data"
    },
    {
     "data": {
      "image/png": "[encoded data removed]",
      "text/plain": [
       "<Figure size 432x288 with 1 Axes>"
      ]
     },
     "metadata": {
      "needs_background": "light"
     },
     "output_type": "display_data"
    },
    {
     "data": {
      "image/png": "[encoded data removed]",
      "text/plain": [
       "<Figure size 432x288 with 1 Axes>"
      ]
     },
     "metadata": {
      "needs_background": "light"
     },
     "output_type": "display_data"
    },
    {
     "data": {
      "image/png": "[encoded data removed]",
      "text/plain": [
       "<Figure size 432x288 with 1 Axes>"
      ]
     },
     "metadata": {
      "needs_background": "light"
     },
     "output_type": "display_data"
    },
    {
     "data": {
      "image/png": "[encoded data removed]",
      "text/plain": [
       "<Figure size 432x288 with 1 Axes>"
      ]
     },
     "metadata": {
      "needs_background": "light"
     },
     "output_type": "display_data"
    },
    {
     "data": {
      "image/png": "[encoded data removed]",
      "text/plain": [
       "<Figure size 432x288 with 1 Axes>"
      ]
     },
     "metadata": {
      "needs_background": "light"
     },
     "output_type": "display_data"
    },
    {
     "data": {
      "image/png": "[encoded data removed]",
      "text/plain": [
       "<Figure size 432x288 with 1 Axes>"
      ]
     },
     "metadata": {
      "needs_background": "light"
     },
     "output_type": "display_data"
    },
    {
     "data": {
      "image/png": "[encoded data removed]",
      "text/plain": [
       "<Figure size 432x288 with 1 Axes>"
      ]
     },
     "metadata": {
      "needs_background": "light"
     },
     "output_type": "display_data"
    },
    {
     "data": {
      "image/png": "[encoded data removed]",
      "text/plain": [
       "<Figure size 432x288 with 1 Axes>"
      ]
     },
     "metadata": {
      "needs_background": "light"
     },
     "output_type": "display_data"
    },
    {
     "data": {
      "image/png": "[encoded data removed]",
      "text/plain": [
       "<Figure size 432x288 with 1 Axes>"
      ]
     },
     "metadata": {
      "needs_background": "light"
     },
     "output_type": "display_data"
    }
   ],
   "source": [
    "for i in range(int(box_tumor[name_idx, 4]), int(box_tumor[name_idx, 5])+1):\n",
    "    plt.title(str(i))\n",
    "    plt.imshow(label[..., i])\n",
    "    plt.show()"
   ]
  },
  {
   "cell_type": "code",
   "execution_count": 75,
   "metadata": {},
   "outputs": [
    {
     "data": {
      "text/plain": [
       "True"
      ]
     },
     "execution_count": 75,
     "metadata": {},
     "output_type": "execute_result"
    }
   ],
   "source": [
    "i = 61\n",
    "tmp_slide = label[..., i]\n",
    "np.where(tmp_slide == 2)[0].size == 0\n"
   ]
  },
  {
   "cell_type": "code",
   "execution_count": 74,
   "metadata": {},
   "outputs": [
    {
     "data": {
      "text/plain": [
       "0"
      ]
     },
     "execution_count": 74,
     "metadata": {},
     "output_type": "execute_result"
    }
   ],
   "source": []
  },
  {
   "cell_type": "markdown",
   "metadata": {},
   "source": [
    "# Build Model "
   ]
  },
  {
   "cell_type": "code",
   "execution_count": 19,
   "metadata": {
    "collapsed": true
   },
   "outputs": [],
   "source": [
    "from keras.models import Model#, load_model\n",
    "from keras import layers as klayers\n",
    "from keras.optimizers import Adam\n",
    "from keras import utils as kutils\n",
    "from keras import backend as K\n",
    "from keras.callbacks import ModelCheckpoint\n",
    "\n",
    "from keras.layers import Conv3D, MaxPool3D, Flatten, Dense\n",
    "from keras.layers import Dropout, Input, BatchNormalization\n",
    "from sklearn.metrics import confusion_matrix, accuracy_score\n",
    "#from plotly.offline import iplot, init_notebook_mode\n",
    "from keras.losses import categorical_crossentropy\n",
    "from keras.optimizers import Adadelta\n",
    "#import plotly.graph_objs as go\n",
    "from matplotlib.pyplot import cm\n",
    "from keras.models import Model\n",
    "import numpy as np\n",
    "import keras\n",
    "import h5py\n",
    "\n",
    "#init_notebook_mode(connected=True)\n",
    "%matplotlib inline\n",
    "\n",
    "\n",
    "from keras.datasets import mnist\n",
    "from keras.layers import Input, Dense, Reshape, Flatten, Dropout, multiply, concatenate,  MaxPool2D, Reshape\n",
    "# from keras.layers import BatchNormalization, Activation, Embedding, ZeroPadding2D, Lambda\n",
    "from keras.layers.advanced_activations import LeakyReLU, ReLU\n",
    "from keras.layers.convolutional import UpSampling2D, Conv2D, Conv1D\n",
    "from keras.models import Sequential, Model\n",
    "from keras.optimizers import Adam, SGD\n",
    "from keras.utils import to_categorical\n",
    "import keras.backend as K\n",
    "import matplotlib.pyplot as plt\n",
    "import numpy as np\n",
    "\n",
    "import pandas as pd\n",
    "import numpy as np\n",
    "from keras.models import Sequential\n",
    "from keras.layers import Dense, Dropout, Activation, Flatten, LSTM, TimeDistributed, RepeatVector, Reshape\n",
    "from keras.layers.normalization import BatchNormalization\n",
    "from keras.optimizers import Adam\n",
    "from keras.callbacks import EarlyStopping, ModelCheckpoint\n",
    "import matplotlib.pyplot as plt\n",
    "import tensorflow as tf\n",
    "%matplotlib inline"
   ]
  },
  {
   "cell_type": "code",
   "execution_count": 23,
   "metadata": {},
   "outputs": [
    {
     "data": {
      "text/plain": [
       "(179, 1)"
      ]
     },
     "execution_count": 23,
     "metadata": {},
     "output_type": "execute_result"
    }
   ],
   "source": [
    "order_arr.shape"
   ]
  },
  {
   "cell_type": "code",
   "execution_count": 25,
   "metadata": {
    "collapsed": true
   },
   "outputs": [],
   "source": [
    "import pandas as pd\n",
    "map_df = pd.DataFrame(data={'resec_name': io_arr[0], 'idx': io_arr[1], 'target':io_arr[2], 'order' : order_arr.reshape(len(io_arr[0]))})"
   ]
  },
  {
   "cell_type": "code",
   "execution_count": 54,
   "metadata": {
    "collapsed": true
   },
   "outputs": [],
   "source": [
    "from keras.utils import to_categorical\n",
    "from scipy import ndimage\n",
    "class resec_Generator1(kutils.Sequence):\n",
    "    'Generates data for Keras'\n",
    "    def __init__(self, mapping_df, batch_size, shuffle=True):\n",
    "        'Initialization'\n",
    "        self.mapping_df = mapping_df\n",
    "        self.data_num   = mapping_df.shape[0]\n",
    "        self.batch_size = batch_size\n",
    "        self.shuffle = shuffle\n",
    "        self.on_epoch_end()\n",
    "\n",
    "    def __len__(self):\n",
    "        'Denotes the number of batches per epoch'\n",
    "        return int(np.floor(self.data_num / self.batch_size))\n",
    "\n",
    "\n",
    "    def __getitem__(self, index):\n",
    "        'Generate one batch of data'\n",
    "        # Generate indexes of the batch\n",
    "        #print(\"enter0\")\n",
    "        batch_mapping_df = \\\n",
    "            self.mapping_df.iloc[index*self.batch_size: (index+1)*self.batch_size]\n",
    "\n",
    "        # Generate data\n",
    "        X, y = self.__data_generation(batch_mapping_df)\n",
    "        return X, y\n",
    "\n",
    "\n",
    "    def on_epoch_end(self):\n",
    "        'Updates indexes after each epoch'\n",
    "        if self.shuffle:\n",
    "            self.mapping_df = self.mapping_df.sample(frac=1).reset_index(drop=True)\n",
    "            \n",
    "    def __data_generation(self, batch_mapping_df):\n",
    "        'Generates data containing batch_size samples' \n",
    "        # Initialization\n",
    "        X = np.zeros((  self.batch_size, 3000, 3000, 3, 1)) \n",
    "\n",
    "\n",
    "        y = np.zeros((self.batch_size, 5))\n",
    "\n",
    "        # Generate data\n",
    "        cnt = 0\n",
    "        \n",
    "        for i, row in batch_mapping_df.iterrows():\n",
    "            #img = extract_cube(shape_tumor[row['shape']], load_image(os.path.join(image_path, \"IM_\"+row['resec_name']+\".nii.gz\")))\n",
    "            idx = int(row['order'])#encode = row['resec_name']\n",
    "            encode = io_arr[0][idx]\n",
    "            image = load_image(os.path.join(image_path, \"IM_\"+encode+\".nii.gz\"))\n",
    "            label = load_image(os.path.join(label_path, \"LB_\"+encode+\".nii.gz\"))\n",
    "            k = io_arr[1][idx]\n",
    "            tmp_slide = label[..., k]\n",
    "            tmp_slide_img = image[..., k]\n",
    "            if(np.where(tmp_slide == 2)[0].size == 0):\n",
    "                continue\n",
    "            down = max(np.where(tmp_slide == 2)[0])\n",
    "            top = min(np.where(tmp_slide == 2)[0])\n",
    "            r = max(np.where(tmp_slide == 2)[1])\n",
    "            l = min(np.where(tmp_slide == 2)[1])\n",
    "            center = int((down + top)/2), int((r + l)/2)\n",
    "            dilation_pancreas = ndimage.binary_dilation(tmp_slide, iterations = 10).astype(tmp_slide.dtype)\n",
    "            erosion_tumor = ndimage.binary_erosion(extract_tumor(tmp_slide), iterations = 1).astype(tmp_slide.dtype)\n",
    "            final_masking_label = masking_dilation_erosion(dilation_pancreas, erosion_tumor)\n",
    "            CBD = final_masking_label[:center[0], :center[1]]\n",
    "            CBD_tmp_slide_img = tmp_slide_img[:center[0], :center[1]]\n",
    "\n",
    "            SMV = final_masking_label[:center[0], center[1]:]\n",
    "            SMV_tmp_slide_img = tmp_slide_img[:center[0], center[1]:]\n",
    "\n",
    "            Retro = final_masking_label[center[0]:, :]\n",
    "            Retro_tmp_slide_img = tmp_slide_img[center[0]:, :]\n",
    "\n",
    "            \n",
    "            CBD_image = masking_image(CBD, CBD_tmp_slide_img)\n",
    "            SMV_image = masking_image(SMV, SMV_tmp_slide_img)\n",
    "            Retro_image = masking_image(Retro, Retro_tmp_slide_img)\n",
    "            \n",
    "            CBD_image = clip_image(CBD_image)\n",
    "            SMV_image = clip_image(SMV_image)\n",
    "            Retro_image = clip_image(Retro_image)\n",
    "\n",
    "            CBD_image = getGlcm(CBD_image,-1,1)\n",
    "            SMV_image = getGlcm(SMV_image,1,1)\n",
    "            Retro_image = getGlcm(Retro_image,0,-1)\n",
    "            \n",
    "            glcm_input = np.concatenate([np.expand_dims(getGlcm(CBD_image,-1,1), axis = 2), np.expand_dims(getGlcm(SMV_image,1,1), axis = 2), np.expand_dims(getGlcm(Retro_image,0,-1), axis = 2)], axis = 2)\n",
    "\n",
    "            #print(encode)\n",
    "            X[ cnt, :, :, :, 0] = glcm_input[:3000, :3000, :]\n",
    "            del image, label\n",
    "            y[cnt, :] = io_arr[2][idx]\n",
    "\n",
    "\n",
    "            cnt += 1\n",
    "        #print(X[5])\n",
    "        return X, y\n",
    "\n",
    "# for name in resec:\n",
    "#     img = load_image(os.path.join(image_path, \"IM_\"+name+\".nii.gz\"))"
   ]
  },
  {
   "cell_type": "code",
   "execution_count": null,
   "metadata": {
    "collapsed": true
   },
   "outputs": [],
   "source": [
    "# a = [[1, 2, 3], [\"d\", \"v\", \"r\"]]\n",
    "\n",
    "# np.random.shuffle(a, axis = 1)\n",
    "\n",
    "# a = np.array(a)\n",
    "# a = np.swapaxes(a,0, 1)\n",
    "# print(a)\n",
    "# np.random.shuffle(a)\n",
    "# print(a)"
   ]
  },
  {
   "cell_type": "code",
   "execution_count": 81,
   "metadata": {},
   "outputs": [
    {
     "name": "stdout",
     "output_type": "stream",
     "text": [
      "180\n"
     ]
    }
   ],
   "source": [
    "glcm_data_list = os.listdir(\"../glcm_inputs\")\n",
    "print(len(glcm_data_list))"
   ]
  },
  {
   "cell_type": "code",
   "execution_count": 82,
   "metadata": {},
   "outputs": [
    {
     "data": {
      "text/plain": [
       "'glcm135.npz'"
      ]
     },
     "execution_count": 82,
     "metadata": {},
     "output_type": "execute_result"
    }
   ],
   "source": [
    "glcm_data_list[0]"
   ]
  },
  {
   "cell_type": "code",
   "execution_count": 96,
   "metadata": {
    "collapsed": true
   },
   "outputs": [],
   "source": [
    "# # import pandas as pd\n",
    "# map_df = pd.DataFrame(data={'order':order})"
   ]
  },
  {
   "cell_type": "code",
   "execution_count": 172,
   "metadata": {
    "collapsed": true
   },
   "outputs": [],
   "source": [
    "# from keras.utils import to_categorical\n",
    "# from scipy import ndimage\n",
    "# class resec_Generator1(kutils.Sequence):\n",
    "#     'Generates data for Keras'\n",
    "#     def __init__(self, mapping_df, batch_size, shuffle=True):\n",
    "#         'Initialization'\n",
    "#         self.mapping_df = mapping_df\n",
    "#         self.data_num   = mapping_df.shape[0]\n",
    "#         self.batch_size = batch_size\n",
    "#         self.shuffle = shuffle\n",
    "#         self.on_epoch_end()\n",
    "\n",
    "#     def __len__(self):\n",
    "#         'Denotes the number of batches per epoch'\n",
    "#         return int(np.floor(self.data_num / self.batch_size))\n",
    "\n",
    "\n",
    "#     def __getitem__(self, index):\n",
    "#         'Generate one batch of data'\n",
    "#         # Generate indexes of the batch\n",
    "#         #print(\"enter0\")\n",
    "#         batch_mapping_df = \\\n",
    "#             self.mapping_df.iloc[index*self.batch_size: (index+1)*self.batch_size]\n",
    "\n",
    "#         # Generate data\n",
    "#         X, y = self.__data_generation(batch_mapping_df)\n",
    "#         return X, y\n",
    "\n",
    "\n",
    "#     def on_epoch_end(self):\n",
    "#         'Updates indexes after each epoch'\n",
    "#         if self.shuffle:\n",
    "#             self.mapping_df = self.mapping_df.sample(frac=1).reset_index(drop=True)\n",
    "            \n",
    "#     def __data_generation(self, batch_mapping_df):\n",
    "#         'Generates data containing batch_size samples' \n",
    "#         # Initialization\n",
    "#         X = np.zeros((  self.batch_size, 501, 501, 3, 1)) \n",
    "\n",
    "#         y = np.zeros((self.batch_size, 5))\n",
    "\n",
    "#         # Generate data\n",
    "#         cnt = 0\n",
    "        \n",
    "#         for i, row in batch_mapping_df.iterrows():\n",
    "  \n",
    "#             order = row['order']\n",
    "#             a = np.load(\"glcm\"+str(order)+\".npz\")\n",
    "#             X[ cnt, :, :, :, 0] = a['arr_0'][:501, :501, :]\n",
    "#             y[cnt, :] = new_y[row['order']]\n",
    "\n",
    "#             del a\n",
    "#             cnt += 1\n",
    "#         #print(X[5])\n",
    "#         return X, y\n",
    "\n",
    "# # for name in resec:\n",
    "# #     img = load_image(os.path.join(image_path, \"IM_\"+name+\".nii.gz\"))"
   ]
  },
  {
   "cell_type": "code",
   "execution_count": 93,
   "metadata": {},
   "outputs": [
    {
     "name": "stdout",
     "output_type": "stream",
     "text": [
      "[ 55  49  43  95   2  63 142 110  21 118 163 113 109 157 173  11  44 154\n",
      " 131 141 144  10  72 145  52 108   6  79  12 174  50  71  17 128  59   8\n",
      "  47  82  16  67  51 122   9  25  15   0 160  24  36 178 169  19  78  32\n",
      "  26 112 177  20  56 162  61 165 111  62 121  66 171 125  98   7 120  94\n",
      " 123  23  65 104  91  38  74   4 132 126 151  22  68  92  96 102 152 139\n",
      "  83  30  28   3  77   5 161 143   1 158  97  45  64 105 172 155  34  86\n",
      "  33 176  40 100  76  60 150 114  13  88 136 133  54 124  85 148  93  35\n",
      " 127  70  84  90 115 153 119 168  81 106 156 167  42 147  18 140 164  27\n",
      "  29 129 149  57 138  75  41 146  14 101  48  53 135  39  89 175  31  37\n",
      " 107 103 130  69 137  80  99 116  87 166 170  46  58  73 159 117 134]\n"
     ]
    }
   ],
   "source": [
    "order = np.array([i for i in range(len(new_y))])\n",
    "np.random.shuffle(order)\n",
    "print(order)"
   ]
  },
  {
   "cell_type": "code",
   "execution_count": 48,
   "metadata": {},
   "outputs": [
    {
     "name": "stdout",
     "output_type": "stream",
     "text": [
      "_________________________________________________________________\n",
      "Layer (type)                 Output Shape              Param #   \n",
      "=================================================================\n",
      "input_19 (InputLayer)        (None, 3000, 3000, 3, 1)  0         \n",
      "_________________________________________________________________\n",
      "reshape_16 (Reshape)         (None, 300, 300, 300, 1)  0         \n",
      "_________________________________________________________________\n",
      "conv3d_58 (Conv3D)           (None, 298, 298, 298, 16) 448       \n",
      "_________________________________________________________________\n",
      "max_pooling3d_42 (MaxPooling (None, 149, 149, 149, 16) 0         \n",
      "_________________________________________________________________\n",
      "max_pooling3d_43 (MaxPooling (None, 74, 74, 74, 16)    0         \n",
      "_________________________________________________________________\n",
      "batch_normalization_58 (Batc (None, 74, 74, 74, 16)    64        \n",
      "_________________________________________________________________\n",
      "dropout_58 (Dropout)         (None, 74, 74, 74, 16)    0         \n",
      "_________________________________________________________________\n",
      "max_pooling3d_44 (MaxPooling (None, 37, 37, 37, 16)    0         \n",
      "_________________________________________________________________\n",
      "conv3d_59 (Conv3D)           (None, 35, 35, 35, 8)     3464      \n",
      "_________________________________________________________________\n",
      "batch_normalization_59 (Batc (None, 35, 35, 35, 8)     32        \n",
      "_________________________________________________________________\n",
      "dropout_59 (Dropout)         (None, 35, 35, 35, 8)     0         \n",
      "_________________________________________________________________\n",
      "max_pooling3d_45 (MaxPooling (None, 17, 17, 17, 8)     0         \n",
      "_________________________________________________________________\n",
      "conv3d_60 (Conv3D)           (None, 15, 15, 15, 8)     1736      \n",
      "_________________________________________________________________\n",
      "batch_normalization_60 (Batc (None, 15, 15, 15, 8)     32        \n",
      "_________________________________________________________________\n",
      "dropout_60 (Dropout)         (None, 15, 15, 15, 8)     0         \n",
      "_________________________________________________________________\n",
      "max_pooling3d_46 (MaxPooling (None, 7, 7, 7, 8)        0         \n",
      "_________________________________________________________________\n",
      "flatten_16 (Flatten)         (None, 2744)              0         \n",
      "_________________________________________________________________\n",
      "dense_61 (Dense)             (None, 100)               274500    \n",
      "_________________________________________________________________\n",
      "dense_62 (Dense)             (None, 50)                5050      \n",
      "_________________________________________________________________\n",
      "dense_63 (Dense)             (None, 10)                510       \n",
      "_________________________________________________________________\n",
      "dense_64 (Dense)             (None, 5)                 55        \n",
      "=================================================================\n",
      "Total params: 285,891\n",
      "Trainable params: 285,827\n",
      "Non-trainable params: 64\n",
      "_________________________________________________________________\n"
     ]
    }
   ],
   "source": [
    "from keras import metrics\n",
    "tmp_x = Input(( 3000, 3000, 3, 1))\n",
    "\n",
    "x = Reshape(( 300, 300, 300, 1))(tmp_x)\n",
    "x = Conv3D(filters=16, dilation_rate=1, kernel_size=(3, 3, 3), activation='relu',kernel_initializer = keras.initializers.he_normal(seed=None))(x)\n",
    "x = MaxPool3D()(x)\n",
    "x = MaxPool3D()(x)\n",
    "x = BatchNormalization()(x)\n",
    "x = Dropout(0.5)(x)\n",
    "x = MaxPool3D()(x)\n",
    "\n",
    "\n",
    "\n",
    "x = Conv3D(filters=8, dilation_rate=1, kernel_size=(3, 3, 3), activation='relu',kernel_initializer = keras.initializers.he_normal(seed=None))(x)\n",
    "x = BatchNormalization()(x)\n",
    "x = Dropout(0.5)(x)\n",
    "x = MaxPool3D()(x)\n",
    "\n",
    "x = Conv3D(filters=8, dilation_rate=1, kernel_size=(3, 3, 3), activation='relu',kernel_initializer = keras.initializers.he_normal(seed=None))(x)\n",
    "x = BatchNormalization()(x)\n",
    "x = Dropout(0.5)(x)\n",
    "x = MaxPool3D()(x)\n",
    "\n",
    "# x = Conv3D(filters=4, dilation_rate=1, kernel_size=(3, 3, 3), activation='relu',kernel_initializer = keras.initializers.he_normal(seed=None))(tmp_x)\n",
    "# x = BatchNormalization()(x)\n",
    "# x = Dropout(0.5)(x)\n",
    "\n",
    "# x = Conv3D(filters=2, dilation_rate=1, kernel_size=(3, 3, 3), activation='relu',kernel_initializer = keras.initializers.he_normal(seed=None))(tmp_x)\n",
    "# x = BatchNormalization()(x)\n",
    "# x = Dropout(0.5)(x)\n",
    "\n",
    "\n",
    "\n",
    "x = Flatten()(x)\n",
    "x = Dense(units=100, kernel_initializer = keras.initializers.he_normal(seed=None), activation='elu')(x)\n",
    "x = Dense(units=50, activation='selu')(x)\n",
    "x = Dense(units=10, activation='relu')(x)\n",
    "\n",
    "\n",
    "\n",
    "\n",
    "x = Dense(5, activation='sigmoid')(x)\n",
    "\n",
    "\n",
    "\n",
    "\n",
    "\n",
    "model = Model(inputs=tmp_x, outputs=x)\n",
    "adam_lr = 0.0003\n",
    "adam_beta_1 = 0.5\n",
    "model.compile(optimizer=Adam(lr=adam_lr, beta_1=adam_beta_1),\n",
    "              loss='categorical_crossentropy', metrics = [metrics.categorical_accuracy])\n",
    "model.summary()"
   ]
  },
  {
   "cell_type": "code",
   "execution_count": 55,
   "metadata": {
    "collapsed": true
   },
   "outputs": [],
   "source": [
    "batch_size = 1\n",
    "v_generator = resec_Generator1(map_df[:-20], batch_size=batch_size)\n",
    "validation_generator = resec_Generator1(map_df[-20:], batch_size=batch_size)"
   ]
  },
  {
   "cell_type": "code",
   "execution_count": 174,
   "metadata": {
    "collapsed": true
   },
   "outputs": [],
   "source": [
    "#a = np.load(\"glcm\"+str(order[0])+\".npz\")\n"
   ]
  },
  {
   "cell_type": "code",
   "execution_count": 175,
   "metadata": {
    "collapsed": true
   },
   "outputs": [],
   "source": [
    "#a['arr_0']"
   ]
  },
  {
   "cell_type": "code",
   "execution_count": 56,
   "metadata": {},
   "outputs": [
    {
     "name": "stdout",
     "output_type": "stream",
     "text": [
      "Epoch 1/100\n"
     ]
    },
    {
     "ename": "ResourceExhaustedError",
     "evalue": "OOM when allocating tensor with shape[5360424596,100] and type float on /job:localhost/replica:0/task:0/device:CPU:0 by allocator cuda_host_bfc\n\t [[Node: dense_5/truncated_normal/TruncatedNormal = TruncatedNormal[T=DT_INT64, dtype=DT_FLOAT, seed=87654321, seed2=5361631, _device=\"/job:localhost/replica:0/task:0/device:CPU:0\"](dense_5/truncated_normal/shape)]]\nHint: If you want to see a list of allocated tensors when OOM happens, add report_tensor_allocations_upon_oom to RunOptions for current allocation info.\n\n\nCaused by op 'dense_5/truncated_normal/TruncatedNormal', defined at:\n  File \"/opt/anaconda3/5.2.0/lib/python3.6/runpy.py\", line 193, in _run_module_as_main\n    \"__main__\", mod_spec)\n  File \"/opt/anaconda3/5.2.0/lib/python3.6/runpy.py\", line 85, in _run_code\n    exec(code, run_globals)\n  File \"/opt/anaconda3/5.2.0/lib/python3.6/site-packages/ipykernel_launcher.py\", line 16, in <module>\n    app.launch_new_instance()\n  File \"/opt/anaconda3/5.2.0/lib/python3.6/site-packages/traitlets/config/application.py\", line 658, in launch_instance\n    app.start()\n  File \"/opt/anaconda3/5.2.0/lib/python3.6/site-packages/ipykernel/kernelapp.py\", line 505, in start\n    self.io_loop.start()\n  File \"/opt/anaconda3/5.2.0/lib/python3.6/site-packages/tornado/platform/asyncio.py\", line 148, in start\n    self.asyncio_loop.run_forever()\n  File \"/opt/anaconda3/5.2.0/lib/python3.6/asyncio/base_events.py\", line 438, in run_forever\n    self._run_once()\n  File \"/opt/anaconda3/5.2.0/lib/python3.6/asyncio/base_events.py\", line 1451, in _run_once\n    handle._run()\n  File \"/opt/anaconda3/5.2.0/lib/python3.6/asyncio/events.py\", line 145, in _run\n    self._callback(*self._args)\n  File \"/opt/anaconda3/5.2.0/lib/python3.6/site-packages/tornado/ioloop.py\", line 690, in <lambda>\n    lambda f: self._run_callback(functools.partial(callback, future))\n  File \"/opt/anaconda3/5.2.0/lib/python3.6/site-packages/tornado/ioloop.py\", line 743, in _run_callback\n    ret = callback()\n  File \"/opt/anaconda3/5.2.0/lib/python3.6/site-packages/tornado/gen.py\", line 787, in inner\n    self.run()\n  File \"/opt/anaconda3/5.2.0/lib/python3.6/site-packages/tornado/gen.py\", line 748, in run\n    yielded = self.gen.send(value)\n  File \"/opt/anaconda3/5.2.0/lib/python3.6/site-packages/ipykernel/kernelbase.py\", line 365, in process_one\n    yield gen.maybe_future(dispatch(*args))\n  File \"/opt/anaconda3/5.2.0/lib/python3.6/site-packages/tornado/gen.py\", line 209, in wrapper\n    yielded = next(result)\n  File \"/opt/anaconda3/5.2.0/lib/python3.6/site-packages/ipykernel/kernelbase.py\", line 272, in dispatch_shell\n    yield gen.maybe_future(handler(stream, idents, msg))\n  File \"/opt/anaconda3/5.2.0/lib/python3.6/site-packages/tornado/gen.py\", line 209, in wrapper\n    yielded = next(result)\n  File \"/opt/anaconda3/5.2.0/lib/python3.6/site-packages/ipykernel/kernelbase.py\", line 542, in execute_request\n    user_expressions, allow_stdin,\n  File \"/opt/anaconda3/5.2.0/lib/python3.6/site-packages/tornado/gen.py\", line 209, in wrapper\n    yielded = next(result)\n  File \"/opt/anaconda3/5.2.0/lib/python3.6/site-packages/ipykernel/ipkernel.py\", line 294, in do_execute\n    res = shell.run_cell(code, store_history=store_history, silent=silent)\n  File \"/opt/anaconda3/5.2.0/lib/python3.6/site-packages/ipykernel/zmqshell.py\", line 536, in run_cell\n    return super(ZMQInteractiveShell, self).run_cell(*args, **kwargs)\n  File \"/opt/anaconda3/5.2.0/lib/python3.6/site-packages/IPython/core/interactiveshell.py\", line 2854, in run_cell\n    raw_cell, store_history, silent, shell_futures)\n  File \"/opt/anaconda3/5.2.0/lib/python3.6/site-packages/IPython/core/interactiveshell.py\", line 2880, in _run_cell\n    return runner(coro)\n  File \"/opt/anaconda3/5.2.0/lib/python3.6/site-packages/IPython/core/async_helpers.py\", line 68, in _pseudo_sync_runner\n    coro.send(None)\n  File \"/opt/anaconda3/5.2.0/lib/python3.6/site-packages/IPython/core/interactiveshell.py\", line 3057, in run_cell_async\n    interactivity=interactivity, compiler=compiler, result=result)\n  File \"/opt/anaconda3/5.2.0/lib/python3.6/site-packages/IPython/core/interactiveshell.py\", line 3248, in run_ast_nodes\n    if (await self.run_code(code, result,  async_=asy)):\n  File \"/opt/anaconda3/5.2.0/lib/python3.6/site-packages/IPython/core/interactiveshell.py\", line 3325, in run_code\n    exec(code_obj, self.user_global_ns, self.user_ns)\n  File \"<ipython-input-29-c200ebafefe2>\", line 31, in <module>\n    x = Dense(units=100, kernel_initializer = keras.initializers.he_normal(seed=None), activation='elu')(x)\n  File \"/opt/python-3.6-packages/keras/2.2.4/keras/engine/base_layer.py\", line 431, in __call__\n    self.build(unpack_singleton(input_shapes))\n  File \"/opt/python-3.6-packages/keras/2.2.4/keras/layers/core.py\", line 866, in build\n    constraint=self.kernel_constraint)\n  File \"/opt/python-3.6-packages/keras/2.2.4/keras/legacy/interfaces.py\", line 91, in wrapper\n    return func(*args, **kwargs)\n  File \"/opt/python-3.6-packages/keras/2.2.4/keras/engine/base_layer.py\", line 249, in add_weight\n    weight = K.variable(initializer(shape),\n  File \"/opt/python-3.6-packages/keras/2.2.4/keras/initializers.py\", line 214, in __call__\n    dtype=dtype, seed=self.seed)\n  File \"/opt/python-3.6-packages/keras/2.2.4/keras/backend/tensorflow_backend.py\", line 4185, in truncated_normal\n    return tf.truncated_normal(shape, mean, stddev, dtype=dtype, seed=seed)\n  File \"/opt/python-3.6-packages/tensorflow-gpu/1.7.0rc0/tensorflow/python/ops/random_ops.py\", line 174, in truncated_normal\n    shape_tensor, dtype, seed=seed1, seed2=seed2)\n  File \"/opt/python-3.6-packages/tensorflow-gpu/1.7.0rc0/tensorflow/python/ops/gen_random_ops.py\", line 848, in truncated_normal\n    name=name)\n  File \"/opt/python-3.6-packages/tensorflow-gpu/1.7.0rc0/tensorflow/python/framework/op_def_library.py\", line 787, in _apply_op_helper\n    op_def=op_def)\n  File \"/opt/python-3.6-packages/tensorflow-gpu/1.7.0rc0/tensorflow/python/framework/ops.py\", line 3290, in create_op\n    op_def=op_def)\n  File \"/opt/python-3.6-packages/tensorflow-gpu/1.7.0rc0/tensorflow/python/framework/ops.py\", line 1654, in __init__\n    self._traceback = self._graph._extract_stack()  # pylint: disable=protected-access\n\nResourceExhaustedError (see above for traceback): OOM when allocating tensor with shape[5360424596,100] and type float on /job:localhost/replica:0/task:0/device:CPU:0 by allocator cuda_host_bfc\n\t [[Node: dense_5/truncated_normal/TruncatedNormal = TruncatedNormal[T=DT_INT64, dtype=DT_FLOAT, seed=87654321, seed2=5361631, _device=\"/job:localhost/replica:0/task:0/device:CPU:0\"](dense_5/truncated_normal/shape)]]\nHint: If you want to see a list of allocated tensors when OOM happens, add report_tensor_allocations_upon_oom to RunOptions for current allocation info.\n\n",
     "output_type": "error",
     "traceback": [
      "\u001b[0;31m---------------------------------------------------------------------------\u001b[0m",
      "\u001b[0;31mResourceExhaustedError\u001b[0m                    Traceback (most recent call last)",
      "\u001b[0;32m/opt/python-3.6-packages/tensorflow-gpu/1.7.0rc0/tensorflow/python/client/session.py\u001b[0m in \u001b[0;36m_do_call\u001b[0;34m(self, fn, *args)\u001b[0m\n\u001b[1;32m   1326\u001b[0m     \u001b[0;32mtry\u001b[0m\u001b[0;34m:\u001b[0m\u001b[0;34m\u001b[0m\u001b[0;34m\u001b[0m\u001b[0m\n\u001b[0;32m-> 1327\u001b[0;31m       \u001b[0;32mreturn\u001b[0m \u001b[0mfn\u001b[0m\u001b[0;34m(\u001b[0m\u001b[0;34m*\u001b[0m\u001b[0margs\u001b[0m\u001b[0;34m)\u001b[0m\u001b[0;34m\u001b[0m\u001b[0;34m\u001b[0m\u001b[0m\n\u001b[0m\u001b[1;32m   1328\u001b[0m     \u001b[0;32mexcept\u001b[0m \u001b[0merrors\u001b[0m\u001b[0;34m.\u001b[0m\u001b[0mOpError\u001b[0m \u001b[0;32mas\u001b[0m \u001b[0me\u001b[0m\u001b[0;34m:\u001b[0m\u001b[0;34m\u001b[0m\u001b[0;34m\u001b[0m\u001b[0m\n",
      "\u001b[0;32m/opt/python-3.6-packages/tensorflow-gpu/1.7.0rc0/tensorflow/python/client/session.py\u001b[0m in \u001b[0;36m_run_fn\u001b[0;34m(feed_dict, fetch_list, target_list, options, run_metadata)\u001b[0m\n\u001b[1;32m   1311\u001b[0m       return self._call_tf_sessionrun(\n\u001b[0;32m-> 1312\u001b[0;31m           options, feed_dict, fetch_list, target_list, run_metadata)\n\u001b[0m\u001b[1;32m   1313\u001b[0m \u001b[0;34m\u001b[0m\u001b[0m\n",
      "\u001b[0;32m/opt/python-3.6-packages/tensorflow-gpu/1.7.0rc0/tensorflow/python/client/session.py\u001b[0m in \u001b[0;36m_call_tf_sessionrun\u001b[0;34m(self, options, feed_dict, fetch_list, target_list, run_metadata)\u001b[0m\n\u001b[1;32m   1419\u001b[0m             \u001b[0mself\u001b[0m\u001b[0;34m.\u001b[0m\u001b[0m_session\u001b[0m\u001b[0;34m,\u001b[0m \u001b[0moptions\u001b[0m\u001b[0;34m,\u001b[0m \u001b[0mfeed_dict\u001b[0m\u001b[0;34m,\u001b[0m \u001b[0mfetch_list\u001b[0m\u001b[0;34m,\u001b[0m \u001b[0mtarget_list\u001b[0m\u001b[0;34m,\u001b[0m\u001b[0;34m\u001b[0m\u001b[0;34m\u001b[0m\u001b[0m\n\u001b[0;32m-> 1420\u001b[0;31m             status, run_metadata)\n\u001b[0m\u001b[1;32m   1421\u001b[0m \u001b[0;34m\u001b[0m\u001b[0m\n",
      "\u001b[0;32m/opt/python-3.6-packages/tensorflow-gpu/1.7.0rc0/tensorflow/python/framework/errors_impl.py\u001b[0m in \u001b[0;36m__exit__\u001b[0;34m(self, type_arg, value_arg, traceback_arg)\u001b[0m\n\u001b[1;32m    515\u001b[0m             \u001b[0mcompat\u001b[0m\u001b[0;34m.\u001b[0m\u001b[0mas_text\u001b[0m\u001b[0;34m(\u001b[0m\u001b[0mc_api\u001b[0m\u001b[0;34m.\u001b[0m\u001b[0mTF_Message\u001b[0m\u001b[0;34m(\u001b[0m\u001b[0mself\u001b[0m\u001b[0;34m.\u001b[0m\u001b[0mstatus\u001b[0m\u001b[0;34m.\u001b[0m\u001b[0mstatus\u001b[0m\u001b[0;34m)\u001b[0m\u001b[0;34m)\u001b[0m\u001b[0;34m,\u001b[0m\u001b[0;34m\u001b[0m\u001b[0;34m\u001b[0m\u001b[0m\n\u001b[0;32m--> 516\u001b[0;31m             c_api.TF_GetCode(self.status.status))\n\u001b[0m\u001b[1;32m    517\u001b[0m     \u001b[0;31m# Delete the underlying status object from memory otherwise it stays alive\u001b[0m\u001b[0;34m\u001b[0m\u001b[0;34m\u001b[0m\u001b[0;34m\u001b[0m\u001b[0m\n",
      "\u001b[0;31mResourceExhaustedError\u001b[0m: OOM when allocating tensor with shape[5360424596,100] and type float on /job:localhost/replica:0/task:0/device:CPU:0 by allocator cuda_host_bfc\n\t [[Node: dense_5/truncated_normal/TruncatedNormal = TruncatedNormal[T=DT_INT64, dtype=DT_FLOAT, seed=87654321, seed2=5361631, _device=\"/job:localhost/replica:0/task:0/device:CPU:0\"](dense_5/truncated_normal/shape)]]\nHint: If you want to see a list of allocated tensors when OOM happens, add report_tensor_allocations_upon_oom to RunOptions for current allocation info.\n",
      "\nDuring handling of the above exception, another exception occurred:\n",
      "\u001b[0;31mResourceExhaustedError\u001b[0m                    Traceback (most recent call last)",
      "\u001b[0;32m<ipython-input-56-3be13bdfe368>\u001b[0m in \u001b[0;36m<module>\u001b[0;34m\u001b[0m\n\u001b[1;32m      1\u001b[0m history = model.fit_generator(v_generator,\n\u001b[0;32m----> 2\u001b[0;31m                               epochs=100, validation_data=validation_generator)\n\u001b[0m",
      "\u001b[0;32m/opt/python-3.6-packages/keras/2.2.4/keras/legacy/interfaces.py\u001b[0m in \u001b[0;36mwrapper\u001b[0;34m(*args, **kwargs)\u001b[0m\n\u001b[1;32m     89\u001b[0m                 warnings.warn('Update your `' + object_name + '` call to the ' +\n\u001b[1;32m     90\u001b[0m                               'Keras 2 API: ' + signature, stacklevel=2)\n\u001b[0;32m---> 91\u001b[0;31m             \u001b[0;32mreturn\u001b[0m \u001b[0mfunc\u001b[0m\u001b[0;34m(\u001b[0m\u001b[0;34m*\u001b[0m\u001b[0margs\u001b[0m\u001b[0;34m,\u001b[0m \u001b[0;34m**\u001b[0m\u001b[0mkwargs\u001b[0m\u001b[0;34m)\u001b[0m\u001b[0;34m\u001b[0m\u001b[0;34m\u001b[0m\u001b[0m\n\u001b[0m\u001b[1;32m     92\u001b[0m         \u001b[0mwrapper\u001b[0m\u001b[0;34m.\u001b[0m\u001b[0m_original_function\u001b[0m \u001b[0;34m=\u001b[0m \u001b[0mfunc\u001b[0m\u001b[0;34m\u001b[0m\u001b[0;34m\u001b[0m\u001b[0m\n\u001b[1;32m     93\u001b[0m         \u001b[0;32mreturn\u001b[0m \u001b[0mwrapper\u001b[0m\u001b[0;34m\u001b[0m\u001b[0;34m\u001b[0m\u001b[0m\n",
      "\u001b[0;32m/opt/python-3.6-packages/keras/2.2.4/keras/engine/training.py\u001b[0m in \u001b[0;36mfit_generator\u001b[0;34m(self, generator, steps_per_epoch, epochs, verbose, callbacks, validation_data, validation_steps, class_weight, max_queue_size, workers, use_multiprocessing, shuffle, initial_epoch)\u001b[0m\n\u001b[1;32m   1416\u001b[0m             \u001b[0muse_multiprocessing\u001b[0m\u001b[0;34m=\u001b[0m\u001b[0muse_multiprocessing\u001b[0m\u001b[0;34m,\u001b[0m\u001b[0;34m\u001b[0m\u001b[0;34m\u001b[0m\u001b[0m\n\u001b[1;32m   1417\u001b[0m             \u001b[0mshuffle\u001b[0m\u001b[0;34m=\u001b[0m\u001b[0mshuffle\u001b[0m\u001b[0;34m,\u001b[0m\u001b[0;34m\u001b[0m\u001b[0;34m\u001b[0m\u001b[0m\n\u001b[0;32m-> 1418\u001b[0;31m             initial_epoch=initial_epoch)\n\u001b[0m\u001b[1;32m   1419\u001b[0m \u001b[0;34m\u001b[0m\u001b[0m\n\u001b[1;32m   1420\u001b[0m     \u001b[0;34m@\u001b[0m\u001b[0minterfaces\u001b[0m\u001b[0;34m.\u001b[0m\u001b[0mlegacy_generator_methods_support\u001b[0m\u001b[0;34m\u001b[0m\u001b[0;34m\u001b[0m\u001b[0m\n",
      "\u001b[0;32m/opt/python-3.6-packages/keras/2.2.4/keras/engine/training_generator.py\u001b[0m in \u001b[0;36mfit_generator\u001b[0;34m(model, generator, steps_per_epoch, epochs, verbose, callbacks, validation_data, validation_steps, class_weight, max_queue_size, workers, use_multiprocessing, shuffle, initial_epoch)\u001b[0m\n\u001b[1;32m    215\u001b[0m                 outs = model.train_on_batch(x, y,\n\u001b[1;32m    216\u001b[0m                                             \u001b[0msample_weight\u001b[0m\u001b[0;34m=\u001b[0m\u001b[0msample_weight\u001b[0m\u001b[0;34m,\u001b[0m\u001b[0;34m\u001b[0m\u001b[0;34m\u001b[0m\u001b[0m\n\u001b[0;32m--> 217\u001b[0;31m                                             class_weight=class_weight)\n\u001b[0m\u001b[1;32m    218\u001b[0m \u001b[0;34m\u001b[0m\u001b[0m\n\u001b[1;32m    219\u001b[0m                 \u001b[0mouts\u001b[0m \u001b[0;34m=\u001b[0m \u001b[0mto_list\u001b[0m\u001b[0;34m(\u001b[0m\u001b[0mouts\u001b[0m\u001b[0;34m)\u001b[0m\u001b[0;34m\u001b[0m\u001b[0;34m\u001b[0m\u001b[0m\n",
      "\u001b[0;32m/opt/python-3.6-packages/keras/2.2.4/keras/engine/training.py\u001b[0m in \u001b[0;36mtrain_on_batch\u001b[0;34m(self, x, y, sample_weight, class_weight)\u001b[0m\n\u001b[1;32m   1215\u001b[0m             \u001b[0mins\u001b[0m \u001b[0;34m=\u001b[0m \u001b[0mx\u001b[0m \u001b[0;34m+\u001b[0m \u001b[0my\u001b[0m \u001b[0;34m+\u001b[0m \u001b[0msample_weights\u001b[0m\u001b[0;34m\u001b[0m\u001b[0;34m\u001b[0m\u001b[0m\n\u001b[1;32m   1216\u001b[0m         \u001b[0mself\u001b[0m\u001b[0;34m.\u001b[0m\u001b[0m_make_train_function\u001b[0m\u001b[0;34m(\u001b[0m\u001b[0;34m)\u001b[0m\u001b[0;34m\u001b[0m\u001b[0;34m\u001b[0m\u001b[0m\n\u001b[0;32m-> 1217\u001b[0;31m         \u001b[0moutputs\u001b[0m \u001b[0;34m=\u001b[0m \u001b[0mself\u001b[0m\u001b[0;34m.\u001b[0m\u001b[0mtrain_function\u001b[0m\u001b[0;34m(\u001b[0m\u001b[0mins\u001b[0m\u001b[0;34m)\u001b[0m\u001b[0;34m\u001b[0m\u001b[0;34m\u001b[0m\u001b[0m\n\u001b[0m\u001b[1;32m   1218\u001b[0m         \u001b[0;32mreturn\u001b[0m \u001b[0munpack_singleton\u001b[0m\u001b[0;34m(\u001b[0m\u001b[0moutputs\u001b[0m\u001b[0;34m)\u001b[0m\u001b[0;34m\u001b[0m\u001b[0;34m\u001b[0m\u001b[0m\n\u001b[1;32m   1219\u001b[0m \u001b[0;34m\u001b[0m\u001b[0m\n",
      "\u001b[0;32m/opt/python-3.6-packages/keras/2.2.4/keras/backend/tensorflow_backend.py\u001b[0m in \u001b[0;36m__call__\u001b[0;34m(self, inputs)\u001b[0m\n\u001b[1;32m   2695\u001b[0m \u001b[0;34m\u001b[0m\u001b[0m\n\u001b[1;32m   2696\u001b[0m     \u001b[0;32mdef\u001b[0m \u001b[0m__call__\u001b[0m\u001b[0;34m(\u001b[0m\u001b[0mself\u001b[0m\u001b[0;34m,\u001b[0m \u001b[0minputs\u001b[0m\u001b[0;34m)\u001b[0m\u001b[0;34m:\u001b[0m\u001b[0;34m\u001b[0m\u001b[0;34m\u001b[0m\u001b[0m\n\u001b[0;32m-> 2697\u001b[0;31m         \u001b[0;32mif\u001b[0m \u001b[0mhasattr\u001b[0m\u001b[0;34m(\u001b[0m\u001b[0mget_session\u001b[0m\u001b[0;34m(\u001b[0m\u001b[0;34m)\u001b[0m\u001b[0;34m,\u001b[0m \u001b[0;34m'_make_callable_from_options'\u001b[0m\u001b[0;34m)\u001b[0m\u001b[0;34m:\u001b[0m\u001b[0;34m\u001b[0m\u001b[0;34m\u001b[0m\u001b[0m\n\u001b[0m\u001b[1;32m   2698\u001b[0m             \u001b[0;32mif\u001b[0m \u001b[0mpy_any\u001b[0m\u001b[0;34m(\u001b[0m\u001b[0mis_sparse\u001b[0m\u001b[0;34m(\u001b[0m\u001b[0mx\u001b[0m\u001b[0;34m)\u001b[0m \u001b[0;32mfor\u001b[0m \u001b[0mx\u001b[0m \u001b[0;32min\u001b[0m \u001b[0mself\u001b[0m\u001b[0;34m.\u001b[0m\u001b[0minputs\u001b[0m\u001b[0;34m)\u001b[0m\u001b[0;34m:\u001b[0m\u001b[0;34m\u001b[0m\u001b[0;34m\u001b[0m\u001b[0m\n\u001b[1;32m   2699\u001b[0m                 \u001b[0;32mif\u001b[0m \u001b[0mpy_any\u001b[0m\u001b[0;34m(\u001b[0m\u001b[0mis_tensor\u001b[0m\u001b[0;34m(\u001b[0m\u001b[0mx\u001b[0m\u001b[0;34m)\u001b[0m \u001b[0;32mfor\u001b[0m \u001b[0mx\u001b[0m \u001b[0;32min\u001b[0m \u001b[0minputs\u001b[0m\u001b[0;34m)\u001b[0m\u001b[0;34m:\u001b[0m\u001b[0;34m\u001b[0m\u001b[0;34m\u001b[0m\u001b[0m\n",
      "\u001b[0;32m/opt/python-3.6-packages/keras/2.2.4/keras/backend/tensorflow_backend.py\u001b[0m in \u001b[0;36mget_session\u001b[0;34m()\u001b[0m\n\u001b[1;32m    204\u001b[0m                     \u001b[0mv\u001b[0m\u001b[0;34m.\u001b[0m\u001b[0m_keras_initialized\u001b[0m \u001b[0;34m=\u001b[0m \u001b[0;32mTrue\u001b[0m\u001b[0;34m\u001b[0m\u001b[0;34m\u001b[0m\u001b[0m\n\u001b[1;32m    205\u001b[0m                 \u001b[0;32mif\u001b[0m \u001b[0muninitialized_vars\u001b[0m\u001b[0;34m:\u001b[0m\u001b[0;34m\u001b[0m\u001b[0;34m\u001b[0m\u001b[0m\n\u001b[0;32m--> 206\u001b[0;31m                     \u001b[0msession\u001b[0m\u001b[0;34m.\u001b[0m\u001b[0mrun\u001b[0m\u001b[0;34m(\u001b[0m\u001b[0mtf\u001b[0m\u001b[0;34m.\u001b[0m\u001b[0mvariables_initializer\u001b[0m\u001b[0;34m(\u001b[0m\u001b[0muninitialized_vars\u001b[0m\u001b[0;34m)\u001b[0m\u001b[0;34m)\u001b[0m\u001b[0;34m\u001b[0m\u001b[0;34m\u001b[0m\u001b[0m\n\u001b[0m\u001b[1;32m    207\u001b[0m     \u001b[0;31m# hack for list_devices() function.\u001b[0m\u001b[0;34m\u001b[0m\u001b[0;34m\u001b[0m\u001b[0;34m\u001b[0m\u001b[0m\n\u001b[1;32m    208\u001b[0m     \u001b[0;31m# list_devices() function is not available under tensorflow r1.3.\u001b[0m\u001b[0;34m\u001b[0m\u001b[0;34m\u001b[0m\u001b[0;34m\u001b[0m\u001b[0m\n",
      "\u001b[0;32m/opt/python-3.6-packages/tensorflow-gpu/1.7.0rc0/tensorflow/python/client/session.py\u001b[0m in \u001b[0;36mrun\u001b[0;34m(self, fetches, feed_dict, options, run_metadata)\u001b[0m\n\u001b[1;32m    903\u001b[0m     \u001b[0;32mtry\u001b[0m\u001b[0;34m:\u001b[0m\u001b[0;34m\u001b[0m\u001b[0;34m\u001b[0m\u001b[0m\n\u001b[1;32m    904\u001b[0m       result = self._run(None, fetches, feed_dict, options_ptr,\n\u001b[0;32m--> 905\u001b[0;31m                          run_metadata_ptr)\n\u001b[0m\u001b[1;32m    906\u001b[0m       \u001b[0;32mif\u001b[0m \u001b[0mrun_metadata\u001b[0m\u001b[0;34m:\u001b[0m\u001b[0;34m\u001b[0m\u001b[0;34m\u001b[0m\u001b[0m\n\u001b[1;32m    907\u001b[0m         \u001b[0mproto_data\u001b[0m \u001b[0;34m=\u001b[0m \u001b[0mtf_session\u001b[0m\u001b[0;34m.\u001b[0m\u001b[0mTF_GetBuffer\u001b[0m\u001b[0;34m(\u001b[0m\u001b[0mrun_metadata_ptr\u001b[0m\u001b[0;34m)\u001b[0m\u001b[0;34m\u001b[0m\u001b[0;34m\u001b[0m\u001b[0m\n",
      "\u001b[0;32m/opt/python-3.6-packages/tensorflow-gpu/1.7.0rc0/tensorflow/python/client/session.py\u001b[0m in \u001b[0;36m_run\u001b[0;34m(self, handle, fetches, feed_dict, options, run_metadata)\u001b[0m\n\u001b[1;32m   1138\u001b[0m     \u001b[0;32mif\u001b[0m \u001b[0mfinal_fetches\u001b[0m \u001b[0;32mor\u001b[0m \u001b[0mfinal_targets\u001b[0m \u001b[0;32mor\u001b[0m \u001b[0;34m(\u001b[0m\u001b[0mhandle\u001b[0m \u001b[0;32mand\u001b[0m \u001b[0mfeed_dict_tensor\u001b[0m\u001b[0;34m)\u001b[0m\u001b[0;34m:\u001b[0m\u001b[0;34m\u001b[0m\u001b[0;34m\u001b[0m\u001b[0m\n\u001b[1;32m   1139\u001b[0m       results = self._do_run(handle, final_targets, final_fetches,\n\u001b[0;32m-> 1140\u001b[0;31m                              feed_dict_tensor, options, run_metadata)\n\u001b[0m\u001b[1;32m   1141\u001b[0m     \u001b[0;32melse\u001b[0m\u001b[0;34m:\u001b[0m\u001b[0;34m\u001b[0m\u001b[0;34m\u001b[0m\u001b[0m\n\u001b[1;32m   1142\u001b[0m       \u001b[0mresults\u001b[0m \u001b[0;34m=\u001b[0m \u001b[0;34m[\u001b[0m\u001b[0;34m]\u001b[0m\u001b[0;34m\u001b[0m\u001b[0;34m\u001b[0m\u001b[0m\n",
      "\u001b[0;32m/opt/python-3.6-packages/tensorflow-gpu/1.7.0rc0/tensorflow/python/client/session.py\u001b[0m in \u001b[0;36m_do_run\u001b[0;34m(self, handle, target_list, fetch_list, feed_dict, options, run_metadata)\u001b[0m\n\u001b[1;32m   1319\u001b[0m     \u001b[0;32mif\u001b[0m \u001b[0mhandle\u001b[0m \u001b[0;32mis\u001b[0m \u001b[0;32mNone\u001b[0m\u001b[0;34m:\u001b[0m\u001b[0;34m\u001b[0m\u001b[0;34m\u001b[0m\u001b[0m\n\u001b[1;32m   1320\u001b[0m       return self._do_call(_run_fn, feeds, fetches, targets, options,\n\u001b[0;32m-> 1321\u001b[0;31m                            run_metadata)\n\u001b[0m\u001b[1;32m   1322\u001b[0m     \u001b[0;32melse\u001b[0m\u001b[0;34m:\u001b[0m\u001b[0;34m\u001b[0m\u001b[0;34m\u001b[0m\u001b[0m\n\u001b[1;32m   1323\u001b[0m       \u001b[0;32mreturn\u001b[0m \u001b[0mself\u001b[0m\u001b[0;34m.\u001b[0m\u001b[0m_do_call\u001b[0m\u001b[0;34m(\u001b[0m\u001b[0m_prun_fn\u001b[0m\u001b[0;34m,\u001b[0m \u001b[0mhandle\u001b[0m\u001b[0;34m,\u001b[0m \u001b[0mfeeds\u001b[0m\u001b[0;34m,\u001b[0m \u001b[0mfetches\u001b[0m\u001b[0;34m)\u001b[0m\u001b[0;34m\u001b[0m\u001b[0;34m\u001b[0m\u001b[0m\n",
      "\u001b[0;32m/opt/python-3.6-packages/tensorflow-gpu/1.7.0rc0/tensorflow/python/client/session.py\u001b[0m in \u001b[0;36m_do_call\u001b[0;34m(self, fn, *args)\u001b[0m\n\u001b[1;32m   1338\u001b[0m         \u001b[0;32mexcept\u001b[0m \u001b[0mKeyError\u001b[0m\u001b[0;34m:\u001b[0m\u001b[0;34m\u001b[0m\u001b[0;34m\u001b[0m\u001b[0m\n\u001b[1;32m   1339\u001b[0m           \u001b[0;32mpass\u001b[0m\u001b[0;34m\u001b[0m\u001b[0;34m\u001b[0m\u001b[0m\n\u001b[0;32m-> 1340\u001b[0;31m       \u001b[0;32mraise\u001b[0m \u001b[0mtype\u001b[0m\u001b[0;34m(\u001b[0m\u001b[0me\u001b[0m\u001b[0;34m)\u001b[0m\u001b[0;34m(\u001b[0m\u001b[0mnode_def\u001b[0m\u001b[0;34m,\u001b[0m \u001b[0mop\u001b[0m\u001b[0;34m,\u001b[0m \u001b[0mmessage\u001b[0m\u001b[0;34m)\u001b[0m\u001b[0;34m\u001b[0m\u001b[0;34m\u001b[0m\u001b[0m\n\u001b[0m\u001b[1;32m   1341\u001b[0m \u001b[0;34m\u001b[0m\u001b[0m\n\u001b[1;32m   1342\u001b[0m   \u001b[0;32mdef\u001b[0m \u001b[0m_extend_graph\u001b[0m\u001b[0;34m(\u001b[0m\u001b[0mself\u001b[0m\u001b[0;34m)\u001b[0m\u001b[0;34m:\u001b[0m\u001b[0;34m\u001b[0m\u001b[0;34m\u001b[0m\u001b[0m\n",
      "\u001b[0;31mResourceExhaustedError\u001b[0m: OOM when allocating tensor with shape[5360424596,100] and type float on /job:localhost/replica:0/task:0/device:CPU:0 by allocator cuda_host_bfc\n\t [[Node: dense_5/truncated_normal/TruncatedNormal = TruncatedNormal[T=DT_INT64, dtype=DT_FLOAT, seed=87654321, seed2=5361631, _device=\"/job:localhost/replica:0/task:0/device:CPU:0\"](dense_5/truncated_normal/shape)]]\nHint: If you want to see a list of allocated tensors when OOM happens, add report_tensor_allocations_upon_oom to RunOptions for current allocation info.\n\n\nCaused by op 'dense_5/truncated_normal/TruncatedNormal', defined at:\n  File \"/opt/anaconda3/5.2.0/lib/python3.6/runpy.py\", line 193, in _run_module_as_main\n    \"__main__\", mod_spec)\n  File \"/opt/anaconda3/5.2.0/lib/python3.6/runpy.py\", line 85, in _run_code\n    exec(code, run_globals)\n  File \"/opt/anaconda3/5.2.0/lib/python3.6/site-packages/ipykernel_launcher.py\", line 16, in <module>\n    app.launch_new_instance()\n  File \"/opt/anaconda3/5.2.0/lib/python3.6/site-packages/traitlets/config/application.py\", line 658, in launch_instance\n    app.start()\n  File \"/opt/anaconda3/5.2.0/lib/python3.6/site-packages/ipykernel/kernelapp.py\", line 505, in start\n    self.io_loop.start()\n  File \"/opt/anaconda3/5.2.0/lib/python3.6/site-packages/tornado/platform/asyncio.py\", line 148, in start\n    self.asyncio_loop.run_forever()\n  File \"/opt/anaconda3/5.2.0/lib/python3.6/asyncio/base_events.py\", line 438, in run_forever\n    self._run_once()\n  File \"/opt/anaconda3/5.2.0/lib/python3.6/asyncio/base_events.py\", line 1451, in _run_once\n    handle._run()\n  File \"/opt/anaconda3/5.2.0/lib/python3.6/asyncio/events.py\", line 145, in _run\n    self._callback(*self._args)\n  File \"/opt/anaconda3/5.2.0/lib/python3.6/site-packages/tornado/ioloop.py\", line 690, in <lambda>\n    lambda f: self._run_callback(functools.partial(callback, future))\n  File \"/opt/anaconda3/5.2.0/lib/python3.6/site-packages/tornado/ioloop.py\", line 743, in _run_callback\n    ret = callback()\n  File \"/opt/anaconda3/5.2.0/lib/python3.6/site-packages/tornado/gen.py\", line 787, in inner\n    self.run()\n  File \"/opt/anaconda3/5.2.0/lib/python3.6/site-packages/tornado/gen.py\", line 748, in run\n    yielded = self.gen.send(value)\n  File \"/opt/anaconda3/5.2.0/lib/python3.6/site-packages/ipykernel/kernelbase.py\", line 365, in process_one\n    yield gen.maybe_future(dispatch(*args))\n  File \"/opt/anaconda3/5.2.0/lib/python3.6/site-packages/tornado/gen.py\", line 209, in wrapper\n    yielded = next(result)\n  File \"/opt/anaconda3/5.2.0/lib/python3.6/site-packages/ipykernel/kernelbase.py\", line 272, in dispatch_shell\n    yield gen.maybe_future(handler(stream, idents, msg))\n  File \"/opt/anaconda3/5.2.0/lib/python3.6/site-packages/tornado/gen.py\", line 209, in wrapper\n    yielded = next(result)\n  File \"/opt/anaconda3/5.2.0/lib/python3.6/site-packages/ipykernel/kernelbase.py\", line 542, in execute_request\n    user_expressions, allow_stdin,\n  File \"/opt/anaconda3/5.2.0/lib/python3.6/site-packages/tornado/gen.py\", line 209, in wrapper\n    yielded = next(result)\n  File \"/opt/anaconda3/5.2.0/lib/python3.6/site-packages/ipykernel/ipkernel.py\", line 294, in do_execute\n    res = shell.run_cell(code, store_history=store_history, silent=silent)\n  File \"/opt/anaconda3/5.2.0/lib/python3.6/site-packages/ipykernel/zmqshell.py\", line 536, in run_cell\n    return super(ZMQInteractiveShell, self).run_cell(*args, **kwargs)\n  File \"/opt/anaconda3/5.2.0/lib/python3.6/site-packages/IPython/core/interactiveshell.py\", line 2854, in run_cell\n    raw_cell, store_history, silent, shell_futures)\n  File \"/opt/anaconda3/5.2.0/lib/python3.6/site-packages/IPython/core/interactiveshell.py\", line 2880, in _run_cell\n    return runner(coro)\n  File \"/opt/anaconda3/5.2.0/lib/python3.6/site-packages/IPython/core/async_helpers.py\", line 68, in _pseudo_sync_runner\n    coro.send(None)\n  File \"/opt/anaconda3/5.2.0/lib/python3.6/site-packages/IPython/core/interactiveshell.py\", line 3057, in run_cell_async\n    interactivity=interactivity, compiler=compiler, result=result)\n  File \"/opt/anaconda3/5.2.0/lib/python3.6/site-packages/IPython/core/interactiveshell.py\", line 3248, in run_ast_nodes\n    if (await self.run_code(code, result,  async_=asy)):\n  File \"/opt/anaconda3/5.2.0/lib/python3.6/site-packages/IPython/core/interactiveshell.py\", line 3325, in run_code\n    exec(code_obj, self.user_global_ns, self.user_ns)\n  File \"<ipython-input-29-c200ebafefe2>\", line 31, in <module>\n    x = Dense(units=100, kernel_initializer = keras.initializers.he_normal(seed=None), activation='elu')(x)\n  File \"/opt/python-3.6-packages/keras/2.2.4/keras/engine/base_layer.py\", line 431, in __call__\n    self.build(unpack_singleton(input_shapes))\n  File \"/opt/python-3.6-packages/keras/2.2.4/keras/layers/core.py\", line 866, in build\n    constraint=self.kernel_constraint)\n  File \"/opt/python-3.6-packages/keras/2.2.4/keras/legacy/interfaces.py\", line 91, in wrapper\n    return func(*args, **kwargs)\n  File \"/opt/python-3.6-packages/keras/2.2.4/keras/engine/base_layer.py\", line 249, in add_weight\n    weight = K.variable(initializer(shape),\n  File \"/opt/python-3.6-packages/keras/2.2.4/keras/initializers.py\", line 214, in __call__\n    dtype=dtype, seed=self.seed)\n  File \"/opt/python-3.6-packages/keras/2.2.4/keras/backend/tensorflow_backend.py\", line 4185, in truncated_normal\n    return tf.truncated_normal(shape, mean, stddev, dtype=dtype, seed=seed)\n  File \"/opt/python-3.6-packages/tensorflow-gpu/1.7.0rc0/tensorflow/python/ops/random_ops.py\", line 174, in truncated_normal\n    shape_tensor, dtype, seed=seed1, seed2=seed2)\n  File \"/opt/python-3.6-packages/tensorflow-gpu/1.7.0rc0/tensorflow/python/ops/gen_random_ops.py\", line 848, in truncated_normal\n    name=name)\n  File \"/opt/python-3.6-packages/tensorflow-gpu/1.7.0rc0/tensorflow/python/framework/op_def_library.py\", line 787, in _apply_op_helper\n    op_def=op_def)\n  File \"/opt/python-3.6-packages/tensorflow-gpu/1.7.0rc0/tensorflow/python/framework/ops.py\", line 3290, in create_op\n    op_def=op_def)\n  File \"/opt/python-3.6-packages/tensorflow-gpu/1.7.0rc0/tensorflow/python/framework/ops.py\", line 1654, in __init__\n    self._traceback = self._graph._extract_stack()  # pylint: disable=protected-access\n\nResourceExhaustedError (see above for traceback): OOM when allocating tensor with shape[5360424596,100] and type float on /job:localhost/replica:0/task:0/device:CPU:0 by allocator cuda_host_bfc\n\t [[Node: dense_5/truncated_normal/TruncatedNormal = TruncatedNormal[T=DT_INT64, dtype=DT_FLOAT, seed=87654321, seed2=5361631, _device=\"/job:localhost/replica:0/task:0/device:CPU:0\"](dense_5/truncated_normal/shape)]]\nHint: If you want to see a list of allocated tensors when OOM happens, add report_tensor_allocations_upon_oom to RunOptions for current allocation info.\n\n"
     ]
    }
   ],
   "source": [
    "history = model.fit_generator(v_generator,\n",
    "                              epochs=100, validation_data=validation_generator)"
   ]
  },
  {
   "cell_type": "code",
   "execution_count": null,
   "metadata": {
    "collapsed": true
   },
   "outputs": [],
   "source": []
  }
 ],
 "metadata": {
  "kernelspec": {
   "display_name": "Python 3",
   "language": "python",
   "name": "python3"
  },
  "language_info": {
   "codemirror_mode": {
    "name": "ipython",
    "version": 3
   },
   "file_extension": ".py",
   "mimetype": "text/x-python",
   "name": "python",
   "nbconvert_exporter": "python",
   "pygments_lexer": "ipython3",
   "version": "3.6.8"
  }
 },
 "nbformat": 4,
 "nbformat_minor": 2
}
